{
  "nbformat": 4,
  "nbformat_minor": 2,
  "metadata": {
    "colab": {
      "name": "HW10_adversarial_attack.ipynb",
      "provenance": [],
      "collapsed_sections": []
    },
    "kernelspec": {
      "name": "python3",
      "display_name": "Python 3.8.1 64-bit"
    },
    "accelerator": "GPU",
    "language_info": {
      "name": "python",
      "version": "3.8.1",
      "mimetype": "text/x-python",
      "codemirror_mode": {
        "name": "ipython",
        "version": 3
      },
      "pygments_lexer": "ipython3",
      "nbconvert_exporter": "python",
      "file_extension": ".py"
    },
    "interpreter": {
      "hash": "e2e1f6a47c2b22aa38ff4f44d0d21f0cf81fc40f5c0e12b6a1c9dbd62fd843ec"
    }
  },
  "cells": [
    {
      "cell_type": "markdown",
      "source": [
        "# **Homework 10 - Adversarial Attack**\n",
        "\n",
        "Slides: https://reurl.cc/v5kXkk\n",
        "\n",
        "Video(En): https://youtu.be/313TZsUDQ48\n",
        "\n",
        "Video(Zh): https://youtu.be/xWHpPEvkDiE\n",
        "\n",
        "TA: ntu-ml-2021spring-ta@googlegroups.com"
      ],
      "metadata": {
        "id": "Q-n2e0BkhEKS"
      }
    },
    {
      "cell_type": "markdown",
      "source": [
        "## Enviroment & Download\n",
        "\n",
        "We make use of [pytorchcv](https://pypi.org/project/pytorchcv/) to obtain CIFAR-10 pretrained model, so we need to set up the enviroment first. We also need to download the data (200 images) which we want to attack."
      ],
      "metadata": {
        "id": "9RX7iRXrhMA_"
      }
    },
    {
      "cell_type": "code",
      "execution_count": null,
      "source": [
        "# set up environment\r\n",
        "!pip install pytorchcv\r\n",
        "\r\n",
        "# download\r\n",
        "!gdown --id 1fHi1ko7wr80wXkXpqpqpOxuYH1mClXoX -O data.zip\r\n",
        "\r\n",
        "# unzip\r\n",
        "!unzip ./data.zip\r\n",
        "!rm ./data.zip"
      ],
      "outputs": [],
      "metadata": {
        "id": "d4Lw7urignqP",
        "colab": {
          "base_uri": "https://localhost:8080/"
        },
        "outputId": "444ebc1f-0ef9-4cea-bc85-56cc2efa849a"
      }
    },
    {
      "cell_type": "markdown",
      "source": [
        "## Global Settings\r\n",
        "\r\n",
        "* $\\epsilon$ is fixed to be 8. But on **Data section**, we will first apply transforms on raw pixel value (0-255 scale) **by ToTensor (to 0-1 scale)** and then **Normalize (subtract mean divide std)**. $\\epsilon$ should be set to $\\frac{8}{255 * std}$ during attack.\r\n",
        "\r\n",
        "* Explaination (optional)\r\n",
        "    * Denote the first pixel of original image as $p$, and the first pixel of adversarial image as $a$.\r\n",
        "    * The $\\epsilon$ constraints tell us $\\left| p-a \\right| <= 8$.\r\n",
        "    * ToTensor() can be seen as a function where $T(x) = x/255$.\r\n",
        "    * Normalize() can be seen as a function where $N(x) = (x-mean)/std$ where $mean$ and $std$ are constants.\r\n",
        "    * After applying ToTensor() and Normalize() on $p$ and $a$, the constraint becomes $\\left| N(T(p))-N(T(a)) \\right| = \\left| \\frac{\\frac{p}{255}-mean}{std}-\\frac{\\frac{a}{255}-mean}{std} \\right| = \\frac{1}{255 * std} \\left| p-a \\right| <= \\frac{8}{255 * std}.$\r\n",
        "    * So, we should set $\\epsilon$ to be $\\frac{8}{255 * std}$ after ToTensor() and Normalize()."
      ],
      "metadata": {
        "id": "hkQQf0l1hbBs"
      }
    },
    {
      "cell_type": "code",
      "execution_count": 1,
      "source": [
        "import torch\r\n",
        "import torch.nn as nn\r\n",
        "\r\n",
        "device = torch.device('cuda' if torch.cuda.is_available() else 'cpu')\r\n",
        "\r\n",
        "batch_size = 8\r\n",
        "\r\n",
        "# the mean and std are the calculated statistics from cifar_10 dataset\r\n",
        "cifar_10_mean = (0.491, 0.482, 0.447) # mean for the three channels of cifar_10 images\r\n",
        "cifar_10_std = (0.202, 0.199, 0.201) # std for the three channels of cifar_10 images\r\n",
        "\r\n",
        "# convert mean and std to 3-dimensional tensors for future operations\r\n",
        "mean = torch.tensor(cifar_10_mean).to(device).view(3, 1, 1)\r\n",
        "std = torch.tensor(cifar_10_std).to(device).view(3, 1, 1)\r\n",
        "\r\n",
        "epsilon = 8/255/std\r\n",
        "# TODO: iterative fgsm attack\r\n",
        "# alpha (step size) can be decided by yourself\r\n",
        "alpha = 0.8/255/std\r\n",
        "\r\n",
        "root = './data' # directory for storing benign images\r\n",
        "# benign images: images which do not contain adversarial perturbations\r\n",
        "# adversarial images: images which include adversarial perturbations"
      ],
      "outputs": [],
      "metadata": {
        "id": "ACghc_tsg2vE"
      }
    },
    {
      "cell_type": "markdown",
      "source": [
        "## Data\n",
        "\n",
        "Construct dataset and dataloader from root directory. Note that we store the filename of each image for future usage."
      ],
      "metadata": {
        "id": "lhBJBAlKherZ"
      }
    },
    {
      "cell_type": "code",
      "execution_count": 2,
      "source": [
        "import os\r\n",
        "import glob\r\n",
        "import shutil\r\n",
        "import numpy as np\r\n",
        "from PIL import Image\r\n",
        "from torchvision.transforms import transforms\r\n",
        "from torch.utils.data import Dataset, DataLoader\r\n",
        "\r\n",
        "transform = transforms.Compose(\r\n",
        "    [transforms.ToTensor(),\r\n",
        "     transforms.Normalize(cifar_10_mean, cifar_10_std)])\r\n",
        "\r\n",
        "\r\n",
        "class AdvDataset(Dataset):\r\n",
        "    def __init__(self, data_dir, transform):\r\n",
        "        self.images = []\r\n",
        "        self.labels = []\r\n",
        "        self.names = []\r\n",
        "        '''\r\n",
        "        data_dir\r\n",
        "        ├── class_dir\r\n",
        "        │   ├── class1.png\r\n",
        "        │   ├── ...\r\n",
        "        │   ├── class20.png\r\n",
        "        '''\r\n",
        "        for i, class_dir in enumerate(sorted(glob.glob(f'{data_dir}/*'))):\r\n",
        "            images = sorted(glob.glob(f'{class_dir}/*'))\r\n",
        "            self.images += images\r\n",
        "            self.labels += ([i] * len(images))\r\n",
        "            self.names += [os.path.relpath(imgs, data_dir) for imgs in images]\r\n",
        "        self.transform = transform\r\n",
        "\r\n",
        "    def __getitem__(self, idx):\r\n",
        "        image = self.transform(Image.open(self.images[idx]))\r\n",
        "        label = self.labels[idx]\r\n",
        "        return image, label\r\n",
        "\r\n",
        "    def __getname__(self):\r\n",
        "        # __name__ is used for type()\r\n",
        "        return self.names\r\n",
        "\r\n",
        "    def __len__(self):\r\n",
        "        return len(self.images)\r\n",
        "\r\n",
        "\r\n",
        "adv_set = AdvDataset(root, transform=transform)\r\n",
        "adv_names = adv_set.__getname__()\r\n",
        "adv_loader = DataLoader(adv_set, batch_size=batch_size, shuffle=False)\r\n",
        "\r\n",
        "print(f'number of images = {adv_set.__len__()}')"
      ],
      "outputs": [
        {
          "output_type": "stream",
          "name": "stdout",
          "text": [
            "number of images = 200\n"
          ]
        }
      ],
      "metadata": {
        "id": "VXpRAHz0hkDt",
        "colab": {
          "base_uri": "https://localhost:8080/"
        },
        "outputId": "9ec2f90a-5fd2-43ea-c83f-a7ca088d9442"
      }
    },
    {
      "cell_type": "markdown",
      "source": [
        "## Utils -- Benign Images Evaluation"
      ],
      "metadata": {
        "id": "LnszlTsYrTQZ"
      }
    },
    {
      "cell_type": "code",
      "execution_count": 3,
      "source": [
        "# to evaluate the performance of model on benign images\r\n",
        "def epoch_benign(model, loader, loss_fn):\r\n",
        "    model.eval()\r\n",
        "    train_acc, train_loss = 0.0, 0.0\r\n",
        "    for x, y in loader:\r\n",
        "        x, y = x.to(device), y.to(device)\r\n",
        "        yp = model(x)\r\n",
        "        loss = loss_fn(yp, y)\r\n",
        "        train_acc += (yp.argmax(dim=1) == y).sum().item()\r\n",
        "        train_loss += loss.item() * x.shape[0]\r\n",
        "    return train_acc / len(loader.dataset), train_loss / len(loader.dataset)"
      ],
      "outputs": [],
      "metadata": {
        "id": "5c_zZLzkrceE"
      }
    },
    {
      "cell_type": "markdown",
      "source": [
        "## Utils -- Attack Algorithm"
      ],
      "metadata": {
        "id": "_YJxK7YehqQy"
      }
    },
    {
      "cell_type": "code",
      "execution_count": 4,
      "source": [
        "# perform fgsm attack\r\n",
        "def fgsm(model, x, y, loss_fn, epsilon=epsilon):\r\n",
        "    x_adv = x.detach().clone()  # initialize x_adv as original benign image x\r\n",
        "    x_adv.requires_grad = True  # need to obtain gradient of x_adv, thus set required grad\r\n",
        "    loss = loss_fn(model(x_adv), y)  # calculate loss\r\n",
        "    loss.backward()  # calculate gradient\r\n",
        "    # fgsm: use gradient ascent on x_adv to maximize loss\r\n",
        "    x_adv = x_adv + epsilon * x_adv.grad.detach().sign()\r\n",
        "    return x_adv\r\n",
        "\r\n",
        "\r\n",
        "# TODO: perform iterative fgsm attack\r\n",
        "# set alpha as the step size in Global Settings section\r\n",
        "# alpha and num_iter can be decided by yourself\r\n",
        "def ifgsm(model, x, y, loss_fn, epsilon=epsilon, alpha=alpha, num_iter=20):\r\n",
        "    # initialize x_adv as original benign image x\r\n",
        "    x_adv = x.detach().clone()\r\n",
        "    # write a loop of num_iter to represent the iterative times\r\n",
        "    # for each loop\r\n",
        "    for i in range(num_iter):\r\n",
        "        # call fgsm with (epsilon = alpha) to obtain new x_adv\r\n",
        "        x_adv = fgsm(model, x_adv, y, loss_fn, alpha)\r\n",
        "        # clip new x_adv back to [x-epsilon, x+epsilon]\r\n",
        "        x_adv = torch.min(torch.max(x_adv, x - epsilon), x + epsilon)\r\n",
        "    return x_adv"
      ],
      "outputs": [],
      "metadata": {
        "id": "F_1wKfKyhrQW"
      }
    },
    {
      "cell_type": "markdown",
      "source": [
        "## Utils -- Attack\n",
        "\n",
        "* Recall\n",
        "    * ToTensor() can be seen as a function where $T(x) = x/255$.\n",
        "    * Normalize() can be seen as a function where $N(x) = (x-mean)/std$ where $mean$ and $std$ are constants.\n",
        "\n",
        "* Inverse function\n",
        "    * Inverse Normalize() can be seen as a function where $N^{-1}(x) = x*std+mean$ where $mean$ and $std$ are constants.\n",
        "    * Inverse ToTensor() can be seen as a function where $T^{-1}(x) = x*255$.\n",
        "\n",
        "* Special Noted\n",
        "    * ToTensor() will also convert the image from shape (height, width, channel) to shape (channel, height, width), so we also need to transpose the shape back to original shape.\n",
        "    * Since our dataloader samples a batch of data, what we need here is to transpose **(batch_size, channel, height, width)** back to **(batch_size, height, width, channel)** using np.transpose."
      ],
      "metadata": {
        "id": "fYCEQwmcrmH6"
      }
    },
    {
      "cell_type": "code",
      "execution_count": 5,
      "source": [
        "# perform adversarial attack and generate adversarial examples\r\n",
        "def gen_adv_examples(model, loader, attack, loss_fn):\r\n",
        "    model.eval()\r\n",
        "    train_acc, train_loss = 0.0, 0.0\r\n",
        "    for i, (x, y) in enumerate(loader):\r\n",
        "        x, y = x.to(device), y.to(device)\r\n",
        "        x_adv = attack(model, x, y, loss_fn) # obtain adversarial examples\r\n",
        "        yp = model(x_adv)\r\n",
        "        loss = loss_fn(yp, y)\r\n",
        "        train_acc += (yp.argmax(dim=1) == y).sum().item()\r\n",
        "        train_loss += loss.item() * x.shape[0]\r\n",
        "        # store adversarial examples\r\n",
        "        adv_ex = ((x_adv) * std + mean).clamp(0, 1) # to 0-1 scale\r\n",
        "        adv_ex = (adv_ex * 255).clamp(0, 255) # 0-255 scale\r\n",
        "        adv_ex = adv_ex.detach().cpu().data.numpy().round() # round to remove decimal part\r\n",
        "        adv_ex = adv_ex.transpose((0, 2, 3, 1)) # transpose (bs, C, H, W) back to (bs, H, W, C)\r\n",
        "        adv_examples = adv_ex if i == 0 else np.r_[adv_examples, adv_ex]\r\n",
        "    return adv_examples, train_acc / len(loader.dataset), train_loss / len(loader.dataset)\r\n",
        "\r\n",
        "# create directory which stores adversarial examples\r\n",
        "def create_dir(data_dir, adv_dir, adv_examples, adv_names):\r\n",
        "    if os.path.exists(adv_dir) is not True:\r\n",
        "        _ = shutil.copytree(data_dir, adv_dir)\r\n",
        "    for example, name in zip(adv_examples, adv_names):\r\n",
        "        im = Image.fromarray(example.astype(np.uint8)) # image pixel value should be unsigned int\r\n",
        "        im.save(os.path.join(adv_dir, name))"
      ],
      "outputs": [],
      "metadata": {
        "id": "w5X_9x-7ro_w"
      }
    },
    {
      "cell_type": "markdown",
      "source": [
        "## Model / Loss Function\r\n",
        "\r\n",
        "Model list is available [here](https://github.com/osmr/imgclsmob/blob/master/pytorch/pytorchcv/model_provider.py). Please select models which has _cifar10 suffix. Some of the models cannot be accessed/loaded. You can safely skip them since TA's model will not use those kinds of models."
      ],
      "metadata": {
        "id": "r_pMkmPytX3k"
      }
    },
    {
      "cell_type": "code",
      "execution_count": 6,
      "source": [
        "from pytorchcv.model_provider import get_model as ptcv_get_model\r\n",
        "\r\n",
        "model = ptcv_get_model('resnet164bn_cifar10', pretrained=True).to(device)\r\n",
        "loss_fn = nn.CrossEntropyLoss()\r\n",
        "\r\n",
        "benign_acc, benign_loss = epoch_benign(model, adv_loader, loss_fn)\r\n",
        "print(f'benign_acc = {benign_acc:.5f}, benign_loss = {benign_loss:.5f}')"
      ],
      "outputs": [
        {
          "output_type": "stream",
          "name": "stdout",
          "text": [
            "benign_acc = 0.96000, benign_loss = 0.29928\n"
          ]
        }
      ],
      "metadata": {
        "id": "jwto8xbPtYzQ",
        "colab": {
          "base_uri": "https://localhost:8080/"
        },
        "outputId": "cefbd420-4ebc-443a-8fe3-af3932878f42"
      }
    },
    {
      "cell_type": "markdown",
      "source": [
        "## FGSM"
      ],
      "metadata": {
        "id": "uslb7GPchtMI"
      }
    },
    {
      "cell_type": "code",
      "execution_count": 7,
      "source": [
        "adv_examples, fgsm_acc, fgsm_loss = gen_adv_examples(model, adv_loader, fgsm, loss_fn)\r\n",
        "print(f'fgsm_acc = {fgsm_acc:.5f}, fgsm_loss = {fgsm_loss:.5f}')\r\n",
        "\r\n",
        "create_dir(root, 'fgsm', adv_examples, adv_names)"
      ],
      "outputs": [
        {
          "output_type": "stream",
          "name": "stdout",
          "text": [
            "fgsm_acc = 0.65500, fgsm_loss = 1.33194\n"
          ]
        }
      ],
      "metadata": {
        "id": "wQwPTVUIhuTS",
        "colab": {
          "base_uri": "https://localhost:8080/"
        },
        "outputId": "d9c7547c-8c01-4df8-a696-14be82052b73"
      }
    },
    {
      "cell_type": "markdown",
      "source": [
        "## I-FGSM"
      ],
      "metadata": {
        "id": "WXw6p0A6shZm"
      }
    },
    {
      "cell_type": "code",
      "execution_count": 8,
      "source": [
        "# TODO: iterative fgsm attack\r\n",
        "adv_examples, ifgsm_acc, ifgsm_loss = gen_adv_examples(model, adv_loader, ifgsm, loss_fn)\r\n",
        "print(f'ifgsm_acc = {ifgsm_acc:.5f}, ifgsm_loss = {ifgsm_loss:.5f}')\r\n",
        "\r\n",
        "create_dir(root, 'ifgsm', adv_examples, adv_names)"
      ],
      "outputs": [
        {
          "output_type": "stream",
          "name": "stdout",
          "text": [
            "ifgsm_acc = 0.00500, ifgsm_loss = 17.55038\n"
          ]
        }
      ],
      "metadata": {
        "id": "fUEsT06Iskt2",
        "colab": {
          "base_uri": "https://localhost:8080/"
        },
        "outputId": "6236644a-9adc-4d6f-fa87-6943166f2034"
      }
    },
    {
      "cell_type": "markdown",
      "source": [
        "## Compress the images"
      ],
      "metadata": {
        "id": "DQ-nYkkYexEE"
      }
    },
    {
      "cell_type": "code",
      "execution_count": 9,
      "source": [
        "%cd fgsm\r\n",
        "!tar zcvf ../fgsm.tgz *\r\n",
        "%cd ..\r\n",
        "\r\n",
        "%cd ifgsm\r\n",
        "!tar zcvf ../ifgsm.tgz *\r\n",
        "%cd .."
      ],
      "outputs": [
        {
          "output_type": "stream",
          "name": "stdout",
          "text": [
            "c:\\Users\\Silence\\Desktop\\attack\\fgsm\n",
            "c:\\Users\\Silence\\Desktop\\attack\n",
            "c:\\Users\\Silence\\Desktop\\attack\\ifgsm\n"
          ]
        },
        {
          "output_type": "stream",
          "name": "stderr",
          "text": [
            "a airplane\n",
            "a automobile\n",
            "a bird\n",
            "a cat\n",
            "a deer\n",
            "a dog\n",
            "a frog\n",
            "a horse\n",
            "a ship\n",
            "a truck\n",
            "a truck/truck1.png\n",
            "a truck/truck10.png\n",
            "a truck/truck11.png\n",
            "a truck/truck12.png\n",
            "a truck/truck13.png\n",
            "a truck/truck14.png\n",
            "a truck/truck15.png\n",
            "a truck/truck16.png\n",
            "a truck/truck17.png\n",
            "a truck/truck18.png\n",
            "a truck/truck19.png\n",
            "a truck/truck2.png\n",
            "a truck/truck20.png\n",
            "a truck/truck3.png\n",
            "a truck/truck4.png\n",
            "a truck/truck5.png\n",
            "a truck/truck6.png\n",
            "a truck/truck7.png\n",
            "a truck/truck8.png\n",
            "a truck/truck9.png\n",
            "a ship/ship1.png\n",
            "a ship/ship10.png\n",
            "a ship/ship11.png\n",
            "a ship/ship12.png\n",
            "a ship/ship13.png\n",
            "a ship/ship14.png\n",
            "a ship/ship15.png\n",
            "a ship/ship16.png\n",
            "a ship/ship17.png\n",
            "a ship/ship18.png\n",
            "a ship/ship19.png\n",
            "a ship/ship2.png\n",
            "a ship/ship20.png\n",
            "a ship/ship3.png\n",
            "a ship/ship4.png\n",
            "a ship/ship5.png\n",
            "a ship/ship6.png\n",
            "a ship/ship7.png\n",
            "a ship/ship8.png\n",
            "a ship/ship9.png\n",
            "a horse/horse1.png\n",
            "a horse/horse10.png\n",
            "a horse/horse11.png\n",
            "a horse/horse12.png\n",
            "a horse/horse13.png\n",
            "a horse/horse14.png\n",
            "a horse/horse15.png\n",
            "a horse/horse16.png\n",
            "a horse/horse17.png\n",
            "a horse/horse18.png\n",
            "a horse/horse19.png\n",
            "a horse/horse2.png\n",
            "a horse/horse20.png\n",
            "a horse/horse3.png\n",
            "a horse/horse4.png\n",
            "a horse/horse5.png\n",
            "a horse/horse6.png\n",
            "a horse/horse7.png\n",
            "a horse/horse8.png\n",
            "a horse/horse9.png\n",
            "a frog/frog1.png\n",
            "a frog/frog10.png\n",
            "a frog/frog11.png\n",
            "a frog/frog12.png\n",
            "a frog/frog13.png\n",
            "a frog/frog14.png\n",
            "a frog/frog15.png\n",
            "a frog/frog16.png\n",
            "a frog/frog17.png\n",
            "a frog/frog18.png\n",
            "a frog/frog19.png\n",
            "a frog/frog2.png\n",
            "a frog/frog20.png\n",
            "a frog/frog3.png\n",
            "a frog/frog4.png\n",
            "a frog/frog5.png\n",
            "a frog/frog6.png\n",
            "a frog/frog7.png\n",
            "a frog/frog8.png\n",
            "a frog/frog9.png\n",
            "a dog/dog1.png\n",
            "a dog/dog10.png\n",
            "a dog/dog11.png\n",
            "a dog/dog12.png\n",
            "a dog/dog13.png\n",
            "a dog/dog14.png\n",
            "a dog/dog15.png\n",
            "a dog/dog16.png\n",
            "a dog/dog17.png\n",
            "a dog/dog18.png\n",
            "a dog/dog19.png\n",
            "a dog/dog2.png\n",
            "a dog/dog20.png\n",
            "a dog/dog3.png\n",
            "a dog/dog4.png\n",
            "a dog/dog5.png\n",
            "a dog/dog6.png\n",
            "a dog/dog7.png\n",
            "a dog/dog8.png\n",
            "a dog/dog9.png\n",
            "a deer/deer1.png\n",
            "a deer/deer10.png\n",
            "a deer/deer11.png\n",
            "a deer/deer12.png\n",
            "a deer/deer13.png\n",
            "a deer/deer14.png\n",
            "a deer/deer15.png\n",
            "a deer/deer16.png\n",
            "a deer/deer17.png\n",
            "a deer/deer18.png\n",
            "a deer/deer19.png\n",
            "a deer/deer2.png\n",
            "a deer/deer20.png\n",
            "a deer/deer3.png\n",
            "a deer/deer4.png\n",
            "a deer/deer5.png\n",
            "a deer/deer6.png\n",
            "a deer/deer7.png\n",
            "a deer/deer8.png\n",
            "a deer/deer9.png\n",
            "a cat/cat1.png\n",
            "a cat/cat10.png\n",
            "a cat/cat11.png\n",
            "a cat/cat12.png\n",
            "a cat/cat13.png\n",
            "a cat/cat14.png\n",
            "a cat/cat15.png\n",
            "a cat/cat16.png\n",
            "a cat/cat17.png\n",
            "a cat/cat18.png\n",
            "a cat/cat19.png\n",
            "a cat/cat2.png\n",
            "a cat/cat20.png\n",
            "a cat/cat3.png\n",
            "a cat/cat4.png\n",
            "a cat/cat5.png\n",
            "a cat/cat6.png\n",
            "a cat/cat7.png\n",
            "a cat/cat8.png\n",
            "a cat/cat9.png\n",
            "a bird/bird1.png\n",
            "a bird/bird10.png\n",
            "a bird/bird11.png\n",
            "a bird/bird12.png\n",
            "a bird/bird13.png\n",
            "a bird/bird14.png\n",
            "a bird/bird15.png\n",
            "a bird/bird16.png\n",
            "a bird/bird17.png\n",
            "a bird/bird18.png\n",
            "a bird/bird19.png\n",
            "a bird/bird2.png\n",
            "a bird/bird20.png\n",
            "a bird/bird3.png\n",
            "a bird/bird4.png\n",
            "a bird/bird5.png\n",
            "a bird/bird6.png\n",
            "a bird/bird7.png\n",
            "a bird/bird8.png\n",
            "a bird/bird9.png\n",
            "a automobile/automobile1.png\n",
            "a automobile/automobile10.png\n",
            "a automobile/automobile11.png\n",
            "a automobile/automobile12.png\n",
            "a automobile/automobile13.png\n",
            "a automobile/automobile14.png\n",
            "a automobile/automobile15.png\n",
            "a automobile/automobile16.png\n",
            "a automobile/automobile17.png\n",
            "a automobile/automobile18.png\n",
            "a automobile/automobile19.png\n",
            "a automobile/automobile2.png\n",
            "a automobile/automobile20.png\n",
            "a automobile/automobile3.png\n",
            "a automobile/automobile4.png\n",
            "a automobile/automobile5.png\n",
            "a automobile/automobile6.png\n",
            "a automobile/automobile7.png\n",
            "a automobile/automobile8.png\n",
            "a automobile/automobile9.png\n",
            "a airplane/airplane1.png\n",
            "a airplane/airplane10.png\n",
            "a airplane/airplane11.png\n",
            "a airplane/airplane12.png\n",
            "a airplane/airplane13.png\n",
            "a airplane/airplane14.png\n",
            "a airplane/airplane15.png\n",
            "a airplane/airplane16.png\n",
            "a airplane/airplane17.png\n",
            "a airplane/airplane18.png\n",
            "a airplane/airplane19.png\n",
            "a airplane/airplane2.png\n",
            "a airplane/airplane20.png\n",
            "a airplane/airplane3.png\n",
            "a airplane/airplane4.png\n",
            "a airplane/airplane5.png\n",
            "a airplane/airplane6.png\n",
            "a airplane/airplane7.png\n",
            "a airplane/airplane8.png\n",
            "a airplane/airplane9.png\n"
          ]
        },
        {
          "output_type": "stream",
          "name": "stdout",
          "text": [
            "c:\\Users\\Silence\\Desktop\\attack\n"
          ]
        },
        {
          "output_type": "stream",
          "name": "stderr",
          "text": [
            "a airplane\n",
            "a automobile\n",
            "a bird\n",
            "a cat\n",
            "a deer\n",
            "a dog\n",
            "a frog\n",
            "a horse\n",
            "a ship\n",
            "a truck\n",
            "a truck/truck1.png\n",
            "a truck/truck10.png\n",
            "a truck/truck11.png\n",
            "a truck/truck12.png\n",
            "a truck/truck13.png\n",
            "a truck/truck14.png\n",
            "a truck/truck15.png\n",
            "a truck/truck16.png\n",
            "a truck/truck17.png\n",
            "a truck/truck18.png\n",
            "a truck/truck19.png\n",
            "a truck/truck2.png\n",
            "a truck/truck20.png\n",
            "a truck/truck3.png\n",
            "a truck/truck4.png\n",
            "a truck/truck5.png\n",
            "a truck/truck6.png\n",
            "a truck/truck7.png\n",
            "a truck/truck8.png\n",
            "a truck/truck9.png\n",
            "a ship/ship1.png\n",
            "a ship/ship10.png\n",
            "a ship/ship11.png\n",
            "a ship/ship12.png\n",
            "a ship/ship13.png\n",
            "a ship/ship14.png\n",
            "a ship/ship15.png\n",
            "a ship/ship16.png\n",
            "a ship/ship17.png\n",
            "a ship/ship18.png\n",
            "a ship/ship19.png\n",
            "a ship/ship2.png\n",
            "a ship/ship20.png\n",
            "a ship/ship3.png\n",
            "a ship/ship4.png\n",
            "a ship/ship5.png\n",
            "a ship/ship6.png\n",
            "a ship/ship7.png\n",
            "a ship/ship8.png\n",
            "a ship/ship9.png\n",
            "a horse/horse1.png\n",
            "a horse/horse10.png\n",
            "a horse/horse11.png\n",
            "a horse/horse12.png\n",
            "a horse/horse13.png\n",
            "a horse/horse14.png\n",
            "a horse/horse15.png\n",
            "a horse/horse16.png\n",
            "a horse/horse17.png\n",
            "a horse/horse18.png\n",
            "a horse/horse19.png\n",
            "a horse/horse2.png\n",
            "a horse/horse20.png\n",
            "a horse/horse3.png\n",
            "a horse/horse4.png\n",
            "a horse/horse5.png\n",
            "a horse/horse6.png\n",
            "a horse/horse7.png\n",
            "a horse/horse8.png\n",
            "a horse/horse9.png\n",
            "a frog/frog1.png\n",
            "a frog/frog10.png\n",
            "a frog/frog11.png\n",
            "a frog/frog12.png\n",
            "a frog/frog13.png\n",
            "a frog/frog14.png\n",
            "a frog/frog15.png\n",
            "a frog/frog16.png\n",
            "a frog/frog17.png\n",
            "a frog/frog18.png\n",
            "a frog/frog19.png\n",
            "a frog/frog2.png\n",
            "a frog/frog20.png\n",
            "a frog/frog3.png\n",
            "a frog/frog4.png\n",
            "a frog/frog5.png\n",
            "a frog/frog6.png\n",
            "a frog/frog7.png\n",
            "a frog/frog8.png\n",
            "a frog/frog9.png\n",
            "a dog/dog1.png\n",
            "a dog/dog10.png\n",
            "a dog/dog11.png\n",
            "a dog/dog12.png\n",
            "a dog/dog13.png\n",
            "a dog/dog14.png\n",
            "a dog/dog15.png\n",
            "a dog/dog16.png\n",
            "a dog/dog17.png\n",
            "a dog/dog18.png\n",
            "a dog/dog19.png\n",
            "a dog/dog2.png\n",
            "a dog/dog20.png\n",
            "a dog/dog3.png\n",
            "a dog/dog4.png\n",
            "a dog/dog5.png\n",
            "a dog/dog6.png\n",
            "a dog/dog7.png\n",
            "a dog/dog8.png\n",
            "a dog/dog9.png\n",
            "a deer/deer1.png\n",
            "a deer/deer10.png\n",
            "a deer/deer11.png\n",
            "a deer/deer12.png\n",
            "a deer/deer13.png\n",
            "a deer/deer14.png\n",
            "a deer/deer15.png\n",
            "a deer/deer16.png\n",
            "a deer/deer17.png\n",
            "a deer/deer18.png\n",
            "a deer/deer19.png\n",
            "a deer/deer2.png\n",
            "a deer/deer20.png\n",
            "a deer/deer3.png\n",
            "a deer/deer4.png\n",
            "a deer/deer5.png\n",
            "a deer/deer6.png\n",
            "a deer/deer7.png\n",
            "a deer/deer8.png\n",
            "a deer/deer9.png\n",
            "a cat/cat1.png\n",
            "a cat/cat10.png\n",
            "a cat/cat11.png\n",
            "a cat/cat12.png\n",
            "a cat/cat13.png\n",
            "a cat/cat14.png\n",
            "a cat/cat15.png\n",
            "a cat/cat16.png\n",
            "a cat/cat17.png\n",
            "a cat/cat18.png\n",
            "a cat/cat19.png\n",
            "a cat/cat2.png\n",
            "a cat/cat20.png\n",
            "a cat/cat3.png\n",
            "a cat/cat4.png\n",
            "a cat/cat5.png\n",
            "a cat/cat6.png\n",
            "a cat/cat7.png\n",
            "a cat/cat8.png\n",
            "a cat/cat9.png\n",
            "a bird/bird1.png\n",
            "a bird/bird10.png\n",
            "a bird/bird11.png\n",
            "a bird/bird12.png\n",
            "a bird/bird13.png\n",
            "a bird/bird14.png\n",
            "a bird/bird15.png\n",
            "a bird/bird16.png\n",
            "a bird/bird17.png\n",
            "a bird/bird18.png\n",
            "a bird/bird19.png\n",
            "a bird/bird2.png\n",
            "a bird/bird20.png\n",
            "a bird/bird3.png\n",
            "a bird/bird4.png\n",
            "a bird/bird5.png\n",
            "a bird/bird6.png\n",
            "a bird/bird7.png\n",
            "a bird/bird8.png\n",
            "a bird/bird9.png\n",
            "a automobile/automobile1.png\n",
            "a automobile/automobile10.png\n",
            "a automobile/automobile11.png\n",
            "a automobile/automobile12.png\n",
            "a automobile/automobile13.png\n",
            "a automobile/automobile14.png\n",
            "a automobile/automobile15.png\n",
            "a automobile/automobile16.png\n",
            "a automobile/automobile17.png\n",
            "a automobile/automobile18.png\n",
            "a automobile/automobile19.png\n",
            "a automobile/automobile2.png\n",
            "a automobile/automobile20.png\n",
            "a automobile/automobile3.png\n",
            "a automobile/automobile4.png\n",
            "a automobile/automobile5.png\n",
            "a automobile/automobile6.png\n",
            "a automobile/automobile7.png\n",
            "a automobile/automobile8.png\n",
            "a automobile/automobile9.png\n",
            "a airplane/airplane1.png\n",
            "a airplane/airplane10.png\n",
            "a airplane/airplane11.png\n",
            "a airplane/airplane12.png\n",
            "a airplane/airplane13.png\n",
            "a airplane/airplane14.png\n",
            "a airplane/airplane15.png\n",
            "a airplane/airplane16.png\n",
            "a airplane/airplane17.png\n",
            "a airplane/airplane18.png\n",
            "a airplane/airplane19.png\n",
            "a airplane/airplane2.png\n",
            "a airplane/airplane20.png\n",
            "a airplane/airplane3.png\n",
            "a airplane/airplane4.png\n",
            "a airplane/airplane5.png\n",
            "a airplane/airplane6.png\n",
            "a airplane/airplane7.png\n",
            "a airplane/airplane8.png\n",
            "a airplane/airplane9.png\n"
          ]
        }
      ],
      "metadata": {
        "id": "ItRo_S0M264N",
        "colab": {
          "base_uri": "https://localhost:8080/"
        },
        "outputId": "2d65284e-58bf-470e-bfc5-7c0b00998dc7"
      }
    },
    {
      "cell_type": "markdown",
      "source": [
        "## Visualization"
      ],
      "metadata": {
        "id": "0FM_S886kFd8"
      }
    },
    {
      "cell_type": "code",
      "execution_count": 10,
      "source": [
        "import matplotlib.pyplot as plt\r\n",
        "\r\n",
        "classes = ['airplane', 'automobile', 'bird', 'cat', 'deer', 'dog', 'frog', 'horse', 'ship', 'truck']\r\n",
        "\r\n",
        "plt.figure(figsize=(10, 20))\r\n",
        "cnt = 0\r\n",
        "for i, cls_name in enumerate(classes):\r\n",
        "    path = f'{cls_name}/{cls_name}1.png'\r\n",
        "    # benign image\r\n",
        "    cnt += 1\r\n",
        "    plt.subplot(len(classes), 4, cnt)\r\n",
        "    im = Image.open(f'./data/{path}')\r\n",
        "    logit = model(transform(im).unsqueeze(0).to(device))[0]\r\n",
        "    predict = logit.argmax(-1).item()\r\n",
        "    prob = logit.softmax(-1)[predict].item()\r\n",
        "    plt.title(f'benign: {cls_name}1.png\\n{classes[predict]}: {prob:.2%}')\r\n",
        "    plt.axis('off')\r\n",
        "    plt.imshow(np.array(im))\r\n",
        "    # adversarial image\r\n",
        "    cnt += 1\r\n",
        "    plt.subplot(len(classes), 4, cnt)\r\n",
        "    im = Image.open(f'./ifgsm/{path}')\r\n",
        "    logit = model(transform(im).unsqueeze(0).to(device))[0]\r\n",
        "    predict = logit.argmax(-1).item()\r\n",
        "    prob = logit.softmax(-1)[predict].item()\r\n",
        "    plt.title(f'adversarial: {cls_name}1.png\\n{classes[predict]}: {prob:.2%}')\r\n",
        "    plt.axis('off')\r\n",
        "    plt.imshow(np.array(im))\r\n",
        "plt.tight_layout()\r\n",
        "plt.show()"
      ],
      "outputs": [
        {
          "output_type": "display_data",
          "data": {
            "image/png": "[encoded data removed]",
            "text/plain": [
              "<Figure size 720x1440 with 20 Axes>"
            ]
          },
          "metadata": {
            "needs_background": "light"
          }
        }
      ],
      "metadata": {
        "id": "2FCuE2njkH1O",
        "colab": {
          "base_uri": "https://localhost:8080/",
          "height": 735
        },
        "outputId": "d9840d3c-9fe0-4c48-c608-154a4e6e6a9d"
      }
    }
  ]
}