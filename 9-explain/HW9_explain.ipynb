{
 "nbformat": 4,
 "nbformat_minor": 2,
 "metadata": {
  "colab": {
   "name": "HW9-explain.ipynb",
   "provenance": [],
   "collapsed_sections": []
  },
  "kernelspec": {
   "name": "python3",
   "display_name": "Python 3.8.1 64-bit"
  },
  "accelerator": "GPU",
  "widgets": {
   "application/vnd.jupyter.widget-state+json": {
    "ac5f5c96e3504a95998e2e9444efd06e": {
     "model_module": "@jupyter-widgets/controls",
     "model_name": "HBoxModel",
     "model_module_version": "1.5.0",
     "state": {
      "_view_name": "HBoxView",
      "_dom_classes": [],
      "_model_name": "HBoxModel",
      "_view_module": "@jupyter-widgets/controls",
      "_model_module_version": "1.5.0",
      "_view_count": null,
      "_view_module_version": "1.5.0",
      "box_style": "",
      "layout": "IPY_MODEL_7540b60c266648d2b699fc845010ef2d",
      "_model_module": "@jupyter-widgets/controls",
      "children": [
       "IPY_MODEL_ef971f3216e744c0a5919a11107ed5a4",
       "IPY_MODEL_78ffbbfdfaf24aacad30c739a2f27fb0",
       "IPY_MODEL_0522bf91e69b47459268281fd064b328"
      ]
     }
    },
    "7540b60c266648d2b699fc845010ef2d": {
     "model_module": "@jupyter-widgets/base",
     "model_name": "LayoutModel",
     "model_module_version": "1.2.0",
     "state": {
      "_view_name": "LayoutView",
      "grid_template_rows": null,
      "right": null,
      "justify_content": null,
      "_view_module": "@jupyter-widgets/base",
      "overflow": null,
      "_model_module_version": "1.2.0",
      "_view_count": null,
      "flex_flow": null,
      "width": null,
      "min_width": null,
      "border": null,
      "align_items": null,
      "bottom": null,
      "_model_module": "@jupyter-widgets/base",
      "top": null,
      "grid_column": null,
      "overflow_y": null,
      "overflow_x": null,
      "grid_auto_flow": null,
      "grid_area": null,
      "grid_template_columns": null,
      "flex": null,
      "_model_name": "LayoutModel",
      "justify_items": null,
      "grid_row": null,
      "max_height": null,
      "align_content": null,
      "visibility": null,
      "align_self": null,
      "height": null,
      "min_height": null,
      "padding": null,
      "grid_auto_rows": null,
      "grid_gap": null,
      "max_width": null,
      "order": null,
      "_view_module_version": "1.2.0",
      "grid_template_areas": null,
      "object_position": null,
      "object_fit": null,
      "grid_auto_columns": null,
      "margin": null,
      "display": null,
      "left": null
     }
    },
    "ef971f3216e744c0a5919a11107ed5a4": {
     "model_module": "@jupyter-widgets/controls",
     "model_name": "HTMLModel",
     "model_module_version": "1.5.0",
     "state": {
      "_view_name": "HTMLView",
      "style": "IPY_MODEL_ca7941e28b994e92bbf919aacad3aab3",
      "_dom_classes": [],
      "description": "",
      "_model_name": "HTMLModel",
      "placeholder": "​",
      "_view_module": "@jupyter-widgets/controls",
      "_model_module_version": "1.5.0",
      "value": "Downloading: 100%",
      "_view_count": null,
      "_view_module_version": "1.5.0",
      "description_tooltip": null,
      "_model_module": "@jupyter-widgets/controls",
      "layout": "IPY_MODEL_e6d191995ed44515a2c455539fa10e4e"
     }
    },
    "78ffbbfdfaf24aacad30c739a2f27fb0": {
     "model_module": "@jupyter-widgets/controls",
     "model_name": "FloatProgressModel",
     "model_module_version": "1.5.0",
     "state": {
      "_view_name": "ProgressView",
      "style": "IPY_MODEL_bcc25f6caa194bfdac41bbb1333161de",
      "_dom_classes": [],
      "description": "",
      "_model_name": "FloatProgressModel",
      "bar_style": "success",
      "max": 624,
      "_view_module": "@jupyter-widgets/controls",
      "_model_module_version": "1.5.0",
      "value": 624,
      "_view_count": null,
      "_view_module_version": "1.5.0",
      "orientation": "horizontal",
      "min": 0,
      "description_tooltip": null,
      "_model_module": "@jupyter-widgets/controls",
      "layout": "IPY_MODEL_e0a48f8eed2444f8b6c9f0beeec3c0fe"
     }
    },
    "0522bf91e69b47459268281fd064b328": {
     "model_module": "@jupyter-widgets/controls",
     "model_name": "HTMLModel",
     "model_module_version": "1.5.0",
     "state": {
      "_view_name": "HTMLView",
      "style": "IPY_MODEL_f635a6c4bc294cb5a3cd0810c1149ca3",
      "_dom_classes": [],
      "description": "",
      "_model_name": "HTMLModel",
      "placeholder": "​",
      "_view_module": "@jupyter-widgets/controls",
      "_model_module_version": "1.5.0",
      "value": " 624/624 [00:00&lt;00:00, 11.9kB/s]",
      "_view_count": null,
      "_view_module_version": "1.5.0",
      "description_tooltip": null,
      "_model_module": "@jupyter-widgets/controls",
      "layout": "IPY_MODEL_75dc3818d13744afa43925d226239075"
     }
    },
    "ca7941e28b994e92bbf919aacad3aab3": {
     "model_module": "@jupyter-widgets/controls",
     "model_name": "DescriptionStyleModel",
     "model_module_version": "1.5.0",
     "state": {
      "_view_name": "StyleView",
      "_model_name": "DescriptionStyleModel",
      "description_width": "",
      "_view_module": "@jupyter-widgets/base",
      "_model_module_version": "1.5.0",
      "_view_count": null,
      "_view_module_version": "1.2.0",
      "_model_module": "@jupyter-widgets/controls"
     }
    },
    "e6d191995ed44515a2c455539fa10e4e": {
     "model_module": "@jupyter-widgets/base",
     "model_name": "LayoutModel",
     "model_module_version": "1.2.0",
     "state": {
      "_view_name": "LayoutView",
      "grid_template_rows": null,
      "right": null,
      "justify_content": null,
      "_view_module": "@jupyter-widgets/base",
      "overflow": null,
      "_model_module_version": "1.2.0",
      "_view_count": null,
      "flex_flow": null,
      "width": null,
      "min_width": null,
      "border": null,
      "align_items": null,
      "bottom": null,
      "_model_module": "@jupyter-widgets/base",
      "top": null,
      "grid_column": null,
      "overflow_y": null,
      "overflow_x": null,
      "grid_auto_flow": null,
      "grid_area": null,
      "grid_template_columns": null,
      "flex": null,
      "_model_name": "LayoutModel",
      "justify_items": null,
      "grid_row": null,
      "max_height": null,
      "align_content": null,
      "visibility": null,
      "align_self": null,
      "height": null,
      "min_height": null,
      "padding": null,
      "grid_auto_rows": null,
      "grid_gap": null,
      "max_width": null,
      "order": null,
      "_view_module_version": "1.2.0",
      "grid_template_areas": null,
      "object_position": null,
      "object_fit": null,
      "grid_auto_columns": null,
      "margin": null,
      "display": null,
      "left": null
     }
    },
    "bcc25f6caa194bfdac41bbb1333161de": {
     "model_module": "@jupyter-widgets/controls",
     "model_name": "ProgressStyleModel",
     "model_module_version": "1.5.0",
     "state": {
      "_view_name": "StyleView",
      "_model_name": "ProgressStyleModel",
      "description_width": "",
      "_view_module": "@jupyter-widgets/base",
      "_model_module_version": "1.5.0",
      "_view_count": null,
      "_view_module_version": "1.2.0",
      "bar_color": null,
      "_model_module": "@jupyter-widgets/controls"
     }
    },
    "e0a48f8eed2444f8b6c9f0beeec3c0fe": {
     "model_module": "@jupyter-widgets/base",
     "model_name": "LayoutModel",
     "model_module_version": "1.2.0",
     "state": {
      "_view_name": "LayoutView",
      "grid_template_rows": null,
      "right": null,
      "justify_content": null,
      "_view_module": "@jupyter-widgets/base",
      "overflow": null,
      "_model_module_version": "1.2.0",
      "_view_count": null,
      "flex_flow": null,
      "width": null,
      "min_width": null,
      "border": null,
      "align_items": null,
      "bottom": null,
      "_model_module": "@jupyter-widgets/base",
      "top": null,
      "grid_column": null,
      "overflow_y": null,
      "overflow_x": null,
      "grid_auto_flow": null,
      "grid_area": null,
      "grid_template_columns": null,
      "flex": null,
      "_model_name": "LayoutModel",
      "justify_items": null,
      "grid_row": null,
      "max_height": null,
      "align_content": null,
      "visibility": null,
      "align_self": null,
      "height": null,
      "min_height": null,
      "padding": null,
      "grid_auto_rows": null,
      "grid_gap": null,
      "max_width": null,
      "order": null,
      "_view_module_version": "1.2.0",
      "grid_template_areas": null,
      "object_position": null,
      "object_fit": null,
      "grid_auto_columns": null,
      "margin": null,
      "display": null,
      "left": null
     }
    },
    "f635a6c4bc294cb5a3cd0810c1149ca3": {
     "model_module": "@jupyter-widgets/controls",
     "model_name": "DescriptionStyleModel",
     "model_module_version": "1.5.0",
     "state": {
      "_view_name": "StyleView",
      "_model_name": "DescriptionStyleModel",
      "description_width": "",
      "_view_module": "@jupyter-widgets/base",
      "_model_module_version": "1.5.0",
      "_view_count": null,
      "_view_module_version": "1.2.0",
      "_model_module": "@jupyter-widgets/controls"
     }
    },
    "75dc3818d13744afa43925d226239075": {
     "model_module": "@jupyter-widgets/base",
     "model_name": "LayoutModel",
     "model_module_version": "1.2.0",
     "state": {
      "_view_name": "LayoutView",
      "grid_template_rows": null,
      "right": null,
      "justify_content": null,
      "_view_module": "@jupyter-widgets/base",
      "overflow": null,
      "_model_module_version": "1.2.0",
      "_view_count": null,
      "flex_flow": null,
      "width": null,
      "min_width": null,
      "border": null,
      "align_items": null,
      "bottom": null,
      "_model_module": "@jupyter-widgets/base",
      "top": null,
      "grid_column": null,
      "overflow_y": null,
      "overflow_x": null,
      "grid_auto_flow": null,
      "grid_area": null,
      "grid_template_columns": null,
      "flex": null,
      "_model_name": "LayoutModel",
      "justify_items": null,
      "grid_row": null,
      "max_height": null,
      "align_content": null,
      "visibility": null,
      "align_self": null,
      "height": null,
      "min_height": null,
      "padding": null,
      "grid_auto_rows": null,
      "grid_gap": null,
      "max_width": null,
      "order": null,
      "_view_module_version": "1.2.0",
      "grid_template_areas": null,
      "object_position": null,
      "object_fit": null,
      "grid_auto_columns": null,
      "margin": null,
      "display": null,
      "left": null
     }
    },
    "a6e556c577f3419d9c3e4d377fc8d0a8": {
     "model_module": "@jupyter-widgets/controls",
     "model_name": "HBoxModel",
     "model_module_version": "1.5.0",
     "state": {
      "_view_name": "HBoxView",
      "_dom_classes": [],
      "_model_name": "HBoxModel",
      "_view_module": "@jupyter-widgets/controls",
      "_model_module_version": "1.5.0",
      "_view_count": null,
      "_view_module_version": "1.5.0",
      "box_style": "",
      "layout": "IPY_MODEL_750ba3b3b49442b1bd18db0ebd63841c",
      "_model_module": "@jupyter-widgets/controls",
      "children": [
       "IPY_MODEL_c9a4ea0ee5e442c0b830d3c9e5da6f4a",
       "IPY_MODEL_2d7cc9099b8947768915e5fe10f4abaa",
       "IPY_MODEL_6d1eab4620d4481e98bbe1e3218fb831"
      ]
     }
    },
    "750ba3b3b49442b1bd18db0ebd63841c": {
     "model_module": "@jupyter-widgets/base",
     "model_name": "LayoutModel",
     "model_module_version": "1.2.0",
     "state": {
      "_view_name": "LayoutView",
      "grid_template_rows": null,
      "right": null,
      "justify_content": null,
      "_view_module": "@jupyter-widgets/base",
      "overflow": null,
      "_model_module_version": "1.2.0",
      "_view_count": null,
      "flex_flow": null,
      "width": null,
      "min_width": null,
      "border": null,
      "align_items": null,
      "bottom": null,
      "_model_module": "@jupyter-widgets/base",
      "top": null,
      "grid_column": null,
      "overflow_y": null,
      "overflow_x": null,
      "grid_auto_flow": null,
      "grid_area": null,
      "grid_template_columns": null,
      "flex": null,
      "_model_name": "LayoutModel",
      "justify_items": null,
      "grid_row": null,
      "max_height": null,
      "align_content": null,
      "visibility": null,
      "align_self": null,
      "height": null,
      "min_height": null,
      "padding": null,
      "grid_auto_rows": null,
      "grid_gap": null,
      "max_width": null,
      "order": null,
      "_view_module_version": "1.2.0",
      "grid_template_areas": null,
      "object_position": null,
      "object_fit": null,
      "grid_auto_columns": null,
      "margin": null,
      "display": null,
      "left": null
     }
    },
    "c9a4ea0ee5e442c0b830d3c9e5da6f4a": {
     "model_module": "@jupyter-widgets/controls",
     "model_name": "HTMLModel",
     "model_module_version": "1.5.0",
     "state": {
      "_view_name": "HTMLView",
      "style": "IPY_MODEL_853d4e5ac20c4d79b77c2568ad7ca401",
      "_dom_classes": [],
      "description": "",
      "_model_name": "HTMLModel",
      "placeholder": "​",
      "_view_module": "@jupyter-widgets/controls",
      "_model_module_version": "1.5.0",
      "value": "Downloading: 100%",
      "_view_count": null,
      "_view_module_version": "1.5.0",
      "description_tooltip": null,
      "_model_module": "@jupyter-widgets/controls",
      "layout": "IPY_MODEL_9c65a76bc096484d829f207d7d148683"
     }
    },
    "2d7cc9099b8947768915e5fe10f4abaa": {
     "model_module": "@jupyter-widgets/controls",
     "model_name": "FloatProgressModel",
     "model_module_version": "1.5.0",
     "state": {
      "_view_name": "ProgressView",
      "style": "IPY_MODEL_694be4f26dce45669ac2f57d99897190",
      "_dom_classes": [],
      "description": "",
      "_model_name": "FloatProgressModel",
      "bar_style": "success",
      "max": 411577189,
      "_view_module": "@jupyter-widgets/controls",
      "_model_module_version": "1.5.0",
      "value": 411577189,
      "_view_count": null,
      "_view_module_version": "1.5.0",
      "orientation": "horizontal",
      "min": 0,
      "description_tooltip": null,
      "_model_module": "@jupyter-widgets/controls",
      "layout": "IPY_MODEL_244fa1c2d9e945198b21053ae86b7553"
     }
    },
    "6d1eab4620d4481e98bbe1e3218fb831": {
     "model_module": "@jupyter-widgets/controls",
     "model_name": "HTMLModel",
     "model_module_version": "1.5.0",
     "state": {
      "_view_name": "HTMLView",
      "style": "IPY_MODEL_4e5d7a49fc5a41e2bd116d800954e9a6",
      "_dom_classes": [],
      "description": "",
      "_model_name": "HTMLModel",
      "placeholder": "​",
      "_view_module": "@jupyter-widgets/controls",
      "_model_module_version": "1.5.0",
      "value": " 412M/412M [00:13&lt;00:00, 31.6MB/s]",
      "_view_count": null,
      "_view_module_version": "1.5.0",
      "description_tooltip": null,
      "_model_module": "@jupyter-widgets/controls",
      "layout": "IPY_MODEL_11610de2bbec49aa92c77129322021a2"
     }
    },
    "853d4e5ac20c4d79b77c2568ad7ca401": {
     "model_module": "@jupyter-widgets/controls",
     "model_name": "DescriptionStyleModel",
     "model_module_version": "1.5.0",
     "state": {
      "_view_name": "StyleView",
      "_model_name": "DescriptionStyleModel",
      "description_width": "",
      "_view_module": "@jupyter-widgets/base",
      "_model_module_version": "1.5.0",
      "_view_count": null,
      "_view_module_version": "1.2.0",
      "_model_module": "@jupyter-widgets/controls"
     }
    },
    "9c65a76bc096484d829f207d7d148683": {
     "model_module": "@jupyter-widgets/base",
     "model_name": "LayoutModel",
     "model_module_version": "1.2.0",
     "state": {
      "_view_name": "LayoutView",
      "grid_template_rows": null,
      "right": null,
      "justify_content": null,
      "_view_module": "@jupyter-widgets/base",
      "overflow": null,
      "_model_module_version": "1.2.0",
      "_view_count": null,
      "flex_flow": null,
      "width": null,
      "min_width": null,
      "border": null,
      "align_items": null,
      "bottom": null,
      "_model_module": "@jupyter-widgets/base",
      "top": null,
      "grid_column": null,
      "overflow_y": null,
      "overflow_x": null,
      "grid_auto_flow": null,
      "grid_area": null,
      "grid_template_columns": null,
      "flex": null,
      "_model_name": "LayoutModel",
      "justify_items": null,
      "grid_row": null,
      "max_height": null,
      "align_content": null,
      "visibility": null,
      "align_self": null,
      "height": null,
      "min_height": null,
      "padding": null,
      "grid_auto_rows": null,
      "grid_gap": null,
      "max_width": null,
      "order": null,
      "_view_module_version": "1.2.0",
      "grid_template_areas": null,
      "object_position": null,
      "object_fit": null,
      "grid_auto_columns": null,
      "margin": null,
      "display": null,
      "left": null
     }
    },
    "694be4f26dce45669ac2f57d99897190": {
     "model_module": "@jupyter-widgets/controls",
     "model_name": "ProgressStyleModel",
     "model_module_version": "1.5.0",
     "state": {
      "_view_name": "StyleView",
      "_model_name": "ProgressStyleModel",
      "description_width": "",
      "_view_module": "@jupyter-widgets/base",
      "_model_module_version": "1.5.0",
      "_view_count": null,
      "_view_module_version": "1.2.0",
      "bar_color": null,
      "_model_module": "@jupyter-widgets/controls"
     }
    },
    "244fa1c2d9e945198b21053ae86b7553": {
     "model_module": "@jupyter-widgets/base",
     "model_name": "LayoutModel",
     "model_module_version": "1.2.0",
     "state": {
      "_view_name": "LayoutView",
      "grid_template_rows": null,
      "right": null,
      "justify_content": null,
      "_view_module": "@jupyter-widgets/base",
      "overflow": null,
      "_model_module_version": "1.2.0",
      "_view_count": null,
      "flex_flow": null,
      "width": null,
      "min_width": null,
      "border": null,
      "align_items": null,
      "bottom": null,
      "_model_module": "@jupyter-widgets/base",
      "top": null,
      "grid_column": null,
      "overflow_y": null,
      "overflow_x": null,
      "grid_auto_flow": null,
      "grid_area": null,
      "grid_template_columns": null,
      "flex": null,
      "_model_name": "LayoutModel",
      "justify_items": null,
      "grid_row": null,
      "max_height": null,
      "align_content": null,
      "visibility": null,
      "align_self": null,
      "height": null,
      "min_height": null,
      "padding": null,
      "grid_auto_rows": null,
      "grid_gap": null,
      "max_width": null,
      "order": null,
      "_view_module_version": "1.2.0",
      "grid_template_areas": null,
      "object_position": null,
      "object_fit": null,
      "grid_auto_columns": null,
      "margin": null,
      "display": null,
      "left": null
     }
    },
    "4e5d7a49fc5a41e2bd116d800954e9a6": {
     "model_module": "@jupyter-widgets/controls",
     "model_name": "DescriptionStyleModel",
     "model_module_version": "1.5.0",
     "state": {
      "_view_name": "StyleView",
      "_model_name": "DescriptionStyleModel",
      "description_width": "",
      "_view_module": "@jupyter-widgets/base",
      "_model_module_version": "1.5.0",
      "_view_count": null,
      "_view_module_version": "1.2.0",
      "_model_module": "@jupyter-widgets/controls"
     }
    },
    "11610de2bbec49aa92c77129322021a2": {
     "model_module": "@jupyter-widgets/base",
     "model_name": "LayoutModel",
     "model_module_version": "1.2.0",
     "state": {
      "_view_name": "LayoutView",
      "grid_template_rows": null,
      "right": null,
      "justify_content": null,
      "_view_module": "@jupyter-widgets/base",
      "overflow": null,
      "_model_module_version": "1.2.0",
      "_view_count": null,
      "flex_flow": null,
      "width": null,
      "min_width": null,
      "border": null,
      "align_items": null,
      "bottom": null,
      "_model_module": "@jupyter-widgets/base",
      "top": null,
      "grid_column": null,
      "overflow_y": null,
      "overflow_x": null,
      "grid_auto_flow": null,
      "grid_area": null,
      "grid_template_columns": null,
      "flex": null,
      "_model_name": "LayoutModel",
      "justify_items": null,
      "grid_row": null,
      "max_height": null,
      "align_content": null,
      "visibility": null,
      "align_self": null,
      "height": null,
      "min_height": null,
      "padding": null,
      "grid_auto_rows": null,
      "grid_gap": null,
      "max_width": null,
      "order": null,
      "_view_module_version": "1.2.0",
      "grid_template_areas": null,
      "object_position": null,
      "object_fit": null,
      "grid_auto_columns": null,
      "margin": null,
      "display": null,
      "left": null
     }
    },
    "12abba859425494ca57f7eb882ad2678": {
     "model_module": "@jupyter-widgets/controls",
     "model_name": "HBoxModel",
     "model_module_version": "1.5.0",
     "state": {
      "_view_name": "HBoxView",
      "_dom_classes": [],
      "_model_name": "HBoxModel",
      "_view_module": "@jupyter-widgets/controls",
      "_model_module_version": "1.5.0",
      "_view_count": null,
      "_view_module_version": "1.5.0",
      "box_style": "",
      "layout": "IPY_MODEL_6ddfcc38670b4523a4ce49bbd9f3d653",
      "_model_module": "@jupyter-widgets/controls",
      "children": [
       "IPY_MODEL_4376a23fbff04015bf1a6cef3492ead9",
       "IPY_MODEL_873fcc2d31af4ff58d7920069b0b480a",
       "IPY_MODEL_f557dea43db7406c9e616dbdced3e9a9"
      ]
     }
    },
    "6ddfcc38670b4523a4ce49bbd9f3d653": {
     "model_module": "@jupyter-widgets/base",
     "model_name": "LayoutModel",
     "model_module_version": "1.2.0",
     "state": {
      "_view_name": "LayoutView",
      "grid_template_rows": null,
      "right": null,
      "justify_content": null,
      "_view_module": "@jupyter-widgets/base",
      "overflow": null,
      "_model_module_version": "1.2.0",
      "_view_count": null,
      "flex_flow": null,
      "width": null,
      "min_width": null,
      "border": null,
      "align_items": null,
      "bottom": null,
      "_model_module": "@jupyter-widgets/base",
      "top": null,
      "grid_column": null,
      "overflow_y": null,
      "overflow_x": null,
      "grid_auto_flow": null,
      "grid_area": null,
      "grid_template_columns": null,
      "flex": null,
      "_model_name": "LayoutModel",
      "justify_items": null,
      "grid_row": null,
      "max_height": null,
      "align_content": null,
      "visibility": null,
      "align_self": null,
      "height": null,
      "min_height": null,
      "padding": null,
      "grid_auto_rows": null,
      "grid_gap": null,
      "max_width": null,
      "order": null,
      "_view_module_version": "1.2.0",
      "grid_template_areas": null,
      "object_position": null,
      "object_fit": null,
      "grid_auto_columns": null,
      "margin": null,
      "display": null,
      "left": null
     }
    },
    "4376a23fbff04015bf1a6cef3492ead9": {
     "model_module": "@jupyter-widgets/controls",
     "model_name": "HTMLModel",
     "model_module_version": "1.5.0",
     "state": {
      "_view_name": "HTMLView",
      "style": "IPY_MODEL_fddcb9dff5c64beebfe02285d422296c",
      "_dom_classes": [],
      "description": "",
      "_model_name": "HTMLModel",
      "placeholder": "​",
      "_view_module": "@jupyter-widgets/controls",
      "_model_module_version": "1.5.0",
      "value": "Downloading: 100%",
      "_view_count": null,
      "_view_module_version": "1.5.0",
      "description_tooltip": null,
      "_model_module": "@jupyter-widgets/controls",
      "layout": "IPY_MODEL_888e8bcc1f5b4a89b36b88947703d146"
     }
    },
    "873fcc2d31af4ff58d7920069b0b480a": {
     "model_module": "@jupyter-widgets/controls",
     "model_name": "FloatProgressModel",
     "model_module_version": "1.5.0",
     "state": {
      "_view_name": "ProgressView",
      "style": "IPY_MODEL_cc3defcd4ae1402687fd25934f751b3f",
      "_dom_classes": [],
      "description": "",
      "_model_name": "FloatProgressModel",
      "bar_style": "success",
      "max": 109540,
      "_view_module": "@jupyter-widgets/controls",
      "_model_module_version": "1.5.0",
      "value": 109540,
      "_view_count": null,
      "_view_module_version": "1.5.0",
      "orientation": "horizontal",
      "min": 0,
      "description_tooltip": null,
      "_model_module": "@jupyter-widgets/controls",
      "layout": "IPY_MODEL_069f09b41c624787a74b564352d81e7b"
     }
    },
    "f557dea43db7406c9e616dbdced3e9a9": {
     "model_module": "@jupyter-widgets/controls",
     "model_name": "HTMLModel",
     "model_module_version": "1.5.0",
     "state": {
      "_view_name": "HTMLView",
      "style": "IPY_MODEL_b6ade9a79ff643feba993ecc7fb9d680",
      "_dom_classes": [],
      "description": "",
      "_model_name": "HTMLModel",
      "placeholder": "​",
      "_view_module": "@jupyter-widgets/controls",
      "_model_module_version": "1.5.0",
      "value": " 110k/110k [00:00&lt;00:00, 1.18MB/s]",
      "_view_count": null,
      "_view_module_version": "1.5.0",
      "description_tooltip": null,
      "_model_module": "@jupyter-widgets/controls",
      "layout": "IPY_MODEL_37676851fadb4be6a8db778e9a2923e1"
     }
    },
    "fddcb9dff5c64beebfe02285d422296c": {
     "model_module": "@jupyter-widgets/controls",
     "model_name": "DescriptionStyleModel",
     "model_module_version": "1.5.0",
     "state": {
      "_view_name": "StyleView",
      "_model_name": "DescriptionStyleModel",
      "description_width": "",
      "_view_module": "@jupyter-widgets/base",
      "_model_module_version": "1.5.0",
      "_view_count": null,
      "_view_module_version": "1.2.0",
      "_model_module": "@jupyter-widgets/controls"
     }
    },
    "888e8bcc1f5b4a89b36b88947703d146": {
     "model_module": "@jupyter-widgets/base",
     "model_name": "LayoutModel",
     "model_module_version": "1.2.0",
     "state": {
      "_view_name": "LayoutView",
      "grid_template_rows": null,
      "right": null,
      "justify_content": null,
      "_view_module": "@jupyter-widgets/base",
      "overflow": null,
      "_model_module_version": "1.2.0",
      "_view_count": null,
      "flex_flow": null,
      "width": null,
      "min_width": null,
      "border": null,
      "align_items": null,
      "bottom": null,
      "_model_module": "@jupyter-widgets/base",
      "top": null,
      "grid_column": null,
      "overflow_y": null,
      "overflow_x": null,
      "grid_auto_flow": null,
      "grid_area": null,
      "grid_template_columns": null,
      "flex": null,
      "_model_name": "LayoutModel",
      "justify_items": null,
      "grid_row": null,
      "max_height": null,
      "align_content": null,
      "visibility": null,
      "align_self": null,
      "height": null,
      "min_height": null,
      "padding": null,
      "grid_auto_rows": null,
      "grid_gap": null,
      "max_width": null,
      "order": null,
      "_view_module_version": "1.2.0",
      "grid_template_areas": null,
      "object_position": null,
      "object_fit": null,
      "grid_auto_columns": null,
      "margin": null,
      "display": null,
      "left": null
     }
    },
    "cc3defcd4ae1402687fd25934f751b3f": {
     "model_module": "@jupyter-widgets/controls",
     "model_name": "ProgressStyleModel",
     "model_module_version": "1.5.0",
     "state": {
      "_view_name": "StyleView",
      "_model_name": "ProgressStyleModel",
      "description_width": "",
      "_view_module": "@jupyter-widgets/base",
      "_model_module_version": "1.5.0",
      "_view_count": null,
      "_view_module_version": "1.2.0",
      "bar_color": null,
      "_model_module": "@jupyter-widgets/controls"
     }
    },
    "069f09b41c624787a74b564352d81e7b": {
     "model_module": "@jupyter-widgets/base",
     "model_name": "LayoutModel",
     "model_module_version": "1.2.0",
     "state": {
      "_view_name": "LayoutView",
      "grid_template_rows": null,
      "right": null,
      "justify_content": null,
      "_view_module": "@jupyter-widgets/base",
      "overflow": null,
      "_model_module_version": "1.2.0",
      "_view_count": null,
      "flex_flow": null,
      "width": null,
      "min_width": null,
      "border": null,
      "align_items": null,
      "bottom": null,
      "_model_module": "@jupyter-widgets/base",
      "top": null,
      "grid_column": null,
      "overflow_y": null,
      "overflow_x": null,
      "grid_auto_flow": null,
      "grid_area": null,
      "grid_template_columns": null,
      "flex": null,
      "_model_name": "LayoutModel",
      "justify_items": null,
      "grid_row": null,
      "max_height": null,
      "align_content": null,
      "visibility": null,
      "align_self": null,
      "height": null,
      "min_height": null,
      "padding": null,
      "grid_auto_rows": null,
      "grid_gap": null,
      "max_width": null,
      "order": null,
      "_view_module_version": "1.2.0",
      "grid_template_areas": null,
      "object_position": null,
      "object_fit": null,
      "grid_auto_columns": null,
      "margin": null,
      "display": null,
      "left": null
     }
    },
    "b6ade9a79ff643feba993ecc7fb9d680": {
     "model_module": "@jupyter-widgets/controls",
     "model_name": "DescriptionStyleModel",
     "model_module_version": "1.5.0",
     "state": {
      "_view_name": "StyleView",
      "_model_name": "DescriptionStyleModel",
      "description_width": "",
      "_view_module": "@jupyter-widgets/base",
      "_model_module_version": "1.5.0",
      "_view_count": null,
      "_view_module_version": "1.2.0",
      "_model_module": "@jupyter-widgets/controls"
     }
    },
    "37676851fadb4be6a8db778e9a2923e1": {
     "model_module": "@jupyter-widgets/base",
     "model_name": "LayoutModel",
     "model_module_version": "1.2.0",
     "state": {
      "_view_name": "LayoutView",
      "grid_template_rows": null,
      "right": null,
      "justify_content": null,
      "_view_module": "@jupyter-widgets/base",
      "overflow": null,
      "_model_module_version": "1.2.0",
      "_view_count": null,
      "flex_flow": null,
      "width": null,
      "min_width": null,
      "border": null,
      "align_items": null,
      "bottom": null,
      "_model_module": "@jupyter-widgets/base",
      "top": null,
      "grid_column": null,
      "overflow_y": null,
      "overflow_x": null,
      "grid_auto_flow": null,
      "grid_area": null,
      "grid_template_columns": null,
      "flex": null,
      "_model_name": "LayoutModel",
      "justify_items": null,
      "grid_row": null,
      "max_height": null,
      "align_content": null,
      "visibility": null,
      "align_self": null,
      "height": null,
      "min_height": null,
      "padding": null,
      "grid_auto_rows": null,
      "grid_gap": null,
      "max_width": null,
      "order": null,
      "_view_module_version": "1.2.0",
      "grid_template_areas": null,
      "object_position": null,
      "object_fit": null,
      "grid_auto_columns": null,
      "margin": null,
      "display": null,
      "left": null
     }
    },
    "09259e41db7d4b0da6982b4b94284345": {
     "model_module": "@jupyter-widgets/controls",
     "model_name": "HBoxModel",
     "model_module_version": "1.5.0",
     "state": {
      "_view_name": "HBoxView",
      "_dom_classes": [],
      "_model_name": "HBoxModel",
      "_view_module": "@jupyter-widgets/controls",
      "_model_module_version": "1.5.0",
      "_view_count": null,
      "_view_module_version": "1.5.0",
      "box_style": "",
      "layout": "IPY_MODEL_3c11f7923e0e42cca77b10022c3a77c3",
      "_model_module": "@jupyter-widgets/controls",
      "children": [
       "IPY_MODEL_6a1a7547391b4089aa0bcfedd2ef35a4",
       "IPY_MODEL_574b0627fc3b430eb8efd66b8a2127b4",
       "IPY_MODEL_98e7d1741083405c8db7fe2234ef7f3c"
      ]
     }
    },
    "3c11f7923e0e42cca77b10022c3a77c3": {
     "model_module": "@jupyter-widgets/base",
     "model_name": "LayoutModel",
     "model_module_version": "1.2.0",
     "state": {
      "_view_name": "LayoutView",
      "grid_template_rows": null,
      "right": null,
      "justify_content": null,
      "_view_module": "@jupyter-widgets/base",
      "overflow": null,
      "_model_module_version": "1.2.0",
      "_view_count": null,
      "flex_flow": null,
      "width": null,
      "min_width": null,
      "border": null,
      "align_items": null,
      "bottom": null,
      "_model_module": "@jupyter-widgets/base",
      "top": null,
      "grid_column": null,
      "overflow_y": null,
      "overflow_x": null,
      "grid_auto_flow": null,
      "grid_area": null,
      "grid_template_columns": null,
      "flex": null,
      "_model_name": "LayoutModel",
      "justify_items": null,
      "grid_row": null,
      "max_height": null,
      "align_content": null,
      "visibility": null,
      "align_self": null,
      "height": null,
      "min_height": null,
      "padding": null,
      "grid_auto_rows": null,
      "grid_gap": null,
      "max_width": null,
      "order": null,
      "_view_module_version": "1.2.0",
      "grid_template_areas": null,
      "object_position": null,
      "object_fit": null,
      "grid_auto_columns": null,
      "margin": null,
      "display": null,
      "left": null
     }
    },
    "6a1a7547391b4089aa0bcfedd2ef35a4": {
     "model_module": "@jupyter-widgets/controls",
     "model_name": "HTMLModel",
     "model_module_version": "1.5.0",
     "state": {
      "_view_name": "HTMLView",
      "style": "IPY_MODEL_b1b87738b88e4b178175c75b70fb232b",
      "_dom_classes": [],
      "description": "",
      "_model_name": "HTMLModel",
      "placeholder": "​",
      "_view_module": "@jupyter-widgets/controls",
      "_model_module_version": "1.5.0",
      "value": "Downloading: 100%",
      "_view_count": null,
      "_view_module_version": "1.5.0",
      "description_tooltip": null,
      "_model_module": "@jupyter-widgets/controls",
      "layout": "IPY_MODEL_59ddbf5ea4264517904f4a0956876e31"
     }
    },
    "574b0627fc3b430eb8efd66b8a2127b4": {
     "model_module": "@jupyter-widgets/controls",
     "model_name": "FloatProgressModel",
     "model_module_version": "1.5.0",
     "state": {
      "_view_name": "ProgressView",
      "style": "IPY_MODEL_2de42c9d0db44212bc419048c4e80565",
      "_dom_classes": [],
      "description": "",
      "_model_name": "FloatProgressModel",
      "bar_style": "success",
      "max": 268943,
      "_view_module": "@jupyter-widgets/controls",
      "_model_module_version": "1.5.0",
      "value": 268943,
      "_view_count": null,
      "_view_module_version": "1.5.0",
      "orientation": "horizontal",
      "min": 0,
      "description_tooltip": null,
      "_model_module": "@jupyter-widgets/controls",
      "layout": "IPY_MODEL_14fd6984f1f84732a5236b86929796f5"
     }
    },
    "98e7d1741083405c8db7fe2234ef7f3c": {
     "model_module": "@jupyter-widgets/controls",
     "model_name": "HTMLModel",
     "model_module_version": "1.5.0",
     "state": {
      "_view_name": "HTMLView",
      "style": "IPY_MODEL_8220e48f2c6746cba2fc622f9303b07c",
      "_dom_classes": [],
      "description": "",
      "_model_name": "HTMLModel",
      "placeholder": "​",
      "_view_module": "@jupyter-widgets/controls",
      "_model_module_version": "1.5.0",
      "value": " 269k/269k [00:00&lt;00:00, 1.28MB/s]",
      "_view_count": null,
      "_view_module_version": "1.5.0",
      "description_tooltip": null,
      "_model_module": "@jupyter-widgets/controls",
      "layout": "IPY_MODEL_c12ba1ed58fb4b5f801b4ded2fd397eb"
     }
    },
    "b1b87738b88e4b178175c75b70fb232b": {
     "model_module": "@jupyter-widgets/controls",
     "model_name": "DescriptionStyleModel",
     "model_module_version": "1.5.0",
     "state": {
      "_view_name": "StyleView",
      "_model_name": "DescriptionStyleModel",
      "description_width": "",
      "_view_module": "@jupyter-widgets/base",
      "_model_module_version": "1.5.0",
      "_view_count": null,
      "_view_module_version": "1.2.0",
      "_model_module": "@jupyter-widgets/controls"
     }
    },
    "59ddbf5ea4264517904f4a0956876e31": {
     "model_module": "@jupyter-widgets/base",
     "model_name": "LayoutModel",
     "model_module_version": "1.2.0",
     "state": {
      "_view_name": "LayoutView",
      "grid_template_rows": null,
      "right": null,
      "justify_content": null,
      "_view_module": "@jupyter-widgets/base",
      "overflow": null,
      "_model_module_version": "1.2.0",
      "_view_count": null,
      "flex_flow": null,
      "width": null,
      "min_width": null,
      "border": null,
      "align_items": null,
      "bottom": null,
      "_model_module": "@jupyter-widgets/base",
      "top": null,
      "grid_column": null,
      "overflow_y": null,
      "overflow_x": null,
      "grid_auto_flow": null,
      "grid_area": null,
      "grid_template_columns": null,
      "flex": null,
      "_model_name": "LayoutModel",
      "justify_items": null,
      "grid_row": null,
      "max_height": null,
      "align_content": null,
      "visibility": null,
      "align_self": null,
      "height": null,
      "min_height": null,
      "padding": null,
      "grid_auto_rows": null,
      "grid_gap": null,
      "max_width": null,
      "order": null,
      "_view_module_version": "1.2.0",
      "grid_template_areas": null,
      "object_position": null,
      "object_fit": null,
      "grid_auto_columns": null,
      "margin": null,
      "display": null,
      "left": null
     }
    },
    "2de42c9d0db44212bc419048c4e80565": {
     "model_module": "@jupyter-widgets/controls",
     "model_name": "ProgressStyleModel",
     "model_module_version": "1.5.0",
     "state": {
      "_view_name": "StyleView",
      "_model_name": "ProgressStyleModel",
      "description_width": "",
      "_view_module": "@jupyter-widgets/base",
      "_model_module_version": "1.5.0",
      "_view_count": null,
      "_view_module_version": "1.2.0",
      "bar_color": null,
      "_model_module": "@jupyter-widgets/controls"
     }
    },
    "14fd6984f1f84732a5236b86929796f5": {
     "model_module": "@jupyter-widgets/base",
     "model_name": "LayoutModel",
     "model_module_version": "1.2.0",
     "state": {
      "_view_name": "LayoutView",
      "grid_template_rows": null,
      "right": null,
      "justify_content": null,
      "_view_module": "@jupyter-widgets/base",
      "overflow": null,
      "_model_module_version": "1.2.0",
      "_view_count": null,
      "flex_flow": null,
      "width": null,
      "min_width": null,
      "border": null,
      "align_items": null,
      "bottom": null,
      "_model_module": "@jupyter-widgets/base",
      "top": null,
      "grid_column": null,
      "overflow_y": null,
      "overflow_x": null,
      "grid_auto_flow": null,
      "grid_area": null,
      "grid_template_columns": null,
      "flex": null,
      "_model_name": "LayoutModel",
      "justify_items": null,
      "grid_row": null,
      "max_height": null,
      "align_content": null,
      "visibility": null,
      "align_self": null,
      "height": null,
      "min_height": null,
      "padding": null,
      "grid_auto_rows": null,
      "grid_gap": null,
      "max_width": null,
      "order": null,
      "_view_module_version": "1.2.0",
      "grid_template_areas": null,
      "object_position": null,
      "object_fit": null,
      "grid_auto_columns": null,
      "margin": null,
      "display": null,
      "left": null
     }
    },
    "8220e48f2c6746cba2fc622f9303b07c": {
     "model_module": "@jupyter-widgets/controls",
     "model_name": "DescriptionStyleModel",
     "model_module_version": "1.5.0",
     "state": {
      "_view_name": "StyleView",
      "_model_name": "DescriptionStyleModel",
      "description_width": "",
      "_view_module": "@jupyter-widgets/base",
      "_model_module_version": "1.5.0",
      "_view_count": null,
      "_view_module_version": "1.2.0",
      "_model_module": "@jupyter-widgets/controls"
     }
    },
    "c12ba1ed58fb4b5f801b4ded2fd397eb": {
     "model_module": "@jupyter-widgets/base",
     "model_name": "LayoutModel",
     "model_module_version": "1.2.0",
     "state": {
      "_view_name": "LayoutView",
      "grid_template_rows": null,
      "right": null,
      "justify_content": null,
      "_view_module": "@jupyter-widgets/base",
      "overflow": null,
      "_model_module_version": "1.2.0",
      "_view_count": null,
      "flex_flow": null,
      "width": null,
      "min_width": null,
      "border": null,
      "align_items": null,
      "bottom": null,
      "_model_module": "@jupyter-widgets/base",
      "top": null,
      "grid_column": null,
      "overflow_y": null,
      "overflow_x": null,
      "grid_auto_flow": null,
      "grid_area": null,
      "grid_template_columns": null,
      "flex": null,
      "_model_name": "LayoutModel",
      "justify_items": null,
      "grid_row": null,
      "max_height": null,
      "align_content": null,
      "visibility": null,
      "align_self": null,
      "height": null,
      "min_height": null,
      "padding": null,
      "grid_auto_rows": null,
      "grid_gap": null,
      "max_width": null,
      "order": null,
      "_view_module_version": "1.2.0",
      "grid_template_areas": null,
      "object_position": null,
      "object_fit": null,
      "grid_auto_columns": null,
      "margin": null,
      "display": null,
      "left": null
     }
    },
    "31d360fbc5124913a000f5990a92e56f": {
     "model_module": "@jupyter-widgets/controls",
     "model_name": "HBoxModel",
     "model_module_version": "1.5.0",
     "state": {
      "_view_name": "HBoxView",
      "_dom_classes": [],
      "_model_name": "HBoxModel",
      "_view_module": "@jupyter-widgets/controls",
      "_model_module_version": "1.5.0",
      "_view_count": null,
      "_view_module_version": "1.5.0",
      "box_style": "",
      "layout": "IPY_MODEL_d477cc0de2fd46d9ad17edd8b94ca4c5",
      "_model_module": "@jupyter-widgets/controls",
      "children": [
       "IPY_MODEL_c3feeadec68a4423a8f7bdaeb4a09112",
       "IPY_MODEL_014106db313943a8b10cdd0aa7bd9159",
       "IPY_MODEL_88547837041041c0b9c467b5fbe55ce0"
      ]
     }
    },
    "d477cc0de2fd46d9ad17edd8b94ca4c5": {
     "model_module": "@jupyter-widgets/base",
     "model_name": "LayoutModel",
     "model_module_version": "1.2.0",
     "state": {
      "_view_name": "LayoutView",
      "grid_template_rows": null,
      "right": null,
      "justify_content": null,
      "_view_module": "@jupyter-widgets/base",
      "overflow": null,
      "_model_module_version": "1.2.0",
      "_view_count": null,
      "flex_flow": null,
      "width": null,
      "min_width": null,
      "border": null,
      "align_items": null,
      "bottom": null,
      "_model_module": "@jupyter-widgets/base",
      "top": null,
      "grid_column": null,
      "overflow_y": null,
      "overflow_x": null,
      "grid_auto_flow": null,
      "grid_area": null,
      "grid_template_columns": null,
      "flex": null,
      "_model_name": "LayoutModel",
      "justify_items": null,
      "grid_row": null,
      "max_height": null,
      "align_content": null,
      "visibility": null,
      "align_self": null,
      "height": null,
      "min_height": null,
      "padding": null,
      "grid_auto_rows": null,
      "grid_gap": null,
      "max_width": null,
      "order": null,
      "_view_module_version": "1.2.0",
      "grid_template_areas": null,
      "object_position": null,
      "object_fit": null,
      "grid_auto_columns": null,
      "margin": null,
      "display": null,
      "left": null
     }
    },
    "c3feeadec68a4423a8f7bdaeb4a09112": {
     "model_module": "@jupyter-widgets/controls",
     "model_name": "HTMLModel",
     "model_module_version": "1.5.0",
     "state": {
      "_view_name": "HTMLView",
      "style": "IPY_MODEL_f48bb1e90546462db02ab24fe0578e07",
      "_dom_classes": [],
      "description": "",
      "_model_name": "HTMLModel",
      "placeholder": "​",
      "_view_module": "@jupyter-widgets/controls",
      "_model_module_version": "1.5.0",
      "value": "Downloading: 100%",
      "_view_count": null,
      "_view_module_version": "1.5.0",
      "description_tooltip": null,
      "_model_module": "@jupyter-widgets/controls",
      "layout": "IPY_MODEL_0e911bf5beb64d1db332372d9e817758"
     }
    },
    "014106db313943a8b10cdd0aa7bd9159": {
     "model_module": "@jupyter-widgets/controls",
     "model_name": "FloatProgressModel",
     "model_module_version": "1.5.0",
     "state": {
      "_view_name": "ProgressView",
      "style": "IPY_MODEL_ff053e9c3f8a49f2b05fc1a7fb720769",
      "_dom_classes": [],
      "description": "",
      "_model_name": "FloatProgressModel",
      "bar_style": "success",
      "max": 29,
      "_view_module": "@jupyter-widgets/controls",
      "_model_module_version": "1.5.0",
      "value": 29,
      "_view_count": null,
      "_view_module_version": "1.5.0",
      "orientation": "horizontal",
      "min": 0,
      "description_tooltip": null,
      "_model_module": "@jupyter-widgets/controls",
      "layout": "IPY_MODEL_30aae716262b49ccb0092634f2de51d5"
     }
    },
    "88547837041041c0b9c467b5fbe55ce0": {
     "model_module": "@jupyter-widgets/controls",
     "model_name": "HTMLModel",
     "model_module_version": "1.5.0",
     "state": {
      "_view_name": "HTMLView",
      "style": "IPY_MODEL_651171e9804e4a679175d2024d87b770",
      "_dom_classes": [],
      "description": "",
      "_model_name": "HTMLModel",
      "placeholder": "​",
      "_view_module": "@jupyter-widgets/controls",
      "_model_module_version": "1.5.0",
      "value": " 29.0/29.0 [00:00&lt;00:00, 716B/s]",
      "_view_count": null,
      "_view_module_version": "1.5.0",
      "description_tooltip": null,
      "_model_module": "@jupyter-widgets/controls",
      "layout": "IPY_MODEL_49b18561d9664727a31bf4140815e565"
     }
    },
    "f48bb1e90546462db02ab24fe0578e07": {
     "model_module": "@jupyter-widgets/controls",
     "model_name": "DescriptionStyleModel",
     "model_module_version": "1.5.0",
     "state": {
      "_view_name": "StyleView",
      "_model_name": "DescriptionStyleModel",
      "description_width": "",
      "_view_module": "@jupyter-widgets/base",
      "_model_module_version": "1.5.0",
      "_view_count": null,
      "_view_module_version": "1.2.0",
      "_model_module": "@jupyter-widgets/controls"
     }
    },
    "0e911bf5beb64d1db332372d9e817758": {
     "model_module": "@jupyter-widgets/base",
     "model_name": "LayoutModel",
     "model_module_version": "1.2.0",
     "state": {
      "_view_name": "LayoutView",
      "grid_template_rows": null,
      "right": null,
      "justify_content": null,
      "_view_module": "@jupyter-widgets/base",
      "overflow": null,
      "_model_module_version": "1.2.0",
      "_view_count": null,
      "flex_flow": null,
      "width": null,
      "min_width": null,
      "border": null,
      "align_items": null,
      "bottom": null,
      "_model_module": "@jupyter-widgets/base",
      "top": null,
      "grid_column": null,
      "overflow_y": null,
      "overflow_x": null,
      "grid_auto_flow": null,
      "grid_area": null,
      "grid_template_columns": null,
      "flex": null,
      "_model_name": "LayoutModel",
      "justify_items": null,
      "grid_row": null,
      "max_height": null,
      "align_content": null,
      "visibility": null,
      "align_self": null,
      "height": null,
      "min_height": null,
      "padding": null,
      "grid_auto_rows": null,
      "grid_gap": null,
      "max_width": null,
      "order": null,
      "_view_module_version": "1.2.0",
      "grid_template_areas": null,
      "object_position": null,
      "object_fit": null,
      "grid_auto_columns": null,
      "margin": null,
      "display": null,
      "left": null
     }
    },
    "ff053e9c3f8a49f2b05fc1a7fb720769": {
     "model_module": "@jupyter-widgets/controls",
     "model_name": "ProgressStyleModel",
     "model_module_version": "1.5.0",
     "state": {
      "_view_name": "StyleView",
      "_model_name": "ProgressStyleModel",
      "description_width": "",
      "_view_module": "@jupyter-widgets/base",
      "_model_module_version": "1.5.0",
      "_view_count": null,
      "_view_module_version": "1.2.0",
      "bar_color": null,
      "_model_module": "@jupyter-widgets/controls"
     }
    },
    "30aae716262b49ccb0092634f2de51d5": {
     "model_module": "@jupyter-widgets/base",
     "model_name": "LayoutModel",
     "model_module_version": "1.2.0",
     "state": {
      "_view_name": "LayoutView",
      "grid_template_rows": null,
      "right": null,
      "justify_content": null,
      "_view_module": "@jupyter-widgets/base",
      "overflow": null,
      "_model_module_version": "1.2.0",
      "_view_count": null,
      "flex_flow": null,
      "width": null,
      "min_width": null,
      "border": null,
      "align_items": null,
      "bottom": null,
      "_model_module": "@jupyter-widgets/base",
      "top": null,
      "grid_column": null,
      "overflow_y": null,
      "overflow_x": null,
      "grid_auto_flow": null,
      "grid_area": null,
      "grid_template_columns": null,
      "flex": null,
      "_model_name": "LayoutModel",
      "justify_items": null,
      "grid_row": null,
      "max_height": null,
      "align_content": null,
      "visibility": null,
      "align_self": null,
      "height": null,
      "min_height": null,
      "padding": null,
      "grid_auto_rows": null,
      "grid_gap": null,
      "max_width": null,
      "order": null,
      "_view_module_version": "1.2.0",
      "grid_template_areas": null,
      "object_position": null,
      "object_fit": null,
      "grid_auto_columns": null,
      "margin": null,
      "display": null,
      "left": null
     }
    },
    "651171e9804e4a679175d2024d87b770": {
     "model_module": "@jupyter-widgets/controls",
     "model_name": "DescriptionStyleModel",
     "model_module_version": "1.5.0",
     "state": {
      "_view_name": "StyleView",
      "_model_name": "DescriptionStyleModel",
      "description_width": "",
      "_view_module": "@jupyter-widgets/base",
      "_model_module_version": "1.5.0",
      "_view_count": null,
      "_view_module_version": "1.2.0",
      "_model_module": "@jupyter-widgets/controls"
     }
    },
    "49b18561d9664727a31bf4140815e565": {
     "model_module": "@jupyter-widgets/base",
     "model_name": "LayoutModel",
     "model_module_version": "1.2.0",
     "state": {
      "_view_name": "LayoutView",
      "grid_template_rows": null,
      "right": null,
      "justify_content": null,
      "_view_module": "@jupyter-widgets/base",
      "overflow": null,
      "_model_module_version": "1.2.0",
      "_view_count": null,
      "flex_flow": null,
      "width": null,
      "min_width": null,
      "border": null,
      "align_items": null,
      "bottom": null,
      "_model_module": "@jupyter-widgets/base",
      "top": null,
      "grid_column": null,
      "overflow_y": null,
      "overflow_x": null,
      "grid_auto_flow": null,
      "grid_area": null,
      "grid_template_columns": null,
      "flex": null,
      "_model_name": "LayoutModel",
      "justify_items": null,
      "grid_row": null,
      "max_height": null,
      "align_content": null,
      "visibility": null,
      "align_self": null,
      "height": null,
      "min_height": null,
      "padding": null,
      "grid_auto_rows": null,
      "grid_gap": null,
      "max_width": null,
      "order": null,
      "_view_module_version": "1.2.0",
      "grid_template_areas": null,
      "object_position": null,
      "object_fit": null,
      "grid_auto_columns": null,
      "margin": null,
      "display": null,
      "left": null
     }
    }
   }
  },
  "language_info": {
   "name": "python",
   "version": "3.8.1",
   "mimetype": "text/x-python",
   "codemirror_mode": {
    "name": "ipython",
    "version": 3
   },
   "pygments_lexer": "ipython3",
   "nbconvert_exporter": "python",
   "file_extension": ".py"
  },
  "interpreter": {
   "hash": "e2e1f6a47c2b22aa38ff4f44d0d21f0cf81fc40f5c0e12b6a1c9dbd62fd843ec"
  }
 },
 "cells": [
  {
   "cell_type": "markdown",
   "source": [
    "\r\n",
    "# Explainable AI\r\n",
    "\r\n",
    "[作業說明投影片](https://docs.google.com/presentation/d/13xUwWArz0LROgyJBwGCf1Vili5u7l4K6WcyuRxxakAo/)\r\n",
    "\r\n",
    "[Homework Introduction](https://docs.google.com/presentation/d/13xUwWArz0LROgyJBwGCf1Vili5u7l4K6WcyuRxxakAo/)\r\n",
    "\r\n",
    "本作業不提供 python script 版本\r\n",
    "\r\n",
    "There is no python script version for this homework\r\n",
    "\r\n",
    "若有任何問題，歡迎來信至助教信箱： ntu-ml-2021spring-ta@googlegroups.com\r\n",
    "\r\n",
    "If you have any question, TA's mail: ntu-ml-2021spring-ta@googlegroups.com\r\n",
    "\r\n",
    "## Deadline\r\n",
    "\r\n",
    "- Mandarin/English: 5/7 release, 5/28 submit"
   ],
   "metadata": {
    "id": "7RPpq4tH7a5E"
   }
  },
  {
   "cell_type": "markdown",
   "source": [
    "# **Homework 9 - Explainable AI (Part 1 CNN)**"
   ],
   "metadata": {
    "id": "wSczNnpbIMU8"
   }
  },
  {
   "cell_type": "markdown",
   "source": [
    "## Environment settings"
   ],
   "metadata": {
    "id": "JrdwqA0u7Rzb"
   }
  },
  {
   "cell_type": "code",
   "execution_count": null,
   "source": [
    "# download and unzip training data\r\n",
    "!gdown --id '1cYBWwYab3djiaYuOU6CxkYHQyUYws4Ce' --output food.zip\r\n",
    "!unzip food.zip"
   ],
   "outputs": [],
   "metadata": {
    "id": "yFilmmPP3pRT",
    "colab": {
     "base_uri": "https://localhost:8080/"
    },
    "outputId": "288bcff4-d040-40ed-d1b1-b2451c718706"
   }
  },
  {
   "cell_type": "code",
   "execution_count": null,
   "source": [
    "# download pretrained model\r\n",
    "!gdown --id '1CShZHsO8oAZwxQkMe7jRtEgSNb2w_OZu' --output checkpoint.pth"
   ],
   "outputs": [],
   "metadata": {
    "id": "zhzdomRTOKoJ",
    "colab": {
     "base_uri": "https://localhost:8080/"
    },
    "outputId": "cc28c4fb-9503-47c3-aaee-4128138d2a29"
   }
  },
  {
   "cell_type": "code",
   "execution_count": null,
   "source": [
    "# install lime in colab\r\n",
    "!pip install lime==0.1.1.37"
   ],
   "outputs": [],
   "metadata": {
    "id": "kP4zsXYaI47z",
    "colab": {
     "base_uri": "https://localhost:8080/"
    },
    "outputId": "a0124d4d-18c0-428e-cd32-d2be0c7000e4"
   }
  },
  {
   "cell_type": "markdown",
   "source": [
    "## Start our python script"
   ],
   "metadata": {
    "id": "o0G9WsAmL6Tj"
   }
  },
  {
   "cell_type": "code",
   "execution_count": null,
   "source": [
    "import os\r\n",
    "import sys\r\n",
    "import argparse\r\n",
    "import numpy as np\r\n",
    "from PIL import Image\r\n",
    "import matplotlib.pyplot as plt\r\n",
    "import torch\r\n",
    "import torch.nn as nn\r\n",
    "import torch.nn.functional as F\r\n",
    "from torch.optim import Adam\r\n",
    "from torch.utils.data import Dataset\r\n",
    "import torchvision.transforms as transforms\r\n",
    "from skimage.segmentation import slic\r\n",
    "from lime import lime_image\r\n",
    "from pdb import set_trace\r\n",
    "from torch.autograd import Variable"
   ],
   "outputs": [],
   "metadata": {
    "id": "leWC9kKgL55n"
   }
  },
  {
   "cell_type": "markdown",
   "source": [
    "## Argument parsing"
   ],
   "metadata": {
    "id": "9E1SvNGd8gFZ"
   }
  },
  {
   "cell_type": "code",
   "execution_count": null,
   "source": [
    "args = {'ckptpath': './checkpoint.pth', 'dataset_dir': './food/'}\r\n",
    "args = argparse.Namespace(**args)"
   ],
   "outputs": [],
   "metadata": {
    "id": "kbVhzRFp8dnu"
   }
  },
  {
   "cell_type": "markdown",
   "source": [
    "## Model definition and checkpoint loading"
   ],
   "metadata": {
    "id": "7WYKrOko-8su"
   }
  },
  {
   "cell_type": "code",
   "execution_count": null,
   "source": [
    "# Model definition\r\n",
    "class Classifier(nn.Module):\r\n",
    "    def __init__(self):\r\n",
    "        super(Classifier, self).__init__()\r\n",
    "\r\n",
    "        def building_block(indim, outdim):\r\n",
    "            return [\r\n",
    "                nn.Conv2d(indim, outdim, 3, 1, 1),\r\n",
    "                nn.BatchNorm2d(outdim),\r\n",
    "                nn.ReLU(),\r\n",
    "            ]\r\n",
    "\r\n",
    "        def stack_blocks(indim, outdim, block_num):\r\n",
    "            layers = building_block(indim, outdim)\r\n",
    "            for i in range(block_num - 1):\r\n",
    "                layers += building_block(outdim, outdim)\r\n",
    "            layers.append(nn.MaxPool2d(2, 2, 0))\r\n",
    "            return layers\r\n",
    "\r\n",
    "        cnn_list = []\r\n",
    "        cnn_list += stack_blocks(3, 128, 3)\r\n",
    "        cnn_list += stack_blocks(128, 128, 3)\r\n",
    "        cnn_list += stack_blocks(128, 256, 3)\r\n",
    "        cnn_list += stack_blocks(256, 512, 1)\r\n",
    "        cnn_list += stack_blocks(512, 512, 1)\r\n",
    "        self.cnn = nn.Sequential(*cnn_list)\r\n",
    "\r\n",
    "        dnn_list = [\r\n",
    "            nn.Linear(512 * 4 * 4, 1024),\r\n",
    "            nn.ReLU(),\r\n",
    "            nn.Dropout(p=0.3),\r\n",
    "            nn.Linear(1024, 11),\r\n",
    "        ]\r\n",
    "        self.fc = nn.Sequential(*dnn_list)\r\n",
    "\r\n",
    "    def forward(self, x):\r\n",
    "        out = self.cnn(x)\r\n",
    "        out = out.reshape(out.size()[0], -1)\r\n",
    "        return self.fc(out)\r\n"
   ],
   "outputs": [],
   "metadata": {
    "id": "iqXQTwoxeRbO"
   }
  },
  {
   "cell_type": "code",
   "execution_count": null,
   "source": [
    "# Load trained model\r\n",
    "model = Classifier().cuda()\r\n",
    "checkpoint = torch.load(args.ckptpath)\r\n",
    "model.load_state_dict(checkpoint['model_state_dict'])\r\n",
    "# It should display: <All keys matched successfully>\r\n"
   ],
   "outputs": [],
   "metadata": {
    "id": "er56l_dOAKBO",
    "colab": {
     "base_uri": "https://localhost:8080/"
    },
    "outputId": "d54b1d9d-d5e5-413b-c7df-9c503c9e31bd"
   }
  },
  {
   "cell_type": "markdown",
   "source": [
    "## Dataset definition and creation"
   ],
   "metadata": {
    "id": "R3F-Q0n4-_sh"
   }
  },
  {
   "cell_type": "code",
   "execution_count": null,
   "source": [
    "# It might take some time, if it is too long, try to reload it.\r\n",
    "# Dataset definition\r\n",
    "class FoodDataset(Dataset):\r\n",
    "    def __init__(self, paths, labels, mode):\r\n",
    "        # mode: 'train' or 'eval'\r\n",
    "\r\n",
    "        self.paths = paths\r\n",
    "        self.labels = labels\r\n",
    "        trainTransform = transforms.Compose([\r\n",
    "            transforms.Resize(size=(128, 128)),\r\n",
    "            transforms.RandomHorizontalFlip(),\r\n",
    "            transforms.RandomRotation(15),\r\n",
    "            transforms.ToTensor(),\r\n",
    "        ])\r\n",
    "        evalTransform = transforms.Compose([\r\n",
    "            transforms.Resize(size=(128, 128)),\r\n",
    "            transforms.ToTensor(),\r\n",
    "        ])\r\n",
    "        self.transform = trainTransform if mode == 'train' else evalTransform\r\n",
    "\r\n",
    "    # pytorch dataset class\r\n",
    "    def __len__(self):\r\n",
    "        return len(self.paths)\r\n",
    "\r\n",
    "    def __getitem__(self, index):\r\n",
    "        X = Image.open(self.paths[index])\r\n",
    "        X = self.transform(X)\r\n",
    "        Y = self.labels[index]\r\n",
    "        return X, Y\r\n",
    "\r\n",
    "    # help to get images for visualizing\r\n",
    "    def getbatch(self, indices):\r\n",
    "        images = []\r\n",
    "        labels = []\r\n",
    "        for index in indices:\r\n",
    "            image, label = self.__getitem__(index)\r\n",
    "            images.append(image)\r\n",
    "            labels.append(label)\r\n",
    "        return torch.stack(images), torch.tensor(labels)\r\n",
    "\r\n",
    "\r\n",
    "# help to get data path and label\r\n",
    "def get_paths_labels(path):\r\n",
    "    def my_key(name):\r\n",
    "        return int(name.replace(\".jpg\",\r\n",
    "                                \"\")) + 1000000 * int(name.split(\"_\")[0])\r\n",
    "\r\n",
    "    imgnames = os.listdir(path)\r\n",
    "    imgnames.sort(key=my_key)\r\n",
    "    imgpaths = []\r\n",
    "    labels = []\r\n",
    "    for name in imgnames:\r\n",
    "        imgpaths.append(os.path.join(path, name))\r\n",
    "        labels.append(int(name.split('_')[0]))\r\n",
    "    return imgpaths, labels\r\n",
    "\r\n",
    "\r\n",
    "train_paths, train_labels = get_paths_labels(args.dataset_dir)\r\n",
    "\r\n",
    "train_set = FoodDataset(train_paths, train_labels, mode='eval')"
   ],
   "outputs": [],
   "metadata": {
    "id": "_iKBcxwa_Rpl"
   }
  },
  {
   "cell_type": "markdown",
   "source": [
    "## Start XAI Homework"
   ],
   "metadata": {
    "id": "Qdv1iZuL9K4V"
   }
  },
  {
   "cell_type": "markdown",
   "source": [
    "## The images for observation\n",
    "\n",
    "There are 11 categories of food: Bread, Dairy product, Dessert, Egg, Fried food, Meat, Noodles/Pasta, Rice, Seafood, Soup, and Vegetable/Fruit."
   ],
   "metadata": {
    "id": "C2is2i7ucjf3"
   }
  },
  {
   "cell_type": "code",
   "execution_count": null,
   "source": [
    "img_indices = [i for i in range(10)]\r\n",
    "images, labels = train_set.getbatch(img_indices)\r\n",
    "fig, axs = plt.subplots(1, len(img_indices), figsize=(15, 8))\r\n",
    "for i, img in enumerate(images):\r\n",
    "    axs[i].imshow(img.cpu().permute(1, 2, 0))\r\n",
    "# print(labels)"
   ],
   "outputs": [],
   "metadata": {
    "colab": {
     "base_uri": "https://localhost:8080/",
     "height": 117
    },
    "id": "zKFmM1sacjyG",
    "outputId": "7ec1e724-c093-42b3-d827-20ef72404234"
   }
  },
  {
   "cell_type": "markdown",
   "source": [
    "## Lime\n",
    "\n",
    "[Lime](https://github.com/marcotcr/lime.git) is a package about explaining what machine learning classifiers are doing. We can first use it to observe the model."
   ],
   "metadata": {
    "id": "mdKp8rFrHhzN"
   }
  },
  {
   "cell_type": "code",
   "execution_count": null,
   "source": [
    "def predict(input):\r\n",
    "    # input: numpy array, (batches, height, width, channels)\r\n",
    "\r\n",
    "    model.eval()\r\n",
    "    input = torch.FloatTensor(input).permute(0, 3, 1, 2)\r\n",
    "    # pytorch tensor, (batches, channels, height, width)\r\n",
    "\r\n",
    "    output = model(input.cuda())\r\n",
    "    return output.detach().cpu().numpy()\r\n",
    "\r\n",
    "\r\n",
    "def segmentation(input):\r\n",
    "    # split the image into 200 pieces with the help of segmentaion from skimage\r\n",
    "    return slic(input, n_segments=200, compactness=1, sigma=1)\r\n",
    "\r\n",
    "\r\n",
    "fig, axs = plt.subplots(1, len(img_indices), figsize=(15, 8))\r\n",
    "# fix the random seed to make it reproducible\r\n",
    "np.random.seed(16)\r\n",
    "for idx, (image,\r\n",
    "          label) in enumerate(zip(images.permute(0, 2, 3, 1).numpy(), labels)):\r\n",
    "    x = image.astype(np.double)\r\n",
    "    # numpy array for lime\r\n",
    "\r\n",
    "    explainer = lime_image.LimeImageExplainer()\r\n",
    "    explaination = explainer.explain_instance(image=x,\r\n",
    "                                              classifier_fn=predict,\r\n",
    "                                              segmentation_fn=segmentation)\r\n",
    "\r\n",
    "    # doc: https://lime-ml.readthedocs.io/en/latest/lime.html?highlight=explain_instance#lime.lime_image.LimeImageExplainer.explain_instance\r\n",
    "\r\n",
    "    lime_img, mask = explaination.get_image_and_mask(label=label.item(),\r\n",
    "                                                     positive_only=False,\r\n",
    "                                                     hide_rest=False,\r\n",
    "                                                     num_features=11,\r\n",
    "                                                     min_weight=0.05)\r\n",
    "    # turn the result from explainer to the image\r\n",
    "    # doc: https://lime-ml.readthedocs.io/en/latest/lime.html?highlight=get_image_and_mask#lime.lime_image.ImageExplanation.get_image_and_mask\r\n",
    "\r\n",
    "    axs[idx].imshow(lime_img)\r\n",
    "\r\n",
    "plt.show()\r\n",
    "plt.close()"
   ],
   "outputs": [],
   "metadata": {
    "id": "RI6e9_68HvQe",
    "colab": {
     "base_uri": "https://localhost:8080/",
     "height": 355
    },
    "outputId": "cd06ff21-8c10-4930-eec9-4242f3d647eb"
   }
  },
  {
   "cell_type": "markdown",
   "source": [
    "### What is Saliency map\n",
    "Saliency: 顯著性\n",
    "\n",
    "The heatmaps that highlight pixels of the input image that contribute the most in the classification task. \n",
    "\n",
    "Ref: https://medium.com/datadriveninvestor/visualizing-neural-networks-using-saliency-maps-in-pytorch-289d8e244ab4"
   ],
   "metadata": {
    "id": "34YGrDjLDrE1"
   }
  },
  {
   "cell_type": "markdown",
   "source": [
    "### Saliency map\n",
    "\n",
    "We put an image into the model, forward then calculate the loss referring to the label. Therefore, the loss is related to:\n",
    "- image\n",
    "- model parameters\n",
    "- label\n",
    "\n",
    "Generally speaking, we change model parameters to fit \"image\" and \"label\". When backward, we calculate the partial differential value of **loss to model parameters**. \n",
    "\n",
    "Now, we have another look. When we change the image's pixel value, the partial differential value of **loss to image** shows the change in the loss. We can say that it means the importance of the pixel. We can visualize it to demonstrate which part of the image contribute the most to the model's judgement."
   ],
   "metadata": {
    "id": "fGNGiL02Bht4"
   }
  },
  {
   "cell_type": "code",
   "execution_count": null,
   "source": [
    "def normalize(image):\r\n",
    "    return (image - image.min()) / (image.max() - image.min())\r\n",
    "    # return torch.log(image)/torch.log(image.max())\r\n",
    "\r\n",
    "\r\n",
    "def compute_saliency_maps(x, y, model):\r\n",
    "    model.eval()\r\n",
    "    x = x.cuda()\r\n",
    "\r\n",
    "    # we want the gradient of the input x\r\n",
    "    x.requires_grad_()\r\n",
    "\r\n",
    "    y_pred = model(x)\r\n",
    "    loss_func = torch.nn.CrossEntropyLoss()\r\n",
    "    loss = loss_func(y_pred, y.cuda())\r\n",
    "    loss.backward()\r\n",
    "\r\n",
    "    # saliencies = x.grad.abs().detach().cpu()\r\n",
    "    saliencies, _ = torch.max(x.grad.data.abs().detach().cpu(), dim=1)\r\n",
    "\r\n",
    "    # We need to normalize each image, because their gradients might vary in scale, but we only care about the relation in each image\r\n",
    "    saliencies = torch.stack([normalize(item) for item in saliencies])\r\n",
    "    return saliencies\r\n"
   ],
   "outputs": [],
   "metadata": {
    "id": "swIZSW7O04O-"
   }
  },
  {
   "cell_type": "code",
   "execution_count": null,
   "source": [
    "# images, labels = train_set.getbatch(img_indices)\r\n",
    "saliencies = compute_saliency_maps(images, labels, model)\r\n",
    "\r\n",
    "# visualize\r\n",
    "fig, axs = plt.subplots(2, len(img_indices), figsize=(15, 8))\r\n",
    "for row, target in enumerate([images, saliencies]):\r\n",
    "    for column, img in enumerate(target):\r\n",
    "        if row == 0:\r\n",
    "            axs[row][column].imshow(img.permute(1, 2, 0).numpy())\r\n",
    "        else:\r\n",
    "            axs[row][column].imshow(img.numpy(), cmap=plt.cm.hot)\r\n",
    "\r\n",
    "plt.show()\r\n",
    "plt.close()"
   ],
   "outputs": [],
   "metadata": {
    "id": "S_w8iSe319Ws",
    "colab": {
     "base_uri": "https://localhost:8080/",
     "height": 340
    },
    "outputId": "e23f68db-79e6-4433-b813-c2813c005dc1"
   }
  },
  {
   "cell_type": "markdown",
   "source": [
    "### Smooth grad\n",
    "\n",
    "Smooth grad 的方法是，在圖片中隨機地加入 noise，然後得到不同的 heatmap，把這些 heatmap 平均起來就得到一個比較能抵抗 noisy gradient 的結果。\n",
    "\n",
    "The method of Smooth grad is randomly adding noise to the image and get different heatmaps. The average of the heatmaps would be more robust to noisy gradient.\n",
    "\n",
    "ref: https://arxiv.org/pdf/1706.03825.pdf"
   ],
   "metadata": {
    "id": "5Y2gyOXkSdpH"
   }
  },
  {
   "cell_type": "code",
   "execution_count": null,
   "source": [
    "# Smooth grad\r\n",
    "def normalize(image):\r\n",
    "    return (image - image.min()) / (image.max() - image.min())\r\n",
    "\r\n",
    "\r\n",
    "def smooth_grad(x, y, model, epoch, param_sigma_multiplier):\r\n",
    "    model.eval()\r\n",
    "    #x = x.cuda().unsqueeze(0)\r\n",
    "\r\n",
    "    mean = 0\r\n",
    "    sigma = param_sigma_multiplier / (torch.max(x) - torch.min(x)).item()\r\n",
    "    smooth = np.zeros(x.cuda().unsqueeze(0).size())\r\n",
    "    for i in range(epoch):\r\n",
    "        # call Variable to generate random noise\r\n",
    "        noise = Variable(x.data.new(x.size()).normal_(mean, sigma**2))\r\n",
    "        x_mod = (x + noise).unsqueeze(0).cuda()\r\n",
    "        x_mod.requires_grad_()\r\n",
    "\r\n",
    "        y_pred = model(x_mod)\r\n",
    "        loss_func = torch.nn.CrossEntropyLoss()\r\n",
    "        loss = loss_func(y_pred, y.cuda().unsqueeze(0))\r\n",
    "        loss.backward()\r\n",
    "\r\n",
    "        # like the method in saliency map\r\n",
    "        smooth += x_mod.grad.abs().detach().cpu().data.numpy()\r\n",
    "    smooth = normalize(smooth / epoch)  # don't forget to normalize\r\n",
    "    # smooth = smooth / epoch\r\n",
    "    return smooth\r\n",
    "\r\n",
    "\r\n",
    "# images, labels = train_set.getbatch(img_indices)\r\n",
    "smooth = []\r\n",
    "for i, l in zip(images, labels):\r\n",
    "    smooth.append(smooth_grad(i, l, model, 500, 0.4))\r\n",
    "smooth = np.stack(smooth)\r\n",
    "print(smooth.shape)\r\n",
    "\r\n",
    "fig, axs = plt.subplots(2, len(img_indices), figsize=(15, 8))\r\n",
    "for row, target in enumerate([images, smooth]):\r\n",
    "    for column, img in enumerate(target):\r\n",
    "        axs[row][column].imshow(\r\n",
    "            np.transpose(img.reshape(3, 128, 128), (1, 2, 0)))\r\n"
   ],
   "outputs": [],
   "metadata": {
    "colab": {
     "base_uri": "https://localhost:8080/",
     "height": 358
    },
    "id": "EjusfKjISm-k",
    "outputId": "18f228eb-82f1-4fc0-8d4a-360ec09c6874"
   }
  },
  {
   "cell_type": "markdown",
   "source": [
    "\n",
    "\n",
    "\n",
    "## Filter explanation\n",
    "\n",
    "這裡我們想要知道某一個 filter 到底認出了什麼。我們會做以下兩件事情：\n",
    "- Filter activation: 挑幾張圖片出來，看看圖片中哪些位置會 activate 該 filter\n",
    "- Filter visualization: 怎樣的 image 可以最大程度的 activate 該 filter\n",
    "\n",
    "In this part, we want to know what a specific filter recognize, we'll do\n",
    "- Filter activation: pick up some images, check which part of the image will activate the filter\n",
    "- Filter visualization: which kind of image can activate the filter the most\n",
    "\n",
    "實作上比較困難的地方是，通常我們是直接把 image 丟進 model，一路 forward 到底。如：\n",
    "\n",
    "The problem is that, in normal case, we'll directly feed the image to the model, for example,\n",
    "```\n",
    "loss = model(image)\n",
    "loss.backward()\n",
    "```\n",
    "我們要怎麼得到中間某層 CNN 的 output? 當然我們可以直接修改 model definition，讓 forward 不只 return loss，也 return activation map。但這樣的寫法麻煩了，更改了 forward 的 output 可能會讓其他部分的 code 要跟著改動。因此 pytorch 提供了方便的 solution: **hook**，以下我們會再介紹。\n",
    "\n",
    "How can we get the output of a specific layer of CNN? We can modify the model definition, make the forward function not only return loss but also retrun the activation map. But this is difficult to maintain the code. As a result, pytorch offers a better solution: **hook**\n"
   ],
   "metadata": {
    "id": "6Z9o2c3jTlwG"
   }
  },
  {
   "cell_type": "code",
   "execution_count": null,
   "source": [
    "model"
   ],
   "outputs": [],
   "metadata": {
    "id": "BRqCZNd7-Hjb",
    "colab": {
     "base_uri": "https://localhost:8080/"
    },
    "outputId": "69bdb3fa-6d56-4cf8-9f24-103cc172529f"
   }
  },
  {
   "cell_type": "code",
   "execution_count": null,
   "source": [
    "def normalize(image):\r\n",
    "    return (image - image.min()) / (image.max() - image.min())\r\n",
    "\r\n",
    "\r\n",
    "layer_activations = None\r\n",
    "\r\n",
    "\r\n",
    "def filter_explanation(x, model, cnnid, filterid, iteration=100, lr=1):\r\n",
    "    # x: input image\r\n",
    "    # cnnid, filterid: cnn layer id, which filter\r\n",
    "    model.eval()\r\n",
    "\r\n",
    "    def hook(model, input, output):\r\n",
    "        global layer_activations\r\n",
    "        layer_activations = output\r\n",
    "\r\n",
    "    hook_handle = model.cnn[cnnid].register_forward_hook(hook)\r\n",
    "    # When the model forward through the layer[cnnid], need to call the hook function first\r\n",
    "    # The hook function save the output of the layer[cnnid]\r\n",
    "    # After forwarding, we'll have the loss and the layer activation\r\n",
    "\r\n",
    "    # Filter activation: x passing the filter will generate the activation map\r\n",
    "    model(x.cuda())  # forward\r\n",
    "\r\n",
    "    # Based on the filterid given by the function argument, pick up the specific filter's activation map\r\n",
    "    # We just need to plot it, so we can detach from graph and save as cpu tensor\r\n",
    "    filter_activations = layer_activations[:, filterid, :, :].detach().cpu()\r\n",
    "\r\n",
    "    # Filter visualization: find the image that can activate the filter the most\r\n",
    "    x = x.cuda()\r\n",
    "    x.requires_grad_()\r\n",
    "    # input image gradient\r\n",
    "    optimizer = Adam([x], lr=lr)\r\n",
    "    # Use optimizer to modify the input image to amplify filter activation\r\n",
    "    for iter in range(iteration):\r\n",
    "        optimizer.zero_grad()\r\n",
    "        model(x)\r\n",
    "\r\n",
    "        objective = -layer_activations[:, filterid, :, :].sum()\r\n",
    "        # We want to maximize the filter activation's summation\r\n",
    "        # So we add a negative sign\r\n",
    "\r\n",
    "        objective.backward()\r\n",
    "        # Calculate the partial differential value of filter activation to input image\r\n",
    "        optimizer.step()\r\n",
    "        # Modify input image to maximize filter activation\r\n",
    "    filter_visualizations = x.detach().cpu().squeeze()\r\n",
    "\r\n",
    "    # Don't forget to remove the hook\r\n",
    "    hook_handle.remove()\r\n",
    "    # The hook will exist after the model register it, so you have to remove it after used\r\n",
    "    # Just register a new hook if you want to use it\r\n",
    "\r\n",
    "    return filter_activations, filter_visualizations\r\n"
   ],
   "outputs": [],
   "metadata": {
    "id": "sVJlyj01b_A4"
   }
  },
  {
   "cell_type": "code",
   "execution_count": null,
   "source": [
    "images, labels = train_set.getbatch(img_indices)\r\n",
    "filter_activations, filter_visualizations = filter_explanation(images,\r\n",
    "                                                               model,\r\n",
    "                                                               cnnid=6,\r\n",
    "                                                               filterid=0,\r\n",
    "                                                               iteration=100,\r\n",
    "                                                               lr=0.1)\r\n",
    "\r\n",
    "fig, axs = plt.subplots(3, len(img_indices), figsize=(15, 8))\r\n",
    "for i, img in enumerate(images):\r\n",
    "    axs[0][i].imshow(img.permute(1, 2, 0))\r\n",
    "# Plot filter activations\r\n",
    "for i, img in enumerate(filter_activations):\r\n",
    "    axs[1][i].imshow(normalize(img))\r\n",
    "# Plot filter visualization\r\n",
    "for i, img in enumerate(filter_visualizations):\r\n",
    "    axs[2][i].imshow(normalize(img.permute(1, 2, 0)))\r\n",
    "plt.show()\r\n",
    "plt.close()\r\n",
    "\r\n",
    "# 從下面四張圖可以看到，activate 的區域對應到一些物品的邊界，尤其是顏色對比較深的邊界"
   ],
   "outputs": [],
   "metadata": {
    "id": "l7Q-0mxV-xoo",
    "colab": {
     "base_uri": "https://localhost:8080/",
     "height": 406
    },
    "outputId": "b61d63d0-d00b-4660-8d02-a6fd1c0aba0c"
   }
  },
  {
   "cell_type": "code",
   "execution_count": null,
   "source": [
    "images, labels = train_set.getbatch(img_indices)\r\n",
    "filter_activations, filter_visualizations = filter_explanation(images,\r\n",
    "                                                               model,\r\n",
    "                                                               cnnid=23,\r\n",
    "                                                               filterid=0,\r\n",
    "                                                               iteration=100,\r\n",
    "                                                               lr=0.1)\r\n",
    "\r\n",
    "# Plot filter activations\r\n",
    "fig, axs = plt.subplots(3, len(img_indices), figsize=(15, 8))\r\n",
    "for i, img in enumerate(images):\r\n",
    "    axs[0][i].imshow(img.permute(1, 2, 0))\r\n",
    "for i, img in enumerate(filter_activations):\r\n",
    "    axs[1][i].imshow(normalize(img))\r\n",
    "for i, img in enumerate(filter_visualizations):\r\n",
    "    axs[2][i].imshow(normalize(img.permute(1, 2, 0)))\r\n",
    "plt.show()\r\n",
    "plt.close()\r\n"
   ],
   "outputs": [],
   "metadata": {
    "colab": {
     "base_uri": "https://localhost:8080/",
     "height": 406
    },
    "id": "FAaUtuvl7Chg",
    "outputId": "b47e81a3-e690-44e2-a827-91e15884a26a"
   }
  },
  {
   "cell_type": "markdown",
   "source": [
    "## Integrated Gradient\n",
    "\n"
   ],
   "metadata": {
    "id": "3UWzsjLuuj2g"
   }
  },
  {
   "cell_type": "code",
   "execution_count": null,
   "source": [
    "class IntegratedGradients():\r\n",
    "    def __init__(self, model):\r\n",
    "        self.model = model\r\n",
    "        self.gradients = None\r\n",
    "        # Put model in evaluation mode\r\n",
    "        self.model.eval()\r\n",
    "\r\n",
    "    def generate_images_on_linear_path(self, input_image, steps):\r\n",
    "        # Generate scaled xbar images\r\n",
    "        xbar_list = [input_image * step / steps for step in range(steps)]\r\n",
    "        return xbar_list\r\n",
    "\r\n",
    "    def generate_gradients(self, input_image, target_class):\r\n",
    "        # We want to get the gradients of the input image\r\n",
    "        input_image.requires_grad = True\r\n",
    "        # Forward\r\n",
    "        model_output = self.model(input_image)\r\n",
    "        # Zero grads\r\n",
    "        self.model.zero_grad()\r\n",
    "        # Target for backprop\r\n",
    "        one_hot_output = torch.FloatTensor(\r\n",
    "            1,\r\n",
    "            model_output.size()[-1]).zero_().cuda()\r\n",
    "        one_hot_output[0][target_class] = 1\r\n",
    "        # Backward\r\n",
    "        model_output.backward(gradient=one_hot_output)\r\n",
    "        self.gradients = input_image.grad\r\n",
    "        # Convert Pytorch variable to numpy array\r\n",
    "        # [0] to get rid of the first channel (1,3,128,128)\r\n",
    "        gradients_as_arr = self.gradients.data.cpu().numpy()[0]\r\n",
    "        return gradients_as_arr\r\n",
    "\r\n",
    "    def generate_integrated_gradients(self, input_image, target_class, steps):\r\n",
    "        # Generate xbar images\r\n",
    "        xbar_list = self.generate_images_on_linear_path(input_image, steps)\r\n",
    "        # Initialize an iamge composed of zeros\r\n",
    "        integrated_grads = np.zeros(input_image.size())\r\n",
    "        for xbar_image in xbar_list:\r\n",
    "            # Generate gradients from xbar images\r\n",
    "            single_integrated_grad = self.generate_gradients(\r\n",
    "                xbar_image, target_class)\r\n",
    "            # Add rescaled grads from xbar images\r\n",
    "            integrated_grads = integrated_grads + single_integrated_grad / steps\r\n",
    "        # [0] to get rid of the first channel (1,3,128,128)\r\n",
    "        return integrated_grads[0]\r\n",
    "\r\n",
    "\r\n",
    "def normalize(image):\r\n",
    "    return (image - image.min()) / (image.max() - image.min())\r\n"
   ],
   "outputs": [],
   "metadata": {
    "id": "SK3JVklGiqw6"
   }
  },
  {
   "cell_type": "code",
   "execution_count": null,
   "source": [
    "# put the image to cuda\r\n",
    "images, labels = train_set.getbatch(img_indices)\r\n",
    "images = images.cuda()"
   ],
   "outputs": [],
   "metadata": {
    "id": "YiVRoNgFwTY1"
   }
  },
  {
   "cell_type": "code",
   "execution_count": null,
   "source": [
    "IG = IntegratedGradients(model)\r\n",
    "integrated_grads = []\r\n",
    "for i, img in enumerate(images):\r\n",
    "    img = img.unsqueeze(0)\r\n",
    "    integrated_grads.append(\r\n",
    "        IG.generate_integrated_gradients(img, labels[i], 10))\r\n",
    "fig, axs = plt.subplots(2, len(img_indices), figsize=(15, 8))\r\n",
    "for i, img in enumerate(images):\r\n",
    "    axs[0][i].imshow(img.cpu().permute(1, 2, 0))\r\n",
    "for i, img in enumerate(integrated_grads):\r\n",
    "    axs[1][i].imshow(np.moveaxis(normalize(img), 0, -1))\r\n",
    "plt.show()\r\n",
    "plt.close()"
   ],
   "outputs": [],
   "metadata": {
    "colab": {
     "base_uri": "https://localhost:8080/",
     "height": 340
    },
    "id": "mkrO1OmTuxfj",
    "outputId": "8060a1b3-eb2d-4869-ef58-b9dd53f40ab0"
   }
  },
  {
   "cell_type": "markdown",
   "source": [
    "# **Homework 9 - Explainable AI (Part 2 BERT)**\n"
   ],
   "metadata": {
    "id": "WQRNMqrqqP7i"
   }
  },
  {
   "cell_type": "markdown",
   "source": [
    "# Question 21 - 24\n",
    "### You are recommended to visualize on this website directly: https://exbert.net/exBERT.html"
   ],
   "metadata": {
    "id": "0P2ZgPclYs3u"
   }
  },
  {
   "cell_type": "code",
   "execution_count": null,
   "source": [
    "from IPython import display\r\n",
    "display.IFrame(\"https://exbert.net/exBERT.html\", width=1600, height=1600)"
   ],
   "outputs": [],
   "metadata": {
    "colab": {
     "base_uri": "https://localhost:8080/",
     "height": 1000
    },
    "id": "dmo6q27Eo-49",
    "outputId": "16ddfe65-65bd-433a-bde1-946ed12ec19e"
   }
  },
  {
   "cell_type": "markdown",
   "source": [
    "# Import Packages (For Questions 25 - 30)"
   ],
   "metadata": {
    "id": "xzxohy5PYmbx"
   }
  },
  {
   "cell_type": "code",
   "execution_count": 1,
   "source": [
    "# Install transformers\r\n",
    "!pip install transformers==4.5.0\r\n",
    "\r\n",
    "# Import all packages needed\r\n",
    "import numpy as np\r\n",
    "import random\r\n",
    "import torch\r\n",
    "\r\n",
    "from sklearn.decomposition import PCA\r\n",
    "from sklearn.metrics import pairwise_distances\r\n",
    "from transformers import BertModel, BertTokenizerFast\r\n",
    "\r\n",
    "##### For Displaying Traditional Chinese in Colab when Drawing with Matplotlib #####\r\n",
    "# Colab 進行matplotlib繪圖時顯示繁體中文\r\n",
    "# 下載台北思源黑體並命名taipei_sans_tc_beta.ttf，移至指定路徑\r\n",
    "# !gdown --id '1WOjwyN_wimGfrw0kE2nvp6OxFimch3H5' --output taipei_sans_tc_beta.ttf\r\n",
    "\r\n",
    "from matplotlib.font_manager import FontProperties\r\n",
    "import matplotlib.pyplot as plt \r\n",
    "\r\n",
    "# 自定義字體變數\r\n",
    "myfont = FontProperties(fname=r'taipei_sans_tc_beta.ttf')\r\n",
    "\r\n",
    "# !!!!後續在相關函式中增加fontproperties=myfont屬性即可!!!!\r\n",
    "##### Code from https://colab.research.google.com/github/willismax/matplotlib_show_chinese_in_colab/blob/master/matplotlib_show_chinese_in_colab.ipynb #####\r\n",
    "\r\n",
    "plt.rcParams['figure.figsize'] = [12, 10]\r\n",
    "\r\n",
    "# Fix random seed for reproducibility\r\n",
    "def same_seeds(seed):\r\n",
    "\ttorch.manual_seed(seed)\r\n",
    "\tif torch.cuda.is_available():\r\n",
    "\t\ttorch.cuda.manual_seed(seed)\r\n",
    "\t\ttorch.cuda.manual_seed_all(seed)\r\n",
    "\tnp.random.seed(seed)\r\n",
    "\trandom.seed(seed)\r\n",
    "\ttorch.backends.cudnn.benchmark = False\r\n",
    "\ttorch.backends.cudnn.deterministic = True\r\n",
    "\r\n",
    "same_seeds(0)"
   ],
   "outputs": [
    {
     "output_type": "stream",
     "name": "stdout",
     "text": [
      "Looking in indexes: https://pypi.doubanio.com/simple/\n",
      "Requirement already satisfied: transformers==4.5.0 in c:\\users\\silence\\appdata\\local\\programs\\python\\python38\\lib\\site-packages (4.5.0)\n",
      "Requirement already satisfied: filelock in c:\\users\\silence\\appdata\\local\\programs\\python\\python38\\lib\\site-packages (from transformers==4.5.0) (3.0.12)\n",
      "Requirement already satisfied: sacremoses in c:\\users\\silence\\appdata\\local\\programs\\python\\python38\\lib\\site-packages (from transformers==4.5.0) (0.0.45)\n",
      "Requirement already satisfied: numpy>=1.17 in c:\\users\\silence\\appdata\\local\\programs\\python\\python38\\lib\\site-packages (from transformers==4.5.0) (1.21.0)\n",
      "Requirement already satisfied: packaging in c:\\users\\silence\\appdata\\local\\programs\\python\\python38\\lib\\site-packages (from transformers==4.5.0) (20.4)\n",
      "Requirement already satisfied: tqdm>=4.27 in c:\\users\\silence\\appdata\\local\\programs\\python\\python38\\lib\\site-packages (from transformers==4.5.0) (4.56.0)\n",
      "Requirement already satisfied: regex!=2019.12.17 in c:\\users\\silence\\appdata\\local\\programs\\python\\python38\\lib\\site-packages (from transformers==4.5.0) (2021.7.6)\n",
      "Requirement already satisfied: requests in c:\\users\\silence\\appdata\\local\\programs\\python\\python38\\lib\\site-packages (from transformers==4.5.0) (2.24.0)\n",
      "Requirement already satisfied: tokenizers<0.11,>=0.10.1 in c:\\users\\silence\\appdata\\local\\programs\\python\\python38\\lib\\site-packages (from transformers==4.5.0) (0.10.3)\n",
      "Requirement already satisfied: six in c:\\users\\silence\\appdata\\local\\programs\\python\\python38\\lib\\site-packages (from packaging->transformers==4.5.0) (1.15.0)\n",
      "Requirement already satisfied: pyparsing>=2.0.2 in c:\\users\\silence\\appdata\\local\\programs\\python\\python38\\lib\\site-packages (from packaging->transformers==4.5.0) (2.4.7)\n",
      "Requirement already satisfied: urllib3!=1.25.0,!=1.25.1,<1.26,>=1.21.1 in c:\\users\\silence\\appdata\\local\\programs\\python\\python38\\lib\\site-packages (from requests->transformers==4.5.0) (1.25.8)\n",
      "Requirement already satisfied: idna<3,>=2.5 in c:\\users\\silence\\appdata\\local\\programs\\python\\python38\\lib\\site-packages (from requests->transformers==4.5.0) (2.10)\n",
      "Requirement already satisfied: certifi>=2017.4.17 in c:\\users\\silence\\appdata\\local\\programs\\python\\python38\\lib\\site-packages (from requests->transformers==4.5.0) (2020.6.20)\n",
      "Requirement already satisfied: chardet<4,>=3.0.2 in c:\\users\\silence\\appdata\\local\\programs\\python\\python38\\lib\\site-packages (from requests->transformers==4.5.0) (3.0.4)\n",
      "Requirement already satisfied: click in c:\\users\\silence\\appdata\\local\\programs\\python\\python38\\lib\\site-packages (from sacremoses->transformers==4.5.0) (7.1.2)\n",
      "Requirement already satisfied: joblib in c:\\users\\silence\\appdata\\local\\programs\\python\\python38\\lib\\site-packages (from sacremoses->transformers==4.5.0) (0.17.0)\n"
     ]
    }
   ],
   "metadata": {
    "id": "4zk9AhBRa5DJ",
    "colab": {
     "base_uri": "https://localhost:8080/"
    },
    "outputId": "81bcb7fa-702e-4267-e5aa-495ea68712a8"
   }
  },
  {
   "cell_type": "markdown",
   "source": [
    "# Question 25 - 27\n",
    "\n",
    "## Visualizing Bert's embedding\n",
    "\n",
    "\n",
    "#### Tom has 3 pretrained models, but he is not sure which of these models has been fine-tuned for Question Answering. \n",
    "\n",
    "His instinct told him solving QA requires 4 steps:　(steps are **NOT** in order since he has such a bad memory)\n",
    "\n",
    "1. Clustering similar words together (based on relation of words in context)\n",
    "\n",
    "2. Answer extraction\n",
    "\n",
    "3. Clustering similar words together (based on meaning of words)\n",
    "\n",
    "4. Matching question with relevant information in context\n",
    "\n",
    "\n",
    "#### Can you help him solve this problem just by looking into the embedding of hidden states?\n",
    "\n",
    "<br>\n",
    "\n",
    "#### 湯姆有 3 個預訓練模型，但他忘記每一個模型是否有微調在閱讀理解的任務上了。\n",
    "\n",
    "他的直覺告訴他解閱讀理解需要四個步驟﹕（因為他很健忘，所以這些步驟並**不**按照順序排列)\n",
    "\n",
    "1. 將類似的文字分羣 (根據文字在文章中的關係)\n",
    "\n",
    "2. 提取答案\n",
    "\n",
    "3. 將類似的文字分羣 (根據文字的意思)\n",
    "\n",
    "4. 從文章中尋找與問題有關的資訊\n",
    "\n",
    "#### 你可以在只看見模型 hidden states embedding 的情況下，幫湯姆解決這個問題嗎?\n",
    "\n"
   ],
   "metadata": {
    "id": "7HTp9kBsxouS"
   }
  },
  {
   "cell_type": "markdown",
   "source": [
    "## Download Tokenizers and Models' hidden states"
   ],
   "metadata": {
    "id": "2E6Np-zFstOj"
   }
  },
  {
   "cell_type": "code",
   "execution_count": null,
   "source": [
    "!gdown --id '17AZ2KAUFpYHJOC0DHet3cQWYE5sX2yxo' --output hw9_bert.zip\r\n",
    "!unzip hw9_bert.zip"
   ],
   "outputs": [],
   "metadata": {
    "id": "dgEkI4N7jHxX",
    "colab": {
     "base_uri": "https://localhost:8080/"
    },
    "outputId": "6336df60-7163-445e-a180-6c736264f898"
   }
  },
  {
   "cell_type": "markdown",
   "source": [
    "## Load Tokenizers"
   ],
   "metadata": {
    "id": "syC4-t0Yuqp3"
   }
  },
  {
   "cell_type": "code",
   "execution_count": 2,
   "source": [
    "tokenizer1 = BertTokenizerFast.from_pretrained(\"hw9_bert/tokenizer1\")\r\n",
    "tokenizer2 = BertTokenizerFast.from_pretrained(\"hw9_bert/tokenizer2\")\r\n",
    "tokenizer3 = BertTokenizerFast.from_pretrained(\"hw9_bert/tokenizer3\")\r\n",
    "tokenizers = [tokenizer1, tokenizer2, tokenizer3]"
   ],
   "outputs": [],
   "metadata": {
    "id": "joSq-69fkV3x"
   }
  },
  {
   "cell_type": "markdown",
   "source": [
    "## What to Visualize?"
   ],
   "metadata": {
    "id": "qBa0jYnNriQB"
   }
  },
  {
   "cell_type": "code",
   "execution_count": 3,
   "source": [
    "contexts, questions, answers = [], [], []\r\n",
    "\r\n",
    "# Question 1\r\n",
    "contexts += [\r\n",
    "    'Currently detention is one of the most common punishments in schools in the United States, the UK, Ireland, Singapore and other countries. \\\r\n",
    "            It requires the pupil to remain in school at a given time in the school day (such as lunch, recess or after school); or even to attend \\\r\n",
    "            school on a non-school day, e.g. \"Saturday detention\" held at some schools. During detention, students normally have to sit in a classroom \\\r\n",
    "            and do work, write lines or a punishment essay, or sit quietly.'\r\n",
    "]\r\n",
    "questions += ['What is a common punishment in the UK and Ireland?']\r\n",
    "answers += ['detention']\r\n",
    "\r\n",
    "# Question 2\r\n",
    "contexts += [\r\n",
    "    'Wolves are afraid of cats. Sheep are afraid of wolves. Mice are afraid of sheep. Gertrude is a mouse. Jessica is a mouse. \\\r\n",
    "            Emily is a wolf. Cats are afraid of sheep. Winona is a wolf.'\r\n",
    "]\r\n",
    "questions += ['What is Emily afraid of?']\r\n",
    "answers += ['cats']\r\n",
    "\r\n",
    "# Question 3\r\n",
    "contexts += [\r\n",
    "    \"Nikola Tesla (Serbian Cyrillic: Никола Тесла; 10 July 1856 – 7 January 1943) was a Serbian American inventor, electrical engineer, \\\r\n",
    "            mechanical engineer, physicist, and futurist best known for his contributions to the design of the modern alternating current \\\r\n",
    "            (AC) electricity supply system.\"\r\n",
    "]\r\n",
    "questions += [\"In what year was Nikola Tesla born?\"]\r\n",
    "answers += [\"1856\"]"
   ],
   "outputs": [],
   "metadata": {
    "id": "eOWh2Ur7nOsM"
   }
  },
  {
   "cell_type": "markdown",
   "source": [
    "## TODO"
   ],
   "metadata": {
    "id": "keDPUw6onTUz"
   }
  },
  {
   "cell_type": "code",
   "execution_count": 31,
   "source": [
    "# Choose from 1, 2, 3\r\n",
    "# 1, 3 are fine-tuned\r\n",
    "MODEL = 1\r\n",
    "\r\n",
    "# Choose from 1, 2, 3\r\n",
    "QUESTION = 2"
   ],
   "outputs": [],
   "metadata": {
    "id": "q1mF0ieFrfDD"
   }
  },
  {
   "cell_type": "markdown",
   "source": [
    "## Visualization"
   ],
   "metadata": {
    "id": "rJC_zL5a1A0v"
   }
  },
  {
   "cell_type": "code",
   "execution_count": 32,
   "source": [
    "# Tokenize and encode question and paragraph into model's input format\r\n",
    "inputs = tokenizers[MODEL - 1](questions[QUESTION - 1],\r\n",
    "                               contexts[QUESTION - 1],\r\n",
    "                               return_tensors='pt')\r\n",
    "\r\n",
    "# Get the [start, end] positions of [question, context] in encoded sequence for plotting\r\n",
    "question_start, question_end = 1, inputs['input_ids'][0].tolist().index(\r\n",
    "    102) - 1\r\n",
    "context_start, context_end = question_end + 2, len(inputs['input_ids'][0]) - 2\r\n",
    "\r\n",
    "outputs_hidden_states = torch.load(f\"hw9_bert/output/model{MODEL}_q{QUESTION}\")\r\n",
    "\r\n",
    "##### Traverse hidden state of all layers #####\r\n",
    "# \"outputs_hidden_state\" is a tuple with 13 elements, the 1st element is embedding output, the other 12 elements are attention hidden states of layer 1 - 12\r\n",
    "for layer_index, embeddings in enumerate(\r\n",
    "        outputs_hidden_states[1:]):  # 1st element is skipped\r\n",
    "\r\n",
    "    # \"embeddings\" has shape [1, sequence_length, 768], where 768 is the dimension of BERT's hidden state\r\n",
    "    # Dimension of \"embeddings\" is reduced from 768 to 2 using PCA (Principal Component Analysis)\r\n",
    "    reduced_embeddings = PCA(n_components=2,\r\n",
    "                             random_state=0).fit_transform(embeddings[0])\r\n",
    "\r\n",
    "    ##### Draw embedding of each token #####\r\n",
    "    for i, token_id in enumerate(inputs['input_ids'][0]):\r\n",
    "        x, y = reduced_embeddings[\r\n",
    "            i]  # Embedding has 2 dimensions, each corresponds to a point\r\n",
    "        word = tokenizers[MODEL - 1].decode(\r\n",
    "            token_id)  # Decode token back to word\r\n",
    "        # Scatter points of answer, question and context in different colors\r\n",
    "        if word in answers[QUESTION - 1].split():  # Check if word in answer\r\n",
    "            plt.scatter(x, y, color='blue', marker='d')\r\n",
    "        elif question_start <= i <= question_end:\r\n",
    "            plt.scatter(x, y, color='red')\r\n",
    "        elif context_start <= i <= context_end:\r\n",
    "            plt.scatter(x, y, color='green')\r\n",
    "        else:  # skip special tokens [CLS], [SEP]\r\n",
    "            continue\r\n",
    "        plt.text(x + 0.1, y + 0.2, word,\r\n",
    "                 fontsize=12)  # Plot word next to its point\r\n",
    "\r\n",
    "    # Plot \"empty\" points to show labels\r\n",
    "    plt.plot([], label='answer', color='blue', marker='d')\r\n",
    "    plt.plot([], label='question', color='red', marker='o')\r\n",
    "    plt.plot([], label='context', color='green', marker='o')\r\n",
    "    plt.legend(\r\n",
    "        loc='best')  # Display the area describing the elements in the plot\r\n",
    "    plt.title('Layer ' + str(layer_index + 1))  # Add title to the plot\r\n",
    "    plt.show()  # Show the plot\r\n"
   ],
   "outputs": [
    {
     "output_type": "display_data",
     "data": {
      "image/png": "[encoded data removed]",
      "text/plain": [
       "<Figure size 864x720 with 1 Axes>"
      ]
     },
     "metadata": {
      "needs_background": "light"
     }
    },
    {
     "output_type": "display_data",
     "data": {
      "image/png": "[encoded data removed]",
      "text/plain": [
       "<Figure size 864x720 with 1 Axes>"
      ]
     },
     "metadata": {
      "needs_background": "light"
     }
    },
    {
     "output_type": "display_data",
     "data": {
      "image/png": "[encoded data removed]",
      "text/plain": [
       "<Figure size 864x720 with 1 Axes>"
      ]
     },
     "metadata": {
      "needs_background": "light"
     }
    },
    {
     "output_type": "display_data",
     "data": {
      "image/png": "[encoded data removed]",
      "text/plain": [
       "<Figure size 864x720 with 1 Axes>"
      ]
     },
     "metadata": {
      "needs_background": "light"
     }
    },
    {
     "output_type": "display_data",
     "data": {
      "image/png": "[encoded data removed]",
      "text/plain": [
       "<Figure size 864x720 with 1 Axes>"
      ]
     },
     "metadata": {
      "needs_background": "light"
     }
    },
    {
     "output_type": "display_data",
     "data": {
      "image/png": "[encoded data removed]",
      "text/plain": [
       "<Figure size 864x720 with 1 Axes>"
      ]
     },
     "metadata": {
      "needs_background": "light"
     }
    },
    {
     "output_type": "display_data",
     "data": {
      "image/png": "[encoded data removed]",
      "text/plain": [
       "<Figure size 864x720 with 1 Axes>"
      ]
     },
     "metadata": {
      "needs_background": "light"
     }
    },
    {
     "output_type": "display_data",
     "data": {
      "image/png": "[encoded data removed]",
      "text/plain": [
       "<Figure size 864x720 with 1 Axes>"
      ]
     },
     "metadata": {
      "needs_background": "light"
     }
    },
    {
     "output_type": "display_data",
     "data": {
      "image/png": "[encoded data removed]",
      "text/plain": [
       "<Figure size 864x720 with 1 Axes>"
      ]
     },
     "metadata": {
      "needs_background": "light"
     }
    },
    {
     "output_type": "display_data",
     "data": {
      "image/png": "[encoded data removed]",
      "text/plain": [
       "<Figure size 864x720 with 1 Axes>"
      ]
     },
     "metadata": {
      "needs_background": "light"
     }
    },
    {
     "output_type": "display_data",
     "data": {
      "image/png": "[encoded data removed]",
      "text/plain": [
       "<Figure size 864x720 with 1 Axes>"
      ]
     },
     "metadata": {
      "needs_background": "light"
     }
    },
    {
     "output_type": "display_data",
     "data": {
      "image/png": "[encoded data removed]",
      "text/plain": [
       "<Figure size 864x720 with 1 Axes>"
      ]
     },
     "metadata": {
      "needs_background": "light"
     }
    }
   ],
   "metadata": {
    "id": "Wc4LAmuQarE7",
    "colab": {
     "base_uri": "https://localhost:8080/",
     "height": 1000
    },
    "outputId": "9fbb21e6-0fa7-41e6-e0ad-735e77d303c7"
   }
  },
  {
   "cell_type": "markdown",
   "source": [
    "# Question 28 - 30\n",
    "\n",
    "## Comparing Bert's embedding\n"
   ],
   "metadata": {
    "id": "8maEnWqfw_zx"
   }
  },
  {
   "cell_type": "markdown",
   "source": [
    "### Load Model"
   ],
   "metadata": {
    "id": "Fg1CVRgj-gSP"
   }
  },
  {
   "cell_type": "code",
   "execution_count": null,
   "source": [
    "model = BertModel.from_pretrained('bert-base-chinese',\r\n",
    "                                  output_hidden_states=True).eval()\r\n",
    "tokenizer = BertTokenizerFast.from_pretrained('bert-base-chinese')"
   ],
   "outputs": [],
   "metadata": {
    "id": "Y1H-xMOn-dLv",
    "colab": {
     "base_uri": "https://localhost:8080/",
     "height": 177,
     "referenced_widgets": [
      "ac5f5c96e3504a95998e2e9444efd06e",
      "7540b60c266648d2b699fc845010ef2d",
      "ef971f3216e744c0a5919a11107ed5a4",
      "78ffbbfdfaf24aacad30c739a2f27fb0",
      "0522bf91e69b47459268281fd064b328",
      "ca7941e28b994e92bbf919aacad3aab3",
      "e6d191995ed44515a2c455539fa10e4e",
      "bcc25f6caa194bfdac41bbb1333161de",
      "e0a48f8eed2444f8b6c9f0beeec3c0fe",
      "f635a6c4bc294cb5a3cd0810c1149ca3",
      "75dc3818d13744afa43925d226239075",
      "a6e556c577f3419d9c3e4d377fc8d0a8",
      "750ba3b3b49442b1bd18db0ebd63841c",
      "c9a4ea0ee5e442c0b830d3c9e5da6f4a",
      "2d7cc9099b8947768915e5fe10f4abaa",
      "6d1eab4620d4481e98bbe1e3218fb831",
      "853d4e5ac20c4d79b77c2568ad7ca401",
      "9c65a76bc096484d829f207d7d148683",
      "694be4f26dce45669ac2f57d99897190",
      "244fa1c2d9e945198b21053ae86b7553",
      "4e5d7a49fc5a41e2bd116d800954e9a6",
      "11610de2bbec49aa92c77129322021a2",
      "12abba859425494ca57f7eb882ad2678",
      "6ddfcc38670b4523a4ce49bbd9f3d653",
      "4376a23fbff04015bf1a6cef3492ead9",
      "873fcc2d31af4ff58d7920069b0b480a",
      "f557dea43db7406c9e616dbdced3e9a9",
      "fddcb9dff5c64beebfe02285d422296c",
      "888e8bcc1f5b4a89b36b88947703d146",
      "cc3defcd4ae1402687fd25934f751b3f",
      "069f09b41c624787a74b564352d81e7b",
      "b6ade9a79ff643feba993ecc7fb9d680",
      "37676851fadb4be6a8db778e9a2923e1",
      "09259e41db7d4b0da6982b4b94284345",
      "3c11f7923e0e42cca77b10022c3a77c3",
      "6a1a7547391b4089aa0bcfedd2ef35a4",
      "574b0627fc3b430eb8efd66b8a2127b4",
      "98e7d1741083405c8db7fe2234ef7f3c",
      "b1b87738b88e4b178175c75b70fb232b",
      "59ddbf5ea4264517904f4a0956876e31",
      "2de42c9d0db44212bc419048c4e80565",
      "14fd6984f1f84732a5236b86929796f5",
      "8220e48f2c6746cba2fc622f9303b07c",
      "c12ba1ed58fb4b5f801b4ded2fd397eb",
      "31d360fbc5124913a000f5990a92e56f",
      "d477cc0de2fd46d9ad17edd8b94ca4c5",
      "c3feeadec68a4423a8f7bdaeb4a09112",
      "014106db313943a8b10cdd0aa7bd9159",
      "88547837041041c0b9c467b5fbe55ce0",
      "f48bb1e90546462db02ab24fe0578e07",
      "0e911bf5beb64d1db332372d9e817758",
      "ff053e9c3f8a49f2b05fc1a7fb720769",
      "30aae716262b49ccb0092634f2de51d5",
      "651171e9804e4a679175d2024d87b770",
      "49b18561d9664727a31bf4140815e565"
     ]
    },
    "outputId": "3348ed08-ba32-4c9d-d378-98c50ada486f"
   }
  },
  {
   "cell_type": "markdown",
   "source": [
    "### What to Visualize?"
   ],
   "metadata": {
    "id": "7MV_qNsmHqfD"
   }
  },
  {
   "cell_type": "code",
   "execution_count": null,
   "source": [
    "# Sentences for visualization\r\n",
    "sentences = []\r\n",
    "sentences += [\"今天買了蘋果來吃\"]\r\n",
    "sentences += [\"進口蘋果（富士)平均每公斤下跌12.3%\"]\r\n",
    "sentences += [\"蘋果茶真難喝\"]\r\n",
    "sentences += [\"老饕都知道智利的蘋果季節即將到來\"]\r\n",
    "sentences += [\"進口蘋果因防止水分流失故添加人工果糖\"]\r\n",
    "sentences += [\"蘋果即將於下月發振新款iPhone\"]\r\n",
    "sentences += [\"蘋果獲新Face ID專利\"]\r\n",
    "sentences += [\"今天買了蘋果手機\"]\r\n",
    "sentences += [\"蘋果的股價又跌了\"]\r\n",
    "sentences += [\"蘋果押寶指紋辨識技術\"]\r\n",
    "\r\n",
    "# Index of word selected for embedding comparison. E.g. For sentence \"蘋果茶真難喝\", if index is 0, \"蘋 is selected\"\r\n",
    "select_word_index = [4, 2, 0, 8, 2, 0, 0, 4, 0, 0]"
   ],
   "outputs": [],
   "metadata": {
    "id": "-WHhO1J3Hx6R"
   }
  },
  {
   "cell_type": "markdown",
   "source": [
    "### TODO"
   ],
   "metadata": {
    "id": "UV3pJo85slwz"
   }
  },
  {
   "cell_type": "code",
   "execution_count": null,
   "source": [
    "def euclidean_distance(a, b):\r\n",
    "    # Compute euclidean distance (L2 norm) between two numpy vectors a and b\r\n",
    "    return np.linalg.norm(a - b)\r\n",
    "\r\n",
    "\r\n",
    "def cosine_similarity(a, b):\r\n",
    "    # Compute cosine similarity between two numpy vectors a and b\r\n",
    "    return np.sum((a * b) / (np.linalg.norm(a) * np.linalg.norm(b)))\r\n",
    "\r\n",
    "\r\n",
    "# Metric for comparison. Choose from euclidean_distance, cosine_similarity\r\n",
    "METRIC = cosine_similarity\r\n",
    "\r\n",
    "\r\n",
    "def get_select_embedding(output, tokenized_sentence, select_word_index):\r\n",
    "    # The layer to visualize, choose from 0 to 12\r\n",
    "    LAYER = 12\r\n",
    "    # Get selected layer's hidden state\r\n",
    "    hidden_state = output.hidden_states[LAYER][0]\r\n",
    "    # Convert select_word_index in sentence to select_token_index in tokenized sentence\r\n",
    "    select_token_index = tokenized_sentence.word_to_tokens(\r\n",
    "        select_word_index).start\r\n",
    "    # Return embedding of selected word\r\n",
    "    return hidden_state[select_token_index].numpy()"
   ],
   "outputs": [],
   "metadata": {
    "id": "4tdX9HClgz8p"
   }
  },
  {
   "cell_type": "markdown",
   "source": [
    "### Visualization"
   ],
   "metadata": {
    "id": "lZFAVj7p-71l"
   }
  },
  {
   "cell_type": "code",
   "execution_count": null,
   "source": [
    "# Tokenize and encode sentences into model's input format\r\n",
    "tokenized_sentences = [\r\n",
    "    tokenizer(sentence, return_tensors='pt') for sentence in sentences\r\n",
    "]\r\n",
    "\r\n",
    "# Input encoded sentences into model and get outputs\r\n",
    "with torch.no_grad():\r\n",
    "    outputs = [\r\n",
    "        model(**tokenized_sentence)\r\n",
    "        for tokenized_sentence in tokenized_sentences\r\n",
    "    ]\r\n",
    "\r\n",
    "# Get embedding of selected word(s) in sentences. \"embeddings\" has shape (len(sentences), 768), where 768 is the dimension of BERT's hidden state\r\n",
    "embeddings = [\r\n",
    "    get_select_embedding(outputs[i], tokenized_sentences[i],\r\n",
    "                         select_word_index[i]) for i in range(len(outputs))\r\n",
    "]\r\n",
    "\r\n",
    "# Pairwse comparsion of sentences' embeddings using the metirc defined. \"similarity_matrix\" has shape [len(sentences), len(sentences)]\r\n",
    "similarity_matrix = pairwise_distances(embeddings, metric=METRIC)\r\n",
    "\r\n",
    "##### Plot the similarity matrix #####\r\n",
    "plt.rcParams['figure.figsize'] = [12, 10]  # Change figure size of the plot\r\n",
    "plt.imshow(similarity_matrix)  # Display an image in the plot\r\n",
    "plt.colorbar()  # Add colorbar to the plot\r\n",
    "plt.yticks(ticks=range(len(sentences)),\r\n",
    "           labels=sentences,\r\n",
    "           fontproperties=myfont\r\n",
    "           )  # Set tick locations and labels (sentences) of y-axis\r\n",
    "plt.title('Comparison of BERT Word Embeddings')  # Add title to the plot\r\n",
    "for (i, j), label in np.ndenumerate(\r\n",
    "        similarity_matrix):  # np.ndenumerate is 2D version of enumerate\r\n",
    "    plt.text(\r\n",
    "        i, j, '{:.2f}'.format(label), ha='center', va='center'\r\n",
    "    )  # Add values in similarity_matrix to the corresponding position in the plot\r\n",
    "plt.show()  # Show the plot\r\n"
   ],
   "outputs": [],
   "metadata": {
    "id": "VbM2xA-e-622",
    "colab": {
     "base_uri": "https://localhost:8080/",
     "height": 600
    },
    "outputId": "4165a2e5-86da-4212-9871-a0b08a168604"
   }
  }
 ]
}