{
  "cells": [
    {
      "cell_type": "markdown",
      "metadata": {
        "id": "U2crZj4cw5UV"
      },
      "source": [
        "### LifeLong Machine Learning\n",
        "### TA's Slide\n",
        "[Slide](https://docs.google.com/presentation/d/13JmcOZ9i_m5xJbRBKNMAKE1fIzGhyaeLck3frY0B2xY/edit?usp=sharing)\n",
        "\n",
        "### Definition\n",
        "The detailed explanations and definitions of LifeLong Learning please refer to [LifeLong learning](https://youtu.be/7qT5P9KJnWo) \n",
        "\n",
        "\n",
        "### Methods\n",
        "Someone proposed a survey paper for LifeLong Learning at the end of 2019 to distinguish 2016-2019 LigeLong Learning methods into three families.\n",
        "\n",
        "We can distinguish LifeLong Learning methods into three families, based on how task\n",
        "specific information is stored and used throughout the sequential learning process:\n",
        "* Replay-based methods\n",
        "* Regularization-based methods\n",
        "* Parameter isolation methods\n",
        "\n",
        "<img src=\"https://i.ibb.co/VDFJkWG/2019-12-29-17-25.png\" width=\"100%\">\n",
        "\n",
        "In this assignment, we have to go through EWC, MAS, SI, Remanian Walk, SCP Methods in the prior-focused methods of the regularization-based methods. \n",
        "\n",
        "Source: [Continual Learning in Neural\n",
        "Networks](https://arxiv.org/pdf/1910.02718.pdf)\n",
        "\n",
        "Please feel free to mail us if you have any questions.\n",
        "\n",
        "ntu-ml-2020spring-ta@googlegroups.com\n",
        "\n"
      ]
    },
    {
      "cell_type": "markdown",
      "metadata": {
        "id": "tuBc9bznXoo3"
      },
      "source": [
        "### Table of Content\n",
        "- Utils\n",
        "- Visualization\n",
        "- Methods"
      ]
    },
    {
      "cell_type": "markdown",
      "metadata": {
        "id": "jwKUnZeByvhv"
      },
      "source": [
        "### Utility\n",
        "We utilize permuted MNIST as our training dataset.\n",
        "\n",
        "So, first we utilize 5 different permutations to generate 10 different permuted MNIST as different task."
      ]
    },
    {
      "cell_type": "markdown",
      "metadata": {
        "id": "atDSdG4TUAAn"
      },
      "source": [
        " #### - Pemutation"
      ]
    },
    {
      "cell_type": "code",
      "execution_count": 1,
      "metadata": {
        "id": "lsWYJnC7ymjz"
      },
      "outputs": [],
      "source": [
        "import torch.utils.data as data\n",
        "import torch.utils.data.sampler as sampler\n",
        "import torchvision\n",
        "import os\n",
        "import torch.nn.functional as F\n",
        "from torchvision import datasets, transforms\n",
        "\n",
        "# Permute MNIST to generate 10 tasks\n",
        "\n",
        "\n",
        "def _permutate_image_pixels(image, permutation):\n",
        "    if permutation is None:\n",
        "        return image\n",
        "\n",
        "    c, h, w = image.size()\n",
        "    image = image.view(-1, c)\n",
        "    image = image[permutation, :]\n",
        "    image.view(c, h, w)\n",
        "    return image\n",
        "\n",
        "\n",
        "def get_transform(permutation=None, normalize=True):\n",
        "    if normalize == True:\n",
        "        transform = transforms.Compose([\n",
        "            transforms.ToTensor(),\n",
        "            Pad(28),\n",
        "            transforms.Normalize((0.1307, ), (0.3081, )),\n",
        "            transforms.Lambda(\n",
        "                lambda x: _permutate_image_pixels(x, permutation)),\n",
        "        ])\n",
        "    else:\n",
        "        transform = transforms.Compose([\n",
        "            transforms.ToTensor(),\n",
        "            Pad(28),\n",
        "            transforms.Lambda(\n",
        "                lambda x: _permutate_image_pixels(x, permutation)),\n",
        "        ])\n",
        "    return transform\n",
        "\n",
        "\n",
        "class Pad(object):\n",
        "    def __init__(self, size, fill=0, padding_mode='constant'):\n",
        "        self.size = size\n",
        "        self.fill = fill\n",
        "        self.padding_mode = padding_mode\n",
        "\n",
        "    def __call__(self, img):\n",
        "        # If the H and W of img is not equal to desired size,\n",
        "        # then pad the channel of img to desired size.\n",
        "        img_size = img.size()[1]\n",
        "        assert ((self.size - img_size) % 2 == 0)\n",
        "        padding = (self.size - img_size) // 2\n",
        "        padding = (padding, padding, padding, padding)\n",
        "        return F.pad(img, padding, self.padding_mode, self.fill)\n",
        "\n",
        "\n",
        "class Data():\n",
        "    def __init__(self, path, train=True, permutation=None, normalize=True):\n",
        "\n",
        "        transform = get_transform(permutation, normalize)\n",
        "        self.dataset = datasets.MNIST(root=os.path.join(path, \"MNIST\"),\n",
        "                                      transform=transform,\n",
        "                                      train=train,\n",
        "                                      download=True)\n"
      ]
    },
    {
      "cell_type": "markdown",
      "metadata": {
        "id": "X6JZjHmi6CGU"
      },
      "source": [
        "#### - Dataloader and Argument\n",
        "- Training Arguments\n",
        "- Setup 5 different Permutation\n",
        "- 5 Train DataLoader\n",
        "- 5 Test DataLoader \n"
      ]
    },
    {
      "cell_type": "code",
      "execution_count": 2,
      "metadata": {
        "id": "QQNEXhES4Zr9"
      },
      "outputs": [
        {
          "name": "stderr",
          "output_type": "stream",
          "text": [
            "0it [00:00, ?it/s]"
          ]
        },
        {
          "name": "stdout",
          "output_type": "stream",
          "text": [
            "Downloading http://yann.lecun.com/exdb/mnist/train-images-idx3-ubyte.gz to data\\MNIST\\MNIST\\raw\\train-images-idx3-ubyte.gz\n"
          ]
        },
        {
          "name": "stderr",
          "output_type": "stream",
          "text": [
            " 96%|█████████▌| 9469952/9912422 [00:03<00:00, 4638156.86it/s]"
          ]
        },
        {
          "name": "stdout",
          "output_type": "stream",
          "text": [
            "Extracting data\\MNIST\\MNIST\\raw\\train-images-idx3-ubyte.gz to data\\MNIST\\MNIST\\raw\n"
          ]
        },
        {
          "name": "stderr",
          "output_type": "stream",
          "text": [
            "\n",
            "\u001b[A"
          ]
        },
        {
          "name": "stdout",
          "output_type": "stream",
          "text": [
            "Downloading http://yann.lecun.com/exdb/mnist/train-labels-idx1-ubyte.gz to data\\MNIST\\MNIST\\raw\\train-labels-idx1-ubyte.gz\n",
            "Extracting data\\MNIST\\MNIST\\raw\\train-labels-idx1-ubyte.gz to data\\MNIST\\MNIST\\raw\n",
            "Downloading http://yann.lecun.com/exdb/mnist/t10k-images-idx3-ubyte.gz to data\\MNIST\\MNIST\\raw\\t10k-images-idx3-ubyte.gz\n"
          ]
        },
        {
          "name": "stderr",
          "output_type": "stream",
          "text": [
            "\n",
            "\u001b[A\n",
            "\u001b[A\n",
            "\u001b[A\n",
            "\u001b[A\n",
            "\n",
            "\u001b[A\u001b[A\n",
            "\n",
            "\u001b[A\u001b[A"
          ]
        },
        {
          "name": "stdout",
          "output_type": "stream",
          "text": [
            "Extracting data\\MNIST\\MNIST\\raw\\t10k-images-idx3-ubyte.gz to data\\MNIST\\MNIST\\raw\n",
            "Downloading http://yann.lecun.com/exdb/mnist/t10k-labels-idx1-ubyte.gz to data\\MNIST\\MNIST\\raw\\t10k-labels-idx1-ubyte.gz\n",
            "Extracting data\\MNIST\\MNIST\\raw\\t10k-labels-idx1-ubyte.gz to data\\MNIST\\MNIST\\raw\n",
            "Processing...\n"
          ]
        },
        {
          "name": "stderr",
          "output_type": "stream",
          "text": [
            "C:\\Users\\Silence\\AppData\\Local\\Programs\\Python\\Python38\\lib\\site-packages\\torchvision\\datasets\\mnist.py:480: UserWarning: The given NumPy array is not writeable, and PyTorch does not support non-writeable tensors. This means you can write to the underlying (supposedly non-writeable) NumPy array using the tensor. You may want to copy the array to protect its data or make it writeable before converting it to a tensor. This type of warning will be suppressed for the rest of this program. (Triggered internally at  ..\\torch\\csrc\\utils\\tensor_numpy.cpp:141.)\n",
            "  return torch.from_numpy(parsed.astype(m[2], copy=False)).view(*s)\n",
            "32768it [00:01, 28796.56it/s]\n",
            "1654784it [00:01, 1602951.35it/s]                             \n",
            "8192it [00:00, 18778.00it/s]            "
          ]
        },
        {
          "name": "stdout",
          "output_type": "stream",
          "text": [
            "Done!\n"
          ]
        },
        {
          "name": "stderr",
          "output_type": "stream",
          "text": [
            "\n"
          ]
        }
      ],
      "source": [
        "### Main Process\n",
        "\n",
        "import argparse\n",
        "import numpy as np\n",
        "import torch\n",
        "import matplotlib.pyplot as plt\n",
        "import tqdm\n",
        "from torch.utils.data import DataLoader\n",
        "from tqdm import trange\n",
        "\n",
        "class Args:\n",
        "  task_number = 5\n",
        "  epochs_per_task = 10\n",
        "  lr = 1.0e-4\n",
        "  batch_size = 128\n",
        "  test_size=8192\n",
        "  random_seed=0\n",
        "\n",
        "args=Args()\n",
        "\n",
        "device = torch.device(\"cuda\" if torch.cuda.is_available() else \"cpu\")\n",
        "# generate permutations for the tasks.\n",
        "np.random.seed(args.random_seed)\n",
        "\n",
        "#generate permuted MNIST data from 10 different permutation.\n",
        "permutations = [\n",
        "    np.random.permutation(784) if index !=0 else np.arange(784) for index in range(args.task_number) ]\n",
        "\n",
        "# prepare permuted mnist datasets.\n",
        "train_datasets = [\n",
        "    Data('data', permutation=permutations[index]) for index in range(len(permutations))\n",
        "]\n",
        "train_dataloaders = [\n",
        "    DataLoader(data.dataset, batch_size=args.batch_size, shuffle=True) for data in train_datasets\n",
        "]\n",
        "\n",
        "\n",
        "test_datasets = [\n",
        "    Data('data',train=False, permutation=permutations[index]) for index in range(len(permutations))\n",
        "]\n",
        "test_dataloaders = [\n",
        "    DataLoader(data.dataset, batch_size=args.test_size, shuffle=True) for data in test_datasets\n",
        "]\n"
      ]
    },
    {
      "cell_type": "markdown",
      "metadata": {
        "id": "yemZCVfzzLHK"
      },
      "source": [
        "#### - Model\n",
        "To fair comparison, \n",
        "\n",
        "We fix our model architecture to do this homework. \n",
        "\n",
        "The model architecture consist 4 layers fully-connected network."
      ]
    },
    {
      "cell_type": "code",
      "execution_count": null,
      "metadata": {
        "id": "wDfCEemDyTvN"
      },
      "outputs": [],
      "source": [
        "import torch\n",
        "from torch import nn\n",
        "import torch.nn.functional as F\n",
        "\n",
        "class Model(nn.Module):\n",
        "  \"\"\"\n",
        "  Model architecture \n",
        "  784 (input) → 1024 → 512 → 256 → 10\n",
        "  \"\"\"\n",
        "  def __init__(self):\n",
        "    super(Model, self).__init__()\n",
        "    self.fc1 = nn.Linear(784, 1024)\n",
        "    self.fc2 = nn.Linear(1024, 512)\n",
        "    self.fc3 = nn.Linear(512, 256)\n",
        "    self.fc4 = nn.Linear(256, 10)\n",
        "    self.relu = nn.ReLU()\n",
        "\n",
        "  def forward(self, x):\n",
        "    x = x.view(-1, 1*28*28)\n",
        "    x = self.fc1(x)\n",
        "    x = self.relu(x)\n",
        "    x = self.fc2(x)\n",
        "    x = self.relu(x)\n",
        "    x = self.fc3(x)\n",
        "    x = self.relu(x)\n",
        "    x = self.fc4(x)\n",
        "    return x\n",
        "\n",
        "example = Model()\n",
        "print(example)\n"
      ]
    },
    {
      "cell_type": "markdown",
      "metadata": {
        "id": "Vpi2lffuzuhv"
      },
      "source": [
        "#### - Train\n",
        "This is our function of training process.\n",
        "\n",
        "It can generally applied in different regularization-based lifelong learning algorithm in this homework."
      ]
    },
    {
      "cell_type": "code",
      "execution_count": 22,
      "metadata": {
        "id": "zFmbMAc6rJ2Z"
      },
      "outputs": [],
      "source": [
        "import torch\n",
        "import torch.nn as nn\n",
        "import tqdm\n",
        "import numpy as np\n",
        "from tqdm import trange\n",
        "\n",
        "def train(model, optimizer, dataloader, epochs_per_task, lll_object, lll_lambda, test_dataloaders, evaluate, device, log_step=1):\n",
        "    model.train()\n",
        "    model.zero_grad()\n",
        "    objective = nn.CrossEntropyLoss()\n",
        "    acc_per_epoch = []\n",
        "    loss = 1.0\n",
        "    bar = tqdm.auto.trange(epochs_per_task, leave=False, desc=f\"Epoch 1, Loss: {loss:.7f}\")\n",
        "    for epoch in bar:\n",
        "        for imgs, labels in tqdm.auto.tqdm(dataloader, leave=False):            \n",
        "            imgs, labels = imgs.to(device), labels.to(device)\n",
        "            outputs = model(imgs)\n",
        "            loss = objective(outputs, labels)\n",
        "            total_loss = loss\n",
        "            lll_loss = lll_object.penalty(model)\n",
        "            total_loss += lll_lambda * lll_loss \n",
        "            lll_object.update(model)\n",
        "            optimizer.zero_grad()\n",
        "            total_loss.backward()\n",
        "            optimizer.step()\n",
        "\n",
        "            loss = total_loss.item()\n",
        "            bar.set_description_str(desc=f\"Epoch {epoch+1:2}, Loss: {loss:.7f}\", refresh=True)\n",
        "        acc_average  = []\n",
        "        for test_dataloader in test_dataloaders: \n",
        "            acc_test = evaluate(model, test_dataloader, device)\n",
        "            acc_average.append(acc_test)\n",
        "        average=np.mean(np.array(acc_average))\n",
        "        acc_per_epoch.append(average*100.0)\n",
        "        bar.set_description_str(desc=f\"Epoch {epoch+2:2}, Loss: {loss:.7f}\", refresh=True)\n",
        "                \n",
        "    return model, optimizer, acc_per_epoch"
      ]
    },
    {
      "cell_type": "markdown",
      "metadata": {
        "id": "rjOiSSVD0GXB"
      },
      "source": [
        "#### - Evaluate\n",
        "This is our function of evaluation process.\n",
        "\n",
        "It can generally applied in different regularization-based lifelong learning algorithm in this homework."
      ]
    },
    {
      "cell_type": "code",
      "execution_count": null,
      "metadata": {
        "id": "BUh6J6LZrQVW"
      },
      "outputs": [],
      "source": [
        "import torch\n",
        "import torch.nn as nn\n",
        "\n",
        "\n",
        "def evaluate(model, test_dataloader, device):\n",
        "    model.eval()\n",
        "    correct_cnt = 0\n",
        "    total = 0\n",
        "    for imgs, labels in test_dataloader:\n",
        "        imgs, labels = imgs.to(device), labels.to(device)\n",
        "        outputs = model(imgs)\n",
        "        _, pred_label = torch.max(outputs.data, 1)\n",
        "\n",
        "        correct_cnt += (pred_label == labels.data).sum().item()\n",
        "        total += torch.ones_like(labels.data).sum().item()\n",
        "    return correct_cnt / total"
      ]
    },
    {
      "cell_type": "markdown",
      "metadata": {
        "id": "gqAoSbiYzRiZ"
      },
      "source": [
        "#### - Evaluation Metric\n",
        "We utilize **Average Accuracy** as our evaluation metric, \n",
        "\n",
        "which average the accuracy from the all previous and current test set to measure the performance of lifelong learning . "
      ]
    },
    {
      "cell_type": "markdown",
      "metadata": {
        "id": "6JTAisD5uogo"
      },
      "source": [
        "### Visualization\n"
      ]
    },
    {
      "cell_type": "markdown",
      "metadata": {
        "id": "ktQWQcVKTvnK"
      },
      "source": [
        "#### - Permuted MNIST dataset"
      ]
    },
    {
      "cell_type": "code",
      "execution_count": 24,
      "metadata": {
        "colab": {
          "base_uri": "https://localhost:8080/",
          "height": 329
        },
        "id": "HXj1AIU3u7Hu",
        "outputId": "0500c917-f4ca-4375-cd57-ce03c42e9d39"
      },
      "outputs": [
        {
          "data": {
            "image/png": "[encoded data removed]",
            "text/plain": [
              "<Figure size 2160x720 with 30 Axes>"
            ]
          },
          "metadata": {},
          "output_type": "display_data"
        }
      ],
      "source": [
        "### Visualize label 0-9 1 sample MNIST picture in first 3 task.\n",
        "\n",
        "sample = [\n",
        "    Data('data', permutation=permutations[index], normalize=False) for index in range(len(permutations))\n",
        "]\n",
        "import matplotlib.pyplot as plt\n",
        "plt.figure(figsize=(30, 10))\n",
        "for task in range(3):\n",
        "  labels = [list(sample[task].dataset.targets).index(l) for l in range(10)]\n",
        "  for idx, label in enumerate(labels):\n",
        "    plt.subplot(3, 10, (task)*10 + idx + 1)\n",
        "    curr_img = np.reshape(sample[task].dataset[label][0], (28, 28))\n",
        "    plt.matshow(curr_img, cmap=plt.get_cmap('gray'), fignum=False)\n",
        "    ax = plt.gca()\n",
        "    ax.axes.xaxis.set_ticks([])\n",
        "    ax.axes.yaxis.set_ticks([])\n",
        "    plt.title(\"task: \" + str(task+1) + \" \" + \"label: \" + str(idx), y=1)\n",
        "\n"
      ]
    },
    {
      "cell_type": "markdown",
      "metadata": {
        "id": "f5iwmr4TWLFy"
      },
      "source": [
        "### Methods\n",
        "- Baseline\n",
        "- EWC\n",
        "- SI\n",
        "- MAS\n",
        "- RWalk\n",
        "-SCP"
      ]
    },
    {
      "cell_type": "markdown",
      "metadata": {
        "id": "wXN4EDl71sBu"
      },
      "source": [
        "#### - Baseline\n",
        "The baseline class will do nothing in regularization term."
      ]
    },
    {
      "cell_type": "code",
      "execution_count": 25,
      "metadata": {
        "id": "ZcyKKyrb0i2_"
      },
      "outputs": [],
      "source": [
        "# Baseline \n",
        "import torch\n",
        "import torch.nn as nn\n",
        "\n",
        "\n",
        "class baseline(object):\n",
        "    \"\"\"\n",
        "    baseline technique: do nothing in regularization term [initialize and all weight is zero]\n",
        "    \"\"\"\n",
        "    def __init__(self, model, dataloaders, device):\n",
        "    \n",
        "        self.model = model\n",
        "        self.dataloaders = dataloaders # not meaningful within baseline\n",
        "        self.device = device\n",
        "\n",
        "        self.params = {n: p for n, p in self.model.named_parameters() if p.requires_grad} #extract all parameters in models\n",
        "        self.p_old = {} # store current parameters\n",
        "        self._precision_matrices = self._calculate_importance() # generate weight matrix \n",
        "\n",
        "        for n, p in self.params.items():\n",
        "            self.p_old[n] = p.clone().detach() # keep the old parameter in self.p_old\n",
        "  \n",
        "    def _calculate_importance(self):\n",
        "        precision_matrices = {}\n",
        "        for n, p in self.params.items(): # initialize weight matrix（fill zero）\n",
        "            precision_matrices[n] = p.clone().detach().fill_(0)\n",
        "\n",
        "        return precision_matrices\n",
        "\n",
        "    def penalty(self, model: nn.Module):\n",
        "        loss = 0\n",
        "        for n, p in model.named_parameters():\n",
        "            _loss = self._precision_matrices[n] * (p - self.p_old[n]) ** 2\n",
        "            loss += _loss.sum()\n",
        "        return loss\n",
        "    \n",
        "    def update(self, model):\n",
        "        # do nothing\n",
        "        return \n"
      ]
    },
    {
      "cell_type": "markdown",
      "metadata": {
        "id": "ib50m1HZ5QAo"
      },
      "source": [
        "Main process for baseline"
      ]
    },
    {
      "cell_type": "code",
      "execution_count": null,
      "metadata": {
        "colab": {
          "base_uri": "https://localhost:8080/",
          "height": 131,
          "referenced_widgets": [
            "d4d581b2c5bc4992bba22c4801524f2a",
            "23d694682ad44309a00407cb0f5aba9b",
            "79e1aca6848e4aa4b8bf7904733e2eb0",
            "1c1a1ce0437e4dc78bcebbbeb5064d88",
            "5892f9d163ea4b788b2ede5caef25fdc",
            "b964c42254004ebf9a95c941448f411d",
            "a2856dccf6c447e1ade30c31e21cba06",
            "8f88838b90a44c3f93a8aadd8d9d2fdb",
            "72e04981119941ed929e17d2ed92a860",
            "0bfc02bda2c747398985b900c3d35458",
            "cda71852babd4db99781f9718bd5d184",
            "411a96e802e84db7a216a377d9d527b7",
            "acf1bf1670c24b308015bc3be5804e06",
            "fadb70fdcc404de99b6eea1bdf99a017",
            "b3f498eee08c472a9df090a2904ce7a0",
            "ff72acd982ae43af8e240337cd84a5e2",
            "b32413df08c24802843017fe8cc09866",
            "cfdcd079f9764d189ec9537c6ea82ec3",
            "cc17a1e57f15495a92d8190d3d2f667c",
            "b0528a504d2f427ab7cfe5b39d3f7ee3",
            "3ae6c5ef39224de2a614d5bd4aa393bd",
            "43a917cfcddd4372aed25dd4aeaf3fe0",
            "896a8a4a15894b92bf98a8c96897c92a",
            "a7079588654e493ab049f4a945c6ab64",
            "3a91848bca3247288d5dbd4cc039a5e6",
            "68c54aca0ea643979d21b251a772cc67",
            "cb4b8cf1cd9c4281b5ea23531c435ff3",
            "0532ab92c3404d79a58b6c59b82aa145",
            "1315d00fb65e4cdc8c8d5f74e1c21d38",
            "5ceb71e64adc4e97be54d4737cc2524b",
            "5a7ec50402bc432998d512bcc4353185",
            "2ba518f775dc48f8b864c965a86708fc",
            "305217dc0c6749ebb29181c5d9958093"
          ]
        },
        "id": "SgKgYHJz5HrW",
        "outputId": "d74f472f-11d5-416b-b944-24641c70c972"
      },
      "outputs": [
        {
          "name": "stdout",
          "output_type": "stream",
          "text": [
            "RUN BASELINE\n"
          ]
        },
        {
          "data": {
            "application/vnd.jupyter.widget-view+json": {
              "model_id": "d4d581b2c5bc4992bba22c4801524f2a",
              "version_major": 2,
              "version_minor": 0
            },
            "text/plain": [
              "Task   1:   0%|          | 0/5 [00:00<?, ?it/s]"
            ]
          },
          "metadata": {},
          "output_type": "display_data"
        },
        {
          "data": {
            "application/vnd.jupyter.widget-view+json": {
              "model_id": "411a96e802e84db7a216a377d9d527b7",
              "version_major": 2,
              "version_minor": 0
            },
            "text/plain": [
              "Epoch 1, Loss: 1.0000000:   0%|          | 0/10 [00:00<?, ?it/s]"
            ]
          },
          "metadata": {},
          "output_type": "display_data"
        },
        {
          "data": {
            "application/vnd.jupyter.widget-view+json": {
              "model_id": "896a8a4a15894b92bf98a8c96897c92a",
              "version_major": 2,
              "version_minor": 0
            },
            "text/plain": [
              "  0%|          | 0/469 [00:00<?, ?it/s]"
            ]
          },
          "metadata": {},
          "output_type": "display_data"
        },
        {
          "data": {
            "application/vnd.jupyter.widget-view+json": {
              "model_id": "6f142eaf8a2549f291cf2e98141ee045",
              "version_major": 2,
              "version_minor": 0
            },
            "text/plain": [
              "  0%|          | 0/469 [00:00<?, ?it/s]"
            ]
          },
          "metadata": {},
          "output_type": "display_data"
        }
      ],
      "source": [
        "# Baseline\n",
        "print(\"RUN BASELINE\")\n",
        "model = Model()\n",
        "model = model.to(device)\n",
        "optimizer = torch.optim.Adam(model.parameters(), lr=args.lr)\n",
        "\n",
        "# initialize lifelong learning object (baseline class) without adding any regularization term.\n",
        "lll_object=baseline(model=model, dataloaders=[None],device=device)\n",
        "lll_lambda=0.0\n",
        "baseline_acc= []\n",
        "task_bar = tqdm.auto.trange(len(train_dataloaders),desc=\"Task   1\")\n",
        "\n",
        "# iterate training on each task continually.\n",
        "for train_indexes in task_bar:\n",
        "    # Train each task\n",
        "    model, _, acc_list = train(model, optimizer, train_dataloaders[train_indexes], args.epochs_per_task, lll_object, lll_lambda, evaluate=evaluate,device=device, test_dataloaders=test_dataloaders[:train_indexes+1])\n",
        "\n",
        "    # get model weight to baseline class and do nothing!\n",
        "    lll_object=baseline(model=model, dataloaders=test_dataloaders[:train_indexes],device=device)\n",
        "\n",
        "    # new a optimizer\n",
        "    optimizer = torch.optim.Adam(model.parameters(), lr=args.lr)\n",
        "\n",
        "    # Collect average accuracy in each epoch\n",
        "    baseline_acc.extend(acc_list)\n",
        "    \n",
        "    # display the information of the next task.\n",
        "    task_bar.set_description_str(f\"Task  {train_indexes+2:2}\")\n",
        "\n",
        "# average accuracy in each task per epoch! \n",
        "print(baseline_acc)\n",
        "print(\"==================================================================================================\")\n"
      ]
    },
    {
      "cell_type": "markdown",
      "metadata": {
        "id": "QIv2EUeu2lXv"
      },
      "source": [
        "#### - EWC\n",
        "\n",
        "Elastic Weight Consolidation\n",
        "\n",
        "The ewc class applied EWC algorithm to calculate regularization term.\n",
        "The central concept is included in Prof.Hung-yi's lectures. Here we will focus on the algorithm of EWC. \n",
        "\n",
        "In this assignment, we want to let our model learn 10 tasks successively.\n",
        "Here we show a simple example that we let the model learn 2 tasks(task A, task B) successively.\n",
        "\n",
        "In EWC algorithm, the definition of loss function is shown below:\n",
        " $$\\mathcal{L}_B = \\mathcal{L}(\\theta) + \\sum_{i} \\frac{\\lambda}{2} F_i (\\theta_{i} - \\theta_{A,i}^{*})^2  $$\n",
        "  \n",
        "Assume we have a neural network with more than two parameters.\n",
        "\n",
        "$F_i$ correspond to the $i^{th}$ guard in Prof. Hung-yi's lecture. Please do not modify this parameters, because it's important to task A.\n",
        "\n",
        "The definition of $F$ is shown below.\n",
        "$$ F = [ \\nabla \\log(p(y_n | x_n, \\theta_{A}^{*}) \\nabla \\log(p(y_n | x_n, \\theta_{A}^{*})^T ] $$ \n",
        "\n",
        "We only take the diagonal value of matrix to approximate each parameters' $F_i$.\n",
        "\n",
        "The detail infromation and derivation are shown in 2.4.1 and 2.4 of [Continual Learning in Neural\n",
        "Networks](https://arxiv.org/pdf/1910.02718.pdf)\n",
        "\n",
        "For You Information: [Elastic Weight Consolidation](https://arxiv.org/pdf/1612.00796.pdf)\n"
      ]
    },
    {
      "cell_type": "code",
      "execution_count": null,
      "metadata": {
        "id": "4zf7sGSD2FID"
      },
      "outputs": [],
      "source": [
        "import torch\n",
        "import torch.nn as nn\n",
        "import torch.nn.functional as F\n",
        "\n",
        "\n",
        "class ewc(object):\n",
        "    \"\"\"\n",
        "    @article{kirkpatrick2017overcoming,\n",
        "        title={Overcoming catastrophic forgetting in neural networks},\n",
        "        author={Kirkpatrick, James and Pascanu, Razvan and Rabinowitz, Neil and Veness, Joel and Desjardins, Guillaume and Rusu, Andrei A and Milan, Kieran and Quan, John and Ramalho, Tiago and Grabska-Barwinska, Agnieszka and others},\n",
        "        journal={Proceedings of the national academy of sciences},\n",
        "        year={2017},\n",
        "        url={https://arxiv.org/abs/1612.00796}\n",
        "    }\n",
        "  \"\"\"\n",
        "    def __init__(self, model, dataloaders, device):\n",
        "\n",
        "        self.model = model\n",
        "        self.dataloaders = dataloaders\n",
        "        self.device = device\n",
        "\n",
        "        self.params = {\n",
        "            n: p\n",
        "            for n, p in self.model.named_parameters() if p.requires_grad\n",
        "        }  # extract all parameters in models\n",
        "        self.p_old = {}  # initialize parameters\n",
        "        self._precision_matrices = self._calculate_importance(\n",
        "        )  # generate Fisher (F) matrix for EWC\n",
        "\n",
        "        for n, p in self.params.items():\n",
        "            self.p_old[n] = p.clone().detach(\n",
        "            )  # keep the old parameter in self.p_old\n",
        "\n",
        "    def _calculate_importance(self):\n",
        "        precision_matrices = {}\n",
        "        for n, p in self.params.items():\n",
        "            # initialize Fisher (F) matrix（all fill zero）\n",
        "            precision_matrices[n] = p.clone().detach().fill_(0)\n",
        "\n",
        "        self.model.eval() # set model to eval\n",
        "        if self.dataloaders[0] is not None:\n",
        "            dataloader_num = len(self.dataloaders)\n",
        "            number_data = sum([len(loader) for loader in self.dataloaders])\n",
        "            for dataloader in self.dataloaders:\n",
        "                for data in dataloader:\n",
        "                    self.model.zero_grad()\n",
        "                    # get image data\n",
        "                    input = data[0].to(self.device)\n",
        "                    # image data forward model\n",
        "                    output = self.model(input)\n",
        "                    # Simply use groud truth label of dataset.\n",
        "                    label = data[1].to(self.device)\n",
        "                    # print(output.shape, label.shape)\n",
        "\n",
        "                    ############################################################################\n",
        "                    #####                     generate Fisher(F) matrix for EWC            #####\n",
        "                    ############################################################################\n",
        "                    loss = F.nll_loss(F.log_softmax(output, dim=1), label)\n",
        "                    loss.backward()\n",
        "                    ############################################################################\n",
        "\n",
        "                    for n, p in self.model.named_parameters():\n",
        "                        # get the gradient of each parameter and square it, then average it in all validation set.\n",
        "                        precision_matrices[\n",
        "                            n].data += p.grad.data**2 / number_data\n",
        "\n",
        "            precision_matrices = {n: p for n, p in precision_matrices.items()}\n",
        "\n",
        "        return precision_matrices\n",
        "\n",
        "    def penalty(self, model: nn.Module):\n",
        "        loss = 0\n",
        "        for n, p in model.named_parameters():\n",
        "            # generate the final regularization term by the ewc weight (self._precision_matrices[n]) and the square of weight difference ((p - self.p_old[n]) ** 2).\n",
        "            _loss = self._precision_matrices[n] * (p - self.p_old[n])**2\n",
        "            loss += _loss.sum()\n",
        "        return loss\n",
        "\n",
        "    def update(self, model):\n",
        "        # do nothing\n",
        "        return\n"
      ]
    },
    {
      "cell_type": "markdown",
      "metadata": {
        "id": "2c6i-ri-5jjS"
      },
      "source": [
        "Main process for EWC "
      ]
    },
    {
      "cell_type": "code",
      "execution_count": null,
      "metadata": {
        "colab": {
          "base_uri": "https://localhost:8080/",
          "height": 123,
          "referenced_widgets": [
            "a3cbd2b6a7a142979e72fc68a929b231",
            "b82483700908432f885007209a2c878a",
            "1c0851b10422481583771db79c285cbb",
            "99278d87b4bb4b25a29cbfd2bea63bf7",
            "4839ca1abf9c4454918a681896dbe38e",
            "ce17c0e0581d474e98dfb1ccc28ce3cf",
            "7eaaa0b81c84464dbf02092a2847cc5d",
            "a7e076a8da064fc8b4514fb0e61954ed",
            "965f479dc0174062b178b21d1dd13bb4",
            "902b7d92a7ce48f19a12582652e99bc5",
            "91884131e338441492972627cfe27723",
            "697aaa62f1b64121b6107d647b83294c",
            "0408fd8c02724f98a6804a5ab25387a8",
            "e018dc90d14d464fa5104592f75ade5a",
            "dd968a0123f640c0aab65369d810ac4e",
            "d9848f9bfb004973b7dc7237229b0456",
            "df3924a402f84f5a8146c5bcf2aa0cae",
            "141519035661434aa93aa2e62034f4d6",
            "2b3f6913b9f74aa8a53b6671878b1c82",
            "1045f80a492647cea4301ccaae5451ce",
            "b1997bb5a9034242a4886a56e4cb56c3",
            "d19ffafebfdd40d7b20516efea8334d9",
            "11856fd65f25427eb4177cfcb7bb312b",
            "8861974d9349458b8cc0c169f856e59e",
            "aba28a31687640b782322b292d9ad8b1",
            "6aaeb80413484bf6bf6b79f77b0716fd",
            "5d740fe3c7c4469bad4d1f409051c864",
            "68fa1bbfecf14d7ebc2fed377dadf2b8",
            "8bf8669dc0004de6b54abb75de34c3df",
            "2deabac8afec433888f9e3c94baf32f9",
            "2e09a77dbff3463c9c9385273a4fc9cc",
            "854e0284ad1f43b58715403394d576db",
            "d6bdf44c715a4c9ba10c6be0f45d68a9",
            "0e3c1abe8224445d824bfffc3760a627",
            "9ee4abc3bee94cd1bfaed5feb543944f",
            "c563ca7c3c8148a897d574dd12187d6b",
            "ce9cabd400ca4b2f940b61c294993e1b",
            "5924d37d004c4edf8afcdec018f450f1",
            "b5b0e547918f4531970697d302522e60",
            "6debb78158394c79ae2e795b2c431015",
            "5229fdb2a4884aeb842dbacae4ef262a",
            "d9108a6fde244e769bcd371d53245a2a",
            "0e47e8dad8624b1ca6668e07a3d35d5f",
            "601f70b58cad4f55801d319183e2a495",
            "ffe9d5102cf94d1fa5a61590239462dc",
            "320ba0824ba04719b74bb4257fbd1666",
            "84200d5f4389435f84e9c9673173b221",
            "af3231cd18fa4f50a1129dfd09364363",
            "c67ac480883d49079fafc8d06059f626",
            "5ed9ca6eadb34621a64efa66b58c7ad2",
            "64d7531d7795432cb545fafd40a936a1",
            "1670d97dd11c40048b52a2570ee8b86d",
            "a17eb05e341e4a02b4649a819a15bd96",
            "26a2080af1504b318393d16307c25cf6",
            "8ddc63f1400742ebbd94431fd4e0b1da",
            "4de24a561ef847719caf24db267e8686",
            "609f02617f8c46dcb74204e8c81852a3",
            "bf78d7d899084bd490c978d58206752f",
            "291ceb1be26e4aeaae0f879c1f12e5b3",
            "16b7b2b0fd5f47c2906db07bba5cb026",
            "acb9e607750542d18787b915cf398896",
            "0a61c84dc9b9467e9b18a354f271d242",
            "1d3cfbac97c344638db6438e0df34b0c",
            "cd76bc4f5d0f40a4a1a399f0591eb9de",
            "05685a8bfa7b4e17975e2d4737e9a024",
            "7c3587ec78554bf0a0d782da5f20cd38"
          ]
        },
        "id": "TFmRZBHL5iXR",
        "outputId": "3a95681a-1281-4bb8-fd30-71c07f6f7c6a"
      },
      "outputs": [
        {
          "name": "stdout",
          "output_type": "stream",
          "text": [
            "RUN EWC\n"
          ]
        },
        {
          "data": {
            "application/vnd.jupyter.widget-view+json": {
              "model_id": "a3cbd2b6a7a142979e72fc68a929b231",
              "version_major": 2,
              "version_minor": 0
            },
            "text/plain": [
              "Task   1:   0%|          | 0/5 [00:00<?, ?it/s]"
            ]
          },
          "metadata": {},
          "output_type": "display_data"
        },
        {
          "data": {
            "application/vnd.jupyter.widget-view+json": {
              "model_id": "697aaa62f1b64121b6107d647b83294c",
              "version_major": 2,
              "version_minor": 0
            },
            "text/plain": [
              "Epoch 1, Loss: 1.0000000:   0%|          | 0/10 [00:00<?, ?it/s]"
            ]
          },
          "metadata": {},
          "output_type": "display_data"
        },
        {
          "data": {
            "application/vnd.jupyter.widget-view+json": {
              "model_id": "0408fd8c02724f98a6804a5ab25387a8",
              "version_major": 2,
              "version_minor": 0
            },
            "text/plain": [
              "  0%|          | 0/469 [00:00<?, ?it/s]"
            ]
          },
          "metadata": {},
          "output_type": "display_data"
        },
        {
          "data": {
            "application/vnd.jupyter.widget-view+json": {
              "model_id": "e018dc90d14d464fa5104592f75ade5a",
              "version_major": 2,
              "version_minor": 0
            },
            "text/plain": [
              "  0%|          | 0/469 [00:00<?, ?it/s]"
            ]
          },
          "metadata": {},
          "output_type": "display_data"
        },
        {
          "data": {
            "application/vnd.jupyter.widget-view+json": {
              "model_id": "dd968a0123f640c0aab65369d810ac4e",
              "version_major": 2,
              "version_minor": 0
            },
            "text/plain": [
              "  0%|          | 0/469 [00:00<?, ?it/s]"
            ]
          },
          "metadata": {},
          "output_type": "display_data"
        },
        {
          "data": {
            "application/vnd.jupyter.widget-view+json": {
              "model_id": "d9848f9bfb004973b7dc7237229b0456",
              "version_major": 2,
              "version_minor": 0
            },
            "text/plain": [
              "  0%|          | 0/469 [00:00<?, ?it/s]"
            ]
          },
          "metadata": {},
          "output_type": "display_data"
        },
        {
          "data": {
            "application/vnd.jupyter.widget-view+json": {
              "model_id": "df3924a402f84f5a8146c5bcf2aa0cae",
              "version_major": 2,
              "version_minor": 0
            },
            "text/plain": [
              "  0%|          | 0/469 [00:00<?, ?it/s]"
            ]
          },
          "metadata": {},
          "output_type": "display_data"
        },
        {
          "data": {
            "application/vnd.jupyter.widget-view+json": {
              "model_id": "141519035661434aa93aa2e62034f4d6",
              "version_major": 2,
              "version_minor": 0
            },
            "text/plain": [
              "  0%|          | 0/469 [00:00<?, ?it/s]"
            ]
          },
          "metadata": {},
          "output_type": "display_data"
        },
        {
          "data": {
            "application/vnd.jupyter.widget-view+json": {
              "model_id": "2b3f6913b9f74aa8a53b6671878b1c82",
              "version_major": 2,
              "version_minor": 0
            },
            "text/plain": [
              "  0%|          | 0/469 [00:00<?, ?it/s]"
            ]
          },
          "metadata": {},
          "output_type": "display_data"
        },
        {
          "data": {
            "application/vnd.jupyter.widget-view+json": {
              "model_id": "1045f80a492647cea4301ccaae5451ce",
              "version_major": 2,
              "version_minor": 0
            },
            "text/plain": [
              "  0%|          | 0/469 [00:00<?, ?it/s]"
            ]
          },
          "metadata": {},
          "output_type": "display_data"
        },
        {
          "data": {
            "application/vnd.jupyter.widget-view+json": {
              "model_id": "b1997bb5a9034242a4886a56e4cb56c3",
              "version_major": 2,
              "version_minor": 0
            },
            "text/plain": [
              "  0%|          | 0/469 [00:00<?, ?it/s]"
            ]
          },
          "metadata": {},
          "output_type": "display_data"
        },
        {
          "data": {
            "application/vnd.jupyter.widget-view+json": {
              "model_id": "d19ffafebfdd40d7b20516efea8334d9",
              "version_major": 2,
              "version_minor": 0
            },
            "text/plain": [
              "  0%|          | 0/469 [00:00<?, ?it/s]"
            ]
          },
          "metadata": {},
          "output_type": "display_data"
        },
        {
          "data": {
            "application/vnd.jupyter.widget-view+json": {
              "model_id": "11856fd65f25427eb4177cfcb7bb312b",
              "version_major": 2,
              "version_minor": 0
            },
            "text/plain": [
              "Epoch 1, Loss: 1.0000000:   0%|          | 0/10 [00:00<?, ?it/s]"
            ]
          },
          "metadata": {},
          "output_type": "display_data"
        },
        {
          "data": {
            "application/vnd.jupyter.widget-view+json": {
              "model_id": "8861974d9349458b8cc0c169f856e59e",
              "version_major": 2,
              "version_minor": 0
            },
            "text/plain": [
              "  0%|          | 0/469 [00:00<?, ?it/s]"
            ]
          },
          "metadata": {},
          "output_type": "display_data"
        },
        {
          "data": {
            "application/vnd.jupyter.widget-view+json": {
              "model_id": "aba28a31687640b782322b292d9ad8b1",
              "version_major": 2,
              "version_minor": 0
            },
            "text/plain": [
              "  0%|          | 0/469 [00:00<?, ?it/s]"
            ]
          },
          "metadata": {},
          "output_type": "display_data"
        },
        {
          "data": {
            "application/vnd.jupyter.widget-view+json": {
              "model_id": "6aaeb80413484bf6bf6b79f77b0716fd",
              "version_major": 2,
              "version_minor": 0
            },
            "text/plain": [
              "  0%|          | 0/469 [00:00<?, ?it/s]"
            ]
          },
          "metadata": {},
          "output_type": "display_data"
        },
        {
          "data": {
            "application/vnd.jupyter.widget-view+json": {
              "model_id": "5d740fe3c7c4469bad4d1f409051c864",
              "version_major": 2,
              "version_minor": 0
            },
            "text/plain": [
              "  0%|          | 0/469 [00:00<?, ?it/s]"
            ]
          },
          "metadata": {},
          "output_type": "display_data"
        },
        {
          "data": {
            "application/vnd.jupyter.widget-view+json": {
              "model_id": "68fa1bbfecf14d7ebc2fed377dadf2b8",
              "version_major": 2,
              "version_minor": 0
            },
            "text/plain": [
              "  0%|          | 0/469 [00:00<?, ?it/s]"
            ]
          },
          "metadata": {},
          "output_type": "display_data"
        },
        {
          "data": {
            "application/vnd.jupyter.widget-view+json": {
              "model_id": "8bf8669dc0004de6b54abb75de34c3df",
              "version_major": 2,
              "version_minor": 0
            },
            "text/plain": [
              "  0%|          | 0/469 [00:00<?, ?it/s]"
            ]
          },
          "metadata": {},
          "output_type": "display_data"
        },
        {
          "data": {
            "application/vnd.jupyter.widget-view+json": {
              "model_id": "2deabac8afec433888f9e3c94baf32f9",
              "version_major": 2,
              "version_minor": 0
            },
            "text/plain": [
              "  0%|          | 0/469 [00:00<?, ?it/s]"
            ]
          },
          "metadata": {},
          "output_type": "display_data"
        },
        {
          "data": {
            "application/vnd.jupyter.widget-view+json": {
              "model_id": "2e09a77dbff3463c9c9385273a4fc9cc",
              "version_major": 2,
              "version_minor": 0
            },
            "text/plain": [
              "  0%|          | 0/469 [00:00<?, ?it/s]"
            ]
          },
          "metadata": {},
          "output_type": "display_data"
        },
        {
          "data": {
            "application/vnd.jupyter.widget-view+json": {
              "model_id": "854e0284ad1f43b58715403394d576db",
              "version_major": 2,
              "version_minor": 0
            },
            "text/plain": [
              "  0%|          | 0/469 [00:00<?, ?it/s]"
            ]
          },
          "metadata": {},
          "output_type": "display_data"
        },
        {
          "data": {
            "application/vnd.jupyter.widget-view+json": {
              "model_id": "d6bdf44c715a4c9ba10c6be0f45d68a9",
              "version_major": 2,
              "version_minor": 0
            },
            "text/plain": [
              "  0%|          | 0/469 [00:00<?, ?it/s]"
            ]
          },
          "metadata": {},
          "output_type": "display_data"
        },
        {
          "data": {
            "application/vnd.jupyter.widget-view+json": {
              "model_id": "0e3c1abe8224445d824bfffc3760a627",
              "version_major": 2,
              "version_minor": 0
            },
            "text/plain": [
              "Epoch 1, Loss: 1.0000000:   0%|          | 0/10 [00:00<?, ?it/s]"
            ]
          },
          "metadata": {},
          "output_type": "display_data"
        },
        {
          "data": {
            "application/vnd.jupyter.widget-view+json": {
              "model_id": "9ee4abc3bee94cd1bfaed5feb543944f",
              "version_major": 2,
              "version_minor": 0
            },
            "text/plain": [
              "  0%|          | 0/469 [00:00<?, ?it/s]"
            ]
          },
          "metadata": {},
          "output_type": "display_data"
        },
        {
          "data": {
            "application/vnd.jupyter.widget-view+json": {
              "model_id": "c563ca7c3c8148a897d574dd12187d6b",
              "version_major": 2,
              "version_minor": 0
            },
            "text/plain": [
              "  0%|          | 0/469 [00:00<?, ?it/s]"
            ]
          },
          "metadata": {},
          "output_type": "display_data"
        },
        {
          "data": {
            "application/vnd.jupyter.widget-view+json": {
              "model_id": "ce9cabd400ca4b2f940b61c294993e1b",
              "version_major": 2,
              "version_minor": 0
            },
            "text/plain": [
              "  0%|          | 0/469 [00:00<?, ?it/s]"
            ]
          },
          "metadata": {},
          "output_type": "display_data"
        },
        {
          "data": {
            "application/vnd.jupyter.widget-view+json": {
              "model_id": "5924d37d004c4edf8afcdec018f450f1",
              "version_major": 2,
              "version_minor": 0
            },
            "text/plain": [
              "  0%|          | 0/469 [00:00<?, ?it/s]"
            ]
          },
          "metadata": {},
          "output_type": "display_data"
        },
        {
          "data": {
            "application/vnd.jupyter.widget-view+json": {
              "model_id": "b5b0e547918f4531970697d302522e60",
              "version_major": 2,
              "version_minor": 0
            },
            "text/plain": [
              "  0%|          | 0/469 [00:00<?, ?it/s]"
            ]
          },
          "metadata": {},
          "output_type": "display_data"
        },
        {
          "data": {
            "application/vnd.jupyter.widget-view+json": {
              "model_id": "6debb78158394c79ae2e795b2c431015",
              "version_major": 2,
              "version_minor": 0
            },
            "text/plain": [
              "  0%|          | 0/469 [00:00<?, ?it/s]"
            ]
          },
          "metadata": {},
          "output_type": "display_data"
        },
        {
          "data": {
            "application/vnd.jupyter.widget-view+json": {
              "model_id": "5229fdb2a4884aeb842dbacae4ef262a",
              "version_major": 2,
              "version_minor": 0
            },
            "text/plain": [
              "  0%|          | 0/469 [00:00<?, ?it/s]"
            ]
          },
          "metadata": {},
          "output_type": "display_data"
        },
        {
          "data": {
            "application/vnd.jupyter.widget-view+json": {
              "model_id": "d9108a6fde244e769bcd371d53245a2a",
              "version_major": 2,
              "version_minor": 0
            },
            "text/plain": [
              "  0%|          | 0/469 [00:00<?, ?it/s]"
            ]
          },
          "metadata": {},
          "output_type": "display_data"
        },
        {
          "data": {
            "application/vnd.jupyter.widget-view+json": {
              "model_id": "0e47e8dad8624b1ca6668e07a3d35d5f",
              "version_major": 2,
              "version_minor": 0
            },
            "text/plain": [
              "  0%|          | 0/469 [00:00<?, ?it/s]"
            ]
          },
          "metadata": {},
          "output_type": "display_data"
        },
        {
          "data": {
            "application/vnd.jupyter.widget-view+json": {
              "model_id": "601f70b58cad4f55801d319183e2a495",
              "version_major": 2,
              "version_minor": 0
            },
            "text/plain": [
              "  0%|          | 0/469 [00:00<?, ?it/s]"
            ]
          },
          "metadata": {},
          "output_type": "display_data"
        },
        {
          "data": {
            "application/vnd.jupyter.widget-view+json": {
              "model_id": "ffe9d5102cf94d1fa5a61590239462dc",
              "version_major": 2,
              "version_minor": 0
            },
            "text/plain": [
              "Epoch 1, Loss: 1.0000000:   0%|          | 0/10 [00:00<?, ?it/s]"
            ]
          },
          "metadata": {},
          "output_type": "display_data"
        },
        {
          "data": {
            "application/vnd.jupyter.widget-view+json": {
              "model_id": "320ba0824ba04719b74bb4257fbd1666",
              "version_major": 2,
              "version_minor": 0
            },
            "text/plain": [
              "  0%|          | 0/469 [00:00<?, ?it/s]"
            ]
          },
          "metadata": {},
          "output_type": "display_data"
        },
        {
          "data": {
            "application/vnd.jupyter.widget-view+json": {
              "model_id": "84200d5f4389435f84e9c9673173b221",
              "version_major": 2,
              "version_minor": 0
            },
            "text/plain": [
              "  0%|          | 0/469 [00:00<?, ?it/s]"
            ]
          },
          "metadata": {},
          "output_type": "display_data"
        },
        {
          "data": {
            "application/vnd.jupyter.widget-view+json": {
              "model_id": "af3231cd18fa4f50a1129dfd09364363",
              "version_major": 2,
              "version_minor": 0
            },
            "text/plain": [
              "  0%|          | 0/469 [00:00<?, ?it/s]"
            ]
          },
          "metadata": {},
          "output_type": "display_data"
        },
        {
          "data": {
            "application/vnd.jupyter.widget-view+json": {
              "model_id": "c67ac480883d49079fafc8d06059f626",
              "version_major": 2,
              "version_minor": 0
            },
            "text/plain": [
              "  0%|          | 0/469 [00:00<?, ?it/s]"
            ]
          },
          "metadata": {},
          "output_type": "display_data"
        },
        {
          "data": {
            "application/vnd.jupyter.widget-view+json": {
              "model_id": "5ed9ca6eadb34621a64efa66b58c7ad2",
              "version_major": 2,
              "version_minor": 0
            },
            "text/plain": [
              "  0%|          | 0/469 [00:00<?, ?it/s]"
            ]
          },
          "metadata": {},
          "output_type": "display_data"
        },
        {
          "data": {
            "application/vnd.jupyter.widget-view+json": {
              "model_id": "64d7531d7795432cb545fafd40a936a1",
              "version_major": 2,
              "version_minor": 0
            },
            "text/plain": [
              "  0%|          | 0/469 [00:00<?, ?it/s]"
            ]
          },
          "metadata": {},
          "output_type": "display_data"
        },
        {
          "data": {
            "application/vnd.jupyter.widget-view+json": {
              "model_id": "1670d97dd11c40048b52a2570ee8b86d",
              "version_major": 2,
              "version_minor": 0
            },
            "text/plain": [
              "  0%|          | 0/469 [00:00<?, ?it/s]"
            ]
          },
          "metadata": {},
          "output_type": "display_data"
        },
        {
          "data": {
            "application/vnd.jupyter.widget-view+json": {
              "model_id": "a17eb05e341e4a02b4649a819a15bd96",
              "version_major": 2,
              "version_minor": 0
            },
            "text/plain": [
              "  0%|          | 0/469 [00:00<?, ?it/s]"
            ]
          },
          "metadata": {},
          "output_type": "display_data"
        },
        {
          "data": {
            "application/vnd.jupyter.widget-view+json": {
              "model_id": "26a2080af1504b318393d16307c25cf6",
              "version_major": 2,
              "version_minor": 0
            },
            "text/plain": [
              "  0%|          | 0/469 [00:00<?, ?it/s]"
            ]
          },
          "metadata": {},
          "output_type": "display_data"
        },
        {
          "data": {
            "application/vnd.jupyter.widget-view+json": {
              "model_id": "8ddc63f1400742ebbd94431fd4e0b1da",
              "version_major": 2,
              "version_minor": 0
            },
            "text/plain": [
              "  0%|          | 0/469 [00:00<?, ?it/s]"
            ]
          },
          "metadata": {},
          "output_type": "display_data"
        },
        {
          "data": {
            "application/vnd.jupyter.widget-view+json": {
              "model_id": "4de24a561ef847719caf24db267e8686",
              "version_major": 2,
              "version_minor": 0
            },
            "text/plain": [
              "Epoch 1, Loss: 1.0000000:   0%|          | 0/10 [00:00<?, ?it/s]"
            ]
          },
          "metadata": {},
          "output_type": "display_data"
        },
        {
          "data": {
            "application/vnd.jupyter.widget-view+json": {
              "model_id": "609f02617f8c46dcb74204e8c81852a3",
              "version_major": 2,
              "version_minor": 0
            },
            "text/plain": [
              "  0%|          | 0/469 [00:00<?, ?it/s]"
            ]
          },
          "metadata": {},
          "output_type": "display_data"
        },
        {
          "data": {
            "application/vnd.jupyter.widget-view+json": {
              "model_id": "bf78d7d899084bd490c978d58206752f",
              "version_major": 2,
              "version_minor": 0
            },
            "text/plain": [
              "  0%|          | 0/469 [00:00<?, ?it/s]"
            ]
          },
          "metadata": {},
          "output_type": "display_data"
        },
        {
          "data": {
            "application/vnd.jupyter.widget-view+json": {
              "model_id": "291ceb1be26e4aeaae0f879c1f12e5b3",
              "version_major": 2,
              "version_minor": 0
            },
            "text/plain": [
              "  0%|          | 0/469 [00:00<?, ?it/s]"
            ]
          },
          "metadata": {},
          "output_type": "display_data"
        },
        {
          "data": {
            "application/vnd.jupyter.widget-view+json": {
              "model_id": "16b7b2b0fd5f47c2906db07bba5cb026",
              "version_major": 2,
              "version_minor": 0
            },
            "text/plain": [
              "  0%|          | 0/469 [00:00<?, ?it/s]"
            ]
          },
          "metadata": {},
          "output_type": "display_data"
        },
        {
          "data": {
            "application/vnd.jupyter.widget-view+json": {
              "model_id": "acb9e607750542d18787b915cf398896",
              "version_major": 2,
              "version_minor": 0
            },
            "text/plain": [
              "  0%|          | 0/469 [00:00<?, ?it/s]"
            ]
          },
          "metadata": {},
          "output_type": "display_data"
        },
        {
          "data": {
            "application/vnd.jupyter.widget-view+json": {
              "model_id": "0a61c84dc9b9467e9b18a354f271d242",
              "version_major": 2,
              "version_minor": 0
            },
            "text/plain": [
              "  0%|          | 0/469 [00:00<?, ?it/s]"
            ]
          },
          "metadata": {},
          "output_type": "display_data"
        },
        {
          "data": {
            "application/vnd.jupyter.widget-view+json": {
              "model_id": "1d3cfbac97c344638db6438e0df34b0c",
              "version_major": 2,
              "version_minor": 0
            },
            "text/plain": [
              "  0%|          | 0/469 [00:00<?, ?it/s]"
            ]
          },
          "metadata": {},
          "output_type": "display_data"
        },
        {
          "data": {
            "application/vnd.jupyter.widget-view+json": {
              "model_id": "cd76bc4f5d0f40a4a1a399f0591eb9de",
              "version_major": 2,
              "version_minor": 0
            },
            "text/plain": [
              "  0%|          | 0/469 [00:00<?, ?it/s]"
            ]
          },
          "metadata": {},
          "output_type": "display_data"
        },
        {
          "data": {
            "application/vnd.jupyter.widget-view+json": {
              "model_id": "05685a8bfa7b4e17975e2d4737e9a024",
              "version_major": 2,
              "version_minor": 0
            },
            "text/plain": [
              "  0%|          | 0/469 [00:00<?, ?it/s]"
            ]
          },
          "metadata": {},
          "output_type": "display_data"
        },
        {
          "data": {
            "application/vnd.jupyter.widget-view+json": {
              "model_id": "7c3587ec78554bf0a0d782da5f20cd38",
              "version_major": 2,
              "version_minor": 0
            },
            "text/plain": [
              "  0%|          | 0/469 [00:00<?, ?it/s]"
            ]
          },
          "metadata": {},
          "output_type": "display_data"
        },
        {
          "name": "stdout",
          "output_type": "stream",
          "text": [
            "[94.19999999999999, 95.92, 96.48, 97.28, 97.66, 97.55, 97.84, 97.74000000000001, 97.92999999999999, 97.98, 96.34, 96.955, 96.97, 97.09, 97.135, 96.91499999999999, 96.975, 96.955, 96.77, 96.895, 95.37333333333332, 95.21333333333332, 94.70666666666666, 94.64666666666666, 94.81, 94.61333333333334, 94.64333333333332, 94.35333333333334, 94.06666666666666, 93.01333333333334, 92.6525, 91.58500000000001, 91.66250000000001, 92.07000000000001, 91.83250000000001, 91.885, 91.5875, 90.885, 91.685, 92.03000000000002, 90.74600000000001, 89.92800000000001, 90.35, 90.452, 90.182, 90.46, 90.49, 90.40799999999999, 90.604, 90.798]\n",
            "==================================================================================================\n"
          ]
        }
      ],
      "source": [
        "#EWC\n",
        "print(\"RUN EWC\")\n",
        "model = Model()\n",
        "model = model.to(device)\n",
        "# initialize optimizer\n",
        "optimizer = torch.optim.Adam(model.parameters(), lr=args.lr)\n",
        "\n",
        "# initialize lifelong learning object for EWC\n",
        "lll_object=ewc(model=model, dataloaders=[None],device=device)\n",
        "\n",
        "# setup the coefficient value of regularization term.\n",
        "lll_lambda=100\n",
        "ewc_acc= []\n",
        "task_bar = tqdm.auto.trange(len(train_dataloaders),desc=\"Task   1\")\n",
        "\n",
        "# iterate training on each task continually.\n",
        "for train_indexes in task_bar:\n",
        "    # Train Each Task\n",
        "    model, _, acc_list = train(model, optimizer, train_dataloaders[train_indexes], args.epochs_per_task, lll_object, lll_lambda, evaluate=evaluate,device=device, test_dataloaders=test_dataloaders[:train_indexes+1])\n",
        "    \n",
        "    # get model weight and calculate guidance for each weight\n",
        "    lll_object=ewc(model=model, dataloaders=test_dataloaders[:train_indexes+1],device=device)\n",
        "\n",
        "    # new a Optimizer\n",
        "    optimizer = torch.optim.Adam(model.parameters(), lr=args.lr)\n",
        "\n",
        "    # collect average accuracy in each epoch\n",
        "    ewc_acc.extend(acc_list)\n",
        "\n",
        "    # Update tqdm displayer\n",
        "    task_bar.set_description_str(f\"Task  {train_indexes+2:2}\")\n",
        "\n",
        "# average accuracy in each task per epoch!     \n",
        "print(ewc_acc)\n",
        "print(\"==================================================================================================\")\n",
        "\n"
      ]
    },
    {
      "cell_type": "markdown",
      "metadata": {
        "id": "aPz7wBXo7rkr"
      },
      "source": [
        "#### - MAS\n",
        "Memory Aware Synapses\n",
        "\n",
        "The mas class applied MAS algorithm to calculate regularization term.\n",
        "\n",
        "The concept of MAS is similar to EWC, the only difference is the calculation of the important weight. \n",
        "The details are mentioned in following blocks.\n",
        "\n",
        "MAS:\n",
        "\n",
        "In MAS, the Loss function is shown below, the model learn task A before it learned task B.\n",
        "\n",
        "$$\\mathcal{L}_B = \\mathcal{L}(\\theta) + \\sum_{i} \\frac{\\lambda}{2} \\Omega_i (\\theta_{i} - \\theta_{A,i}^{*})^2$$\n",
        "\n",
        "Compare with EWC, the $F_i$ in the loss function is replaced with $\\Omega_i$ in the following function.\n",
        "\n",
        "$$\\Omega_i = || \\frac{\\partial \\ell_2^2(M(x_k; \\theta))}{\\partial \\theta_i} || $$ \n",
        "\n",
        "$x_k$ is the sample data of the previous task. So the $\\Omega$ is obtained gradients of the squared L2-norm of the learned network output.\n",
        "\n",
        "The methods that proposed from paper is the local version by taking squared L2-norm outputs from the each layers of the model.\n",
        "\n",
        "Here we only implmented the global version by taking outputs from the last layer of the model. \n",
        "\n",
        "\n",
        "For Your Information: \n",
        "[Memory Aware Synapses](https://arxiv.org/pdf/1711.09601.pdf)\n",
        " \n",
        "\n"
      ]
    },
    {
      "cell_type": "code",
      "execution_count": null,
      "metadata": {
        "id": "nznnDrFP3UYf"
      },
      "outputs": [],
      "source": [
        "class mas(object):\n",
        "    \"\"\"\n",
        "    @article{aljundi2017memory,\n",
        "      title={Memory Aware Synapses: Learning what (not) to forget},\n",
        "      author={Aljundi, Rahaf and Babiloni, Francesca and Elhoseiny, Mohamed and Rohrbach, Marcus and Tuytelaars, Tinne},\n",
        "      booktitle={ECCV},\n",
        "      year={2018},\n",
        "      url={https://eccv2018.org/openaccess/content_ECCV_2018/papers/Rahaf_Aljundi_Memory_Aware_Synapses_ECCV_2018_paper.pdf}\n",
        "    }\n",
        "    \"\"\"\n",
        "    def __init__(self, model: nn.Module, dataloaders: list, device):\n",
        "        self.model = model\n",
        "        self.dataloaders = dataloaders\n",
        "        self.params = {\n",
        "            n: p\n",
        "            for n, p in self.model.named_parameters() if p.requires_grad\n",
        "        }  #extract all parameters in models\n",
        "        self.p_old = {}  # initialize parameters\n",
        "        self.device = device\n",
        "        self._precision_matrices = self.calculate_importance(\n",
        "        )  # generate Omega(Ω) matrix for MAS\n",
        "\n",
        "        for n, p in self.params.items():\n",
        "            self.p_old[n] = p.clone().detach(\n",
        "            )  # keep the old parameter in self.p_old\n",
        "\n",
        "    def calculate_importance(self):\n",
        "        precision_matrices = {}\n",
        "        for n, p in self.params.items():\n",
        "            precision_matrices[n] = p.clone().detach().fill_(\n",
        "                0)  # initialize Omega(Ω) matrix（all filled zero）\n",
        "\n",
        "        self.model.eval()\n",
        "        if self.dataloaders[0] is not None:\n",
        "            dataloader_num = len(self.dataloaders)\n",
        "            num_data = sum([len(loader) for loader in self.dataloaders])\n",
        "            for dataloader in self.dataloaders: # # self.dataloaders doesn't contain current task data (test_dataloaders[train_index])\n",
        "                for data in dataloader:\n",
        "                    self.model.zero_grad()\n",
        "                    output = self.model(data[0].to(self.device))\n",
        "\n",
        "                    ###########################################################################################################################################\n",
        "                    #####  TODO BLOCK: generate Omega(Ω) matrix for MAS. (Hint: square of l2 norm of output vector, then backward and take its gradients  #####\n",
        "                    ###########################################################################################################################################\n",
        "                    output.pow_(2)\n",
        "                    loss = torch.sum(output, dim=1)\n",
        "                    loss = loss.mean()\n",
        "                    loss.backward()\n",
        "                    ###########################################################################################################################################\n",
        "\n",
        "                    for n, p in self.model.named_parameters():\n",
        "                        precision_matrices[n].data += p.grad.abs(\n",
        "                        ) / num_data  ## difference with EWC\n",
        "\n",
        "        precision_matrices = {n: p for n, p in precision_matrices.items()}\n",
        "        return precision_matrices\n",
        "\n",
        "    def penalty(self, model: nn.Module):\n",
        "        loss = 0\n",
        "        for n, p in model.named_parameters():\n",
        "            _loss = self._precision_matrices[n] * (p - self.p_old[n])**2\n",
        "            loss += _loss.sum()\n",
        "        return loss\n",
        "\n",
        "    def update(self, model):\n",
        "        # do nothing\n",
        "        return\n"
      ]
    },
    {
      "cell_type": "markdown",
      "metadata": {
        "id": "zfbD-yPG-LkN"
      },
      "source": [
        "Main process for MAS"
      ]
    },
    {
      "cell_type": "code",
      "execution_count": null,
      "metadata": {
        "colab": {
          "base_uri": "https://localhost:8080/",
          "height": 123,
          "referenced_widgets": [
            "83cbc2ec59cf4e9987bae4f7132af729",
            "cdcb3c49f4b44a769a93d7b0bf0c2d88",
            "b77fd3397c1f40408ce658ce3ae565b5",
            "6ee3e31459ff45f8a787523fa6d0b46b",
            "ed8edaf9f6d3435dbdc447b3a0519610",
            "da0e80541ce94ffbba8a43e1145cfb55",
            "e5dabbb531f54a89b54a8f5e7c53b821",
            "bbe29f77dea84c719a5a22b8b1d9a28f",
            "5036c529cac243899e21c7cb601b7599",
            "29b1edb9c32043b2ad5e7e5f7568b2cd",
            "d778ec4d22c14c14bdd16b88ca9bcbb8",
            "aff770b92e4c46aeb7b5d0540c615d9c",
            "def887e407c0425c8c6d45cd2db40492",
            "f9141a67615145d7975e48b64d03c164",
            "35cb6bda75d949df8b9e2d56bb04f43e",
            "0c270452e562427399b255cef2acfd56",
            "7e9c607deca747cb9189284d5cb97a94",
            "a0f6f13739c84b1f895d647ae8bc5123",
            "8d93021efc4a46fbb4821fa372fcfff6",
            "86a71cc34b3e4d8395d51375b3f06a08",
            "b3993051b107453e936bd7351a78ef5b",
            "de455453d0c74e10a19479997d329465",
            "65b5578bf8964a0db028836626762deb",
            "5e6ebbbe25164bd4b499366dcc4f9bff",
            "f0c58691196744c3bd06e6627abade96",
            "7d9eb12d33dd42f0b7732ce35c8f1893",
            "e6e6b9d7579e4ab798253b6f95611cb3",
            "492848badec1470880e4387159da39fa",
            "f3dc2aa1626442be8de71b3a3cfa4bf3",
            "0bac8432413040beb24239b53e55201f",
            "d3101d5789284d22a61544e6225417c8",
            "9a75a57689f2477bade9df39045ddec3",
            "cdb196f60d5d44148a9c99d768b457d3",
            "7d218a4892ba475ca3ad5f1a07dcb961",
            "a104686ce1564ed09bcaa0b1198abf9c",
            "0afd847d34b8423ba2ecf09a36e4b1f6",
            "60f9dddec7114d099361a6e56ac88123",
            "048541e0846448809a31ada5f2a45b03",
            "af2d9a7bfa17442dadf22ce35758e843",
            "af24525eeef7472e9fb5216c05c85fb1",
            "4c7e4a390b1a4567b845581a5e314dde",
            "6f93d7caf7864e50a9a724d972334e02",
            "09f5eea2ce11418386ca36d819f58141",
            "074e003b27de475689d882bc92f9f150",
            "3edbc805f69841609a82d793ee99cb76",
            "8d75338fd5a44871ba524bf2c1049d35",
            "c477edbf600b45c7ba2d12d09227f413",
            "68321fd7bfbe401a97e7982cda20fa74",
            "c2a564caffa04a6eb10e800629a71982",
            "035ecfdb21144b999476c25a118dd8c3",
            "5759a1225b5847b082a754e1b8add772",
            "04489b828a0b4b49861ac8b27094e367",
            "34dca8266f3a4632ba58074c5048d996",
            "60c9ac155db844d98e4d7c76db7b8569",
            "37fee0a55bda4c33a8b2a7a2bf0d951a",
            "1ba50316ee584489800bc4ee2df83212",
            "102f841ff02543bbb961b6bcb4ca9e94",
            "c3652e313cb74ae78f43c2280410448f",
            "d5655eb2066c489e86491d480d974eee",
            "9f19a8a5bb2a4bcaba3781154a6fa612",
            "a174f46e788a46f6befe59d0621337e2",
            "5f3ef99f2a464e7cac9478e331d08830",
            "4afa462fa2144f27a02d032ceeec5d04",
            "cb07c9a6bb8942098d880b1758874962",
            "52baab88cb2a46d7b3bad7cf69a1a8f6",
            "e8772edefa544540a62077b9ef834be9",
            "a9c08deb93fb4580b9cc0a51b681422f",
            "7054e577791c4eff81aecd554923aa09",
            "0b82ebca1ae1487390d3b112a7fa5f3b",
            "3c0edce764194236a48772697aeb269e",
            "6c6cbeea63a2453eb90c1ca04335180c",
            "a130f2042eff44f4922466a362e8d3f0",
            "e785c9c82b3740fe8d7ff7f694472f56",
            "2dbb6c74cd6a4d9e8921b775e2a97bbe",
            "3bfadd9a5d4245e2bf7f5248480fbf06",
            "d80e49a4cdae44c3a17bf8d98fa23e1e",
            "7157cad13bd841508ba73e5843d20a4c",
            "6f12740508d94841af6033a9d89afc2b",
            "7e141c974fca4272a427a6bed16d6eeb",
            "903961ce05794e04b158e218837b5c64",
            "118bfb6e569e45cbba28ac386bf09891",
            "4058ee9c42e449bcaf23a4af1899eff7",
            "965f8662bbbe4be1bebbcbd1cf402f3f",
            "42be72d216974c7e9e743e02399a0fd7",
            "eec05fa910314a76bb7f35847f00b9e9",
            "bd1d435d54724a67a8f17b3a00e84187"
          ]
        },
        "id": "HLoLPPmD-BHD",
        "outputId": "be3b617e-d6b6-42fa-d42c-8069cc43faca"
      },
      "outputs": [
        {
          "name": "stdout",
          "output_type": "stream",
          "text": [
            "RUN MAS\n"
          ]
        },
        {
          "data": {
            "application/vnd.jupyter.widget-view+json": {
              "model_id": "83cbc2ec59cf4e9987bae4f7132af729",
              "version_major": 2,
              "version_minor": 0
            },
            "text/plain": [
              "Task   1:   0%|          | 0/5 [00:00<?, ?it/s]"
            ]
          },
          "metadata": {},
          "output_type": "display_data"
        },
        {
          "data": {
            "application/vnd.jupyter.widget-view+json": {
              "model_id": "aff770b92e4c46aeb7b5d0540c615d9c",
              "version_major": 2,
              "version_minor": 0
            },
            "text/plain": [
              "Epoch 1, Loss: 1.0000000:   0%|          | 0/10 [00:00<?, ?it/s]"
            ]
          },
          "metadata": {},
          "output_type": "display_data"
        },
        {
          "data": {
            "application/vnd.jupyter.widget-view+json": {
              "model_id": "65b5578bf8964a0db028836626762deb",
              "version_major": 2,
              "version_minor": 0
            },
            "text/plain": [
              "  0%|          | 0/469 [00:00<?, ?it/s]"
            ]
          },
          "metadata": {},
          "output_type": "display_data"
        },
        {
          "data": {
            "application/vnd.jupyter.widget-view+json": {
              "model_id": "7d218a4892ba475ca3ad5f1a07dcb961",
              "version_major": 2,
              "version_minor": 0
            },
            "text/plain": [
              "  0%|          | 0/469 [00:00<?, ?it/s]"
            ]
          },
          "metadata": {},
          "output_type": "display_data"
        },
        {
          "data": {
            "application/vnd.jupyter.widget-view+json": {
              "model_id": "a104686ce1564ed09bcaa0b1198abf9c",
              "version_major": 2,
              "version_minor": 0
            },
            "text/plain": [
              "  0%|          | 0/469 [00:00<?, ?it/s]"
            ]
          },
          "metadata": {},
          "output_type": "display_data"
        },
        {
          "data": {
            "application/vnd.jupyter.widget-view+json": {
              "model_id": "0afd847d34b8423ba2ecf09a36e4b1f6",
              "version_major": 2,
              "version_minor": 0
            },
            "text/plain": [
              "  0%|          | 0/469 [00:00<?, ?it/s]"
            ]
          },
          "metadata": {},
          "output_type": "display_data"
        },
        {
          "data": {
            "application/vnd.jupyter.widget-view+json": {
              "model_id": "60f9dddec7114d099361a6e56ac88123",
              "version_major": 2,
              "version_minor": 0
            },
            "text/plain": [
              "  0%|          | 0/469 [00:00<?, ?it/s]"
            ]
          },
          "metadata": {},
          "output_type": "display_data"
        },
        {
          "data": {
            "application/vnd.jupyter.widget-view+json": {
              "model_id": "048541e0846448809a31ada5f2a45b03",
              "version_major": 2,
              "version_minor": 0
            },
            "text/plain": [
              "  0%|          | 0/469 [00:00<?, ?it/s]"
            ]
          },
          "metadata": {},
          "output_type": "display_data"
        },
        {
          "data": {
            "application/vnd.jupyter.widget-view+json": {
              "model_id": "af2d9a7bfa17442dadf22ce35758e843",
              "version_major": 2,
              "version_minor": 0
            },
            "text/plain": [
              "  0%|          | 0/469 [00:00<?, ?it/s]"
            ]
          },
          "metadata": {},
          "output_type": "display_data"
        },
        {
          "data": {
            "application/vnd.jupyter.widget-view+json": {
              "model_id": "af24525eeef7472e9fb5216c05c85fb1",
              "version_major": 2,
              "version_minor": 0
            },
            "text/plain": [
              "  0%|          | 0/469 [00:00<?, ?it/s]"
            ]
          },
          "metadata": {},
          "output_type": "display_data"
        },
        {
          "data": {
            "application/vnd.jupyter.widget-view+json": {
              "model_id": "4c7e4a390b1a4567b845581a5e314dde",
              "version_major": 2,
              "version_minor": 0
            },
            "text/plain": [
              "  0%|          | 0/469 [00:00<?, ?it/s]"
            ]
          },
          "metadata": {},
          "output_type": "display_data"
        },
        {
          "data": {
            "application/vnd.jupyter.widget-view+json": {
              "model_id": "6f93d7caf7864e50a9a724d972334e02",
              "version_major": 2,
              "version_minor": 0
            },
            "text/plain": [
              "  0%|          | 0/469 [00:00<?, ?it/s]"
            ]
          },
          "metadata": {},
          "output_type": "display_data"
        },
        {
          "data": {
            "application/vnd.jupyter.widget-view+json": {
              "model_id": "09f5eea2ce11418386ca36d819f58141",
              "version_major": 2,
              "version_minor": 0
            },
            "text/plain": [
              "Epoch 1, Loss: 1.0000000:   0%|          | 0/10 [00:00<?, ?it/s]"
            ]
          },
          "metadata": {},
          "output_type": "display_data"
        },
        {
          "data": {
            "application/vnd.jupyter.widget-view+json": {
              "model_id": "074e003b27de475689d882bc92f9f150",
              "version_major": 2,
              "version_minor": 0
            },
            "text/plain": [
              "  0%|          | 0/469 [00:00<?, ?it/s]"
            ]
          },
          "metadata": {},
          "output_type": "display_data"
        },
        {
          "data": {
            "application/vnd.jupyter.widget-view+json": {
              "model_id": "3edbc805f69841609a82d793ee99cb76",
              "version_major": 2,
              "version_minor": 0
            },
            "text/plain": [
              "  0%|          | 0/469 [00:00<?, ?it/s]"
            ]
          },
          "metadata": {},
          "output_type": "display_data"
        },
        {
          "data": {
            "application/vnd.jupyter.widget-view+json": {
              "model_id": "8d75338fd5a44871ba524bf2c1049d35",
              "version_major": 2,
              "version_minor": 0
            },
            "text/plain": [
              "  0%|          | 0/469 [00:00<?, ?it/s]"
            ]
          },
          "metadata": {},
          "output_type": "display_data"
        },
        {
          "data": {
            "application/vnd.jupyter.widget-view+json": {
              "model_id": "c477edbf600b45c7ba2d12d09227f413",
              "version_major": 2,
              "version_minor": 0
            },
            "text/plain": [
              "  0%|          | 0/469 [00:00<?, ?it/s]"
            ]
          },
          "metadata": {},
          "output_type": "display_data"
        },
        {
          "data": {
            "application/vnd.jupyter.widget-view+json": {
              "model_id": "68321fd7bfbe401a97e7982cda20fa74",
              "version_major": 2,
              "version_minor": 0
            },
            "text/plain": [
              "  0%|          | 0/469 [00:00<?, ?it/s]"
            ]
          },
          "metadata": {},
          "output_type": "display_data"
        },
        {
          "data": {
            "application/vnd.jupyter.widget-view+json": {
              "model_id": "c2a564caffa04a6eb10e800629a71982",
              "version_major": 2,
              "version_minor": 0
            },
            "text/plain": [
              "  0%|          | 0/469 [00:00<?, ?it/s]"
            ]
          },
          "metadata": {},
          "output_type": "display_data"
        },
        {
          "data": {
            "application/vnd.jupyter.widget-view+json": {
              "model_id": "035ecfdb21144b999476c25a118dd8c3",
              "version_major": 2,
              "version_minor": 0
            },
            "text/plain": [
              "  0%|          | 0/469 [00:00<?, ?it/s]"
            ]
          },
          "metadata": {},
          "output_type": "display_data"
        },
        {
          "data": {
            "application/vnd.jupyter.widget-view+json": {
              "model_id": "5759a1225b5847b082a754e1b8add772",
              "version_major": 2,
              "version_minor": 0
            },
            "text/plain": [
              "  0%|          | 0/469 [00:00<?, ?it/s]"
            ]
          },
          "metadata": {},
          "output_type": "display_data"
        },
        {
          "data": {
            "application/vnd.jupyter.widget-view+json": {
              "model_id": "04489b828a0b4b49861ac8b27094e367",
              "version_major": 2,
              "version_minor": 0
            },
            "text/plain": [
              "  0%|          | 0/469 [00:00<?, ?it/s]"
            ]
          },
          "metadata": {},
          "output_type": "display_data"
        },
        {
          "data": {
            "application/vnd.jupyter.widget-view+json": {
              "model_id": "34dca8266f3a4632ba58074c5048d996",
              "version_major": 2,
              "version_minor": 0
            },
            "text/plain": [
              "  0%|          | 0/469 [00:00<?, ?it/s]"
            ]
          },
          "metadata": {},
          "output_type": "display_data"
        },
        {
          "data": {
            "application/vnd.jupyter.widget-view+json": {
              "model_id": "60c9ac155db844d98e4d7c76db7b8569",
              "version_major": 2,
              "version_minor": 0
            },
            "text/plain": [
              "Epoch 1, Loss: 1.0000000:   0%|          | 0/10 [00:00<?, ?it/s]"
            ]
          },
          "metadata": {},
          "output_type": "display_data"
        },
        {
          "data": {
            "application/vnd.jupyter.widget-view+json": {
              "model_id": "37fee0a55bda4c33a8b2a7a2bf0d951a",
              "version_major": 2,
              "version_minor": 0
            },
            "text/plain": [
              "  0%|          | 0/469 [00:00<?, ?it/s]"
            ]
          },
          "metadata": {},
          "output_type": "display_data"
        },
        {
          "data": {
            "application/vnd.jupyter.widget-view+json": {
              "model_id": "1ba50316ee584489800bc4ee2df83212",
              "version_major": 2,
              "version_minor": 0
            },
            "text/plain": [
              "  0%|          | 0/469 [00:00<?, ?it/s]"
            ]
          },
          "metadata": {},
          "output_type": "display_data"
        },
        {
          "data": {
            "application/vnd.jupyter.widget-view+json": {
              "model_id": "102f841ff02543bbb961b6bcb4ca9e94",
              "version_major": 2,
              "version_minor": 0
            },
            "text/plain": [
              "  0%|          | 0/469 [00:00<?, ?it/s]"
            ]
          },
          "metadata": {},
          "output_type": "display_data"
        },
        {
          "data": {
            "application/vnd.jupyter.widget-view+json": {
              "model_id": "c3652e313cb74ae78f43c2280410448f",
              "version_major": 2,
              "version_minor": 0
            },
            "text/plain": [
              "  0%|          | 0/469 [00:00<?, ?it/s]"
            ]
          },
          "metadata": {},
          "output_type": "display_data"
        },
        {
          "data": {
            "application/vnd.jupyter.widget-view+json": {
              "model_id": "d5655eb2066c489e86491d480d974eee",
              "version_major": 2,
              "version_minor": 0
            },
            "text/plain": [
              "  0%|          | 0/469 [00:00<?, ?it/s]"
            ]
          },
          "metadata": {},
          "output_type": "display_data"
        },
        {
          "data": {
            "application/vnd.jupyter.widget-view+json": {
              "model_id": "9f19a8a5bb2a4bcaba3781154a6fa612",
              "version_major": 2,
              "version_minor": 0
            },
            "text/plain": [
              "  0%|          | 0/469 [00:00<?, ?it/s]"
            ]
          },
          "metadata": {},
          "output_type": "display_data"
        },
        {
          "data": {
            "application/vnd.jupyter.widget-view+json": {
              "model_id": "a174f46e788a46f6befe59d0621337e2",
              "version_major": 2,
              "version_minor": 0
            },
            "text/plain": [
              "  0%|          | 0/469 [00:00<?, ?it/s]"
            ]
          },
          "metadata": {},
          "output_type": "display_data"
        },
        {
          "data": {
            "application/vnd.jupyter.widget-view+json": {
              "model_id": "5f3ef99f2a464e7cac9478e331d08830",
              "version_major": 2,
              "version_minor": 0
            },
            "text/plain": [
              "  0%|          | 0/469 [00:00<?, ?it/s]"
            ]
          },
          "metadata": {},
          "output_type": "display_data"
        },
        {
          "data": {
            "application/vnd.jupyter.widget-view+json": {
              "model_id": "4afa462fa2144f27a02d032ceeec5d04",
              "version_major": 2,
              "version_minor": 0
            },
            "text/plain": [
              "  0%|          | 0/469 [00:00<?, ?it/s]"
            ]
          },
          "metadata": {},
          "output_type": "display_data"
        },
        {
          "data": {
            "application/vnd.jupyter.widget-view+json": {
              "model_id": "cb07c9a6bb8942098d880b1758874962",
              "version_major": 2,
              "version_minor": 0
            },
            "text/plain": [
              "  0%|          | 0/469 [00:00<?, ?it/s]"
            ]
          },
          "metadata": {},
          "output_type": "display_data"
        },
        {
          "data": {
            "application/vnd.jupyter.widget-view+json": {
              "model_id": "52baab88cb2a46d7b3bad7cf69a1a8f6",
              "version_major": 2,
              "version_minor": 0
            },
            "text/plain": [
              "Epoch 1, Loss: 1.0000000:   0%|          | 0/10 [00:00<?, ?it/s]"
            ]
          },
          "metadata": {},
          "output_type": "display_data"
        },
        {
          "data": {
            "application/vnd.jupyter.widget-view+json": {
              "model_id": "e8772edefa544540a62077b9ef834be9",
              "version_major": 2,
              "version_minor": 0
            },
            "text/plain": [
              "  0%|          | 0/469 [00:00<?, ?it/s]"
            ]
          },
          "metadata": {},
          "output_type": "display_data"
        },
        {
          "data": {
            "application/vnd.jupyter.widget-view+json": {
              "model_id": "a9c08deb93fb4580b9cc0a51b681422f",
              "version_major": 2,
              "version_minor": 0
            },
            "text/plain": [
              "  0%|          | 0/469 [00:00<?, ?it/s]"
            ]
          },
          "metadata": {},
          "output_type": "display_data"
        },
        {
          "data": {
            "application/vnd.jupyter.widget-view+json": {
              "model_id": "7054e577791c4eff81aecd554923aa09",
              "version_major": 2,
              "version_minor": 0
            },
            "text/plain": [
              "  0%|          | 0/469 [00:00<?, ?it/s]"
            ]
          },
          "metadata": {},
          "output_type": "display_data"
        },
        {
          "data": {
            "application/vnd.jupyter.widget-view+json": {
              "model_id": "0b82ebca1ae1487390d3b112a7fa5f3b",
              "version_major": 2,
              "version_minor": 0
            },
            "text/plain": [
              "  0%|          | 0/469 [00:00<?, ?it/s]"
            ]
          },
          "metadata": {},
          "output_type": "display_data"
        },
        {
          "data": {
            "application/vnd.jupyter.widget-view+json": {
              "model_id": "3c0edce764194236a48772697aeb269e",
              "version_major": 2,
              "version_minor": 0
            },
            "text/plain": [
              "  0%|          | 0/469 [00:00<?, ?it/s]"
            ]
          },
          "metadata": {},
          "output_type": "display_data"
        },
        {
          "data": {
            "application/vnd.jupyter.widget-view+json": {
              "model_id": "6c6cbeea63a2453eb90c1ca04335180c",
              "version_major": 2,
              "version_minor": 0
            },
            "text/plain": [
              "  0%|          | 0/469 [00:00<?, ?it/s]"
            ]
          },
          "metadata": {},
          "output_type": "display_data"
        },
        {
          "data": {
            "application/vnd.jupyter.widget-view+json": {
              "model_id": "a130f2042eff44f4922466a362e8d3f0",
              "version_major": 2,
              "version_minor": 0
            },
            "text/plain": [
              "  0%|          | 0/469 [00:00<?, ?it/s]"
            ]
          },
          "metadata": {},
          "output_type": "display_data"
        },
        {
          "data": {
            "application/vnd.jupyter.widget-view+json": {
              "model_id": "e785c9c82b3740fe8d7ff7f694472f56",
              "version_major": 2,
              "version_minor": 0
            },
            "text/plain": [
              "  0%|          | 0/469 [00:00<?, ?it/s]"
            ]
          },
          "metadata": {},
          "output_type": "display_data"
        },
        {
          "data": {
            "application/vnd.jupyter.widget-view+json": {
              "model_id": "2dbb6c74cd6a4d9e8921b775e2a97bbe",
              "version_major": 2,
              "version_minor": 0
            },
            "text/plain": [
              "  0%|          | 0/469 [00:00<?, ?it/s]"
            ]
          },
          "metadata": {},
          "output_type": "display_data"
        },
        {
          "data": {
            "application/vnd.jupyter.widget-view+json": {
              "model_id": "3bfadd9a5d4245e2bf7f5248480fbf06",
              "version_major": 2,
              "version_minor": 0
            },
            "text/plain": [
              "  0%|          | 0/469 [00:00<?, ?it/s]"
            ]
          },
          "metadata": {},
          "output_type": "display_data"
        },
        {
          "data": {
            "application/vnd.jupyter.widget-view+json": {
              "model_id": "d80e49a4cdae44c3a17bf8d98fa23e1e",
              "version_major": 2,
              "version_minor": 0
            },
            "text/plain": [
              "Epoch 1, Loss: 1.0000000:   0%|          | 0/10 [00:00<?, ?it/s]"
            ]
          },
          "metadata": {},
          "output_type": "display_data"
        },
        {
          "data": {
            "application/vnd.jupyter.widget-view+json": {
              "model_id": "7157cad13bd841508ba73e5843d20a4c",
              "version_major": 2,
              "version_minor": 0
            },
            "text/plain": [
              "  0%|          | 0/469 [00:00<?, ?it/s]"
            ]
          },
          "metadata": {},
          "output_type": "display_data"
        },
        {
          "data": {
            "application/vnd.jupyter.widget-view+json": {
              "model_id": "6f12740508d94841af6033a9d89afc2b",
              "version_major": 2,
              "version_minor": 0
            },
            "text/plain": [
              "  0%|          | 0/469 [00:00<?, ?it/s]"
            ]
          },
          "metadata": {},
          "output_type": "display_data"
        },
        {
          "data": {
            "application/vnd.jupyter.widget-view+json": {
              "model_id": "7e141c974fca4272a427a6bed16d6eeb",
              "version_major": 2,
              "version_minor": 0
            },
            "text/plain": [
              "  0%|          | 0/469 [00:00<?, ?it/s]"
            ]
          },
          "metadata": {},
          "output_type": "display_data"
        },
        {
          "data": {
            "application/vnd.jupyter.widget-view+json": {
              "model_id": "903961ce05794e04b158e218837b5c64",
              "version_major": 2,
              "version_minor": 0
            },
            "text/plain": [
              "  0%|          | 0/469 [00:00<?, ?it/s]"
            ]
          },
          "metadata": {},
          "output_type": "display_data"
        },
        {
          "data": {
            "application/vnd.jupyter.widget-view+json": {
              "model_id": "118bfb6e569e45cbba28ac386bf09891",
              "version_major": 2,
              "version_minor": 0
            },
            "text/plain": [
              "  0%|          | 0/469 [00:00<?, ?it/s]"
            ]
          },
          "metadata": {},
          "output_type": "display_data"
        },
        {
          "data": {
            "application/vnd.jupyter.widget-view+json": {
              "model_id": "4058ee9c42e449bcaf23a4af1899eff7",
              "version_major": 2,
              "version_minor": 0
            },
            "text/plain": [
              "  0%|          | 0/469 [00:00<?, ?it/s]"
            ]
          },
          "metadata": {},
          "output_type": "display_data"
        },
        {
          "data": {
            "application/vnd.jupyter.widget-view+json": {
              "model_id": "965f8662bbbe4be1bebbcbd1cf402f3f",
              "version_major": 2,
              "version_minor": 0
            },
            "text/plain": [
              "  0%|          | 0/469 [00:00<?, ?it/s]"
            ]
          },
          "metadata": {},
          "output_type": "display_data"
        },
        {
          "data": {
            "application/vnd.jupyter.widget-view+json": {
              "model_id": "42be72d216974c7e9e743e02399a0fd7",
              "version_major": 2,
              "version_minor": 0
            },
            "text/plain": [
              "  0%|          | 0/469 [00:00<?, ?it/s]"
            ]
          },
          "metadata": {},
          "output_type": "display_data"
        },
        {
          "data": {
            "application/vnd.jupyter.widget-view+json": {
              "model_id": "eec05fa910314a76bb7f35847f00b9e9",
              "version_major": 2,
              "version_minor": 0
            },
            "text/plain": [
              "  0%|          | 0/469 [00:00<?, ?it/s]"
            ]
          },
          "metadata": {},
          "output_type": "display_data"
        },
        {
          "data": {
            "application/vnd.jupyter.widget-view+json": {
              "model_id": "bd1d435d54724a67a8f17b3a00e84187",
              "version_major": 2,
              "version_minor": 0
            },
            "text/plain": [
              "  0%|          | 0/469 [00:00<?, ?it/s]"
            ]
          },
          "metadata": {},
          "output_type": "display_data"
        },
        {
          "name": "stdout",
          "output_type": "stream",
          "text": [
            "[94.11, 95.8, 96.94, 97.49, 97.74000000000001, 97.91, 97.97, 97.96000000000001, 97.7, 98.22, 95.8, 96.435, 96.42999999999999, 96.55, 96.91000000000001, 96.83, 96.535, 96.85000000000001, 96.60499999999999, 96.405, 95.27000000000001, 95.78333333333333, 95.92999999999999, 95.89333333333335, 96.03, 96.13666666666667, 96.13000000000001, 95.87, 95.94333333333333, 96.08666666666666, 95.095, 95.24, 95.56750000000001, 95.52, 95.45, 95.485, 95.57500000000002, 95.67, 95.6275, 95.5625, 93.84, 94.19999999999999, 94.264, 94.368, 94.012, 94.342, 94.534, 94.292, 94.50800000000001, 94.06599999999999]\n",
            "==================================================================================================\n"
          ]
        }
      ],
      "source": [
        "    # MAS\n",
        "    print(\"RUN MAS\")\n",
        "    model = Model()\n",
        "    model = model.to(device)\n",
        "    optimizer = torch.optim.Adam(model.parameters(), lr=args.lr)\n",
        "\n",
        "    lll_object=mas(model=model, dataloaders=[None],device=device)\n",
        "    lll_lambda=0.1\n",
        "    mas_acc= []\n",
        "    task_bar = tqdm.auto.trange(len(train_dataloaders),desc=\"Task   1\")\n",
        "    for train_indexes in task_bar:\n",
        "        # Train Each Task\n",
        "        model, _, acc_list = train(model, optimizer, train_dataloaders[train_indexes], args.epochs_per_task, lll_object, lll_lambda, evaluate=evaluate,device=device, test_dataloaders=test_dataloaders[:train_indexes+1])\n",
        "        \n",
        "        # get model weight and calculate guidance for each weight\n",
        "        lll_object=mas(model=model, dataloaders=test_dataloaders[:train_indexes+1],device=device)\n",
        "\n",
        "        # New a Optimizer\n",
        "        optimizer = torch.optim.Adam(model.parameters(), lr=args.lr)\n",
        "\n",
        "        # Collect average accuracy in each epoch\n",
        "        mas_acc.extend(acc_list)\n",
        "        task_bar.set_description_str(f\"Task  {train_indexes+2:2}\")\n",
        "    \n",
        "    # average accuracy in each task per epoch!     \n",
        "    print(mas_acc)\n",
        "    print(\"==================================================================================================\")\n"
      ]
    },
    {
      "cell_type": "markdown",
      "metadata": {
        "id": "OJ4LYprnRO73"
      },
      "source": [
        "#### - SI\n",
        "The si class applied SI (Synaptic Intelligence) algorithm to calculate regularization term."
      ]
    },
    {
      "cell_type": "code",
      "execution_count": null,
      "metadata": {
        "id": "vN4PS1nSRaEx"
      },
      "outputs": [],
      "source": [
        "import torch\n",
        "import torch.nn as nn\n",
        "import torch.nn.functional as F\n",
        "\n",
        "\n",
        "class si(object):\n",
        "    \"\"\"\n",
        "    @article{kirkpatrick2017overcoming,\n",
        "        title={Overcoming catastrophic forgetting in neural networks},\n",
        "        author={Kirkpatrick, James and Pascanu, Razvan and Rabinowitz, Neil and Veness, Joel and Desjardins, Guillaume and Rusu, Andrei A and Milan, Kieran and Quan, John and Ramalho, Tiago and Grabska-Barwinska, Agnieszka and others},\n",
        "        journal={Proceedings of the national academy of sciences},\n",
        "        year={2017},\n",
        "        url={https://arxiv.org/abs/1612.00796}\n",
        "    }\n",
        "  \"\"\"\n",
        "    def __init__(self, model, dataloaders, epsilon, device):\n",
        "    \n",
        "        self.model = model\n",
        "        self.dataloaders = dataloaders\n",
        "        self.device = device\n",
        "        self.epsilon = epsilon\n",
        "        self.params = {n: p for n, p in self.model.named_parameters() if p.requires_grad} #抓出模型的所有參數\n",
        "        self._n_p_prev, self._n_omega = self._calculate_importance() \n",
        "        self.W, self.p_old = self._init_()\n",
        "\n",
        "    def _init_(self):\n",
        "        W = {}\n",
        "        p_old = {}\n",
        "        for n, p in self.model.named_parameters():\n",
        "            n = n.replace('.', '__')\n",
        "            if p.requires_grad:\n",
        "                W[n] = p.data.clone().zero_()\n",
        "                p_old[n] = p.data.clone()\n",
        "        return W, p_old\n",
        "\n",
        "    def _calculate_importance(self):\n",
        "        n_p_prev = {}\n",
        "        n_omega = {}\n",
        "\n",
        "        if self.dataloaders[0] != None:\n",
        "            for n, p in self.model.named_parameters():\n",
        "                n = n.replace('.', '__')\n",
        "                if p.requires_grad:\n",
        "\n",
        "                    # Find/calculate new values for quadratic penalty on parameters\n",
        "                    p_prev = getattr(self.model, '{}_SI_prev_task'.format(n))\n",
        "                    W = getattr(self.model, '{}_W'.format(n))\n",
        "                    p_current = p.detach().clone()\n",
        "                    p_change = p_current - p_prev\n",
        "                    omega_add = W/(p_change**2 + self.epsilon)\n",
        "                    try:\n",
        "                        omega = getattr(self.model, '{}_SI_omega'.format(n))\n",
        "                    except AttributeError:\n",
        "                        omega = p.detach().clone().zero_()\n",
        "                    omega_new = omega + omega_add\n",
        "                    n_omega[n] = omega_new\n",
        "                    n_p_prev[n] = p_current\n",
        "\n",
        "\n",
        "                    # Store these new values in the model\n",
        "                    self.model.register_buffer('{}_SI_prev_task'.format(n), p_current)\n",
        "                    self.model.register_buffer('{}_SI_omega'.format(n), omega_new)\n",
        "        else:\n",
        "            for n, p in self.model.named_parameters():\n",
        "                n = n.replace('.', '__')\n",
        "                if p.requires_grad:\n",
        "                    n_p_prev[n] = p.detach().clone()\n",
        "                    n_omega[n] = p.detach().clone().zero_()\n",
        "                    self.model.register_buffer('{}_SI_prev_task'.format(n), p.detach().clone())\n",
        "\n",
        "\n",
        "        return n_p_prev, n_omega\n",
        "\n",
        "    def penalty(self, model: nn.Module):\n",
        "        loss = 0.0\n",
        "        for n, p in model.named_parameters():\n",
        "            n = n.replace('.', '__')\n",
        "            if p.requires_grad:\n",
        "                prev_values = self._n_p_prev[n]\n",
        "                omega = self._n_omega[n]\n",
        "                _loss = omega * (p - prev_values) ** 2\n",
        "                loss += _loss.sum()\n",
        "         \n",
        "        return loss\n",
        "    \n",
        "    def update(self, model):\n",
        "        for n, p in model.named_parameters():\n",
        "            n = n.replace('.', '__')\n",
        "            if p.requires_grad:\n",
        "                if p.grad is not None:\n",
        "                    self.W[n].add_(-p.grad * (p.detach() - self.p_old[n]))\n",
        "                    self.model.register_buffer('{}_W'.format(n), self.W[n])\n",
        "                self.p_old[n] = p.detach().clone()\n",
        "        return \n",
        " \n"
      ]
    },
    {
      "cell_type": "markdown",
      "metadata": {
        "id": "z1yDmFFeRxi9"
      },
      "source": [
        "Main Process for SI\n"
      ]
    },
    {
      "cell_type": "code",
      "execution_count": null,
      "metadata": {
        "colab": {
          "base_uri": "https://localhost:8080/",
          "height": 105,
          "referenced_widgets": [
            "7e75d43db6fc4601a86f1ae806678800",
            "114339e083dc48ae8a0c9ec22f201259",
            "1541c88747b8470abd554b35afb4b0fa",
            "7d448ec915804dcc871466079a0f0c65",
            "a1f6fc73ccd249358e944cfe8bc0661a",
            "aee7e106048c462ea33956b7d15a957a",
            "41d1928df62d4c61a6c98390ff84d8e3",
            "50951e37f8a94966a2e9fc95537f048c",
            "393f6a5f6975418da5d74ad458180a9b",
            "f7e6d93e3b234a99912e3d7b806947ab",
            "310370b83f6e4243b104b7ed68bb1313",
            "e574030b6ef443c19ca946eda7a011aa",
            "42f60c3578cb4ef08a587a160604c226",
            "eaab2e5d3dc34d8ab54affaf1e77390c",
            "b5a0dc1588e34268a87bf58782ec64b5",
            "691a3e8f653f4595aae9fa7cb73f781c",
            "b5b4e5c045304f449c5c00fa6fcc692a",
            "68b42e5fd2a246af896992c423694d33",
            "59ccab7e63ba446b97bf795aa6bfb7b5",
            "62b077afcef0471b8cf77a0cca4067ee",
            "8dab9b6b4845417fb8ffa8fb717effc5",
            "8f6c0fd582b149458a7d7ee366953ea5",
            "fb183ccad6274d60b231a8edb824abaf",
            "071638741ca744869a60209a94cbfe41",
            "13de5934ab9a482eb68ab0b17a55244d",
            "c3253f62aeb04b84be5a13dba6c9ff81",
            "7cf9d46cef2e4f59bc89c7d33bd35189",
            "5aa53df1cc904ef1a639a9ff4107aa06",
            "268f7e8a4a8c4f998d88e472188c0068",
            "c039be753c5e4a6290f76ec6e386901b",
            "f9f1342fb9af40ba99d2534f87d176e6",
            "053291aaa27c4411a4ef38d9074f81be",
            "c0f97203372146d79f22cec48144afd1",
            "32c877b95aa947b991ef3faf1cc81343",
            "6d3433308a264455a8b6f92b23ce44f3",
            "4f434ec21c9f44f0a3aa5f18c07bc542",
            "686d0c48508a4c94a334366965443876",
            "78ffb819655b4bf199cf60a2359d2f3e",
            "36802efa8f90437e8273993d6d212ff0",
            "4ff116a4367643e9a08b0bc56ded0402",
            "a35c1e5e193d43589e40396460bae120",
            "237b88992c474a65bf5787f7771e0fce",
            "59c9623e8b124adea86ea082cffae721",
            "4f16ce28c2b84072a4d3493137a6e68f",
            "2e6c12a8e478473ea347e6254eae52dd",
            "52f05200a4a845cd8907396bb0294f7b",
            "2b83799740fe4d8eb95de68b3ed4bc33",
            "8bc1832179d54e1cae9d097b78b18939",
            "2e4cf2fedba74efb9e6481acedbf97af",
            "0c0a56a7ab7444ce92a1705976ba3b8e",
            "43bb5342ff8f4e50af7fa4f55242b13c",
            "c2c5119fe5934d3f9a30f605aa4b949a",
            "9e7de26155a94428a8248edd8d8a964d",
            "5d495464a0574911ae50b64f658fadb2",
            "a1520ce2bb5543549e45c38433b41b7a",
            "e3a320ec584f4030bb2793fc35da1e91",
            "c883b1e8adac47bcb9a7dfdf3fd018a1",
            "7764d2fd75f44875a958254433ffe229",
            "ff581a42f9fe43f3b3c0d29ca8413e09",
            "51010faa016f41c38ed9aabb4d2b0a5d",
            "ce172549fbd34dc490d006b5f061894a",
            "a972a957d8f943d1aed54cd57276cb4c",
            "fadf2e6138eb442c8cca83f193619cae",
            "6de7ecce6b9e4dbebc88f0641d0641cf",
            "a2e7a654f4c84d3499eb239f6d04b3c9",
            "e768d6002cac440bb7ebfd9f518df27c",
            "1b5ceec5fc084dac8fbffda30281a725",
            "7246dda83e554dc8af2044f2f689ed33",
            "24b8cc00523d4d6cad5fb9cf7dcbd623",
            "b1c98d1b9d5b466c8a56c456ebd5da76",
            "1918f2c05f9144e2a5d27e722192dbb1",
            "2b416cbd1dca49eb9590abbc55e25b9f",
            "6fdd69439bed4128a41f30a7eaa2ef3e",
            "8e34b67b437a4a3a81f47bf9eea0f042",
            "21e84f44c0d04848b81ba9ebc38bb7c1",
            "169bce8be7df410bb076da722d89b222",
            "7cc2c0334faf48c79b7ceba66cddf86d",
            "96da66362dba4dbb9a0c7eba5bfcf697",
            "7a234f3010da40649a7d492c45db3b75",
            "378dc1a8e0d64187840e77c8c6732604",
            "3804bd42eb4f42ec947e8e68405deca7",
            "96e95b20cc2d4ec78371442609eaf297",
            "842389008baa449383413c71d90ed3ff",
            "802712ba34dd490b8e5df54204761ba5",
            "c2e15a1e8f7948c693b4880f9c44b929",
            "f1c82be49ab44b76838dc6fb1e8d9056"
          ]
        },
        "id": "RDwVo5W9R5cx",
        "outputId": "8aba9aa1-0195-46d6-ff27-bf2544ee6ef4"
      },
      "outputs": [
        {
          "name": "stdout",
          "output_type": "stream",
          "text": [
            "RUN SI\n"
          ]
        },
        {
          "data": {
            "application/vnd.jupyter.widget-view+json": {
              "model_id": "7e75d43db6fc4601a86f1ae806678800",
              "version_major": 2,
              "version_minor": 0
            },
            "text/plain": [
              "Task   1:   0%|          | 0/5 [00:00<?, ?it/s]"
            ]
          },
          "metadata": {},
          "output_type": "display_data"
        },
        {
          "data": {
            "application/vnd.jupyter.widget-view+json": {
              "model_id": "e574030b6ef443c19ca946eda7a011aa",
              "version_major": 2,
              "version_minor": 0
            },
            "text/plain": [
              "Epoch 1, Loss: 1.0000000:   0%|          | 0/10 [00:00<?, ?it/s]"
            ]
          },
          "metadata": {},
          "output_type": "display_data"
        },
        {
          "data": {
            "application/vnd.jupyter.widget-view+json": {
              "model_id": "fb183ccad6274d60b231a8edb824abaf",
              "version_major": 2,
              "version_minor": 0
            },
            "text/plain": [
              "  0%|          | 0/469 [00:00<?, ?it/s]"
            ]
          },
          "metadata": {},
          "output_type": "display_data"
        },
        {
          "data": {
            "application/vnd.jupyter.widget-view+json": {
              "model_id": "32c877b95aa947b991ef3faf1cc81343",
              "version_major": 2,
              "version_minor": 0
            },
            "text/plain": [
              "  0%|          | 0/469 [00:00<?, ?it/s]"
            ]
          },
          "metadata": {},
          "output_type": "display_data"
        },
        {
          "data": {
            "application/vnd.jupyter.widget-view+json": {
              "model_id": "6d3433308a264455a8b6f92b23ce44f3",
              "version_major": 2,
              "version_minor": 0
            },
            "text/plain": [
              "  0%|          | 0/469 [00:00<?, ?it/s]"
            ]
          },
          "metadata": {},
          "output_type": "display_data"
        },
        {
          "data": {
            "application/vnd.jupyter.widget-view+json": {
              "model_id": "4f434ec21c9f44f0a3aa5f18c07bc542",
              "version_major": 2,
              "version_minor": 0
            },
            "text/plain": [
              "  0%|          | 0/469 [00:00<?, ?it/s]"
            ]
          },
          "metadata": {},
          "output_type": "display_data"
        },
        {
          "data": {
            "application/vnd.jupyter.widget-view+json": {
              "model_id": "686d0c48508a4c94a334366965443876",
              "version_major": 2,
              "version_minor": 0
            },
            "text/plain": [
              "  0%|          | 0/469 [00:00<?, ?it/s]"
            ]
          },
          "metadata": {},
          "output_type": "display_data"
        },
        {
          "data": {
            "application/vnd.jupyter.widget-view+json": {
              "model_id": "78ffb819655b4bf199cf60a2359d2f3e",
              "version_major": 2,
              "version_minor": 0
            },
            "text/plain": [
              "  0%|          | 0/469 [00:00<?, ?it/s]"
            ]
          },
          "metadata": {},
          "output_type": "display_data"
        },
        {
          "data": {
            "application/vnd.jupyter.widget-view+json": {
              "model_id": "36802efa8f90437e8273993d6d212ff0",
              "version_major": 2,
              "version_minor": 0
            },
            "text/plain": [
              "  0%|          | 0/469 [00:00<?, ?it/s]"
            ]
          },
          "metadata": {},
          "output_type": "display_data"
        },
        {
          "data": {
            "application/vnd.jupyter.widget-view+json": {
              "model_id": "4ff116a4367643e9a08b0bc56ded0402",
              "version_major": 2,
              "version_minor": 0
            },
            "text/plain": [
              "  0%|          | 0/469 [00:00<?, ?it/s]"
            ]
          },
          "metadata": {},
          "output_type": "display_data"
        },
        {
          "data": {
            "application/vnd.jupyter.widget-view+json": {
              "model_id": "a35c1e5e193d43589e40396460bae120",
              "version_major": 2,
              "version_minor": 0
            },
            "text/plain": [
              "  0%|          | 0/469 [00:00<?, ?it/s]"
            ]
          },
          "metadata": {},
          "output_type": "display_data"
        },
        {
          "data": {
            "application/vnd.jupyter.widget-view+json": {
              "model_id": "237b88992c474a65bf5787f7771e0fce",
              "version_major": 2,
              "version_minor": 0
            },
            "text/plain": [
              "  0%|          | 0/469 [00:00<?, ?it/s]"
            ]
          },
          "metadata": {},
          "output_type": "display_data"
        },
        {
          "data": {
            "application/vnd.jupyter.widget-view+json": {
              "model_id": "59c9623e8b124adea86ea082cffae721",
              "version_major": 2,
              "version_minor": 0
            },
            "text/plain": [
              "Epoch 1, Loss: 1.0000000:   0%|          | 0/10 [00:00<?, ?it/s]"
            ]
          },
          "metadata": {},
          "output_type": "display_data"
        },
        {
          "data": {
            "application/vnd.jupyter.widget-view+json": {
              "model_id": "4f16ce28c2b84072a4d3493137a6e68f",
              "version_major": 2,
              "version_minor": 0
            },
            "text/plain": [
              "  0%|          | 0/469 [00:00<?, ?it/s]"
            ]
          },
          "metadata": {},
          "output_type": "display_data"
        },
        {
          "data": {
            "application/vnd.jupyter.widget-view+json": {
              "model_id": "2e6c12a8e478473ea347e6254eae52dd",
              "version_major": 2,
              "version_minor": 0
            },
            "text/plain": [
              "  0%|          | 0/469 [00:00<?, ?it/s]"
            ]
          },
          "metadata": {},
          "output_type": "display_data"
        },
        {
          "data": {
            "application/vnd.jupyter.widget-view+json": {
              "model_id": "52f05200a4a845cd8907396bb0294f7b",
              "version_major": 2,
              "version_minor": 0
            },
            "text/plain": [
              "  0%|          | 0/469 [00:00<?, ?it/s]"
            ]
          },
          "metadata": {},
          "output_type": "display_data"
        },
        {
          "data": {
            "application/vnd.jupyter.widget-view+json": {
              "model_id": "2b83799740fe4d8eb95de68b3ed4bc33",
              "version_major": 2,
              "version_minor": 0
            },
            "text/plain": [
              "  0%|          | 0/469 [00:00<?, ?it/s]"
            ]
          },
          "metadata": {},
          "output_type": "display_data"
        },
        {
          "data": {
            "application/vnd.jupyter.widget-view+json": {
              "model_id": "8bc1832179d54e1cae9d097b78b18939",
              "version_major": 2,
              "version_minor": 0
            },
            "text/plain": [
              "  0%|          | 0/469 [00:00<?, ?it/s]"
            ]
          },
          "metadata": {},
          "output_type": "display_data"
        },
        {
          "data": {
            "application/vnd.jupyter.widget-view+json": {
              "model_id": "2e4cf2fedba74efb9e6481acedbf97af",
              "version_major": 2,
              "version_minor": 0
            },
            "text/plain": [
              "  0%|          | 0/469 [00:00<?, ?it/s]"
            ]
          },
          "metadata": {},
          "output_type": "display_data"
        },
        {
          "data": {
            "application/vnd.jupyter.widget-view+json": {
              "model_id": "0c0a56a7ab7444ce92a1705976ba3b8e",
              "version_major": 2,
              "version_minor": 0
            },
            "text/plain": [
              "  0%|          | 0/469 [00:00<?, ?it/s]"
            ]
          },
          "metadata": {},
          "output_type": "display_data"
        },
        {
          "data": {
            "application/vnd.jupyter.widget-view+json": {
              "model_id": "43bb5342ff8f4e50af7fa4f55242b13c",
              "version_major": 2,
              "version_minor": 0
            },
            "text/plain": [
              "  0%|          | 0/469 [00:00<?, ?it/s]"
            ]
          },
          "metadata": {},
          "output_type": "display_data"
        },
        {
          "data": {
            "application/vnd.jupyter.widget-view+json": {
              "model_id": "c2c5119fe5934d3f9a30f605aa4b949a",
              "version_major": 2,
              "version_minor": 0
            },
            "text/plain": [
              "  0%|          | 0/469 [00:00<?, ?it/s]"
            ]
          },
          "metadata": {},
          "output_type": "display_data"
        },
        {
          "data": {
            "application/vnd.jupyter.widget-view+json": {
              "model_id": "9e7de26155a94428a8248edd8d8a964d",
              "version_major": 2,
              "version_minor": 0
            },
            "text/plain": [
              "  0%|          | 0/469 [00:00<?, ?it/s]"
            ]
          },
          "metadata": {},
          "output_type": "display_data"
        },
        {
          "data": {
            "application/vnd.jupyter.widget-view+json": {
              "model_id": "5d495464a0574911ae50b64f658fadb2",
              "version_major": 2,
              "version_minor": 0
            },
            "text/plain": [
              "Epoch 1, Loss: 1.0000000:   0%|          | 0/10 [00:00<?, ?it/s]"
            ]
          },
          "metadata": {},
          "output_type": "display_data"
        },
        {
          "data": {
            "application/vnd.jupyter.widget-view+json": {
              "model_id": "a1520ce2bb5543549e45c38433b41b7a",
              "version_major": 2,
              "version_minor": 0
            },
            "text/plain": [
              "  0%|          | 0/469 [00:00<?, ?it/s]"
            ]
          },
          "metadata": {},
          "output_type": "display_data"
        },
        {
          "data": {
            "application/vnd.jupyter.widget-view+json": {
              "model_id": "e3a320ec584f4030bb2793fc35da1e91",
              "version_major": 2,
              "version_minor": 0
            },
            "text/plain": [
              "  0%|          | 0/469 [00:00<?, ?it/s]"
            ]
          },
          "metadata": {},
          "output_type": "display_data"
        },
        {
          "data": {
            "application/vnd.jupyter.widget-view+json": {
              "model_id": "c883b1e8adac47bcb9a7dfdf3fd018a1",
              "version_major": 2,
              "version_minor": 0
            },
            "text/plain": [
              "  0%|          | 0/469 [00:00<?, ?it/s]"
            ]
          },
          "metadata": {},
          "output_type": "display_data"
        },
        {
          "data": {
            "application/vnd.jupyter.widget-view+json": {
              "model_id": "7764d2fd75f44875a958254433ffe229",
              "version_major": 2,
              "version_minor": 0
            },
            "text/plain": [
              "  0%|          | 0/469 [00:00<?, ?it/s]"
            ]
          },
          "metadata": {},
          "output_type": "display_data"
        },
        {
          "data": {
            "application/vnd.jupyter.widget-view+json": {
              "model_id": "ff581a42f9fe43f3b3c0d29ca8413e09",
              "version_major": 2,
              "version_minor": 0
            },
            "text/plain": [
              "  0%|          | 0/469 [00:00<?, ?it/s]"
            ]
          },
          "metadata": {},
          "output_type": "display_data"
        },
        {
          "data": {
            "application/vnd.jupyter.widget-view+json": {
              "model_id": "51010faa016f41c38ed9aabb4d2b0a5d",
              "version_major": 2,
              "version_minor": 0
            },
            "text/plain": [
              "  0%|          | 0/469 [00:00<?, ?it/s]"
            ]
          },
          "metadata": {},
          "output_type": "display_data"
        },
        {
          "data": {
            "application/vnd.jupyter.widget-view+json": {
              "model_id": "ce172549fbd34dc490d006b5f061894a",
              "version_major": 2,
              "version_minor": 0
            },
            "text/plain": [
              "  0%|          | 0/469 [00:00<?, ?it/s]"
            ]
          },
          "metadata": {},
          "output_type": "display_data"
        },
        {
          "data": {
            "application/vnd.jupyter.widget-view+json": {
              "model_id": "a972a957d8f943d1aed54cd57276cb4c",
              "version_major": 2,
              "version_minor": 0
            },
            "text/plain": [
              "  0%|          | 0/469 [00:00<?, ?it/s]"
            ]
          },
          "metadata": {},
          "output_type": "display_data"
        },
        {
          "data": {
            "application/vnd.jupyter.widget-view+json": {
              "model_id": "fadf2e6138eb442c8cca83f193619cae",
              "version_major": 2,
              "version_minor": 0
            },
            "text/plain": [
              "  0%|          | 0/469 [00:00<?, ?it/s]"
            ]
          },
          "metadata": {},
          "output_type": "display_data"
        },
        {
          "data": {
            "application/vnd.jupyter.widget-view+json": {
              "model_id": "6de7ecce6b9e4dbebc88f0641d0641cf",
              "version_major": 2,
              "version_minor": 0
            },
            "text/plain": [
              "  0%|          | 0/469 [00:00<?, ?it/s]"
            ]
          },
          "metadata": {},
          "output_type": "display_data"
        },
        {
          "data": {
            "application/vnd.jupyter.widget-view+json": {
              "model_id": "a2e7a654f4c84d3499eb239f6d04b3c9",
              "version_major": 2,
              "version_minor": 0
            },
            "text/plain": [
              "Epoch 1, Loss: 1.0000000:   0%|          | 0/10 [00:00<?, ?it/s]"
            ]
          },
          "metadata": {},
          "output_type": "display_data"
        },
        {
          "data": {
            "application/vnd.jupyter.widget-view+json": {
              "model_id": "e768d6002cac440bb7ebfd9f518df27c",
              "version_major": 2,
              "version_minor": 0
            },
            "text/plain": [
              "  0%|          | 0/469 [00:00<?, ?it/s]"
            ]
          },
          "metadata": {},
          "output_type": "display_data"
        },
        {
          "data": {
            "application/vnd.jupyter.widget-view+json": {
              "model_id": "1b5ceec5fc084dac8fbffda30281a725",
              "version_major": 2,
              "version_minor": 0
            },
            "text/plain": [
              "  0%|          | 0/469 [00:00<?, ?it/s]"
            ]
          },
          "metadata": {},
          "output_type": "display_data"
        },
        {
          "data": {
            "application/vnd.jupyter.widget-view+json": {
              "model_id": "7246dda83e554dc8af2044f2f689ed33",
              "version_major": 2,
              "version_minor": 0
            },
            "text/plain": [
              "  0%|          | 0/469 [00:00<?, ?it/s]"
            ]
          },
          "metadata": {},
          "output_type": "display_data"
        },
        {
          "data": {
            "application/vnd.jupyter.widget-view+json": {
              "model_id": "24b8cc00523d4d6cad5fb9cf7dcbd623",
              "version_major": 2,
              "version_minor": 0
            },
            "text/plain": [
              "  0%|          | 0/469 [00:00<?, ?it/s]"
            ]
          },
          "metadata": {},
          "output_type": "display_data"
        },
        {
          "data": {
            "application/vnd.jupyter.widget-view+json": {
              "model_id": "b1c98d1b9d5b466c8a56c456ebd5da76",
              "version_major": 2,
              "version_minor": 0
            },
            "text/plain": [
              "  0%|          | 0/469 [00:00<?, ?it/s]"
            ]
          },
          "metadata": {},
          "output_type": "display_data"
        },
        {
          "data": {
            "application/vnd.jupyter.widget-view+json": {
              "model_id": "1918f2c05f9144e2a5d27e722192dbb1",
              "version_major": 2,
              "version_minor": 0
            },
            "text/plain": [
              "  0%|          | 0/469 [00:00<?, ?it/s]"
            ]
          },
          "metadata": {},
          "output_type": "display_data"
        },
        {
          "data": {
            "application/vnd.jupyter.widget-view+json": {
              "model_id": "2b416cbd1dca49eb9590abbc55e25b9f",
              "version_major": 2,
              "version_minor": 0
            },
            "text/plain": [
              "  0%|          | 0/469 [00:00<?, ?it/s]"
            ]
          },
          "metadata": {},
          "output_type": "display_data"
        },
        {
          "data": {
            "application/vnd.jupyter.widget-view+json": {
              "model_id": "6fdd69439bed4128a41f30a7eaa2ef3e",
              "version_major": 2,
              "version_minor": 0
            },
            "text/plain": [
              "  0%|          | 0/469 [00:00<?, ?it/s]"
            ]
          },
          "metadata": {},
          "output_type": "display_data"
        },
        {
          "data": {
            "application/vnd.jupyter.widget-view+json": {
              "model_id": "8e34b67b437a4a3a81f47bf9eea0f042",
              "version_major": 2,
              "version_minor": 0
            },
            "text/plain": [
              "  0%|          | 0/469 [00:00<?, ?it/s]"
            ]
          },
          "metadata": {},
          "output_type": "display_data"
        },
        {
          "data": {
            "application/vnd.jupyter.widget-view+json": {
              "model_id": "21e84f44c0d04848b81ba9ebc38bb7c1",
              "version_major": 2,
              "version_minor": 0
            },
            "text/plain": [
              "  0%|          | 0/469 [00:00<?, ?it/s]"
            ]
          },
          "metadata": {},
          "output_type": "display_data"
        },
        {
          "data": {
            "application/vnd.jupyter.widget-view+json": {
              "model_id": "169bce8be7df410bb076da722d89b222",
              "version_major": 2,
              "version_minor": 0
            },
            "text/plain": [
              "Epoch 1, Loss: 1.0000000:   0%|          | 0/10 [00:00<?, ?it/s]"
            ]
          },
          "metadata": {},
          "output_type": "display_data"
        },
        {
          "data": {
            "application/vnd.jupyter.widget-view+json": {
              "model_id": "7cc2c0334faf48c79b7ceba66cddf86d",
              "version_major": 2,
              "version_minor": 0
            },
            "text/plain": [
              "  0%|          | 0/469 [00:00<?, ?it/s]"
            ]
          },
          "metadata": {},
          "output_type": "display_data"
        },
        {
          "data": {
            "application/vnd.jupyter.widget-view+json": {
              "model_id": "96da66362dba4dbb9a0c7eba5bfcf697",
              "version_major": 2,
              "version_minor": 0
            },
            "text/plain": [
              "  0%|          | 0/469 [00:00<?, ?it/s]"
            ]
          },
          "metadata": {},
          "output_type": "display_data"
        },
        {
          "data": {
            "application/vnd.jupyter.widget-view+json": {
              "model_id": "7a234f3010da40649a7d492c45db3b75",
              "version_major": 2,
              "version_minor": 0
            },
            "text/plain": [
              "  0%|          | 0/469 [00:00<?, ?it/s]"
            ]
          },
          "metadata": {},
          "output_type": "display_data"
        },
        {
          "data": {
            "application/vnd.jupyter.widget-view+json": {
              "model_id": "378dc1a8e0d64187840e77c8c6732604",
              "version_major": 2,
              "version_minor": 0
            },
            "text/plain": [
              "  0%|          | 0/469 [00:00<?, ?it/s]"
            ]
          },
          "metadata": {},
          "output_type": "display_data"
        },
        {
          "data": {
            "application/vnd.jupyter.widget-view+json": {
              "model_id": "3804bd42eb4f42ec947e8e68405deca7",
              "version_major": 2,
              "version_minor": 0
            },
            "text/plain": [
              "  0%|          | 0/469 [00:00<?, ?it/s]"
            ]
          },
          "metadata": {},
          "output_type": "display_data"
        },
        {
          "data": {
            "application/vnd.jupyter.widget-view+json": {
              "model_id": "96e95b20cc2d4ec78371442609eaf297",
              "version_major": 2,
              "version_minor": 0
            },
            "text/plain": [
              "  0%|          | 0/469 [00:00<?, ?it/s]"
            ]
          },
          "metadata": {},
          "output_type": "display_data"
        },
        {
          "data": {
            "application/vnd.jupyter.widget-view+json": {
              "model_id": "842389008baa449383413c71d90ed3ff",
              "version_major": 2,
              "version_minor": 0
            },
            "text/plain": [
              "  0%|          | 0/469 [00:00<?, ?it/s]"
            ]
          },
          "metadata": {},
          "output_type": "display_data"
        },
        {
          "data": {
            "application/vnd.jupyter.widget-view+json": {
              "model_id": "802712ba34dd490b8e5df54204761ba5",
              "version_major": 2,
              "version_minor": 0
            },
            "text/plain": [
              "  0%|          | 0/469 [00:00<?, ?it/s]"
            ]
          },
          "metadata": {},
          "output_type": "display_data"
        },
        {
          "data": {
            "application/vnd.jupyter.widget-view+json": {
              "model_id": "c2e15a1e8f7948c693b4880f9c44b929",
              "version_major": 2,
              "version_minor": 0
            },
            "text/plain": [
              "  0%|          | 0/469 [00:00<?, ?it/s]"
            ]
          },
          "metadata": {},
          "output_type": "display_data"
        },
        {
          "data": {
            "application/vnd.jupyter.widget-view+json": {
              "model_id": "f1c82be49ab44b76838dc6fb1e8d9056",
              "version_major": 2,
              "version_minor": 0
            },
            "text/plain": [
              "  0%|          | 0/469 [00:00<?, ?it/s]"
            ]
          },
          "metadata": {},
          "output_type": "display_data"
        },
        {
          "name": "stdout",
          "output_type": "stream",
          "text": [
            "[93.75, 95.39, 96.82, 97.18, 97.54, 97.76, 97.89999999999999, 97.94, 98.08, 98.08, 96.28999999999999, 96.89999999999999, 97.35499999999999, 97.535, 97.485, 97.585, 97.485, 97.42, 97.435, 97.455, 95.94333333333334, 95.78000000000002, 95.88666666666667, 95.78666666666665, 95.51666666666667, 95.13333333333334, 95.82333333333332, 95.96000000000001, 95.5, 95.79, 94.1875, 93.40499999999999, 92.725, 92.225, 92.225, 91.705, 92.41, 91.94749999999999, 91.4575, 91.88750000000002, 89.68599999999999, 89.494, 89.22799999999998, 88.814, 88.616, 88.694, 89.216, 88.92200000000001, 89.262, 89.64800000000001]\n"
          ]
        }
      ],
      "source": [
        "    # SI\n",
        "    print(\"RUN SI\")\n",
        "    model = Model()\n",
        "    model = model.to(device)\n",
        "    optimizer = torch.optim.Adam(model.parameters(), lr=args.lr)\n",
        "\n",
        "    lll_object=si(model=model, dataloaders=[None], epsilon=0.1, device=device)\n",
        "    lll_lambda=1\n",
        "    si_acc = []\n",
        "    task_bar = tqdm.auto.trange(len(train_dataloaders),desc=\"Task   1\")\n",
        "    for train_indexes in task_bar:\n",
        "        # Train Each Task\n",
        "        model, _, acc_list = train(model, optimizer, train_dataloaders[train_indexes], args.epochs_per_task, lll_object, lll_lambda, evaluate=evaluate,device=device, test_dataloaders=test_dataloaders[:train_indexes+1])\n",
        "        \n",
        "        # get model weight and calculate guidance for each weight\n",
        "        lll_object=si(model=model, dataloaders=test_dataloaders[:train_indexes+1], epsilon=0.1, device=device)\n",
        "\n",
        "        # New a Optimizer\n",
        "        optimizer = torch.optim.Adam(model.parameters(), lr=args.lr)\n",
        "\n",
        "        # Collect average accuracy in each epoch\n",
        "        si_acc.extend(acc_list)\n",
        "        task_bar.set_description_str(f\"Task  {train_indexes+2:2}\")\n",
        "\n",
        "    # average accuracy in each task per epoch!     \n",
        "    print(si_acc)"
      ]
    },
    {
      "cell_type": "markdown",
      "metadata": {
        "id": "64UECuLG66GM"
      },
      "source": [
        "#### - RWalk\n",
        "\n",
        "#### Remanian Walk for Incremental Learning\n",
        "\n",
        "The rwalk class applied Remanian Walk algorithm to calculate regularization term.\n",
        "\n",
        "The details are mentioned in following blocks."
      ]
    },
    {
      "cell_type": "code",
      "execution_count": null,
      "metadata": {
        "id": "9hzivWHj8KFF"
      },
      "outputs": [],
      "source": [
        "import torch\n",
        "import torch.nn as nn\n",
        "import torch.nn.functional as F\n",
        "\n",
        "class rwalk(object):\n",
        "    \"\"\"\n",
        "\n",
        "    \"\"\"\n",
        "    def __init__(self, model, dataloaders, epsilon, device):\n",
        "    \n",
        "        self.model = model\n",
        "        self.dataloaders = dataloaders\n",
        "        self.device = device\n",
        "        self.epsilon = epsilon\n",
        "        self.update_ewc_parameter = 0.4\n",
        "        self.params = {n: p for n, p in self.model.named_parameters() if p.requires_grad} # extract model parameters and store in dictionary\n",
        "        self._means = {} # initialize the guidance matrix\n",
        "        self._precision_matrices = self._calculate_importance_ewc() # Generate Fisher (F) Information Matrix \n",
        "        self._n_p_prev, self._n_omega = self._calculate_importance() \n",
        "        self.W, self.p_old = self._init_()\n",
        "\n",
        "\n",
        "    def _init_(self):\n",
        "        W = {}\n",
        "        p_old = {}\n",
        "        for n, p in self.model.named_parameters():\n",
        "            n = n.replace('.', '__')\n",
        "            if p.requires_grad:\n",
        "                W[n] = p.data.clone().zero_()\n",
        "                p_old[n] = p.data.clone()\n",
        "        return W, p_old\n",
        "\n",
        "    def _calculate_importance(self):\n",
        "        n_p_prev = {}\n",
        "        n_omega = {}\n",
        "\n",
        "        if self.dataloaders[0] != None:\n",
        "            for n, p in self.model.named_parameters():\n",
        "                n = n.replace('.', '__')\n",
        "                if p.requires_grad:\n",
        "\n",
        "                    # Find/calculate new values for quadratic penalty on parameters\n",
        "                    p_prev = getattr(self.model, '{}_SI_prev_task'.format(n))\n",
        "                    W = getattr(self.model, '{}_W'.format(n))\n",
        "                    p_current = p.detach().clone()\n",
        "                    p_change = p_current - p_prev\n",
        "                    omega_add = W / (1.0 / 2.0*self._precision_matrices[n] *p_change**2 + self.epsilon)\n",
        "                    try:\n",
        "                        omega = getattr(self.model, '{}_SI_omega'.format(n))\n",
        "                    except AttributeError:\n",
        "                        omega = p.detach().clone().zero_()\n",
        "                    omega_new = 0.5 * omega + 0.5 *omega_add\n",
        "                    n_omega[n] = omega_new\n",
        "                    n_p_prev[n] = p_current\n",
        "\n",
        "\n",
        "                    # Store these new values in the model\n",
        "                    self.model.register_buffer('{}_SI_prev_task'.format(n), p_current)\n",
        "                    self.model.register_buffer('{}_SI_omega'.format(n), omega_new)\n",
        "        else:\n",
        "            for n, p in self.model.named_parameters():\n",
        "                n = n.replace('.', '__')\n",
        "                if p.requires_grad:\n",
        "                    n_p_prev[n] = p.detach().clone()\n",
        "                    n_omega[n] = p.detach().clone().zero_()\n",
        "                    self.model.register_buffer('{}_SI_prev_task'.format(n), p.detach().clone())\n",
        "\n",
        "\n",
        "        return n_p_prev, n_omega\n",
        "    \n",
        "\n",
        "    def _calculate_importance_ewc(self):\n",
        "        precision_matrices = {}\n",
        "        for n, p in self.params.items(): \n",
        "            n = n.replace('.', '__') # 初始化 Fisher (F) 的矩陣（都補零）\n",
        "            precision_matrices[n] = p.clone().detach().fill_(0)\n",
        "\n",
        "        self.model.eval()\n",
        "        if self.dataloaders[0] is not None:\n",
        "            dataloader_num=len(self.dataloaders)\n",
        "            number_data = sum([len(loader) for loader in self.dataloaders])\n",
        "            for dataloader in self.dataloaders:\n",
        "                for n, p in self.model.named_parameters():                         \n",
        "                    n = n.replace('.', '__')\n",
        "                    precision_matrices[n].data *= (1 -self.update_ewc_parameter)   \n",
        "                for data in dataloader:\n",
        "                    self.model.zero_grad()\n",
        "                    input = data[0].to(self.device)\n",
        "                    output = self.model(input)\n",
        "                    label = data[1].to(self.device)\n",
        "\n",
        "                    \n",
        "                    ############################################################################\n",
        "                    #####                      Generate Fisher Matrix                      #####\n",
        "                    ############################################################################    \n",
        "                    loss = F.nll_loss(F.log_softmax(output, dim=1), label)             \n",
        "                    loss.backward()                                                    \n",
        "                                                                                    \n",
        "                    for n, p in self.model.named_parameters():                         \n",
        "                        n = n.replace('.', '__')\n",
        "                        precision_matrices[n].data += self.update_ewc_parameter*p.grad.data ** 2 / number_data  \n",
        "                                                                            \n",
        "            precision_matrices = {n: p for n, p in precision_matrices.items()}\n",
        "\n",
        "        return precision_matrices\n",
        "\n",
        "\n",
        "    def penalty(self, model: nn.Module):\n",
        "        loss = 0.0\n",
        "        for n, p in model.named_parameters():\n",
        "            n = n.replace('.', '__')\n",
        "            if p.requires_grad:\n",
        "                prev_values = self._n_p_prev[n]\n",
        "                omega = self._n_omega[n]\n",
        "\n",
        "                #################################################################################\n",
        "                ####        Generate regularization term  _loss by omega and Fisher Matrix   ####\n",
        "                #################################################################################\n",
        "                _loss = (omega + self._precision_matrices[n]) * (p - prev_values) ** 2\n",
        "                loss += _loss.sum()\n",
        "         \n",
        "        return loss\n",
        "    \n",
        "    def update(self, model):\n",
        "        for n, p in model.named_parameters():\n",
        "            n = n.replace('.', '__')\n",
        "            if p.requires_grad:\n",
        "                if p.grad is not None:\n",
        "                    self.W[n].add_(-p.grad * (p.detach() - self.p_old[n]))\n",
        "                    self.model.register_buffer('{}_W'.format(n), self.W[n])\n",
        "                self.p_old[n] = p.detach().clone()\n",
        "        return \n",
        " \n"
      ]
    },
    {
      "cell_type": "markdown",
      "metadata": {
        "id": "7UDE5uCB8D5c"
      },
      "source": [
        "Main Process for RWalk"
      ]
    },
    {
      "cell_type": "code",
      "execution_count": null,
      "metadata": {
        "colab": {
          "background_save": true,
          "base_uri": "https://localhost:8080/",
          "height": 99,
          "referenced_widgets": [
            "4faff50d663846b29cc0b574861eecc8",
            "a3d6a74314a84107b7cbe5306f6daf4e",
            "9a06f5d93a8c4e1ab9715685a99f99b4",
            "35b172c4da1140f0bf735647f6524e88",
            "261a993d06d8410eb6c412b866d7c2be",
            "d1e3b7639e7744fb990a220bf3cb0f3d",
            "207c318e32c04ff490d0f78d1fc907f0",
            "33d7d19699ab4a969bf6567cbc207f43",
            "93219f50774142f69976b323c8c2d5da",
            "b396d0100b194ab292d2794c988218c0",
            "877c3a837304449c943ff10b50aa2945",
            "f0894191e837446bb0d62f500e201d21",
            "b1b0fe668cab428d9917323b37521bb7",
            "b1117e26d34242aca6e9fa2c641e6f23",
            "f603409432134f81959b6abd4a5d71d9",
            "6de5a331555743a3ac62077c211a358d",
            "1ec39979924c4312818d01708114bbf4",
            "bd90a5d492fe4f19a69fb979f20e0e37",
            "8ba7a693d86048acbec97de60cf80bd2",
            "ea6804edf208452f854f850e6725fde0",
            "d2e3047afa304d73aa5db4677519af23",
            "cbc6ff85384b4518bb5f845ea0b2a1aa",
            "121637d13c244b709676ca52ee598ef3",
            "752b6359180c41919f480c26f436d540",
            "483e03a2136244699c04dff88480d439",
            "9307949a007e4a9bb102912bfcbc93cb",
            "466c7fb380d54db69c2a27cbddaebb77",
            "d9b90317f7404bb8a07339d5d1d4014c",
            "0d0b769eaaba475eb4cba3cdc3fcf6bf",
            "b496126a4fd645cda718e905383033c1",
            "c1b50ec124454eb1a64e8bad0fc33a84",
            "d8465178e6274b2cbe963df82716f87f",
            "d7670e69c4e843e6884d6f0d3d325ea9",
            "edc46ff4534d41c3b08c94e397f445ec",
            "a2ef4f1d35e34659b5fe410d5303fd25",
            "e13297e52e2941829aa1a0da90d39e3b",
            "313bf24041d541b595f17ea98e5d27cf",
            "af18fc4f4b284b5d851acf1d740926c3",
            "8dc95a1e0b214895b25aec6e6109ef49",
            "e36ff09bcaa64b51bb176e043bd3df7f",
            "d19234ca63ea4a82a268d2d647ef888e",
            "beb2ea95e92e4039a2cda96721423f6e",
            "9f27831680614f18ab9397871419bb0e",
            "f73c558912bf408e9ef1e6e43e48ae11",
            "f847288f6ef14f71ab28d7a448958acf",
            "f25777de4ab4402a81cb26d5cb0007e2",
            "3546b77f0efb45b09e8030fef6726d62",
            "dce0dcd03f12465ca1283b7566826329",
            "4ee872da70af4d0b91eb863931ae9c22",
            "6a34e0c844c54d64b44c5798006edb48",
            "7a6a3e38e2dd4219a35ae44ba4ca15f2",
            "9f891c0ea18945a28ebf99d0e06daa8a",
            "06f8bc25c47b47fb9f909dc1699fd950",
            "8150290cc9ef419dbb81f8e3e1eb6762",
            "d5e86c5ecda949138495cc2f95abfaef",
            "16237d8b26744824ac827f55542e4607",
            "53acf5523c1849a9b9b0c93045ded69e",
            "aca0b06215a2441d9aa5604c3c8521e2",
            "5dcea22bc70344ecbaa0e2a5d0ab8e88",
            "8c6990bf2fd64d828b599ba1ca57dd6a",
            "8fe9d5c0711b4b65be8c6f31634e6c56",
            "e0ceb520eb3b4de79595d6bf705c3167",
            "0fd28e6ca01b47f08b9b15036366cda6",
            "72f6f950b9fe4ffe95d950cc71ee6a23",
            "da14e8d34cd74afcb2bf74ed3a3da32d",
            "55ae9338dca7492798dd5bd7ad1a6633",
            "e2af22e8a5ba4a619f89ce19720a7cf4",
            "668bf8abb6514c0a9725e5b9fecdb9cd",
            "1ab8da59a9cf4f11b446da75fecf9601",
            "c7caee65682940e1934e81e23cc497fb",
            "ceb31396471e42a092aa8e5b2f9ad499",
            "f5e11516b395475b9ce5e04a8c3824ea",
            "af6ee6eeb03048ee80bb08b4cb37afb7",
            "e381ccee8d614b0c942fd8e89d9da22b",
            "7250b4c92dc54c95ad39b68dfcaa6918",
            "1a4753e08d78462aba50072ae89b2635",
            "09c107d392b34c9ba9093f7f2457b048",
            "e28286e3ff224a79a4d9879836052c1e",
            "8c9963495ddd4490abe40dd21878d46d",
            "0b181128c166466ba3dddd736c5cb30f",
            "f42d880fa2004a4c9322b070a714e74f",
            "1bdc6bce6aa34a44b33931fdffe05997",
            "63b9ab97f6304cdb90ffb3083ddb65cc",
            "f7c7434825d64b7f8df3eca9cde54329",
            "5d25859b3b1d4fbb8c3d48df0c114742",
            "0cf634e8cbc0429c8724e2d269e6d010"
          ]
        },
        "id": "XxpVcODr7xCV",
        "outputId": "7d5b8836-5145-4b39-df21-6a8e02c13ab0"
      },
      "outputs": [
        {
          "name": "stdout",
          "output_type": "stream",
          "text": [
            "RUN Rwalk\n"
          ]
        },
        {
          "data": {
            "application/vnd.jupyter.widget-view+json": {
              "model_id": "4faff50d663846b29cc0b574861eecc8",
              "version_major": 2,
              "version_minor": 0
            },
            "text/plain": [
              "Task   1:   0%|          | 0/5 [00:00<?, ?it/s]"
            ]
          },
          "metadata": {},
          "output_type": "display_data"
        },
        {
          "data": {
            "application/vnd.jupyter.widget-view+json": {
              "model_id": "f0894191e837446bb0d62f500e201d21",
              "version_major": 2,
              "version_minor": 0
            },
            "text/plain": [
              "Epoch 1, Loss: 1.0000000:   0%|          | 0/10 [00:00<?, ?it/s]"
            ]
          },
          "metadata": {},
          "output_type": "display_data"
        },
        {
          "data": {
            "application/vnd.jupyter.widget-view+json": {
              "model_id": "121637d13c244b709676ca52ee598ef3",
              "version_major": 2,
              "version_minor": 0
            },
            "text/plain": [
              "  0%|          | 0/469 [00:00<?, ?it/s]"
            ]
          },
          "metadata": {},
          "output_type": "display_data"
        },
        {
          "data": {
            "application/vnd.jupyter.widget-view+json": {
              "model_id": "edc46ff4534d41c3b08c94e397f445ec",
              "version_major": 2,
              "version_minor": 0
            },
            "text/plain": [
              "  0%|          | 0/469 [00:00<?, ?it/s]"
            ]
          },
          "metadata": {},
          "output_type": "display_data"
        },
        {
          "data": {
            "application/vnd.jupyter.widget-view+json": {
              "model_id": "a2ef4f1d35e34659b5fe410d5303fd25",
              "version_major": 2,
              "version_minor": 0
            },
            "text/plain": [
              "  0%|          | 0/469 [00:00<?, ?it/s]"
            ]
          },
          "metadata": {},
          "output_type": "display_data"
        },
        {
          "data": {
            "application/vnd.jupyter.widget-view+json": {
              "model_id": "e13297e52e2941829aa1a0da90d39e3b",
              "version_major": 2,
              "version_minor": 0
            },
            "text/plain": [
              "  0%|          | 0/469 [00:00<?, ?it/s]"
            ]
          },
          "metadata": {},
          "output_type": "display_data"
        },
        {
          "data": {
            "application/vnd.jupyter.widget-view+json": {
              "model_id": "313bf24041d541b595f17ea98e5d27cf",
              "version_major": 2,
              "version_minor": 0
            },
            "text/plain": [
              "  0%|          | 0/469 [00:00<?, ?it/s]"
            ]
          },
          "metadata": {},
          "output_type": "display_data"
        },
        {
          "data": {
            "application/vnd.jupyter.widget-view+json": {
              "model_id": "af18fc4f4b284b5d851acf1d740926c3",
              "version_major": 2,
              "version_minor": 0
            },
            "text/plain": [
              "  0%|          | 0/469 [00:00<?, ?it/s]"
            ]
          },
          "metadata": {},
          "output_type": "display_data"
        },
        {
          "data": {
            "application/vnd.jupyter.widget-view+json": {
              "model_id": "8dc95a1e0b214895b25aec6e6109ef49",
              "version_major": 2,
              "version_minor": 0
            },
            "text/plain": [
              "  0%|          | 0/469 [00:00<?, ?it/s]"
            ]
          },
          "metadata": {},
          "output_type": "display_data"
        },
        {
          "data": {
            "application/vnd.jupyter.widget-view+json": {
              "model_id": "e36ff09bcaa64b51bb176e043bd3df7f",
              "version_major": 2,
              "version_minor": 0
            },
            "text/plain": [
              "  0%|          | 0/469 [00:00<?, ?it/s]"
            ]
          },
          "metadata": {},
          "output_type": "display_data"
        },
        {
          "data": {
            "application/vnd.jupyter.widget-view+json": {
              "model_id": "d19234ca63ea4a82a268d2d647ef888e",
              "version_major": 2,
              "version_minor": 0
            },
            "text/plain": [
              "  0%|          | 0/469 [00:00<?, ?it/s]"
            ]
          },
          "metadata": {},
          "output_type": "display_data"
        },
        {
          "data": {
            "application/vnd.jupyter.widget-view+json": {
              "model_id": "beb2ea95e92e4039a2cda96721423f6e",
              "version_major": 2,
              "version_minor": 0
            },
            "text/plain": [
              "  0%|          | 0/469 [00:00<?, ?it/s]"
            ]
          },
          "metadata": {},
          "output_type": "display_data"
        },
        {
          "data": {
            "application/vnd.jupyter.widget-view+json": {
              "model_id": "9f27831680614f18ab9397871419bb0e",
              "version_major": 2,
              "version_minor": 0
            },
            "text/plain": [
              "Epoch 1, Loss: 1.0000000:   0%|          | 0/10 [00:00<?, ?it/s]"
            ]
          },
          "metadata": {},
          "output_type": "display_data"
        },
        {
          "data": {
            "application/vnd.jupyter.widget-view+json": {
              "model_id": "f73c558912bf408e9ef1e6e43e48ae11",
              "version_major": 2,
              "version_minor": 0
            },
            "text/plain": [
              "  0%|          | 0/469 [00:00<?, ?it/s]"
            ]
          },
          "metadata": {},
          "output_type": "display_data"
        },
        {
          "data": {
            "application/vnd.jupyter.widget-view+json": {
              "model_id": "f847288f6ef14f71ab28d7a448958acf",
              "version_major": 2,
              "version_minor": 0
            },
            "text/plain": [
              "  0%|          | 0/469 [00:00<?, ?it/s]"
            ]
          },
          "metadata": {},
          "output_type": "display_data"
        },
        {
          "data": {
            "application/vnd.jupyter.widget-view+json": {
              "model_id": "f25777de4ab4402a81cb26d5cb0007e2",
              "version_major": 2,
              "version_minor": 0
            },
            "text/plain": [
              "  0%|          | 0/469 [00:00<?, ?it/s]"
            ]
          },
          "metadata": {},
          "output_type": "display_data"
        },
        {
          "data": {
            "application/vnd.jupyter.widget-view+json": {
              "model_id": "3546b77f0efb45b09e8030fef6726d62",
              "version_major": 2,
              "version_minor": 0
            },
            "text/plain": [
              "  0%|          | 0/469 [00:00<?, ?it/s]"
            ]
          },
          "metadata": {},
          "output_type": "display_data"
        },
        {
          "data": {
            "application/vnd.jupyter.widget-view+json": {
              "model_id": "dce0dcd03f12465ca1283b7566826329",
              "version_major": 2,
              "version_minor": 0
            },
            "text/plain": [
              "  0%|          | 0/469 [00:00<?, ?it/s]"
            ]
          },
          "metadata": {},
          "output_type": "display_data"
        },
        {
          "data": {
            "application/vnd.jupyter.widget-view+json": {
              "model_id": "4ee872da70af4d0b91eb863931ae9c22",
              "version_major": 2,
              "version_minor": 0
            },
            "text/plain": [
              "  0%|          | 0/469 [00:00<?, ?it/s]"
            ]
          },
          "metadata": {},
          "output_type": "display_data"
        },
        {
          "data": {
            "application/vnd.jupyter.widget-view+json": {
              "model_id": "6a34e0c844c54d64b44c5798006edb48",
              "version_major": 2,
              "version_minor": 0
            },
            "text/plain": [
              "  0%|          | 0/469 [00:00<?, ?it/s]"
            ]
          },
          "metadata": {},
          "output_type": "display_data"
        },
        {
          "data": {
            "application/vnd.jupyter.widget-view+json": {
              "model_id": "7a6a3e38e2dd4219a35ae44ba4ca15f2",
              "version_major": 2,
              "version_minor": 0
            },
            "text/plain": [
              "  0%|          | 0/469 [00:00<?, ?it/s]"
            ]
          },
          "metadata": {},
          "output_type": "display_data"
        },
        {
          "data": {
            "application/vnd.jupyter.widget-view+json": {
              "model_id": "9f891c0ea18945a28ebf99d0e06daa8a",
              "version_major": 2,
              "version_minor": 0
            },
            "text/plain": [
              "  0%|          | 0/469 [00:00<?, ?it/s]"
            ]
          },
          "metadata": {},
          "output_type": "display_data"
        },
        {
          "data": {
            "application/vnd.jupyter.widget-view+json": {
              "model_id": "06f8bc25c47b47fb9f909dc1699fd950",
              "version_major": 2,
              "version_minor": 0
            },
            "text/plain": [
              "  0%|          | 0/469 [00:00<?, ?it/s]"
            ]
          },
          "metadata": {},
          "output_type": "display_data"
        },
        {
          "data": {
            "application/vnd.jupyter.widget-view+json": {
              "model_id": "8150290cc9ef419dbb81f8e3e1eb6762",
              "version_major": 2,
              "version_minor": 0
            },
            "text/plain": [
              "Epoch 1, Loss: 1.0000000:   0%|          | 0/10 [00:00<?, ?it/s]"
            ]
          },
          "metadata": {},
          "output_type": "display_data"
        },
        {
          "data": {
            "application/vnd.jupyter.widget-view+json": {
              "model_id": "d5e86c5ecda949138495cc2f95abfaef",
              "version_major": 2,
              "version_minor": 0
            },
            "text/plain": [
              "  0%|          | 0/469 [00:00<?, ?it/s]"
            ]
          },
          "metadata": {},
          "output_type": "display_data"
        },
        {
          "data": {
            "application/vnd.jupyter.widget-view+json": {
              "model_id": "16237d8b26744824ac827f55542e4607",
              "version_major": 2,
              "version_minor": 0
            },
            "text/plain": [
              "  0%|          | 0/469 [00:00<?, ?it/s]"
            ]
          },
          "metadata": {},
          "output_type": "display_data"
        },
        {
          "data": {
            "application/vnd.jupyter.widget-view+json": {
              "model_id": "53acf5523c1849a9b9b0c93045ded69e",
              "version_major": 2,
              "version_minor": 0
            },
            "text/plain": [
              "  0%|          | 0/469 [00:00<?, ?it/s]"
            ]
          },
          "metadata": {},
          "output_type": "display_data"
        },
        {
          "data": {
            "application/vnd.jupyter.widget-view+json": {
              "model_id": "aca0b06215a2441d9aa5604c3c8521e2",
              "version_major": 2,
              "version_minor": 0
            },
            "text/plain": [
              "  0%|          | 0/469 [00:00<?, ?it/s]"
            ]
          },
          "metadata": {},
          "output_type": "display_data"
        },
        {
          "data": {
            "application/vnd.jupyter.widget-view+json": {
              "model_id": "5dcea22bc70344ecbaa0e2a5d0ab8e88",
              "version_major": 2,
              "version_minor": 0
            },
            "text/plain": [
              "  0%|          | 0/469 [00:00<?, ?it/s]"
            ]
          },
          "metadata": {},
          "output_type": "display_data"
        },
        {
          "data": {
            "application/vnd.jupyter.widget-view+json": {
              "model_id": "8c6990bf2fd64d828b599ba1ca57dd6a",
              "version_major": 2,
              "version_minor": 0
            },
            "text/plain": [
              "  0%|          | 0/469 [00:00<?, ?it/s]"
            ]
          },
          "metadata": {},
          "output_type": "display_data"
        },
        {
          "data": {
            "application/vnd.jupyter.widget-view+json": {
              "model_id": "8fe9d5c0711b4b65be8c6f31634e6c56",
              "version_major": 2,
              "version_minor": 0
            },
            "text/plain": [
              "  0%|          | 0/469 [00:00<?, ?it/s]"
            ]
          },
          "metadata": {},
          "output_type": "display_data"
        },
        {
          "data": {
            "application/vnd.jupyter.widget-view+json": {
              "model_id": "e0ceb520eb3b4de79595d6bf705c3167",
              "version_major": 2,
              "version_minor": 0
            },
            "text/plain": [
              "  0%|          | 0/469 [00:00<?, ?it/s]"
            ]
          },
          "metadata": {},
          "output_type": "display_data"
        },
        {
          "data": {
            "application/vnd.jupyter.widget-view+json": {
              "model_id": "0fd28e6ca01b47f08b9b15036366cda6",
              "version_major": 2,
              "version_minor": 0
            },
            "text/plain": [
              "  0%|          | 0/469 [00:00<?, ?it/s]"
            ]
          },
          "metadata": {},
          "output_type": "display_data"
        },
        {
          "data": {
            "application/vnd.jupyter.widget-view+json": {
              "model_id": "72f6f950b9fe4ffe95d950cc71ee6a23",
              "version_major": 2,
              "version_minor": 0
            },
            "text/plain": [
              "  0%|          | 0/469 [00:00<?, ?it/s]"
            ]
          },
          "metadata": {},
          "output_type": "display_data"
        },
        {
          "data": {
            "application/vnd.jupyter.widget-view+json": {
              "model_id": "da14e8d34cd74afcb2bf74ed3a3da32d",
              "version_major": 2,
              "version_minor": 0
            },
            "text/plain": [
              "Epoch 1, Loss: 1.0000000:   0%|          | 0/10 [00:00<?, ?it/s]"
            ]
          },
          "metadata": {},
          "output_type": "display_data"
        },
        {
          "data": {
            "application/vnd.jupyter.widget-view+json": {
              "model_id": "55ae9338dca7492798dd5bd7ad1a6633",
              "version_major": 2,
              "version_minor": 0
            },
            "text/plain": [
              "  0%|          | 0/469 [00:00<?, ?it/s]"
            ]
          },
          "metadata": {},
          "output_type": "display_data"
        },
        {
          "data": {
            "application/vnd.jupyter.widget-view+json": {
              "model_id": "e2af22e8a5ba4a619f89ce19720a7cf4",
              "version_major": 2,
              "version_minor": 0
            },
            "text/plain": [
              "  0%|          | 0/469 [00:00<?, ?it/s]"
            ]
          },
          "metadata": {},
          "output_type": "display_data"
        },
        {
          "data": {
            "application/vnd.jupyter.widget-view+json": {
              "model_id": "668bf8abb6514c0a9725e5b9fecdb9cd",
              "version_major": 2,
              "version_minor": 0
            },
            "text/plain": [
              "  0%|          | 0/469 [00:00<?, ?it/s]"
            ]
          },
          "metadata": {},
          "output_type": "display_data"
        },
        {
          "data": {
            "application/vnd.jupyter.widget-view+json": {
              "model_id": "1ab8da59a9cf4f11b446da75fecf9601",
              "version_major": 2,
              "version_minor": 0
            },
            "text/plain": [
              "  0%|          | 0/469 [00:00<?, ?it/s]"
            ]
          },
          "metadata": {},
          "output_type": "display_data"
        },
        {
          "data": {
            "application/vnd.jupyter.widget-view+json": {
              "model_id": "c7caee65682940e1934e81e23cc497fb",
              "version_major": 2,
              "version_minor": 0
            },
            "text/plain": [
              "  0%|          | 0/469 [00:00<?, ?it/s]"
            ]
          },
          "metadata": {},
          "output_type": "display_data"
        },
        {
          "data": {
            "application/vnd.jupyter.widget-view+json": {
              "model_id": "ceb31396471e42a092aa8e5b2f9ad499",
              "version_major": 2,
              "version_minor": 0
            },
            "text/plain": [
              "  0%|          | 0/469 [00:00<?, ?it/s]"
            ]
          },
          "metadata": {},
          "output_type": "display_data"
        },
        {
          "data": {
            "application/vnd.jupyter.widget-view+json": {
              "model_id": "f5e11516b395475b9ce5e04a8c3824ea",
              "version_major": 2,
              "version_minor": 0
            },
            "text/plain": [
              "  0%|          | 0/469 [00:00<?, ?it/s]"
            ]
          },
          "metadata": {},
          "output_type": "display_data"
        },
        {
          "data": {
            "application/vnd.jupyter.widget-view+json": {
              "model_id": "af6ee6eeb03048ee80bb08b4cb37afb7",
              "version_major": 2,
              "version_minor": 0
            },
            "text/plain": [
              "  0%|          | 0/469 [00:00<?, ?it/s]"
            ]
          },
          "metadata": {},
          "output_type": "display_data"
        },
        {
          "data": {
            "application/vnd.jupyter.widget-view+json": {
              "model_id": "e381ccee8d614b0c942fd8e89d9da22b",
              "version_major": 2,
              "version_minor": 0
            },
            "text/plain": [
              "  0%|          | 0/469 [00:00<?, ?it/s]"
            ]
          },
          "metadata": {},
          "output_type": "display_data"
        },
        {
          "data": {
            "application/vnd.jupyter.widget-view+json": {
              "model_id": "7250b4c92dc54c95ad39b68dfcaa6918",
              "version_major": 2,
              "version_minor": 0
            },
            "text/plain": [
              "  0%|          | 0/469 [00:00<?, ?it/s]"
            ]
          },
          "metadata": {},
          "output_type": "display_data"
        },
        {
          "data": {
            "application/vnd.jupyter.widget-view+json": {
              "model_id": "1a4753e08d78462aba50072ae89b2635",
              "version_major": 2,
              "version_minor": 0
            },
            "text/plain": [
              "Epoch 1, Loss: 1.0000000:   0%|          | 0/10 [00:00<?, ?it/s]"
            ]
          },
          "metadata": {},
          "output_type": "display_data"
        },
        {
          "data": {
            "application/vnd.jupyter.widget-view+json": {
              "model_id": "09c107d392b34c9ba9093f7f2457b048",
              "version_major": 2,
              "version_minor": 0
            },
            "text/plain": [
              "  0%|          | 0/469 [00:00<?, ?it/s]"
            ]
          },
          "metadata": {},
          "output_type": "display_data"
        },
        {
          "data": {
            "application/vnd.jupyter.widget-view+json": {
              "model_id": "e28286e3ff224a79a4d9879836052c1e",
              "version_major": 2,
              "version_minor": 0
            },
            "text/plain": [
              "  0%|          | 0/469 [00:00<?, ?it/s]"
            ]
          },
          "metadata": {},
          "output_type": "display_data"
        },
        {
          "data": {
            "application/vnd.jupyter.widget-view+json": {
              "model_id": "8c9963495ddd4490abe40dd21878d46d",
              "version_major": 2,
              "version_minor": 0
            },
            "text/plain": [
              "  0%|          | 0/469 [00:00<?, ?it/s]"
            ]
          },
          "metadata": {},
          "output_type": "display_data"
        },
        {
          "data": {
            "application/vnd.jupyter.widget-view+json": {
              "model_id": "0b181128c166466ba3dddd736c5cb30f",
              "version_major": 2,
              "version_minor": 0
            },
            "text/plain": [
              "  0%|          | 0/469 [00:00<?, ?it/s]"
            ]
          },
          "metadata": {},
          "output_type": "display_data"
        },
        {
          "data": {
            "application/vnd.jupyter.widget-view+json": {
              "model_id": "f42d880fa2004a4c9322b070a714e74f",
              "version_major": 2,
              "version_minor": 0
            },
            "text/plain": [
              "  0%|          | 0/469 [00:00<?, ?it/s]"
            ]
          },
          "metadata": {},
          "output_type": "display_data"
        },
        {
          "data": {
            "application/vnd.jupyter.widget-view+json": {
              "model_id": "1bdc6bce6aa34a44b33931fdffe05997",
              "version_major": 2,
              "version_minor": 0
            },
            "text/plain": [
              "  0%|          | 0/469 [00:00<?, ?it/s]"
            ]
          },
          "metadata": {},
          "output_type": "display_data"
        },
        {
          "data": {
            "application/vnd.jupyter.widget-view+json": {
              "model_id": "63b9ab97f6304cdb90ffb3083ddb65cc",
              "version_major": 2,
              "version_minor": 0
            },
            "text/plain": [
              "  0%|          | 0/469 [00:00<?, ?it/s]"
            ]
          },
          "metadata": {},
          "output_type": "display_data"
        },
        {
          "data": {
            "application/vnd.jupyter.widget-view+json": {
              "model_id": "f7c7434825d64b7f8df3eca9cde54329",
              "version_major": 2,
              "version_minor": 0
            },
            "text/plain": [
              "  0%|          | 0/469 [00:00<?, ?it/s]"
            ]
          },
          "metadata": {},
          "output_type": "display_data"
        },
        {
          "data": {
            "application/vnd.jupyter.widget-view+json": {
              "model_id": "5d25859b3b1d4fbb8c3d48df0c114742",
              "version_major": 2,
              "version_minor": 0
            },
            "text/plain": [
              "  0%|          | 0/469 [00:00<?, ?it/s]"
            ]
          },
          "metadata": {},
          "output_type": "display_data"
        },
        {
          "data": {
            "application/vnd.jupyter.widget-view+json": {
              "model_id": "0cf634e8cbc0429c8724e2d269e6d010",
              "version_major": 2,
              "version_minor": 0
            },
            "text/plain": [
              "  0%|          | 0/469 [00:00<?, ?it/s]"
            ]
          },
          "metadata": {},
          "output_type": "display_data"
        },
        {
          "name": "stdout",
          "output_type": "stream",
          "text": [
            "[93.46, 95.38, 96.53, 97.14, 97.66, 97.88, 98.05, 97.95, 97.92, 97.82, 96.27, 96.77, 97.055, 97.135, 97.195, 97.295, 97.16499999999999, 97.355, 97.26, 97.42500000000001, 95.87, 96.26, 96.52666666666666, 96.68666666666667, 96.61333333333334, 96.79666666666668, 96.62666666666665, 96.58000000000001, 96.72333333333333, 96.53, 95.8075, 96.00999999999999, 95.9225, 96.1725, 96.02250000000001, 96.22749999999999, 96.225, 95.865, 95.9925, 96.0275, 94.918, 95.092, 95.154, 95.292, 94.93199999999999, 95.152, 95.07200000000002, 94.79200000000002, 95.39, 95.19999999999999]\n",
            "==================================================================================================\n"
          ]
        }
      ],
      "source": [
        "# RWalk\n",
        "print(\"RUN Rwalk\")\n",
        "model = Model()\n",
        "model = model.to(device)\n",
        "optimizer = torch.optim.Adam(model.parameters(), lr=args.lr)\n",
        "\n",
        "lll_object=rwalk(model=model, dataloaders=[None], epsilon=0.1, device=device)\n",
        "lll_lambda=100\n",
        "rwalk_acc = []\n",
        "task_bar = tqdm.auto.trange(len(train_dataloaders),desc=\"Task   1\")\n",
        "for train_indexes in task_bar:\n",
        "    model, _, acc_list = train(model, optimizer, train_dataloaders[train_indexes], args.epochs_per_task, lll_object, lll_lambda, evaluate=evaluate,device=device, test_dataloaders=test_dataloaders[:train_indexes+1])\n",
        "    lll_object=rwalk(model=model, dataloaders=test_dataloaders[:train_indexes+1], epsilon=0.1, device=device)\n",
        "    optimizer = torch.optim.Adam(model.parameters(), lr=args.lr)\n",
        "    rwalk_acc.extend(acc_list)\n",
        "    task_bar.set_description_str(f\"Task  {train_indexes+2:2}\")\n",
        "\n",
        "# average accuracy in each task per epoch!     \n",
        "print(rwalk_acc)\n",
        "print(\"==================================================================================================\")\n"
      ]
    },
    {
      "cell_type": "markdown",
      "metadata": {
        "id": "XicStkkOA_gg"
      },
      "source": [
        "#### - SCP\n",
        "Sliced Cramer Preservation\n",
        "\n",
        "\n",
        "\n",
        "Pseudo Code:\n",
        "\n",
        "<img src=\"https://i.ibb.co/QJycmNZ/2021-02-18-21-07.png\" width=\"100%\">\n"
      ]
    },
    {
      "cell_type": "code",
      "execution_count": null,
      "metadata": {
        "colab": {
          "background_save": true
        },
        "id": "72o_U5uxA8kX"
      },
      "outputs": [],
      "source": [
        "import torch\n",
        "from torch import nn\n",
        "import numpy as np\n",
        "\n",
        "\n",
        "\n",
        "def sample_spherical(npoints, ndim=3):\n",
        "    vec = np.random.randn(ndim, npoints)\n",
        "    vec /= np.linalg.norm(vec, axis=0)\n",
        "    return torch.from_numpy(vec)\n",
        "\n",
        "class scp(object):\n",
        "    \"\"\"\n",
        "    OPEN REVIEW VERSION:\n",
        "    https://openreview.net/forum?id=BJge3TNKwH\n",
        "    \"\"\"\n",
        "    def __init__(self, model: nn.Module, dataloaders: list, L: int, device):\n",
        "        self.model = model \n",
        "        self.dataloaders = dataloaders\n",
        "        self.params = {n: p for n, p in self.model.named_parameters() if p.requires_grad}\n",
        "        self._state_parameters = {}\n",
        "        self.L= L\n",
        "        self.device = device\n",
        "        self._precision_matrices = self.calculate_importance()\n",
        "    \n",
        "        for n, p in self.params.items():\n",
        "            self._state_parameters[n] = p.clone().detach()\n",
        "    \n",
        "    def calculate_importance(self):\n",
        "\n",
        "        precision_matrices = {}\n",
        "        for n, p in self.params.items():\n",
        "            precision_matrices[n] = p.clone().detach().fill_(0)\n",
        "\n",
        "        self.model.eval()\n",
        "        if self.dataloaders[0] is not None:\n",
        "            dataloader_num = len(self.dataloaders)\n",
        "            num_data = sum([len(loader) for loader in self.dataloaders])\n",
        "            for dataloader in self.dataloaders:\n",
        "                for data in dataloader:\n",
        "                    self.model.zero_grad()\n",
        "                    output = self.model(data[0].to(self.device))\n",
        "                    \n",
        "                    ####################################################################################\n",
        "                    ##### generate SCP's Gamma(Γ) matrix (like MAS's Omega(Ω) and EWC's Fisher(F)) #####\n",
        "                    ####################################################################################\n",
        "                    #####        1.take average on a batch of Output vector to get vector φ(:,θ_A* )####\n",
        "                    ####################################################################################\n",
        "                    mean_vec = output.mean(dim=0)\n",
        "\n",
        "                    ####################################################################################\n",
        "                    #####   2. random sample L vectors ξ #（ Hint: sample_spherical() ）      #####\n",
        "                    ####################################################################################\n",
        "                    L_vectors = sample_spherical(self.L, output.shape[-1])\n",
        "                    L_vectors = L_vectors.transpose(1,0).to(self.device).float()\n",
        "\n",
        "                    ####################################################################################\n",
        "                    #####   3.    每一個 vector ξ 和 vector φ( :,θ_A* )內積得到 scalar ρ               ####\n",
        "                    #####           對 scalar ρ 取 backward ， 每個參數得到各自的 gradient ∇ρ           ####\n",
        "                    #####       每個參數的 gradient ∇ρ 取平方 取 L 平均 得到 各個參數的 Γ scalar          ####  \n",
        "                    #####              所有參數的  Γ scalar 組合而成其實就是 Γ 矩陣                      ####\n",
        "                    ####(hint: 記得 每次 backward 之後 要 zero_grad 去 清 gradient, 不然 gradient會累加 )####   \n",
        "                    ####################################################################################\n",
        "                    total_scalar = 0\n",
        "                    for vec in L_vectors:\n",
        "                        scalar=torch.matmul(vec, mean_vec)\n",
        "                        total_scalar += scalar\n",
        "                    total_scalar /= L_vectors.shape[0] \n",
        "                    total_scalar.backward()\n",
        "                    ##################################################################################      \n",
        "                     \n",
        "                                                \n",
        "                    for n, p in self.model.named_parameters():                      \n",
        "                        precision_matrices[n].data += p.grad.abs() / num_data ## difference with EWC      \n",
        "                        \n",
        "        precision_matrices = {n: p for n, p in precision_matrices.items()}\n",
        "        return precision_matrices\n",
        "\n",
        "    def penalty(self, model: nn.Module):\n",
        "        loss = 0\n",
        "        for n, p in model.named_parameters():\n",
        "            _loss = self._precision_matrices[n] * (p - self._state_parameters[n]) ** 2\n",
        "            loss += _loss.sum()\n",
        "        return loss\n",
        "    \n",
        "    def update(self, model):\n",
        "        # do nothing\n",
        "        return "
      ]
    },
    {
      "cell_type": "markdown",
      "metadata": {
        "id": "6uBo7pzH-eQx"
      },
      "source": [
        "Main process for SCP"
      ]
    },
    {
      "cell_type": "code",
      "execution_count": 18,
      "metadata": {
        "colab": {
          "base_uri": "https://localhost:8080/",
          "height": 253,
          "referenced_widgets": [
            "5876dbe704c94f8ba856b1a006ae9fbe",
            "d895daf9b418498dac53bbbba370e73a",
            "6ae1d4f6db8049058eb8a35f1c368665",
            "65b3a66358a34b8f8ace9f274c9010be",
            "f57bbab5b11b4954bd8eb9c15a2b61ec",
            "e952cf2c4c9d4971bc09ea0f14c46813",
            "5c87ded0a34f4759bcfba498375d2627",
            "f35916b46523491f8bf6d951568c8432",
            "b49ecbb061274cd085ff69f69f6e24e3"
          ]
        },
        "id": "spVmmLr1AlRF",
        "outputId": "4469bd46-df1f-4fb1-8938-5cc2e2f437d4"
      },
      "outputs": [
        {
          "name": "stdout",
          "output_type": "stream",
          "text": [
            "RUN SLICE CRAMER PRESERVATION\n"
          ]
        },
        {
          "data": {
            "application/vnd.jupyter.widget-view+json": {
              "model_id": "5876dbe704c94f8ba856b1a006ae9fbe",
              "version_major": 2,
              "version_minor": 0
            },
            "text/plain": [
              "Task   1:   0%|          | 0/5 [00:00<?, ?it/s]"
            ]
          },
          "metadata": {},
          "output_type": "display_data"
        },
        {
          "data": {
            "application/vnd.jupyter.widget-view+json": {
              "model_id": "d895daf9b418498dac53bbbba370e73a",
              "version_major": 2,
              "version_minor": 0
            },
            "text/plain": [
              "Epoch 1, Loss: 1.0000000:   0%|          | 0/10 [00:00<?, ?it/s]"
            ]
          },
          "metadata": {},
          "output_type": "display_data"
        },
        {
          "data": {
            "application/vnd.jupyter.widget-view+json": {
              "model_id": "6ae1d4f6db8049058eb8a35f1c368665",
              "version_major": 2,
              "version_minor": 0
            },
            "text/plain": [
              "  0%|          | 0/469 [00:00<?, ?it/s]"
            ]
          },
          "metadata": {},
          "output_type": "display_data"
        },
        {
          "data": {
            "application/vnd.jupyter.widget-view+json": {
              "model_id": "65b3a66358a34b8f8ace9f274c9010be",
              "version_major": 2,
              "version_minor": 0
            },
            "text/plain": [
              "  0%|          | 0/469 [00:00<?, ?it/s]"
            ]
          },
          "metadata": {},
          "output_type": "display_data"
        },
        {
          "data": {
            "application/vnd.jupyter.widget-view+json": {
              "model_id": "f57bbab5b11b4954bd8eb9c15a2b61ec",
              "version_major": 2,
              "version_minor": 0
            },
            "text/plain": [
              "  0%|          | 0/469 [00:00<?, ?it/s]"
            ]
          },
          "metadata": {},
          "output_type": "display_data"
        },
        {
          "data": {
            "application/vnd.jupyter.widget-view+json": {
              "model_id": "e952cf2c4c9d4971bc09ea0f14c46813",
              "version_major": 2,
              "version_minor": 0
            },
            "text/plain": [
              "  0%|          | 0/469 [00:00<?, ?it/s]"
            ]
          },
          "metadata": {},
          "output_type": "display_data"
        },
        {
          "data": {
            "application/vnd.jupyter.widget-view+json": {
              "model_id": "5c87ded0a34f4759bcfba498375d2627",
              "version_major": 2,
              "version_minor": 0
            },
            "text/plain": [
              "  0%|          | 0/469 [00:00<?, ?it/s]"
            ]
          },
          "metadata": {},
          "output_type": "display_data"
        },
        {
          "data": {
            "application/vnd.jupyter.widget-view+json": {
              "model_id": "f35916b46523491f8bf6d951568c8432",
              "version_major": 2,
              "version_minor": 0
            },
            "text/plain": [
              "  0%|          | 0/469 [00:00<?, ?it/s]"
            ]
          },
          "metadata": {},
          "output_type": "display_data"
        },
        {
          "data": {
            "application/vnd.jupyter.widget-view+json": {
              "model_id": "b49ecbb061274cd085ff69f69f6e24e3",
              "version_major": 2,
              "version_minor": 0
            },
            "text/plain": [
              "  0%|          | 0/469 [00:00<?, ?it/s]"
            ]
          },
          "metadata": {},
          "output_type": "display_data"
        },
        {
          "data": {
            "application/vnd.jupyter.widget-view+json": {
              "model_id": "6cb8eb00bc9946faa1342d05403dd246",
              "version_major": 2,
              "version_minor": 0
            },
            "text/plain": [
              "  0%|          | 0/469 [00:00<?, ?it/s]"
            ]
          },
          "metadata": {},
          "output_type": "display_data"
        },
        {
          "data": {
            "application/vnd.jupyter.widget-view+json": {
              "model_id": "42d309c65d6c4a7baed7cb00b08fec3a",
              "version_major": 2,
              "version_minor": 0
            },
            "text/plain": [
              "  0%|          | 0/469 [00:00<?, ?it/s]"
            ]
          },
          "metadata": {},
          "output_type": "display_data"
        },
        {
          "data": {
            "application/vnd.jupyter.widget-view+json": {
              "model_id": "fed78defbfb847029e0063d26ffc1e28",
              "version_major": 2,
              "version_minor": 0
            },
            "text/plain": [
              "  0%|          | 0/469 [00:00<?, ?it/s]"
            ]
          },
          "metadata": {},
          "output_type": "display_data"
        },
        {
          "data": {
            "application/vnd.jupyter.widget-view+json": {
              "model_id": "fc47304e854e4129a109ddb369d2dfe2",
              "version_major": 2,
              "version_minor": 0
            },
            "text/plain": [
              "Epoch 1, Loss: 1.0000000:   0%|          | 0/10 [00:00<?, ?it/s]"
            ]
          },
          "metadata": {},
          "output_type": "display_data"
        },
        {
          "data": {
            "application/vnd.jupyter.widget-view+json": {
              "model_id": "48ebc2154f4b4cf784d8082eab7f3bff",
              "version_major": 2,
              "version_minor": 0
            },
            "text/plain": [
              "  0%|          | 0/469 [00:00<?, ?it/s]"
            ]
          },
          "metadata": {},
          "output_type": "display_data"
        },
        {
          "data": {
            "application/vnd.jupyter.widget-view+json": {
              "model_id": "24ef8da5b365411eafd4dd8fa0f6bcfc",
              "version_major": 2,
              "version_minor": 0
            },
            "text/plain": [
              "  0%|          | 0/469 [00:00<?, ?it/s]"
            ]
          },
          "metadata": {},
          "output_type": "display_data"
        },
        {
          "data": {
            "application/vnd.jupyter.widget-view+json": {
              "model_id": "24c678aa4a154ed6ab36f2bc9e3b02df",
              "version_major": 2,
              "version_minor": 0
            },
            "text/plain": [
              "  0%|          | 0/469 [00:00<?, ?it/s]"
            ]
          },
          "metadata": {},
          "output_type": "display_data"
        },
        {
          "data": {
            "application/vnd.jupyter.widget-view+json": {
              "model_id": "66497790315b4b0fb31c91fca2243e50",
              "version_major": 2,
              "version_minor": 0
            },
            "text/plain": [
              "  0%|          | 0/469 [00:00<?, ?it/s]"
            ]
          },
          "metadata": {},
          "output_type": "display_data"
        },
        {
          "data": {
            "application/vnd.jupyter.widget-view+json": {
              "model_id": "3a1df7542ea94faca547c8e3da7882b8",
              "version_major": 2,
              "version_minor": 0
            },
            "text/plain": [
              "  0%|          | 0/469 [00:00<?, ?it/s]"
            ]
          },
          "metadata": {},
          "output_type": "display_data"
        },
        {
          "data": {
            "application/vnd.jupyter.widget-view+json": {
              "model_id": "53f049d8e3a445f780ac16008a0eb488",
              "version_major": 2,
              "version_minor": 0
            },
            "text/plain": [
              "  0%|          | 0/469 [00:00<?, ?it/s]"
            ]
          },
          "metadata": {},
          "output_type": "display_data"
        },
        {
          "data": {
            "application/vnd.jupyter.widget-view+json": {
              "model_id": "114f6b1825cc4ebdb529a62e0c15344b",
              "version_major": 2,
              "version_minor": 0
            },
            "text/plain": [
              "  0%|          | 0/469 [00:00<?, ?it/s]"
            ]
          },
          "metadata": {},
          "output_type": "display_data"
        },
        {
          "data": {
            "application/vnd.jupyter.widget-view+json": {
              "model_id": "24603ca0859c4b2d9258e3a3355a663b",
              "version_major": 2,
              "version_minor": 0
            },
            "text/plain": [
              "  0%|          | 0/469 [00:00<?, ?it/s]"
            ]
          },
          "metadata": {},
          "output_type": "display_data"
        },
        {
          "data": {
            "application/vnd.jupyter.widget-view+json": {
              "model_id": "9bd88a807c774c0690439c9fa9de1569",
              "version_major": 2,
              "version_minor": 0
            },
            "text/plain": [
              "  0%|          | 0/469 [00:00<?, ?it/s]"
            ]
          },
          "metadata": {},
          "output_type": "display_data"
        },
        {
          "data": {
            "application/vnd.jupyter.widget-view+json": {
              "model_id": "9646e44cb2a346f8ab2e453fce700c46",
              "version_major": 2,
              "version_minor": 0
            },
            "text/plain": [
              "  0%|          | 0/469 [00:00<?, ?it/s]"
            ]
          },
          "metadata": {},
          "output_type": "display_data"
        },
        {
          "data": {
            "application/vnd.jupyter.widget-view+json": {
              "model_id": "42d225ee45d4455aa70c1130a6bf92e7",
              "version_major": 2,
              "version_minor": 0
            },
            "text/plain": [
              "Epoch 1, Loss: 1.0000000:   0%|          | 0/10 [00:00<?, ?it/s]"
            ]
          },
          "metadata": {},
          "output_type": "display_data"
        },
        {
          "data": {
            "application/vnd.jupyter.widget-view+json": {
              "model_id": "4881cb635c5a4d54ab7e81e8b465dc1d",
              "version_major": 2,
              "version_minor": 0
            },
            "text/plain": [
              "  0%|          | 0/469 [00:00<?, ?it/s]"
            ]
          },
          "metadata": {},
          "output_type": "display_data"
        },
        {
          "data": {
            "application/vnd.jupyter.widget-view+json": {
              "model_id": "72108a9bb1f744829317594528b1ba47",
              "version_major": 2,
              "version_minor": 0
            },
            "text/plain": [
              "  0%|          | 0/469 [00:00<?, ?it/s]"
            ]
          },
          "metadata": {},
          "output_type": "display_data"
        },
        {
          "data": {
            "application/vnd.jupyter.widget-view+json": {
              "model_id": "15f8a79f39cd47c99a32f473b6b6bc04",
              "version_major": 2,
              "version_minor": 0
            },
            "text/plain": [
              "  0%|          | 0/469 [00:00<?, ?it/s]"
            ]
          },
          "metadata": {},
          "output_type": "display_data"
        },
        {
          "data": {
            "application/vnd.jupyter.widget-view+json": {
              "model_id": "f4a9fc23b1614605b6ca5ad0b4b37a3b",
              "version_major": 2,
              "version_minor": 0
            },
            "text/plain": [
              "  0%|          | 0/469 [00:00<?, ?it/s]"
            ]
          },
          "metadata": {},
          "output_type": "display_data"
        },
        {
          "data": {
            "application/vnd.jupyter.widget-view+json": {
              "model_id": "a0093f4aa0d449638335207334fda29b",
              "version_major": 2,
              "version_minor": 0
            },
            "text/plain": [
              "  0%|          | 0/469 [00:00<?, ?it/s]"
            ]
          },
          "metadata": {},
          "output_type": "display_data"
        },
        {
          "data": {
            "application/vnd.jupyter.widget-view+json": {
              "model_id": "8a8928c68dc041469d1988357b85488b",
              "version_major": 2,
              "version_minor": 0
            },
            "text/plain": [
              "  0%|          | 0/469 [00:00<?, ?it/s]"
            ]
          },
          "metadata": {},
          "output_type": "display_data"
        },
        {
          "data": {
            "application/vnd.jupyter.widget-view+json": {
              "model_id": "62c83e393137444fb84dee2f50065f52",
              "version_major": 2,
              "version_minor": 0
            },
            "text/plain": [
              "  0%|          | 0/469 [00:00<?, ?it/s]"
            ]
          },
          "metadata": {},
          "output_type": "display_data"
        },
        {
          "data": {
            "application/vnd.jupyter.widget-view+json": {
              "model_id": "b4bd4062cdbb4e539a58484e81ce6646",
              "version_major": 2,
              "version_minor": 0
            },
            "text/plain": [
              "  0%|          | 0/469 [00:00<?, ?it/s]"
            ]
          },
          "metadata": {},
          "output_type": "display_data"
        },
        {
          "data": {
            "application/vnd.jupyter.widget-view+json": {
              "model_id": "35199006122e4ad38c8bf00ce2ea3b3b",
              "version_major": 2,
              "version_minor": 0
            },
            "text/plain": [
              "  0%|          | 0/469 [00:00<?, ?it/s]"
            ]
          },
          "metadata": {},
          "output_type": "display_data"
        },
        {
          "data": {
            "application/vnd.jupyter.widget-view+json": {
              "model_id": "0df6b37553fa4118968d022cad494fa8",
              "version_major": 2,
              "version_minor": 0
            },
            "text/plain": [
              "  0%|          | 0/469 [00:00<?, ?it/s]"
            ]
          },
          "metadata": {},
          "output_type": "display_data"
        },
        {
          "data": {
            "application/vnd.jupyter.widget-view+json": {
              "model_id": "d4c45021562b498488f32cfda5eceea4",
              "version_major": 2,
              "version_minor": 0
            },
            "text/plain": [
              "Epoch 1, Loss: 1.0000000:   0%|          | 0/10 [00:00<?, ?it/s]"
            ]
          },
          "metadata": {},
          "output_type": "display_data"
        },
        {
          "data": {
            "application/vnd.jupyter.widget-view+json": {
              "model_id": "6e931fd8bbee4d7b8792e722e65d68a8",
              "version_major": 2,
              "version_minor": 0
            },
            "text/plain": [
              "  0%|          | 0/469 [00:00<?, ?it/s]"
            ]
          },
          "metadata": {},
          "output_type": "display_data"
        },
        {
          "data": {
            "application/vnd.jupyter.widget-view+json": {
              "model_id": "aa0202e5e013495e8b35a418eecf66af",
              "version_major": 2,
              "version_minor": 0
            },
            "text/plain": [
              "  0%|          | 0/469 [00:00<?, ?it/s]"
            ]
          },
          "metadata": {},
          "output_type": "display_data"
        },
        {
          "data": {
            "application/vnd.jupyter.widget-view+json": {
              "model_id": "c9c067d875f14b0da77c4a90152e5921",
              "version_major": 2,
              "version_minor": 0
            },
            "text/plain": [
              "  0%|          | 0/469 [00:00<?, ?it/s]"
            ]
          },
          "metadata": {},
          "output_type": "display_data"
        },
        {
          "data": {
            "application/vnd.jupyter.widget-view+json": {
              "model_id": "f47af6b5eb80403ba0ead75eaabe08e0",
              "version_major": 2,
              "version_minor": 0
            },
            "text/plain": [
              "  0%|          | 0/469 [00:00<?, ?it/s]"
            ]
          },
          "metadata": {},
          "output_type": "display_data"
        },
        {
          "data": {
            "application/vnd.jupyter.widget-view+json": {
              "model_id": "02829795fb73430fa025a1fb259ecb49",
              "version_major": 2,
              "version_minor": 0
            },
            "text/plain": [
              "  0%|          | 0/469 [00:00<?, ?it/s]"
            ]
          },
          "metadata": {},
          "output_type": "display_data"
        },
        {
          "data": {
            "application/vnd.jupyter.widget-view+json": {
              "model_id": "762e2eeb713f4c21b4a0d9edbf4e1028",
              "version_major": 2,
              "version_minor": 0
            },
            "text/plain": [
              "  0%|          | 0/469 [00:00<?, ?it/s]"
            ]
          },
          "metadata": {},
          "output_type": "display_data"
        },
        {
          "data": {
            "application/vnd.jupyter.widget-view+json": {
              "model_id": "1543ddf63ba64591903b4c4b526c3ff6",
              "version_major": 2,
              "version_minor": 0
            },
            "text/plain": [
              "  0%|          | 0/469 [00:00<?, ?it/s]"
            ]
          },
          "metadata": {},
          "output_type": "display_data"
        },
        {
          "data": {
            "application/vnd.jupyter.widget-view+json": {
              "model_id": "2f956eb3e6ba4026a076dd1aebd1cc5a",
              "version_major": 2,
              "version_minor": 0
            },
            "text/plain": [
              "  0%|          | 0/469 [00:00<?, ?it/s]"
            ]
          },
          "metadata": {},
          "output_type": "display_data"
        },
        {
          "data": {
            "application/vnd.jupyter.widget-view+json": {
              "model_id": "331b6d59615d457fa9209e158732f76e",
              "version_major": 2,
              "version_minor": 0
            },
            "text/plain": [
              "  0%|          | 0/469 [00:00<?, ?it/s]"
            ]
          },
          "metadata": {},
          "output_type": "display_data"
        },
        {
          "data": {
            "application/vnd.jupyter.widget-view+json": {
              "model_id": "004f375853794d4c91cb5fbf0ed6999f",
              "version_major": 2,
              "version_minor": 0
            },
            "text/plain": [
              "  0%|          | 0/469 [00:00<?, ?it/s]"
            ]
          },
          "metadata": {},
          "output_type": "display_data"
        },
        {
          "data": {
            "application/vnd.jupyter.widget-view+json": {
              "model_id": "d47f52c7d2194d4d81c6054eb38329b7",
              "version_major": 2,
              "version_minor": 0
            },
            "text/plain": [
              "Epoch 1, Loss: 1.0000000:   0%|          | 0/10 [00:00<?, ?it/s]"
            ]
          },
          "metadata": {},
          "output_type": "display_data"
        },
        {
          "data": {
            "application/vnd.jupyter.widget-view+json": {
              "model_id": "5f651fffa1ed4c19886e175571e031d9",
              "version_major": 2,
              "version_minor": 0
            },
            "text/plain": [
              "  0%|          | 0/469 [00:00<?, ?it/s]"
            ]
          },
          "metadata": {},
          "output_type": "display_data"
        },
        {
          "data": {
            "application/vnd.jupyter.widget-view+json": {
              "model_id": "f07e05299798482ab2a89a4c7ec2c496",
              "version_major": 2,
              "version_minor": 0
            },
            "text/plain": [
              "  0%|          | 0/469 [00:00<?, ?it/s]"
            ]
          },
          "metadata": {},
          "output_type": "display_data"
        },
        {
          "data": {
            "application/vnd.jupyter.widget-view+json": {
              "model_id": "5c442f82a43f48d7a51354de563980b9",
              "version_major": 2,
              "version_minor": 0
            },
            "text/plain": [
              "  0%|          | 0/469 [00:00<?, ?it/s]"
            ]
          },
          "metadata": {},
          "output_type": "display_data"
        },
        {
          "data": {
            "application/vnd.jupyter.widget-view+json": {
              "model_id": "09ee73e93f5449df8528eb9dacabe253",
              "version_major": 2,
              "version_minor": 0
            },
            "text/plain": [
              "  0%|          | 0/469 [00:00<?, ?it/s]"
            ]
          },
          "metadata": {},
          "output_type": "display_data"
        },
        {
          "data": {
            "application/vnd.jupyter.widget-view+json": {
              "model_id": "4b6ddb3586cf44b3bc872068479e5a6e",
              "version_major": 2,
              "version_minor": 0
            },
            "text/plain": [
              "  0%|          | 0/469 [00:00<?, ?it/s]"
            ]
          },
          "metadata": {},
          "output_type": "display_data"
        },
        {
          "data": {
            "application/vnd.jupyter.widget-view+json": {
              "model_id": "70b9b8f68990413a868ca4d025bc7c8d",
              "version_major": 2,
              "version_minor": 0
            },
            "text/plain": [
              "  0%|          | 0/469 [00:00<?, ?it/s]"
            ]
          },
          "metadata": {},
          "output_type": "display_data"
        },
        {
          "data": {
            "application/vnd.jupyter.widget-view+json": {
              "model_id": "3dd46a635c544a4caaee37c590adcb7d",
              "version_major": 2,
              "version_minor": 0
            },
            "text/plain": [
              "  0%|          | 0/469 [00:00<?, ?it/s]"
            ]
          },
          "metadata": {},
          "output_type": "display_data"
        },
        {
          "data": {
            "application/vnd.jupyter.widget-view+json": {
              "model_id": "dd7a7b3aac554649bce6bcc1903218b1",
              "version_major": 2,
              "version_minor": 0
            },
            "text/plain": [
              "  0%|          | 0/469 [00:00<?, ?it/s]"
            ]
          },
          "metadata": {},
          "output_type": "display_data"
        },
        {
          "data": {
            "application/vnd.jupyter.widget-view+json": {
              "model_id": "8af8c2d87cd940baa7cd7aa52e36cc6b",
              "version_major": 2,
              "version_minor": 0
            },
            "text/plain": [
              "  0%|          | 0/469 [00:00<?, ?it/s]"
            ]
          },
          "metadata": {},
          "output_type": "display_data"
        },
        {
          "data": {
            "application/vnd.jupyter.widget-view+json": {
              "model_id": "2a4773387a6f4c7281cd32141494df9c",
              "version_major": 2,
              "version_minor": 0
            },
            "text/plain": [
              "  0%|          | 0/469 [00:00<?, ?it/s]"
            ]
          },
          "metadata": {},
          "output_type": "display_data"
        },
        {
          "name": "stdout",
          "output_type": "stream",
          "text": [
            "[93.86, 96.08, 96.74000000000001, 97.32, 97.57000000000001, 97.84, 97.78, 97.95, 98.09, 98.05, 95.22, 95.75, 95.77, 96.125, 96.00500000000001, 96.22500000000001, 96.2, 96.2, 96.05, 95.81500000000001, 94.33999999999999, 94.63666666666667, 94.33666666666666, 94.64333333333333, 94.62333333333333, 95.01666666666667, 94.76666666666667, 94.51666666666667, 94.79, 94.28999999999999, 93.3925, 93.72500000000001, 93.67750000000001, 93.7, 93.635, 93.4475, 93.54249999999999, 93.66499999999999, 93.5575, 93.685, 92.362, 92.6, 92.85399999999998, 92.45400000000001, 92.928, 92.742, 92.93599999999999, 92.784, 92.78600000000002, 92.572]\n",
            "==================================================================================================\n"
          ]
        }
      ],
      "source": [
        "# SCP\n",
        "print(\"RUN SLICE CRAMER PRESERVATION\")\n",
        "model = Model()\n",
        "model = model.to(device)\n",
        "optimizer = torch.optim.Adam(model.parameters(), lr=args.lr)\n",
        "\n",
        "lll_object=scp(model=model, dataloaders=[None], L=100, device=device)\n",
        "lll_lambda=100\n",
        "scp_acc= []\n",
        "task_bar = tqdm.auto.trange(len(train_dataloaders),desc=\"Task   1\")\n",
        "for train_indexes in task_bar:\n",
        "    model, _, acc_list = train(model, optimizer, train_dataloaders[train_indexes], args.epochs_per_task, lll_object, lll_lambda, evaluate=evaluate,device=device, test_dataloaders=test_dataloaders[:train_indexes+1])\n",
        "    lll_object=scp(model=model, dataloaders=test_dataloaders[:train_indexes+1], L=100, device=device)\n",
        "    optimizer = torch.optim.Adam(model.parameters(), lr=args.lr)\n",
        "    scp_acc.extend(acc_list)\n",
        "    task_bar.set_description_str(f\"Task  {train_indexes+2:2}\")\n",
        "\n",
        "# average accuracy in each task per epoch!     \n",
        "print(scp_acc)\n",
        "print(\"==================================================================================================\")\n"
      ]
    }
  ],
  "metadata": {
    "accelerator": "GPU",
    "colab": {
      "collapsed_sections": [
        "yemZCVfzzLHK",
        "rjOiSSVD0GXB"
      ],
      "name": "HW14-lifelong learning.ipynb",
      "provenance": [],
      "toc_visible": true
    },
    "interpreter": {
      "hash": "e2e1f6a47c2b22aa38ff4f44d0d21f0cf81fc40f5c0e12b6a1c9dbd62fd843ec"
    },
    "kernelspec": {
      "display_name": "Python 3.8.1 64-bit",
      "name": "python3"
    },
    "language_info": {
      "codemirror_mode": {
        "name": "ipython",
        "version": 3
      },
      "file_extension": ".py",
      "mimetype": "text/x-python",
      "name": "python",
      "nbconvert_exporter": "python",
      "pygments_lexer": "ipython3",
      "version": "3.8.1"
    },
    "widgets": {
      "application/vnd.jupyter.widget-state+json": {
        "053291aaa27c4411a4ef38d9074f81be": {
          "model_module": "@jupyter-widgets/base",
          "model_module_version": "1.2.0",
          "model_name": "LayoutModel",
          "state": {
            "_model_module": "@jupyter-widgets/base",
            "_model_module_version": "1.2.0",
            "_model_name": "LayoutModel",
            "_view_count": null,
            "_view_module": "@jupyter-widgets/base",
            "_view_module_version": "1.2.0",
            "_view_name": "LayoutView",
            "align_content": null,
            "align_items": null,
            "align_self": null,
            "border": null,
            "bottom": null,
            "display": null,
            "flex": null,
            "flex_flow": null,
            "grid_area": null,
            "grid_auto_columns": null,
            "grid_auto_flow": null,
            "grid_auto_rows": null,
            "grid_column": null,
            "grid_gap": null,
            "grid_row": null,
            "grid_template_areas": null,
            "grid_template_columns": null,
            "grid_template_rows": null,
            "height": null,
            "justify_content": null,
            "justify_items": null,
            "left": null,
            "margin": null,
            "max_height": null,
            "max_width": null,
            "min_height": null,
            "min_width": null,
            "object_fit": null,
            "object_position": null,
            "order": null,
            "overflow": null,
            "overflow_x": null,
            "overflow_y": null,
            "padding": null,
            "right": null,
            "top": null,
            "visibility": null,
            "width": null
          }
        },
        "0532ab92c3404d79a58b6c59b82aa145": {
          "model_module": "@jupyter-widgets/controls",
          "model_module_version": "1.5.0",
          "model_name": "DescriptionStyleModel",
          "state": {
            "_model_module": "@jupyter-widgets/controls",
            "_model_module_version": "1.5.0",
            "_model_name": "DescriptionStyleModel",
            "_view_count": null,
            "_view_module": "@jupyter-widgets/base",
            "_view_module_version": "1.2.0",
            "_view_name": "StyleView",
            "description_width": ""
          }
        },
        "071638741ca744869a60209a94cbfe41": {
          "model_module": "@jupyter-widgets/controls",
          "model_module_version": "1.5.0",
          "model_name": "HTMLModel",
          "state": {
            "_dom_classes": [],
            "_model_module": "@jupyter-widgets/controls",
            "_model_module_version": "1.5.0",
            "_model_name": "HTMLModel",
            "_view_count": null,
            "_view_module": "@jupyter-widgets/controls",
            "_view_module_version": "1.5.0",
            "_view_name": "HTMLView",
            "description": "",
            "description_tooltip": null,
            "layout": "IPY_MODEL_5aa53df1cc904ef1a639a9ff4107aa06",
            "placeholder": "​",
            "style": "IPY_MODEL_268f7e8a4a8c4f998d88e472188c0068",
            "value": "100%"
          }
        },
        "0bac8432413040beb24239b53e55201f": {
          "model_module": "@jupyter-widgets/base",
          "model_module_version": "1.2.0",
          "model_name": "LayoutModel",
          "state": {
            "_model_module": "@jupyter-widgets/base",
            "_model_module_version": "1.2.0",
            "_model_name": "LayoutModel",
            "_view_count": null,
            "_view_module": "@jupyter-widgets/base",
            "_view_module_version": "1.2.0",
            "_view_name": "LayoutView",
            "align_content": null,
            "align_items": null,
            "align_self": null,
            "border": null,
            "bottom": null,
            "display": null,
            "flex": null,
            "flex_flow": null,
            "grid_area": null,
            "grid_auto_columns": null,
            "grid_auto_flow": null,
            "grid_auto_rows": null,
            "grid_column": null,
            "grid_gap": null,
            "grid_row": null,
            "grid_template_areas": null,
            "grid_template_columns": null,
            "grid_template_rows": null,
            "height": null,
            "justify_content": null,
            "justify_items": null,
            "left": null,
            "margin": null,
            "max_height": null,
            "max_width": null,
            "min_height": null,
            "min_width": null,
            "object_fit": null,
            "object_position": null,
            "order": null,
            "overflow": null,
            "overflow_x": null,
            "overflow_y": null,
            "padding": null,
            "right": null,
            "top": null,
            "visibility": null,
            "width": null
          }
        },
        "0bfc02bda2c747398985b900c3d35458": {
          "model_module": "@jupyter-widgets/controls",
          "model_module_version": "1.5.0",
          "model_name": "DescriptionStyleModel",
          "state": {
            "_model_module": "@jupyter-widgets/controls",
            "_model_module_version": "1.5.0",
            "_model_name": "DescriptionStyleModel",
            "_view_count": null,
            "_view_module": "@jupyter-widgets/base",
            "_view_module_version": "1.2.0",
            "_view_name": "StyleView",
            "description_width": ""
          }
        },
        "0c270452e562427399b255cef2acfd56": {
          "model_module": "@jupyter-widgets/base",
          "model_module_version": "1.2.0",
          "model_name": "LayoutModel",
          "state": {
            "_model_module": "@jupyter-widgets/base",
            "_model_module_version": "1.2.0",
            "_model_name": "LayoutModel",
            "_view_count": null,
            "_view_module": "@jupyter-widgets/base",
            "_view_module_version": "1.2.0",
            "_view_name": "LayoutView",
            "align_content": null,
            "align_items": null,
            "align_self": null,
            "border": null,
            "bottom": null,
            "display": null,
            "flex": null,
            "flex_flow": null,
            "grid_area": null,
            "grid_auto_columns": null,
            "grid_auto_flow": null,
            "grid_auto_rows": null,
            "grid_column": null,
            "grid_gap": null,
            "grid_row": null,
            "grid_template_areas": null,
            "grid_template_columns": null,
            "grid_template_rows": null,
            "height": null,
            "justify_content": null,
            "justify_items": null,
            "left": null,
            "margin": null,
            "max_height": null,
            "max_width": null,
            "min_height": null,
            "min_width": null,
            "object_fit": null,
            "object_position": null,
            "order": null,
            "overflow": null,
            "overflow_x": null,
            "overflow_y": null,
            "padding": null,
            "right": null,
            "top": null,
            "visibility": null,
            "width": null
          }
        },
        "0d0b769eaaba475eb4cba3cdc3fcf6bf": {
          "model_module": "@jupyter-widgets/controls",
          "model_module_version": "1.5.0",
          "model_name": "DescriptionStyleModel",
          "state": {
            "_model_module": "@jupyter-widgets/controls",
            "_model_module_version": "1.5.0",
            "_model_name": "DescriptionStyleModel",
            "_view_count": null,
            "_view_module": "@jupyter-widgets/base",
            "_view_module_version": "1.2.0",
            "_view_name": "StyleView",
            "description_width": ""
          }
        },
        "114339e083dc48ae8a0c9ec22f201259": {
          "model_module": "@jupyter-widgets/controls",
          "model_module_version": "1.5.0",
          "model_name": "HTMLModel",
          "state": {
            "_dom_classes": [],
            "_model_module": "@jupyter-widgets/controls",
            "_model_module_version": "1.5.0",
            "_model_name": "HTMLModel",
            "_view_count": null,
            "_view_module": "@jupyter-widgets/controls",
            "_view_module_version": "1.5.0",
            "_view_name": "HTMLView",
            "description": "",
            "description_tooltip": null,
            "layout": "IPY_MODEL_aee7e106048c462ea33956b7d15a957a",
            "placeholder": "​",
            "style": "IPY_MODEL_41d1928df62d4c61a6c98390ff84d8e3",
            "value": "Task   6: 100%"
          }
        },
        "121637d13c244b709676ca52ee598ef3": {
          "model_module": "@jupyter-widgets/controls",
          "model_module_version": "1.5.0",
          "model_name": "HBoxModel",
          "state": {
            "_dom_classes": [],
            "_model_module": "@jupyter-widgets/controls",
            "_model_module_version": "1.5.0",
            "_model_name": "HBoxModel",
            "_view_count": null,
            "_view_module": "@jupyter-widgets/controls",
            "_view_module_version": "1.5.0",
            "_view_name": "HBoxView",
            "box_style": "",
            "children": [
              "IPY_MODEL_752b6359180c41919f480c26f436d540",
              "IPY_MODEL_483e03a2136244699c04dff88480d439",
              "IPY_MODEL_9307949a007e4a9bb102912bfcbc93cb"
            ],
            "layout": "IPY_MODEL_466c7fb380d54db69c2a27cbddaebb77"
          }
        },
        "1315d00fb65e4cdc8c8d5f74e1c21d38": {
          "model_module": "@jupyter-widgets/base",
          "model_module_version": "1.2.0",
          "model_name": "LayoutModel",
          "state": {
            "_model_module": "@jupyter-widgets/base",
            "_model_module_version": "1.2.0",
            "_model_name": "LayoutModel",
            "_view_count": null,
            "_view_module": "@jupyter-widgets/base",
            "_view_module_version": "1.2.0",
            "_view_name": "LayoutView",
            "align_content": null,
            "align_items": null,
            "align_self": null,
            "border": null,
            "bottom": null,
            "display": null,
            "flex": null,
            "flex_flow": null,
            "grid_area": null,
            "grid_auto_columns": null,
            "grid_auto_flow": null,
            "grid_auto_rows": null,
            "grid_column": null,
            "grid_gap": null,
            "grid_row": null,
            "grid_template_areas": null,
            "grid_template_columns": null,
            "grid_template_rows": null,
            "height": null,
            "justify_content": null,
            "justify_items": null,
            "left": null,
            "margin": null,
            "max_height": null,
            "max_width": null,
            "min_height": null,
            "min_width": null,
            "object_fit": null,
            "object_position": null,
            "order": null,
            "overflow": null,
            "overflow_x": null,
            "overflow_y": null,
            "padding": null,
            "right": null,
            "top": null,
            "visibility": null,
            "width": null
          }
        },
        "13de5934ab9a482eb68ab0b17a55244d": {
          "model_module": "@jupyter-widgets/controls",
          "model_module_version": "1.5.0",
          "model_name": "FloatProgressModel",
          "state": {
            "_dom_classes": [],
            "_model_module": "@jupyter-widgets/controls",
            "_model_module_version": "1.5.0",
            "_model_name": "FloatProgressModel",
            "_view_count": null,
            "_view_module": "@jupyter-widgets/controls",
            "_view_module_version": "1.5.0",
            "_view_name": "ProgressView",
            "bar_style": "",
            "description": "",
            "description_tooltip": null,
            "layout": "IPY_MODEL_c039be753c5e4a6290f76ec6e386901b",
            "max": 469,
            "min": 0,
            "orientation": "horizontal",
            "style": "IPY_MODEL_f9f1342fb9af40ba99d2534f87d176e6",
            "value": 469
          }
        },
        "1541c88747b8470abd554b35afb4b0fa": {
          "model_module": "@jupyter-widgets/controls",
          "model_module_version": "1.5.0",
          "model_name": "FloatProgressModel",
          "state": {
            "_dom_classes": [],
            "_model_module": "@jupyter-widgets/controls",
            "_model_module_version": "1.5.0",
            "_model_name": "FloatProgressModel",
            "_view_count": null,
            "_view_module": "@jupyter-widgets/controls",
            "_view_module_version": "1.5.0",
            "_view_name": "ProgressView",
            "bar_style": "success",
            "description": "",
            "description_tooltip": null,
            "layout": "IPY_MODEL_50951e37f8a94966a2e9fc95537f048c",
            "max": 5,
            "min": 0,
            "orientation": "horizontal",
            "style": "IPY_MODEL_393f6a5f6975418da5d74ad458180a9b",
            "value": 5
          }
        },
        "1c0851b10422481583771db79c285cbb": {
          "model_module": "@jupyter-widgets/controls",
          "model_module_version": "1.5.0",
          "model_name": "FloatProgressModel",
          "state": {
            "_dom_classes": [],
            "_model_module": "@jupyter-widgets/controls",
            "_model_module_version": "1.5.0",
            "_model_name": "FloatProgressModel",
            "_view_count": null,
            "_view_module": "@jupyter-widgets/controls",
            "_view_module_version": "1.5.0",
            "_view_name": "ProgressView",
            "bar_style": "success",
            "description": "",
            "description_tooltip": null,
            "layout": "IPY_MODEL_a7e076a8da064fc8b4514fb0e61954ed",
            "max": 5,
            "min": 0,
            "orientation": "horizontal",
            "style": "IPY_MODEL_965f479dc0174062b178b21d1dd13bb4",
            "value": 5
          }
        },
        "1c1a1ce0437e4dc78bcebbbeb5064d88": {
          "model_module": "@jupyter-widgets/controls",
          "model_module_version": "1.5.0",
          "model_name": "FloatProgressModel",
          "state": {
            "_dom_classes": [],
            "_model_module": "@jupyter-widgets/controls",
            "_model_module_version": "1.5.0",
            "_model_name": "FloatProgressModel",
            "_view_count": null,
            "_view_module": "@jupyter-widgets/controls",
            "_view_module_version": "1.5.0",
            "_view_name": "ProgressView",
            "bar_style": "",
            "description": "",
            "description_tooltip": null,
            "layout": "IPY_MODEL_72e04981119941ed929e17d2ed92a860",
            "max": 5,
            "min": 0,
            "orientation": "horizontal",
            "style": "IPY_MODEL_8f88838b90a44c3f93a8aadd8d9d2fdb",
            "value": 0
          }
        },
        "1ec39979924c4312818d01708114bbf4": {
          "model_module": "@jupyter-widgets/base",
          "model_module_version": "1.2.0",
          "model_name": "LayoutModel",
          "state": {
            "_model_module": "@jupyter-widgets/base",
            "_model_module_version": "1.2.0",
            "_model_name": "LayoutModel",
            "_view_count": null,
            "_view_module": "@jupyter-widgets/base",
            "_view_module_version": "1.2.0",
            "_view_name": "LayoutView",
            "align_content": null,
            "align_items": null,
            "align_self": null,
            "border": null,
            "bottom": null,
            "display": null,
            "flex": null,
            "flex_flow": null,
            "grid_area": null,
            "grid_auto_columns": null,
            "grid_auto_flow": null,
            "grid_auto_rows": null,
            "grid_column": null,
            "grid_gap": null,
            "grid_row": null,
            "grid_template_areas": null,
            "grid_template_columns": null,
            "grid_template_rows": null,
            "height": null,
            "justify_content": null,
            "justify_items": null,
            "left": null,
            "margin": null,
            "max_height": null,
            "max_width": null,
            "min_height": null,
            "min_width": null,
            "object_fit": null,
            "object_position": null,
            "order": null,
            "overflow": null,
            "overflow_x": null,
            "overflow_y": null,
            "padding": null,
            "right": null,
            "top": null,
            "visibility": null,
            "width": null
          }
        },
        "207c318e32c04ff490d0f78d1fc907f0": {
          "model_module": "@jupyter-widgets/controls",
          "model_module_version": "1.5.0",
          "model_name": "DescriptionStyleModel",
          "state": {
            "_model_module": "@jupyter-widgets/controls",
            "_model_module_version": "1.5.0",
            "_model_name": "DescriptionStyleModel",
            "_view_count": null,
            "_view_module": "@jupyter-widgets/base",
            "_view_module_version": "1.2.0",
            "_view_name": "StyleView",
            "description_width": ""
          }
        },
        "23d694682ad44309a00407cb0f5aba9b": {
          "model_module": "@jupyter-widgets/base",
          "model_module_version": "1.2.0",
          "model_name": "LayoutModel",
          "state": {
            "_model_module": "@jupyter-widgets/base",
            "_model_module_version": "1.2.0",
            "_model_name": "LayoutModel",
            "_view_count": null,
            "_view_module": "@jupyter-widgets/base",
            "_view_module_version": "1.2.0",
            "_view_name": "LayoutView",
            "align_content": null,
            "align_items": null,
            "align_self": null,
            "border": null,
            "bottom": null,
            "display": null,
            "flex": null,
            "flex_flow": null,
            "grid_area": null,
            "grid_auto_columns": null,
            "grid_auto_flow": null,
            "grid_auto_rows": null,
            "grid_column": null,
            "grid_gap": null,
            "grid_row": null,
            "grid_template_areas": null,
            "grid_template_columns": null,
            "grid_template_rows": null,
            "height": null,
            "justify_content": null,
            "justify_items": null,
            "left": null,
            "margin": null,
            "max_height": null,
            "max_width": null,
            "min_height": null,
            "min_width": null,
            "object_fit": null,
            "object_position": null,
            "order": null,
            "overflow": null,
            "overflow_x": null,
            "overflow_y": null,
            "padding": null,
            "right": null,
            "top": null,
            "visibility": null,
            "width": null
          }
        },
        "261a993d06d8410eb6c412b866d7c2be": {
          "model_module": "@jupyter-widgets/base",
          "model_module_version": "1.2.0",
          "model_name": "LayoutModel",
          "state": {
            "_model_module": "@jupyter-widgets/base",
            "_model_module_version": "1.2.0",
            "_model_name": "LayoutModel",
            "_view_count": null,
            "_view_module": "@jupyter-widgets/base",
            "_view_module_version": "1.2.0",
            "_view_name": "LayoutView",
            "align_content": null,
            "align_items": null,
            "align_self": null,
            "border": null,
            "bottom": null,
            "display": null,
            "flex": null,
            "flex_flow": null,
            "grid_area": null,
            "grid_auto_columns": null,
            "grid_auto_flow": null,
            "grid_auto_rows": null,
            "grid_column": null,
            "grid_gap": null,
            "grid_row": null,
            "grid_template_areas": null,
            "grid_template_columns": null,
            "grid_template_rows": null,
            "height": null,
            "justify_content": null,
            "justify_items": null,
            "left": null,
            "margin": null,
            "max_height": null,
            "max_width": null,
            "min_height": null,
            "min_width": null,
            "object_fit": null,
            "object_position": null,
            "order": null,
            "overflow": null,
            "overflow_x": null,
            "overflow_y": null,
            "padding": null,
            "right": null,
            "top": null,
            "visibility": null,
            "width": null
          }
        },
        "268f7e8a4a8c4f998d88e472188c0068": {
          "model_module": "@jupyter-widgets/controls",
          "model_module_version": "1.5.0",
          "model_name": "DescriptionStyleModel",
          "state": {
            "_model_module": "@jupyter-widgets/controls",
            "_model_module_version": "1.5.0",
            "_model_name": "DescriptionStyleModel",
            "_view_count": null,
            "_view_module": "@jupyter-widgets/base",
            "_view_module_version": "1.2.0",
            "_view_name": "StyleView",
            "description_width": ""
          }
        },
        "29b1edb9c32043b2ad5e7e5f7568b2cd": {
          "model_module": "@jupyter-widgets/base",
          "model_module_version": "1.2.0",
          "model_name": "LayoutModel",
          "state": {
            "_model_module": "@jupyter-widgets/base",
            "_model_module_version": "1.2.0",
            "_model_name": "LayoutModel",
            "_view_count": null,
            "_view_module": "@jupyter-widgets/base",
            "_view_module_version": "1.2.0",
            "_view_name": "LayoutView",
            "align_content": null,
            "align_items": null,
            "align_self": null,
            "border": null,
            "bottom": null,
            "display": null,
            "flex": null,
            "flex_flow": null,
            "grid_area": null,
            "grid_auto_columns": null,
            "grid_auto_flow": null,
            "grid_auto_rows": null,
            "grid_column": null,
            "grid_gap": null,
            "grid_row": null,
            "grid_template_areas": null,
            "grid_template_columns": null,
            "grid_template_rows": null,
            "height": null,
            "justify_content": null,
            "justify_items": null,
            "left": null,
            "margin": null,
            "max_height": null,
            "max_width": null,
            "min_height": null,
            "min_width": null,
            "object_fit": null,
            "object_position": null,
            "order": null,
            "overflow": null,
            "overflow_x": null,
            "overflow_y": null,
            "padding": null,
            "right": null,
            "top": null,
            "visibility": null,
            "width": null
          }
        },
        "2ba518f775dc48f8b864c965a86708fc": {
          "model_module": "@jupyter-widgets/controls",
          "model_module_version": "1.5.0",
          "model_name": "DescriptionStyleModel",
          "state": {
            "_model_module": "@jupyter-widgets/controls",
            "_model_module_version": "1.5.0",
            "_model_name": "DescriptionStyleModel",
            "_view_count": null,
            "_view_module": "@jupyter-widgets/base",
            "_view_module_version": "1.2.0",
            "_view_name": "StyleView",
            "description_width": ""
          }
        },
        "305217dc0c6749ebb29181c5d9958093": {
          "model_module": "@jupyter-widgets/base",
          "model_module_version": "1.2.0",
          "model_name": "LayoutModel",
          "state": {
            "_model_module": "@jupyter-widgets/base",
            "_model_module_version": "1.2.0",
            "_model_name": "LayoutModel",
            "_view_count": null,
            "_view_module": "@jupyter-widgets/base",
            "_view_module_version": "1.2.0",
            "_view_name": "LayoutView",
            "align_content": null,
            "align_items": null,
            "align_self": null,
            "border": null,
            "bottom": null,
            "display": null,
            "flex": null,
            "flex_flow": null,
            "grid_area": null,
            "grid_auto_columns": null,
            "grid_auto_flow": null,
            "grid_auto_rows": null,
            "grid_column": null,
            "grid_gap": null,
            "grid_row": null,
            "grid_template_areas": null,
            "grid_template_columns": null,
            "grid_template_rows": null,
            "height": null,
            "justify_content": null,
            "justify_items": null,
            "left": null,
            "margin": null,
            "max_height": null,
            "max_width": null,
            "min_height": null,
            "min_width": null,
            "object_fit": null,
            "object_position": null,
            "order": null,
            "overflow": null,
            "overflow_x": null,
            "overflow_y": null,
            "padding": null,
            "right": null,
            "top": null,
            "visibility": null,
            "width": null
          }
        },
        "310370b83f6e4243b104b7ed68bb1313": {
          "model_module": "@jupyter-widgets/controls",
          "model_module_version": "1.5.0",
          "model_name": "DescriptionStyleModel",
          "state": {
            "_model_module": "@jupyter-widgets/controls",
            "_model_module_version": "1.5.0",
            "_model_name": "DescriptionStyleModel",
            "_view_count": null,
            "_view_module": "@jupyter-widgets/base",
            "_view_module_version": "1.2.0",
            "_view_name": "StyleView",
            "description_width": ""
          }
        },
        "33d7d19699ab4a969bf6567cbc207f43": {
          "model_module": "@jupyter-widgets/base",
          "model_module_version": "1.2.0",
          "model_name": "LayoutModel",
          "state": {
            "_model_module": "@jupyter-widgets/base",
            "_model_module_version": "1.2.0",
            "_model_name": "LayoutModel",
            "_view_count": null,
            "_view_module": "@jupyter-widgets/base",
            "_view_module_version": "1.2.0",
            "_view_name": "LayoutView",
            "align_content": null,
            "align_items": null,
            "align_self": null,
            "border": null,
            "bottom": null,
            "display": null,
            "flex": null,
            "flex_flow": null,
            "grid_area": null,
            "grid_auto_columns": null,
            "grid_auto_flow": null,
            "grid_auto_rows": null,
            "grid_column": null,
            "grid_gap": null,
            "grid_row": null,
            "grid_template_areas": null,
            "grid_template_columns": null,
            "grid_template_rows": null,
            "height": null,
            "justify_content": null,
            "justify_items": null,
            "left": null,
            "margin": null,
            "max_height": null,
            "max_width": null,
            "min_height": null,
            "min_width": null,
            "object_fit": null,
            "object_position": null,
            "order": null,
            "overflow": null,
            "overflow_x": null,
            "overflow_y": null,
            "padding": null,
            "right": null,
            "top": null,
            "visibility": null,
            "width": null
          }
        },
        "35b172c4da1140f0bf735647f6524e88": {
          "model_module": "@jupyter-widgets/controls",
          "model_module_version": "1.5.0",
          "model_name": "HTMLModel",
          "state": {
            "_dom_classes": [],
            "_model_module": "@jupyter-widgets/controls",
            "_model_module_version": "1.5.0",
            "_model_name": "HTMLModel",
            "_view_count": null,
            "_view_module": "@jupyter-widgets/controls",
            "_view_module_version": "1.5.0",
            "_view_name": "HTMLView",
            "description": "",
            "description_tooltip": null,
            "layout": "IPY_MODEL_b396d0100b194ab292d2794c988218c0",
            "placeholder": "​",
            "style": "IPY_MODEL_877c3a837304449c943ff10b50aa2945",
            "value": " 3/5 [17:28&lt;11:56, 358.38s/it]"
          }
        },
        "35cb6bda75d949df8b9e2d56bb04f43e": {
          "model_module": "@jupyter-widgets/controls",
          "model_module_version": "1.5.0",
          "model_name": "HTMLModel",
          "state": {
            "_dom_classes": [],
            "_model_module": "@jupyter-widgets/controls",
            "_model_module_version": "1.5.0",
            "_model_name": "HTMLModel",
            "_view_count": null,
            "_view_module": "@jupyter-widgets/controls",
            "_view_module_version": "1.5.0",
            "_view_name": "HTMLView",
            "description": "",
            "description_tooltip": null,
            "layout": "IPY_MODEL_b3993051b107453e936bd7351a78ef5b",
            "placeholder": "​",
            "style": "IPY_MODEL_de455453d0c74e10a19479997d329465",
            "value": " 10/10 [05:06&lt;00:00, 30.76s/it]"
          }
        },
        "393f6a5f6975418da5d74ad458180a9b": {
          "model_module": "@jupyter-widgets/controls",
          "model_module_version": "1.5.0",
          "model_name": "ProgressStyleModel",
          "state": {
            "_model_module": "@jupyter-widgets/controls",
            "_model_module_version": "1.5.0",
            "_model_name": "ProgressStyleModel",
            "_view_count": null,
            "_view_module": "@jupyter-widgets/base",
            "_view_module_version": "1.2.0",
            "_view_name": "StyleView",
            "bar_color": null,
            "description_width": ""
          }
        },
        "3a91848bca3247288d5dbd4cc039a5e6": {
          "model_module": "@jupyter-widgets/controls",
          "model_module_version": "1.5.0",
          "model_name": "HTMLModel",
          "state": {
            "_dom_classes": [],
            "_model_module": "@jupyter-widgets/controls",
            "_model_module_version": "1.5.0",
            "_model_name": "HTMLModel",
            "_view_count": null,
            "_view_module": "@jupyter-widgets/controls",
            "_view_module_version": "1.5.0",
            "_view_name": "HTMLView",
            "description": "",
            "description_tooltip": null,
            "layout": "IPY_MODEL_1315d00fb65e4cdc8c8d5f74e1c21d38",
            "placeholder": "​",
            "style": "IPY_MODEL_0532ab92c3404d79a58b6c59b82aa145",
            "value": "100%"
          }
        },
        "3ae6c5ef39224de2a614d5bd4aa393bd": {
          "model_module": "@jupyter-widgets/controls",
          "model_module_version": "1.5.0",
          "model_name": "DescriptionStyleModel",
          "state": {
            "_model_module": "@jupyter-widgets/controls",
            "_model_module_version": "1.5.0",
            "_model_name": "DescriptionStyleModel",
            "_view_count": null,
            "_view_module": "@jupyter-widgets/base",
            "_view_module_version": "1.2.0",
            "_view_name": "StyleView",
            "description_width": ""
          }
        },
        "411a96e802e84db7a216a377d9d527b7": {
          "model_module": "@jupyter-widgets/controls",
          "model_module_version": "1.5.0",
          "model_name": "HBoxModel",
          "state": {
            "_dom_classes": [],
            "_model_module": "@jupyter-widgets/controls",
            "_model_module_version": "1.5.0",
            "_model_name": "HBoxModel",
            "_view_count": null,
            "_view_module": "@jupyter-widgets/controls",
            "_view_module_version": "1.5.0",
            "_view_name": "HBoxView",
            "box_style": "",
            "children": [
              "IPY_MODEL_fadb70fdcc404de99b6eea1bdf99a017",
              "IPY_MODEL_b3f498eee08c472a9df090a2904ce7a0",
              "IPY_MODEL_ff72acd982ae43af8e240337cd84a5e2"
            ],
            "layout": "IPY_MODEL_acf1bf1670c24b308015bc3be5804e06"
          }
        },
        "41d1928df62d4c61a6c98390ff84d8e3": {
          "model_module": "@jupyter-widgets/controls",
          "model_module_version": "1.5.0",
          "model_name": "DescriptionStyleModel",
          "state": {
            "_model_module": "@jupyter-widgets/controls",
            "_model_module_version": "1.5.0",
            "_model_name": "DescriptionStyleModel",
            "_view_count": null,
            "_view_module": "@jupyter-widgets/base",
            "_view_module_version": "1.2.0",
            "_view_name": "StyleView",
            "description_width": ""
          }
        },
        "42f60c3578cb4ef08a587a160604c226": {
          "model_module": "@jupyter-widgets/controls",
          "model_module_version": "1.5.0",
          "model_name": "HTMLModel",
          "state": {
            "_dom_classes": [],
            "_model_module": "@jupyter-widgets/controls",
            "_model_module_version": "1.5.0",
            "_model_name": "HTMLModel",
            "_view_count": null,
            "_view_module": "@jupyter-widgets/controls",
            "_view_module_version": "1.5.0",
            "_view_name": "HTMLView",
            "description": "",
            "description_tooltip": null,
            "layout": "IPY_MODEL_b5b4e5c045304f449c5c00fa6fcc692a",
            "placeholder": "​",
            "style": "IPY_MODEL_68b42e5fd2a246af896992c423694d33",
            "value": "Epoch 11, Loss: 0.0246035: 100%"
          }
        },
        "43a917cfcddd4372aed25dd4aeaf3fe0": {
          "model_module": "@jupyter-widgets/base",
          "model_module_version": "1.2.0",
          "model_name": "LayoutModel",
          "state": {
            "_model_module": "@jupyter-widgets/base",
            "_model_module_version": "1.2.0",
            "_model_name": "LayoutModel",
            "_view_count": null,
            "_view_module": "@jupyter-widgets/base",
            "_view_module_version": "1.2.0",
            "_view_name": "LayoutView",
            "align_content": null,
            "align_items": null,
            "align_self": null,
            "border": null,
            "bottom": null,
            "display": null,
            "flex": null,
            "flex_flow": null,
            "grid_area": null,
            "grid_auto_columns": null,
            "grid_auto_flow": null,
            "grid_auto_rows": null,
            "grid_column": null,
            "grid_gap": null,
            "grid_row": null,
            "grid_template_areas": null,
            "grid_template_columns": null,
            "grid_template_rows": null,
            "height": null,
            "justify_content": null,
            "justify_items": null,
            "left": null,
            "margin": null,
            "max_height": null,
            "max_width": null,
            "min_height": null,
            "min_width": null,
            "object_fit": null,
            "object_position": null,
            "order": null,
            "overflow": null,
            "overflow_x": null,
            "overflow_y": null,
            "padding": null,
            "right": null,
            "top": null,
            "visibility": null,
            "width": null
          }
        },
        "466c7fb380d54db69c2a27cbddaebb77": {
          "model_module": "@jupyter-widgets/base",
          "model_module_version": "1.2.0",
          "model_name": "LayoutModel",
          "state": {
            "_model_module": "@jupyter-widgets/base",
            "_model_module_version": "1.2.0",
            "_model_name": "LayoutModel",
            "_view_count": null,
            "_view_module": "@jupyter-widgets/base",
            "_view_module_version": "1.2.0",
            "_view_name": "LayoutView",
            "align_content": null,
            "align_items": null,
            "align_self": null,
            "border": null,
            "bottom": null,
            "display": null,
            "flex": null,
            "flex_flow": null,
            "grid_area": null,
            "grid_auto_columns": null,
            "grid_auto_flow": null,
            "grid_auto_rows": null,
            "grid_column": null,
            "grid_gap": null,
            "grid_row": null,
            "grid_template_areas": null,
            "grid_template_columns": null,
            "grid_template_rows": null,
            "height": null,
            "justify_content": null,
            "justify_items": null,
            "left": null,
            "margin": null,
            "max_height": null,
            "max_width": null,
            "min_height": null,
            "min_width": null,
            "object_fit": null,
            "object_position": null,
            "order": null,
            "overflow": null,
            "overflow_x": null,
            "overflow_y": null,
            "padding": null,
            "right": null,
            "top": null,
            "visibility": null,
            "width": null
          }
        },
        "4839ca1abf9c4454918a681896dbe38e": {
          "model_module": "@jupyter-widgets/base",
          "model_module_version": "1.2.0",
          "model_name": "LayoutModel",
          "state": {
            "_model_module": "@jupyter-widgets/base",
            "_model_module_version": "1.2.0",
            "_model_name": "LayoutModel",
            "_view_count": null,
            "_view_module": "@jupyter-widgets/base",
            "_view_module_version": "1.2.0",
            "_view_name": "LayoutView",
            "align_content": null,
            "align_items": null,
            "align_self": null,
            "border": null,
            "bottom": null,
            "display": null,
            "flex": null,
            "flex_flow": null,
            "grid_area": null,
            "grid_auto_columns": null,
            "grid_auto_flow": null,
            "grid_auto_rows": null,
            "grid_column": null,
            "grid_gap": null,
            "grid_row": null,
            "grid_template_areas": null,
            "grid_template_columns": null,
            "grid_template_rows": null,
            "height": null,
            "justify_content": null,
            "justify_items": null,
            "left": null,
            "margin": null,
            "max_height": null,
            "max_width": null,
            "min_height": null,
            "min_width": null,
            "object_fit": null,
            "object_position": null,
            "order": null,
            "overflow": null,
            "overflow_x": null,
            "overflow_y": null,
            "padding": null,
            "right": null,
            "top": null,
            "visibility": null,
            "width": null
          }
        },
        "483e03a2136244699c04dff88480d439": {
          "model_module": "@jupyter-widgets/controls",
          "model_module_version": "1.5.0",
          "model_name": "FloatProgressModel",
          "state": {
            "_dom_classes": [],
            "_model_module": "@jupyter-widgets/controls",
            "_model_module_version": "1.5.0",
            "_model_name": "FloatProgressModel",
            "_view_count": null,
            "_view_module": "@jupyter-widgets/controls",
            "_view_module_version": "1.5.0",
            "_view_name": "ProgressView",
            "bar_style": "",
            "description": "",
            "description_tooltip": null,
            "layout": "IPY_MODEL_b496126a4fd645cda718e905383033c1",
            "max": 469,
            "min": 0,
            "orientation": "horizontal",
            "style": "IPY_MODEL_c1b50ec124454eb1a64e8bad0fc33a84",
            "value": 469
          }
        },
        "492848badec1470880e4387159da39fa": {
          "model_module": "@jupyter-widgets/base",
          "model_module_version": "1.2.0",
          "model_name": "LayoutModel",
          "state": {
            "_model_module": "@jupyter-widgets/base",
            "_model_module_version": "1.2.0",
            "_model_name": "LayoutModel",
            "_view_count": null,
            "_view_module": "@jupyter-widgets/base",
            "_view_module_version": "1.2.0",
            "_view_name": "LayoutView",
            "align_content": null,
            "align_items": null,
            "align_self": null,
            "border": null,
            "bottom": null,
            "display": null,
            "flex": null,
            "flex_flow": null,
            "grid_area": null,
            "grid_auto_columns": null,
            "grid_auto_flow": null,
            "grid_auto_rows": null,
            "grid_column": null,
            "grid_gap": null,
            "grid_row": null,
            "grid_template_areas": null,
            "grid_template_columns": null,
            "grid_template_rows": null,
            "height": null,
            "justify_content": null,
            "justify_items": null,
            "left": null,
            "margin": null,
            "max_height": null,
            "max_width": null,
            "min_height": null,
            "min_width": null,
            "object_fit": null,
            "object_position": null,
            "order": null,
            "overflow": null,
            "overflow_x": null,
            "overflow_y": null,
            "padding": null,
            "right": null,
            "top": null,
            "visibility": null,
            "width": null
          }
        },
        "4faff50d663846b29cc0b574861eecc8": {
          "model_module": "@jupyter-widgets/controls",
          "model_module_version": "1.5.0",
          "model_name": "HBoxModel",
          "state": {
            "_dom_classes": [],
            "_model_module": "@jupyter-widgets/controls",
            "_model_module_version": "1.5.0",
            "_model_name": "HBoxModel",
            "_view_count": null,
            "_view_module": "@jupyter-widgets/controls",
            "_view_module_version": "1.5.0",
            "_view_name": "HBoxView",
            "box_style": "",
            "children": [
              "IPY_MODEL_a3d6a74314a84107b7cbe5306f6daf4e",
              "IPY_MODEL_9a06f5d93a8c4e1ab9715685a99f99b4",
              "IPY_MODEL_35b172c4da1140f0bf735647f6524e88"
            ],
            "layout": "IPY_MODEL_261a993d06d8410eb6c412b866d7c2be"
          }
        },
        "5036c529cac243899e21c7cb601b7599": {
          "model_module": "@jupyter-widgets/controls",
          "model_module_version": "1.5.0",
          "model_name": "ProgressStyleModel",
          "state": {
            "_model_module": "@jupyter-widgets/controls",
            "_model_module_version": "1.5.0",
            "_model_name": "ProgressStyleModel",
            "_view_count": null,
            "_view_module": "@jupyter-widgets/base",
            "_view_module_version": "1.2.0",
            "_view_name": "StyleView",
            "bar_color": null,
            "description_width": ""
          }
        },
        "50951e37f8a94966a2e9fc95537f048c": {
          "model_module": "@jupyter-widgets/base",
          "model_module_version": "1.2.0",
          "model_name": "LayoutModel",
          "state": {
            "_model_module": "@jupyter-widgets/base",
            "_model_module_version": "1.2.0",
            "_model_name": "LayoutModel",
            "_view_count": null,
            "_view_module": "@jupyter-widgets/base",
            "_view_module_version": "1.2.0",
            "_view_name": "LayoutView",
            "align_content": null,
            "align_items": null,
            "align_self": null,
            "border": null,
            "bottom": null,
            "display": null,
            "flex": null,
            "flex_flow": null,
            "grid_area": null,
            "grid_auto_columns": null,
            "grid_auto_flow": null,
            "grid_auto_rows": null,
            "grid_column": null,
            "grid_gap": null,
            "grid_row": null,
            "grid_template_areas": null,
            "grid_template_columns": null,
            "grid_template_rows": null,
            "height": null,
            "justify_content": null,
            "justify_items": null,
            "left": null,
            "margin": null,
            "max_height": null,
            "max_width": null,
            "min_height": null,
            "min_width": null,
            "object_fit": null,
            "object_position": null,
            "order": null,
            "overflow": null,
            "overflow_x": null,
            "overflow_y": null,
            "padding": null,
            "right": null,
            "top": null,
            "visibility": null,
            "width": null
          }
        },
        "5892f9d163ea4b788b2ede5caef25fdc": {
          "model_module": "@jupyter-widgets/controls",
          "model_module_version": "1.5.0",
          "model_name": "HTMLModel",
          "state": {
            "_dom_classes": [],
            "_model_module": "@jupyter-widgets/controls",
            "_model_module_version": "1.5.0",
            "_model_name": "HTMLModel",
            "_view_count": null,
            "_view_module": "@jupyter-widgets/controls",
            "_view_module_version": "1.5.0",
            "_view_name": "HTMLView",
            "description": "",
            "description_tooltip": null,
            "layout": "IPY_MODEL_cda71852babd4db99781f9718bd5d184",
            "placeholder": "​",
            "style": "IPY_MODEL_0bfc02bda2c747398985b900c3d35458",
            "value": " 0/5 [00:00&lt;?, ?it/s]"
          }
        },
        "59ccab7e63ba446b97bf795aa6bfb7b5": {
          "model_module": "@jupyter-widgets/base",
          "model_module_version": "1.2.0",
          "model_name": "LayoutModel",
          "state": {
            "_model_module": "@jupyter-widgets/base",
            "_model_module_version": "1.2.0",
            "_model_name": "LayoutModel",
            "_view_count": null,
            "_view_module": "@jupyter-widgets/base",
            "_view_module_version": "1.2.0",
            "_view_name": "LayoutView",
            "align_content": null,
            "align_items": null,
            "align_self": null,
            "border": null,
            "bottom": null,
            "display": null,
            "flex": null,
            "flex_flow": null,
            "grid_area": null,
            "grid_auto_columns": null,
            "grid_auto_flow": null,
            "grid_auto_rows": null,
            "grid_column": null,
            "grid_gap": null,
            "grid_row": null,
            "grid_template_areas": null,
            "grid_template_columns": null,
            "grid_template_rows": null,
            "height": null,
            "justify_content": null,
            "justify_items": null,
            "left": null,
            "margin": null,
            "max_height": null,
            "max_width": null,
            "min_height": null,
            "min_width": null,
            "object_fit": null,
            "object_position": null,
            "order": null,
            "overflow": null,
            "overflow_x": null,
            "overflow_y": null,
            "padding": null,
            "right": null,
            "top": null,
            "visibility": null,
            "width": null
          }
        },
        "5a7ec50402bc432998d512bcc4353185": {
          "model_module": "@jupyter-widgets/base",
          "model_module_version": "1.2.0",
          "model_name": "LayoutModel",
          "state": {
            "_model_module": "@jupyter-widgets/base",
            "_model_module_version": "1.2.0",
            "_model_name": "LayoutModel",
            "_view_count": null,
            "_view_module": "@jupyter-widgets/base",
            "_view_module_version": "1.2.0",
            "_view_name": "LayoutView",
            "align_content": null,
            "align_items": null,
            "align_self": null,
            "border": null,
            "bottom": null,
            "display": null,
            "flex": null,
            "flex_flow": null,
            "grid_area": null,
            "grid_auto_columns": null,
            "grid_auto_flow": null,
            "grid_auto_rows": null,
            "grid_column": null,
            "grid_gap": null,
            "grid_row": null,
            "grid_template_areas": null,
            "grid_template_columns": null,
            "grid_template_rows": null,
            "height": null,
            "justify_content": null,
            "justify_items": null,
            "left": null,
            "margin": null,
            "max_height": null,
            "max_width": null,
            "min_height": null,
            "min_width": null,
            "object_fit": null,
            "object_position": null,
            "order": null,
            "overflow": null,
            "overflow_x": null,
            "overflow_y": null,
            "padding": null,
            "right": null,
            "top": null,
            "visibility": null,
            "width": null
          }
        },
        "5aa53df1cc904ef1a639a9ff4107aa06": {
          "model_module": "@jupyter-widgets/base",
          "model_module_version": "1.2.0",
          "model_name": "LayoutModel",
          "state": {
            "_model_module": "@jupyter-widgets/base",
            "_model_module_version": "1.2.0",
            "_model_name": "LayoutModel",
            "_view_count": null,
            "_view_module": "@jupyter-widgets/base",
            "_view_module_version": "1.2.0",
            "_view_name": "LayoutView",
            "align_content": null,
            "align_items": null,
            "align_self": null,
            "border": null,
            "bottom": null,
            "display": null,
            "flex": null,
            "flex_flow": null,
            "grid_area": null,
            "grid_auto_columns": null,
            "grid_auto_flow": null,
            "grid_auto_rows": null,
            "grid_column": null,
            "grid_gap": null,
            "grid_row": null,
            "grid_template_areas": null,
            "grid_template_columns": null,
            "grid_template_rows": null,
            "height": null,
            "justify_content": null,
            "justify_items": null,
            "left": null,
            "margin": null,
            "max_height": null,
            "max_width": null,
            "min_height": null,
            "min_width": null,
            "object_fit": null,
            "object_position": null,
            "order": null,
            "overflow": null,
            "overflow_x": null,
            "overflow_y": null,
            "padding": null,
            "right": null,
            "top": null,
            "visibility": null,
            "width": null
          }
        },
        "5ceb71e64adc4e97be54d4737cc2524b": {
          "model_module": "@jupyter-widgets/controls",
          "model_module_version": "1.5.0",
          "model_name": "ProgressStyleModel",
          "state": {
            "_model_module": "@jupyter-widgets/controls",
            "_model_module_version": "1.5.0",
            "_model_name": "ProgressStyleModel",
            "_view_count": null,
            "_view_module": "@jupyter-widgets/base",
            "_view_module_version": "1.2.0",
            "_view_name": "StyleView",
            "bar_color": null,
            "description_width": ""
          }
        },
        "5e6ebbbe25164bd4b499366dcc4f9bff": {
          "model_module": "@jupyter-widgets/controls",
          "model_module_version": "1.5.0",
          "model_name": "HTMLModel",
          "state": {
            "_dom_classes": [],
            "_model_module": "@jupyter-widgets/controls",
            "_model_module_version": "1.5.0",
            "_model_name": "HTMLModel",
            "_view_count": null,
            "_view_module": "@jupyter-widgets/controls",
            "_view_module_version": "1.5.0",
            "_view_name": "HTMLView",
            "description": "",
            "description_tooltip": null,
            "layout": "IPY_MODEL_492848badec1470880e4387159da39fa",
            "placeholder": "​",
            "style": "IPY_MODEL_f3dc2aa1626442be8de71b3a3cfa4bf3",
            "value": "100%"
          }
        },
        "62b077afcef0471b8cf77a0cca4067ee": {
          "model_module": "@jupyter-widgets/controls",
          "model_module_version": "1.5.0",
          "model_name": "ProgressStyleModel",
          "state": {
            "_model_module": "@jupyter-widgets/controls",
            "_model_module_version": "1.5.0",
            "_model_name": "ProgressStyleModel",
            "_view_count": null,
            "_view_module": "@jupyter-widgets/base",
            "_view_module_version": "1.2.0",
            "_view_name": "StyleView",
            "bar_color": null,
            "description_width": ""
          }
        },
        "65b5578bf8964a0db028836626762deb": {
          "model_module": "@jupyter-widgets/controls",
          "model_module_version": "1.5.0",
          "model_name": "HBoxModel",
          "state": {
            "_dom_classes": [],
            "_model_module": "@jupyter-widgets/controls",
            "_model_module_version": "1.5.0",
            "_model_name": "HBoxModel",
            "_view_count": null,
            "_view_module": "@jupyter-widgets/controls",
            "_view_module_version": "1.5.0",
            "_view_name": "HBoxView",
            "box_style": "",
            "children": [
              "IPY_MODEL_5e6ebbbe25164bd4b499366dcc4f9bff",
              "IPY_MODEL_f0c58691196744c3bd06e6627abade96",
              "IPY_MODEL_7d9eb12d33dd42f0b7732ce35c8f1893"
            ],
            "layout": "IPY_MODEL_e6e6b9d7579e4ab798253b6f95611cb3"
          }
        },
        "68b42e5fd2a246af896992c423694d33": {
          "model_module": "@jupyter-widgets/controls",
          "model_module_version": "1.5.0",
          "model_name": "DescriptionStyleModel",
          "state": {
            "_model_module": "@jupyter-widgets/controls",
            "_model_module_version": "1.5.0",
            "_model_name": "DescriptionStyleModel",
            "_view_count": null,
            "_view_module": "@jupyter-widgets/base",
            "_view_module_version": "1.2.0",
            "_view_name": "StyleView",
            "description_width": ""
          }
        },
        "68c54aca0ea643979d21b251a772cc67": {
          "model_module": "@jupyter-widgets/controls",
          "model_module_version": "1.5.0",
          "model_name": "FloatProgressModel",
          "state": {
            "_dom_classes": [],
            "_model_module": "@jupyter-widgets/controls",
            "_model_module_version": "1.5.0",
            "_model_name": "FloatProgressModel",
            "_view_count": null,
            "_view_module": "@jupyter-widgets/controls",
            "_view_module_version": "1.5.0",
            "_view_name": "ProgressView",
            "bar_style": "",
            "description": "",
            "description_tooltip": null,
            "layout": "IPY_MODEL_5a7ec50402bc432998d512bcc4353185",
            "max": 469,
            "min": 0,
            "orientation": "horizontal",
            "style": "IPY_MODEL_5ceb71e64adc4e97be54d4737cc2524b",
            "value": 469
          }
        },
        "691a3e8f653f4595aae9fa7cb73f781c": {
          "model_module": "@jupyter-widgets/base",
          "model_module_version": "1.2.0",
          "model_name": "LayoutModel",
          "state": {
            "_model_module": "@jupyter-widgets/base",
            "_model_module_version": "1.2.0",
            "_model_name": "LayoutModel",
            "_view_count": null,
            "_view_module": "@jupyter-widgets/base",
            "_view_module_version": "1.2.0",
            "_view_name": "LayoutView",
            "align_content": null,
            "align_items": null,
            "align_self": null,
            "border": null,
            "bottom": null,
            "display": null,
            "flex": null,
            "flex_flow": null,
            "grid_area": null,
            "grid_auto_columns": null,
            "grid_auto_flow": null,
            "grid_auto_rows": null,
            "grid_column": null,
            "grid_gap": null,
            "grid_row": null,
            "grid_template_areas": null,
            "grid_template_columns": null,
            "grid_template_rows": null,
            "height": null,
            "justify_content": null,
            "justify_items": null,
            "left": null,
            "margin": null,
            "max_height": null,
            "max_width": null,
            "min_height": null,
            "min_width": null,
            "object_fit": null,
            "object_position": null,
            "order": null,
            "overflow": null,
            "overflow_x": null,
            "overflow_y": null,
            "padding": null,
            "right": null,
            "top": null,
            "visibility": null,
            "width": null
          }
        },
        "6de5a331555743a3ac62077c211a358d": {
          "model_module": "@jupyter-widgets/base",
          "model_module_version": "1.2.0",
          "model_name": "LayoutModel",
          "state": {
            "_model_module": "@jupyter-widgets/base",
            "_model_module_version": "1.2.0",
            "_model_name": "LayoutModel",
            "_view_count": null,
            "_view_module": "@jupyter-widgets/base",
            "_view_module_version": "1.2.0",
            "_view_name": "LayoutView",
            "align_content": null,
            "align_items": null,
            "align_self": null,
            "border": null,
            "bottom": null,
            "display": null,
            "flex": null,
            "flex_flow": null,
            "grid_area": null,
            "grid_auto_columns": null,
            "grid_auto_flow": null,
            "grid_auto_rows": null,
            "grid_column": null,
            "grid_gap": null,
            "grid_row": null,
            "grid_template_areas": null,
            "grid_template_columns": null,
            "grid_template_rows": null,
            "height": null,
            "justify_content": null,
            "justify_items": null,
            "left": null,
            "margin": null,
            "max_height": null,
            "max_width": null,
            "min_height": null,
            "min_width": null,
            "object_fit": null,
            "object_position": null,
            "order": null,
            "overflow": null,
            "overflow_x": null,
            "overflow_y": null,
            "padding": null,
            "right": null,
            "top": null,
            "visibility": null,
            "width": null
          }
        },
        "6ee3e31459ff45f8a787523fa6d0b46b": {
          "model_module": "@jupyter-widgets/controls",
          "model_module_version": "1.5.0",
          "model_name": "HTMLModel",
          "state": {
            "_dom_classes": [],
            "_model_module": "@jupyter-widgets/controls",
            "_model_module_version": "1.5.0",
            "_model_name": "HTMLModel",
            "_view_count": null,
            "_view_module": "@jupyter-widgets/controls",
            "_view_module_version": "1.5.0",
            "_view_name": "HTMLView",
            "description": "",
            "description_tooltip": null,
            "layout": "IPY_MODEL_29b1edb9c32043b2ad5e7e5f7568b2cd",
            "placeholder": "​",
            "style": "IPY_MODEL_d778ec4d22c14c14bdd16b88ca9bcbb8",
            "value": " 5/5 [31:46&lt;00:00, 405.54s/it]"
          }
        },
        "72e04981119941ed929e17d2ed92a860": {
          "model_module": "@jupyter-widgets/base",
          "model_module_version": "1.2.0",
          "model_name": "LayoutModel",
          "state": {
            "_model_module": "@jupyter-widgets/base",
            "_model_module_version": "1.2.0",
            "_model_name": "LayoutModel",
            "_view_count": null,
            "_view_module": "@jupyter-widgets/base",
            "_view_module_version": "1.2.0",
            "_view_name": "LayoutView",
            "align_content": null,
            "align_items": null,
            "align_self": null,
            "border": null,
            "bottom": null,
            "display": null,
            "flex": null,
            "flex_flow": null,
            "grid_area": null,
            "grid_auto_columns": null,
            "grid_auto_flow": null,
            "grid_auto_rows": null,
            "grid_column": null,
            "grid_gap": null,
            "grid_row": null,
            "grid_template_areas": null,
            "grid_template_columns": null,
            "grid_template_rows": null,
            "height": null,
            "justify_content": null,
            "justify_items": null,
            "left": null,
            "margin": null,
            "max_height": null,
            "max_width": null,
            "min_height": null,
            "min_width": null,
            "object_fit": null,
            "object_position": null,
            "order": null,
            "overflow": null,
            "overflow_x": null,
            "overflow_y": null,
            "padding": null,
            "right": null,
            "top": null,
            "visibility": null,
            "width": null
          }
        },
        "752b6359180c41919f480c26f436d540": {
          "model_module": "@jupyter-widgets/controls",
          "model_module_version": "1.5.0",
          "model_name": "HTMLModel",
          "state": {
            "_dom_classes": [],
            "_model_module": "@jupyter-widgets/controls",
            "_model_module_version": "1.5.0",
            "_model_name": "HTMLModel",
            "_view_count": null,
            "_view_module": "@jupyter-widgets/controls",
            "_view_module_version": "1.5.0",
            "_view_name": "HTMLView",
            "description": "",
            "description_tooltip": null,
            "layout": "IPY_MODEL_d9b90317f7404bb8a07339d5d1d4014c",
            "placeholder": "​",
            "style": "IPY_MODEL_0d0b769eaaba475eb4cba3cdc3fcf6bf",
            "value": "100%"
          }
        },
        "79e1aca6848e4aa4b8bf7904733e2eb0": {
          "model_module": "@jupyter-widgets/controls",
          "model_module_version": "1.5.0",
          "model_name": "HTMLModel",
          "state": {
            "_dom_classes": [],
            "_model_module": "@jupyter-widgets/controls",
            "_model_module_version": "1.5.0",
            "_model_name": "HTMLModel",
            "_view_count": null,
            "_view_module": "@jupyter-widgets/controls",
            "_view_module_version": "1.5.0",
            "_view_name": "HTMLView",
            "description": "",
            "description_tooltip": null,
            "layout": "IPY_MODEL_a2856dccf6c447e1ade30c31e21cba06",
            "placeholder": "​",
            "style": "IPY_MODEL_b964c42254004ebf9a95c941448f411d",
            "value": "Task   1:   0%"
          }
        },
        "7cf9d46cef2e4f59bc89c7d33bd35189": {
          "model_module": "@jupyter-widgets/base",
          "model_module_version": "1.2.0",
          "model_name": "LayoutModel",
          "state": {
            "_model_module": "@jupyter-widgets/base",
            "_model_module_version": "1.2.0",
            "_model_name": "LayoutModel",
            "_view_count": null,
            "_view_module": "@jupyter-widgets/base",
            "_view_module_version": "1.2.0",
            "_view_name": "LayoutView",
            "align_content": null,
            "align_items": null,
            "align_self": null,
            "border": null,
            "bottom": null,
            "display": null,
            "flex": null,
            "flex_flow": null,
            "grid_area": null,
            "grid_auto_columns": null,
            "grid_auto_flow": null,
            "grid_auto_rows": null,
            "grid_column": null,
            "grid_gap": null,
            "grid_row": null,
            "grid_template_areas": null,
            "grid_template_columns": null,
            "grid_template_rows": null,
            "height": null,
            "justify_content": null,
            "justify_items": null,
            "left": null,
            "margin": null,
            "max_height": null,
            "max_width": null,
            "min_height": null,
            "min_width": null,
            "object_fit": null,
            "object_position": null,
            "order": null,
            "overflow": null,
            "overflow_x": null,
            "overflow_y": null,
            "padding": null,
            "right": null,
            "top": null,
            "visibility": null,
            "width": null
          }
        },
        "7d448ec915804dcc871466079a0f0c65": {
          "model_module": "@jupyter-widgets/controls",
          "model_module_version": "1.5.0",
          "model_name": "HTMLModel",
          "state": {
            "_dom_classes": [],
            "_model_module": "@jupyter-widgets/controls",
            "_model_module_version": "1.5.0",
            "_model_name": "HTMLModel",
            "_view_count": null,
            "_view_module": "@jupyter-widgets/controls",
            "_view_module_version": "1.5.0",
            "_view_name": "HTMLView",
            "description": "",
            "description_tooltip": null,
            "layout": "IPY_MODEL_f7e6d93e3b234a99912e3d7b806947ab",
            "placeholder": "​",
            "style": "IPY_MODEL_310370b83f6e4243b104b7ed68bb1313",
            "value": " 5/5 [31:22&lt;00:00, 399.27s/it]"
          }
        },
        "7d9eb12d33dd42f0b7732ce35c8f1893": {
          "model_module": "@jupyter-widgets/controls",
          "model_module_version": "1.5.0",
          "model_name": "HTMLModel",
          "state": {
            "_dom_classes": [],
            "_model_module": "@jupyter-widgets/controls",
            "_model_module_version": "1.5.0",
            "_model_name": "HTMLModel",
            "_view_count": null,
            "_view_module": "@jupyter-widgets/controls",
            "_view_module_version": "1.5.0",
            "_view_name": "HTMLView",
            "description": "",
            "description_tooltip": null,
            "layout": "IPY_MODEL_9a75a57689f2477bade9df39045ddec3",
            "placeholder": "​",
            "style": "IPY_MODEL_cdb196f60d5d44148a9c99d768b457d3",
            "value": " 469/469 [00:27&lt;00:00, 18.19it/s]"
          }
        },
        "7e75d43db6fc4601a86f1ae806678800": {
          "model_module": "@jupyter-widgets/controls",
          "model_module_version": "1.5.0",
          "model_name": "HBoxModel",
          "state": {
            "_dom_classes": [],
            "_model_module": "@jupyter-widgets/controls",
            "_model_module_version": "1.5.0",
            "_model_name": "HBoxModel",
            "_view_count": null,
            "_view_module": "@jupyter-widgets/controls",
            "_view_module_version": "1.5.0",
            "_view_name": "HBoxView",
            "box_style": "",
            "children": [
              "IPY_MODEL_114339e083dc48ae8a0c9ec22f201259",
              "IPY_MODEL_1541c88747b8470abd554b35afb4b0fa",
              "IPY_MODEL_7d448ec915804dcc871466079a0f0c65"
            ],
            "layout": "IPY_MODEL_a1f6fc73ccd249358e944cfe8bc0661a"
          }
        },
        "7e9c607deca747cb9189284d5cb97a94": {
          "model_module": "@jupyter-widgets/base",
          "model_module_version": "1.2.0",
          "model_name": "LayoutModel",
          "state": {
            "_model_module": "@jupyter-widgets/base",
            "_model_module_version": "1.2.0",
            "_model_name": "LayoutModel",
            "_view_count": null,
            "_view_module": "@jupyter-widgets/base",
            "_view_module_version": "1.2.0",
            "_view_name": "LayoutView",
            "align_content": null,
            "align_items": null,
            "align_self": null,
            "border": null,
            "bottom": null,
            "display": null,
            "flex": null,
            "flex_flow": null,
            "grid_area": null,
            "grid_auto_columns": null,
            "grid_auto_flow": null,
            "grid_auto_rows": null,
            "grid_column": null,
            "grid_gap": null,
            "grid_row": null,
            "grid_template_areas": null,
            "grid_template_columns": null,
            "grid_template_rows": null,
            "height": null,
            "justify_content": null,
            "justify_items": null,
            "left": null,
            "margin": null,
            "max_height": null,
            "max_width": null,
            "min_height": null,
            "min_width": null,
            "object_fit": null,
            "object_position": null,
            "order": null,
            "overflow": null,
            "overflow_x": null,
            "overflow_y": null,
            "padding": null,
            "right": null,
            "top": null,
            "visibility": null,
            "width": null
          }
        },
        "7eaaa0b81c84464dbf02092a2847cc5d": {
          "model_module": "@jupyter-widgets/controls",
          "model_module_version": "1.5.0",
          "model_name": "DescriptionStyleModel",
          "state": {
            "_model_module": "@jupyter-widgets/controls",
            "_model_module_version": "1.5.0",
            "_model_name": "DescriptionStyleModel",
            "_view_count": null,
            "_view_module": "@jupyter-widgets/base",
            "_view_module_version": "1.2.0",
            "_view_name": "StyleView",
            "description_width": ""
          }
        },
        "83cbc2ec59cf4e9987bae4f7132af729": {
          "model_module": "@jupyter-widgets/controls",
          "model_module_version": "1.5.0",
          "model_name": "HBoxModel",
          "state": {
            "_dom_classes": [],
            "_model_module": "@jupyter-widgets/controls",
            "_model_module_version": "1.5.0",
            "_model_name": "HBoxModel",
            "_view_count": null,
            "_view_module": "@jupyter-widgets/controls",
            "_view_module_version": "1.5.0",
            "_view_name": "HBoxView",
            "box_style": "",
            "children": [
              "IPY_MODEL_cdcb3c49f4b44a769a93d7b0bf0c2d88",
              "IPY_MODEL_b77fd3397c1f40408ce658ce3ae565b5",
              "IPY_MODEL_6ee3e31459ff45f8a787523fa6d0b46b"
            ],
            "layout": "IPY_MODEL_ed8edaf9f6d3435dbdc447b3a0519610"
          }
        },
        "86a71cc34b3e4d8395d51375b3f06a08": {
          "model_module": "@jupyter-widgets/controls",
          "model_module_version": "1.5.0",
          "model_name": "ProgressStyleModel",
          "state": {
            "_model_module": "@jupyter-widgets/controls",
            "_model_module_version": "1.5.0",
            "_model_name": "ProgressStyleModel",
            "_view_count": null,
            "_view_module": "@jupyter-widgets/base",
            "_view_module_version": "1.2.0",
            "_view_name": "StyleView",
            "bar_color": null,
            "description_width": ""
          }
        },
        "877c3a837304449c943ff10b50aa2945": {
          "model_module": "@jupyter-widgets/controls",
          "model_module_version": "1.5.0",
          "model_name": "DescriptionStyleModel",
          "state": {
            "_model_module": "@jupyter-widgets/controls",
            "_model_module_version": "1.5.0",
            "_model_name": "DescriptionStyleModel",
            "_view_count": null,
            "_view_module": "@jupyter-widgets/base",
            "_view_module_version": "1.2.0",
            "_view_name": "StyleView",
            "description_width": ""
          }
        },
        "896a8a4a15894b92bf98a8c96897c92a": {
          "model_module": "@jupyter-widgets/controls",
          "model_module_version": "1.5.0",
          "model_name": "HBoxModel",
          "state": {
            "_dom_classes": [],
            "_model_module": "@jupyter-widgets/controls",
            "_model_module_version": "1.5.0",
            "_model_name": "HBoxModel",
            "_view_count": null,
            "_view_module": "@jupyter-widgets/controls",
            "_view_module_version": "1.5.0",
            "_view_name": "HBoxView",
            "box_style": "",
            "children": [
              "IPY_MODEL_3a91848bca3247288d5dbd4cc039a5e6",
              "IPY_MODEL_68c54aca0ea643979d21b251a772cc67",
              "IPY_MODEL_cb4b8cf1cd9c4281b5ea23531c435ff3"
            ],
            "layout": "IPY_MODEL_a7079588654e493ab049f4a945c6ab64"
          }
        },
        "8ba7a693d86048acbec97de60cf80bd2": {
          "model_module": "@jupyter-widgets/base",
          "model_module_version": "1.2.0",
          "model_name": "LayoutModel",
          "state": {
            "_model_module": "@jupyter-widgets/base",
            "_model_module_version": "1.2.0",
            "_model_name": "LayoutModel",
            "_view_count": null,
            "_view_module": "@jupyter-widgets/base",
            "_view_module_version": "1.2.0",
            "_view_name": "LayoutView",
            "align_content": null,
            "align_items": null,
            "align_self": null,
            "border": null,
            "bottom": null,
            "display": null,
            "flex": null,
            "flex_flow": null,
            "grid_area": null,
            "grid_auto_columns": null,
            "grid_auto_flow": null,
            "grid_auto_rows": null,
            "grid_column": null,
            "grid_gap": null,
            "grid_row": null,
            "grid_template_areas": null,
            "grid_template_columns": null,
            "grid_template_rows": null,
            "height": null,
            "justify_content": null,
            "justify_items": null,
            "left": null,
            "margin": null,
            "max_height": null,
            "max_width": null,
            "min_height": null,
            "min_width": null,
            "object_fit": null,
            "object_position": null,
            "order": null,
            "overflow": null,
            "overflow_x": null,
            "overflow_y": null,
            "padding": null,
            "right": null,
            "top": null,
            "visibility": null,
            "width": null
          }
        },
        "8d93021efc4a46fbb4821fa372fcfff6": {
          "model_module": "@jupyter-widgets/base",
          "model_module_version": "1.2.0",
          "model_name": "LayoutModel",
          "state": {
            "_model_module": "@jupyter-widgets/base",
            "_model_module_version": "1.2.0",
            "_model_name": "LayoutModel",
            "_view_count": null,
            "_view_module": "@jupyter-widgets/base",
            "_view_module_version": "1.2.0",
            "_view_name": "LayoutView",
            "align_content": null,
            "align_items": null,
            "align_self": null,
            "border": null,
            "bottom": null,
            "display": null,
            "flex": null,
            "flex_flow": null,
            "grid_area": null,
            "grid_auto_columns": null,
            "grid_auto_flow": null,
            "grid_auto_rows": null,
            "grid_column": null,
            "grid_gap": null,
            "grid_row": null,
            "grid_template_areas": null,
            "grid_template_columns": null,
            "grid_template_rows": null,
            "height": null,
            "justify_content": null,
            "justify_items": null,
            "left": null,
            "margin": null,
            "max_height": null,
            "max_width": null,
            "min_height": null,
            "min_width": null,
            "object_fit": null,
            "object_position": null,
            "order": null,
            "overflow": null,
            "overflow_x": null,
            "overflow_y": null,
            "padding": null,
            "right": null,
            "top": null,
            "visibility": null,
            "width": null
          }
        },
        "8dab9b6b4845417fb8ffa8fb717effc5": {
          "model_module": "@jupyter-widgets/base",
          "model_module_version": "1.2.0",
          "model_name": "LayoutModel",
          "state": {
            "_model_module": "@jupyter-widgets/base",
            "_model_module_version": "1.2.0",
            "_model_name": "LayoutModel",
            "_view_count": null,
            "_view_module": "@jupyter-widgets/base",
            "_view_module_version": "1.2.0",
            "_view_name": "LayoutView",
            "align_content": null,
            "align_items": null,
            "align_self": null,
            "border": null,
            "bottom": null,
            "display": null,
            "flex": null,
            "flex_flow": null,
            "grid_area": null,
            "grid_auto_columns": null,
            "grid_auto_flow": null,
            "grid_auto_rows": null,
            "grid_column": null,
            "grid_gap": null,
            "grid_row": null,
            "grid_template_areas": null,
            "grid_template_columns": null,
            "grid_template_rows": null,
            "height": null,
            "justify_content": null,
            "justify_items": null,
            "left": null,
            "margin": null,
            "max_height": null,
            "max_width": null,
            "min_height": null,
            "min_width": null,
            "object_fit": null,
            "object_position": null,
            "order": null,
            "overflow": null,
            "overflow_x": null,
            "overflow_y": null,
            "padding": null,
            "right": null,
            "top": null,
            "visibility": null,
            "width": null
          }
        },
        "8f6c0fd582b149458a7d7ee366953ea5": {
          "model_module": "@jupyter-widgets/controls",
          "model_module_version": "1.5.0",
          "model_name": "DescriptionStyleModel",
          "state": {
            "_model_module": "@jupyter-widgets/controls",
            "_model_module_version": "1.5.0",
            "_model_name": "DescriptionStyleModel",
            "_view_count": null,
            "_view_module": "@jupyter-widgets/base",
            "_view_module_version": "1.2.0",
            "_view_name": "StyleView",
            "description_width": ""
          }
        },
        "8f88838b90a44c3f93a8aadd8d9d2fdb": {
          "model_module": "@jupyter-widgets/controls",
          "model_module_version": "1.5.0",
          "model_name": "ProgressStyleModel",
          "state": {
            "_model_module": "@jupyter-widgets/controls",
            "_model_module_version": "1.5.0",
            "_model_name": "ProgressStyleModel",
            "_view_count": null,
            "_view_module": "@jupyter-widgets/base",
            "_view_module_version": "1.2.0",
            "_view_name": "StyleView",
            "bar_color": null,
            "description_width": ""
          }
        },
        "902b7d92a7ce48f19a12582652e99bc5": {
          "model_module": "@jupyter-widgets/base",
          "model_module_version": "1.2.0",
          "model_name": "LayoutModel",
          "state": {
            "_model_module": "@jupyter-widgets/base",
            "_model_module_version": "1.2.0",
            "_model_name": "LayoutModel",
            "_view_count": null,
            "_view_module": "@jupyter-widgets/base",
            "_view_module_version": "1.2.0",
            "_view_name": "LayoutView",
            "align_content": null,
            "align_items": null,
            "align_self": null,
            "border": null,
            "bottom": null,
            "display": null,
            "flex": null,
            "flex_flow": null,
            "grid_area": null,
            "grid_auto_columns": null,
            "grid_auto_flow": null,
            "grid_auto_rows": null,
            "grid_column": null,
            "grid_gap": null,
            "grid_row": null,
            "grid_template_areas": null,
            "grid_template_columns": null,
            "grid_template_rows": null,
            "height": null,
            "justify_content": null,
            "justify_items": null,
            "left": null,
            "margin": null,
            "max_height": null,
            "max_width": null,
            "min_height": null,
            "min_width": null,
            "object_fit": null,
            "object_position": null,
            "order": null,
            "overflow": null,
            "overflow_x": null,
            "overflow_y": null,
            "padding": null,
            "right": null,
            "top": null,
            "visibility": null,
            "width": null
          }
        },
        "91884131e338441492972627cfe27723": {
          "model_module": "@jupyter-widgets/controls",
          "model_module_version": "1.5.0",
          "model_name": "DescriptionStyleModel",
          "state": {
            "_model_module": "@jupyter-widgets/controls",
            "_model_module_version": "1.5.0",
            "_model_name": "DescriptionStyleModel",
            "_view_count": null,
            "_view_module": "@jupyter-widgets/base",
            "_view_module_version": "1.2.0",
            "_view_name": "StyleView",
            "description_width": ""
          }
        },
        "9307949a007e4a9bb102912bfcbc93cb": {
          "model_module": "@jupyter-widgets/controls",
          "model_module_version": "1.5.0",
          "model_name": "HTMLModel",
          "state": {
            "_dom_classes": [],
            "_model_module": "@jupyter-widgets/controls",
            "_model_module_version": "1.5.0",
            "_model_name": "HTMLModel",
            "_view_count": null,
            "_view_module": "@jupyter-widgets/controls",
            "_view_module_version": "1.5.0",
            "_view_name": "HTMLView",
            "description": "",
            "description_tooltip": null,
            "layout": "IPY_MODEL_d8465178e6274b2cbe963df82716f87f",
            "placeholder": "​",
            "style": "IPY_MODEL_d7670e69c4e843e6884d6f0d3d325ea9",
            "value": " 469/469 [00:27&lt;00:00, 18.30it/s]"
          }
        },
        "93219f50774142f69976b323c8c2d5da": {
          "model_module": "@jupyter-widgets/controls",
          "model_module_version": "1.5.0",
          "model_name": "ProgressStyleModel",
          "state": {
            "_model_module": "@jupyter-widgets/controls",
            "_model_module_version": "1.5.0",
            "_model_name": "ProgressStyleModel",
            "_view_count": null,
            "_view_module": "@jupyter-widgets/base",
            "_view_module_version": "1.2.0",
            "_view_name": "StyleView",
            "bar_color": null,
            "description_width": ""
          }
        },
        "965f479dc0174062b178b21d1dd13bb4": {
          "model_module": "@jupyter-widgets/controls",
          "model_module_version": "1.5.0",
          "model_name": "ProgressStyleModel",
          "state": {
            "_model_module": "@jupyter-widgets/controls",
            "_model_module_version": "1.5.0",
            "_model_name": "ProgressStyleModel",
            "_view_count": null,
            "_view_module": "@jupyter-widgets/base",
            "_view_module_version": "1.2.0",
            "_view_name": "StyleView",
            "bar_color": null,
            "description_width": ""
          }
        },
        "99278d87b4bb4b25a29cbfd2bea63bf7": {
          "model_module": "@jupyter-widgets/controls",
          "model_module_version": "1.5.0",
          "model_name": "HTMLModel",
          "state": {
            "_dom_classes": [],
            "_model_module": "@jupyter-widgets/controls",
            "_model_module_version": "1.5.0",
            "_model_name": "HTMLModel",
            "_view_count": null,
            "_view_module": "@jupyter-widgets/controls",
            "_view_module_version": "1.5.0",
            "_view_name": "HTMLView",
            "description": "",
            "description_tooltip": null,
            "layout": "IPY_MODEL_902b7d92a7ce48f19a12582652e99bc5",
            "placeholder": "​",
            "style": "IPY_MODEL_91884131e338441492972627cfe27723",
            "value": " 5/5 [31:42&lt;00:00, 406.03s/it]"
          }
        },
        "9a06f5d93a8c4e1ab9715685a99f99b4": {
          "model_module": "@jupyter-widgets/controls",
          "model_module_version": "1.5.0",
          "model_name": "FloatProgressModel",
          "state": {
            "_dom_classes": [],
            "_model_module": "@jupyter-widgets/controls",
            "_model_module_version": "1.5.0",
            "_model_name": "FloatProgressModel",
            "_view_count": null,
            "_view_module": "@jupyter-widgets/controls",
            "_view_module_version": "1.5.0",
            "_view_name": "ProgressView",
            "bar_style": "",
            "description": "",
            "description_tooltip": null,
            "layout": "IPY_MODEL_33d7d19699ab4a969bf6567cbc207f43",
            "max": 5,
            "min": 0,
            "orientation": "horizontal",
            "style": "IPY_MODEL_93219f50774142f69976b323c8c2d5da",
            "value": 3
          }
        },
        "9a75a57689f2477bade9df39045ddec3": {
          "model_module": "@jupyter-widgets/base",
          "model_module_version": "1.2.0",
          "model_name": "LayoutModel",
          "state": {
            "_model_module": "@jupyter-widgets/base",
            "_model_module_version": "1.2.0",
            "_model_name": "LayoutModel",
            "_view_count": null,
            "_view_module": "@jupyter-widgets/base",
            "_view_module_version": "1.2.0",
            "_view_name": "LayoutView",
            "align_content": null,
            "align_items": null,
            "align_self": null,
            "border": null,
            "bottom": null,
            "display": null,
            "flex": null,
            "flex_flow": null,
            "grid_area": null,
            "grid_auto_columns": null,
            "grid_auto_flow": null,
            "grid_auto_rows": null,
            "grid_column": null,
            "grid_gap": null,
            "grid_row": null,
            "grid_template_areas": null,
            "grid_template_columns": null,
            "grid_template_rows": null,
            "height": null,
            "justify_content": null,
            "justify_items": null,
            "left": null,
            "margin": null,
            "max_height": null,
            "max_width": null,
            "min_height": null,
            "min_width": null,
            "object_fit": null,
            "object_position": null,
            "order": null,
            "overflow": null,
            "overflow_x": null,
            "overflow_y": null,
            "padding": null,
            "right": null,
            "top": null,
            "visibility": null,
            "width": null
          }
        },
        "a0f6f13739c84b1f895d647ae8bc5123": {
          "model_module": "@jupyter-widgets/controls",
          "model_module_version": "1.5.0",
          "model_name": "DescriptionStyleModel",
          "state": {
            "_model_module": "@jupyter-widgets/controls",
            "_model_module_version": "1.5.0",
            "_model_name": "DescriptionStyleModel",
            "_view_count": null,
            "_view_module": "@jupyter-widgets/base",
            "_view_module_version": "1.2.0",
            "_view_name": "StyleView",
            "description_width": ""
          }
        },
        "a1f6fc73ccd249358e944cfe8bc0661a": {
          "model_module": "@jupyter-widgets/base",
          "model_module_version": "1.2.0",
          "model_name": "LayoutModel",
          "state": {
            "_model_module": "@jupyter-widgets/base",
            "_model_module_version": "1.2.0",
            "_model_name": "LayoutModel",
            "_view_count": null,
            "_view_module": "@jupyter-widgets/base",
            "_view_module_version": "1.2.0",
            "_view_name": "LayoutView",
            "align_content": null,
            "align_items": null,
            "align_self": null,
            "border": null,
            "bottom": null,
            "display": null,
            "flex": null,
            "flex_flow": null,
            "grid_area": null,
            "grid_auto_columns": null,
            "grid_auto_flow": null,
            "grid_auto_rows": null,
            "grid_column": null,
            "grid_gap": null,
            "grid_row": null,
            "grid_template_areas": null,
            "grid_template_columns": null,
            "grid_template_rows": null,
            "height": null,
            "justify_content": null,
            "justify_items": null,
            "left": null,
            "margin": null,
            "max_height": null,
            "max_width": null,
            "min_height": null,
            "min_width": null,
            "object_fit": null,
            "object_position": null,
            "order": null,
            "overflow": null,
            "overflow_x": null,
            "overflow_y": null,
            "padding": null,
            "right": null,
            "top": null,
            "visibility": null,
            "width": null
          }
        },
        "a2856dccf6c447e1ade30c31e21cba06": {
          "model_module": "@jupyter-widgets/base",
          "model_module_version": "1.2.0",
          "model_name": "LayoutModel",
          "state": {
            "_model_module": "@jupyter-widgets/base",
            "_model_module_version": "1.2.0",
            "_model_name": "LayoutModel",
            "_view_count": null,
            "_view_module": "@jupyter-widgets/base",
            "_view_module_version": "1.2.0",
            "_view_name": "LayoutView",
            "align_content": null,
            "align_items": null,
            "align_self": null,
            "border": null,
            "bottom": null,
            "display": null,
            "flex": null,
            "flex_flow": null,
            "grid_area": null,
            "grid_auto_columns": null,
            "grid_auto_flow": null,
            "grid_auto_rows": null,
            "grid_column": null,
            "grid_gap": null,
            "grid_row": null,
            "grid_template_areas": null,
            "grid_template_columns": null,
            "grid_template_rows": null,
            "height": null,
            "justify_content": null,
            "justify_items": null,
            "left": null,
            "margin": null,
            "max_height": null,
            "max_width": null,
            "min_height": null,
            "min_width": null,
            "object_fit": null,
            "object_position": null,
            "order": null,
            "overflow": null,
            "overflow_x": null,
            "overflow_y": null,
            "padding": null,
            "right": null,
            "top": null,
            "visibility": null,
            "width": null
          }
        },
        "a3cbd2b6a7a142979e72fc68a929b231": {
          "model_module": "@jupyter-widgets/controls",
          "model_module_version": "1.5.0",
          "model_name": "HBoxModel",
          "state": {
            "_dom_classes": [],
            "_model_module": "@jupyter-widgets/controls",
            "_model_module_version": "1.5.0",
            "_model_name": "HBoxModel",
            "_view_count": null,
            "_view_module": "@jupyter-widgets/controls",
            "_view_module_version": "1.5.0",
            "_view_name": "HBoxView",
            "box_style": "",
            "children": [
              "IPY_MODEL_b82483700908432f885007209a2c878a",
              "IPY_MODEL_1c0851b10422481583771db79c285cbb",
              "IPY_MODEL_99278d87b4bb4b25a29cbfd2bea63bf7"
            ],
            "layout": "IPY_MODEL_4839ca1abf9c4454918a681896dbe38e"
          }
        },
        "a3d6a74314a84107b7cbe5306f6daf4e": {
          "model_module": "@jupyter-widgets/controls",
          "model_module_version": "1.5.0",
          "model_name": "HTMLModel",
          "state": {
            "_dom_classes": [],
            "_model_module": "@jupyter-widgets/controls",
            "_model_module_version": "1.5.0",
            "_model_name": "HTMLModel",
            "_view_count": null,
            "_view_module": "@jupyter-widgets/controls",
            "_view_module_version": "1.5.0",
            "_view_name": "HTMLView",
            "description": "",
            "description_tooltip": null,
            "layout": "IPY_MODEL_d1e3b7639e7744fb990a220bf3cb0f3d",
            "placeholder": "​",
            "style": "IPY_MODEL_207c318e32c04ff490d0f78d1fc907f0",
            "value": "Task   4:  60%"
          }
        },
        "a7079588654e493ab049f4a945c6ab64": {
          "model_module": "@jupyter-widgets/base",
          "model_module_version": "1.2.0",
          "model_name": "LayoutModel",
          "state": {
            "_model_module": "@jupyter-widgets/base",
            "_model_module_version": "1.2.0",
            "_model_name": "LayoutModel",
            "_view_count": null,
            "_view_module": "@jupyter-widgets/base",
            "_view_module_version": "1.2.0",
            "_view_name": "LayoutView",
            "align_content": null,
            "align_items": null,
            "align_self": null,
            "border": null,
            "bottom": null,
            "display": null,
            "flex": null,
            "flex_flow": null,
            "grid_area": null,
            "grid_auto_columns": null,
            "grid_auto_flow": null,
            "grid_auto_rows": null,
            "grid_column": null,
            "grid_gap": null,
            "grid_row": null,
            "grid_template_areas": null,
            "grid_template_columns": null,
            "grid_template_rows": null,
            "height": null,
            "justify_content": null,
            "justify_items": null,
            "left": null,
            "margin": null,
            "max_height": null,
            "max_width": null,
            "min_height": null,
            "min_width": null,
            "object_fit": null,
            "object_position": null,
            "order": null,
            "overflow": null,
            "overflow_x": null,
            "overflow_y": null,
            "padding": null,
            "right": null,
            "top": null,
            "visibility": null,
            "width": null
          }
        },
        "a7e076a8da064fc8b4514fb0e61954ed": {
          "model_module": "@jupyter-widgets/base",
          "model_module_version": "1.2.0",
          "model_name": "LayoutModel",
          "state": {
            "_model_module": "@jupyter-widgets/base",
            "_model_module_version": "1.2.0",
            "_model_name": "LayoutModel",
            "_view_count": null,
            "_view_module": "@jupyter-widgets/base",
            "_view_module_version": "1.2.0",
            "_view_name": "LayoutView",
            "align_content": null,
            "align_items": null,
            "align_self": null,
            "border": null,
            "bottom": null,
            "display": null,
            "flex": null,
            "flex_flow": null,
            "grid_area": null,
            "grid_auto_columns": null,
            "grid_auto_flow": null,
            "grid_auto_rows": null,
            "grid_column": null,
            "grid_gap": null,
            "grid_row": null,
            "grid_template_areas": null,
            "grid_template_columns": null,
            "grid_template_rows": null,
            "height": null,
            "justify_content": null,
            "justify_items": null,
            "left": null,
            "margin": null,
            "max_height": null,
            "max_width": null,
            "min_height": null,
            "min_width": null,
            "object_fit": null,
            "object_position": null,
            "order": null,
            "overflow": null,
            "overflow_x": null,
            "overflow_y": null,
            "padding": null,
            "right": null,
            "top": null,
            "visibility": null,
            "width": null
          }
        },
        "acf1bf1670c24b308015bc3be5804e06": {
          "model_module": "@jupyter-widgets/base",
          "model_module_version": "1.2.0",
          "model_name": "LayoutModel",
          "state": {
            "_model_module": "@jupyter-widgets/base",
            "_model_module_version": "1.2.0",
            "_model_name": "LayoutModel",
            "_view_count": null,
            "_view_module": "@jupyter-widgets/base",
            "_view_module_version": "1.2.0",
            "_view_name": "LayoutView",
            "align_content": null,
            "align_items": null,
            "align_self": null,
            "border": null,
            "bottom": null,
            "display": null,
            "flex": null,
            "flex_flow": null,
            "grid_area": null,
            "grid_auto_columns": null,
            "grid_auto_flow": null,
            "grid_auto_rows": null,
            "grid_column": null,
            "grid_gap": null,
            "grid_row": null,
            "grid_template_areas": null,
            "grid_template_columns": null,
            "grid_template_rows": null,
            "height": null,
            "justify_content": null,
            "justify_items": null,
            "left": null,
            "margin": null,
            "max_height": null,
            "max_width": null,
            "min_height": null,
            "min_width": null,
            "object_fit": null,
            "object_position": null,
            "order": null,
            "overflow": null,
            "overflow_x": null,
            "overflow_y": null,
            "padding": null,
            "right": null,
            "top": null,
            "visibility": null,
            "width": null
          }
        },
        "aee7e106048c462ea33956b7d15a957a": {
          "model_module": "@jupyter-widgets/base",
          "model_module_version": "1.2.0",
          "model_name": "LayoutModel",
          "state": {
            "_model_module": "@jupyter-widgets/base",
            "_model_module_version": "1.2.0",
            "_model_name": "LayoutModel",
            "_view_count": null,
            "_view_module": "@jupyter-widgets/base",
            "_view_module_version": "1.2.0",
            "_view_name": "LayoutView",
            "align_content": null,
            "align_items": null,
            "align_self": null,
            "border": null,
            "bottom": null,
            "display": null,
            "flex": null,
            "flex_flow": null,
            "grid_area": null,
            "grid_auto_columns": null,
            "grid_auto_flow": null,
            "grid_auto_rows": null,
            "grid_column": null,
            "grid_gap": null,
            "grid_row": null,
            "grid_template_areas": null,
            "grid_template_columns": null,
            "grid_template_rows": null,
            "height": null,
            "justify_content": null,
            "justify_items": null,
            "left": null,
            "margin": null,
            "max_height": null,
            "max_width": null,
            "min_height": null,
            "min_width": null,
            "object_fit": null,
            "object_position": null,
            "order": null,
            "overflow": null,
            "overflow_x": null,
            "overflow_y": null,
            "padding": null,
            "right": null,
            "top": null,
            "visibility": null,
            "width": null
          }
        },
        "aff770b92e4c46aeb7b5d0540c615d9c": {
          "model_module": "@jupyter-widgets/controls",
          "model_module_version": "1.5.0",
          "model_name": "HBoxModel",
          "state": {
            "_dom_classes": [],
            "_model_module": "@jupyter-widgets/controls",
            "_model_module_version": "1.5.0",
            "_model_name": "HBoxModel",
            "_view_count": null,
            "_view_module": "@jupyter-widgets/controls",
            "_view_module_version": "1.5.0",
            "_view_name": "HBoxView",
            "box_style": "",
            "children": [
              "IPY_MODEL_def887e407c0425c8c6d45cd2db40492",
              "IPY_MODEL_f9141a67615145d7975e48b64d03c164",
              "IPY_MODEL_35cb6bda75d949df8b9e2d56bb04f43e"
            ],
            "layout": "IPY_MODEL_0c270452e562427399b255cef2acfd56"
          }
        },
        "b0528a504d2f427ab7cfe5b39d3f7ee3": {
          "model_module": "@jupyter-widgets/base",
          "model_module_version": "1.2.0",
          "model_name": "LayoutModel",
          "state": {
            "_model_module": "@jupyter-widgets/base",
            "_model_module_version": "1.2.0",
            "_model_name": "LayoutModel",
            "_view_count": null,
            "_view_module": "@jupyter-widgets/base",
            "_view_module_version": "1.2.0",
            "_view_name": "LayoutView",
            "align_content": null,
            "align_items": null,
            "align_self": null,
            "border": null,
            "bottom": null,
            "display": null,
            "flex": null,
            "flex_flow": null,
            "grid_area": null,
            "grid_auto_columns": null,
            "grid_auto_flow": null,
            "grid_auto_rows": null,
            "grid_column": null,
            "grid_gap": null,
            "grid_row": null,
            "grid_template_areas": null,
            "grid_template_columns": null,
            "grid_template_rows": null,
            "height": null,
            "justify_content": null,
            "justify_items": null,
            "left": null,
            "margin": null,
            "max_height": null,
            "max_width": null,
            "min_height": null,
            "min_width": null,
            "object_fit": null,
            "object_position": null,
            "order": null,
            "overflow": null,
            "overflow_x": null,
            "overflow_y": null,
            "padding": null,
            "right": null,
            "top": null,
            "visibility": null,
            "width": null
          }
        },
        "b1117e26d34242aca6e9fa2c641e6f23": {
          "model_module": "@jupyter-widgets/controls",
          "model_module_version": "1.5.0",
          "model_name": "FloatProgressModel",
          "state": {
            "_dom_classes": [],
            "_model_module": "@jupyter-widgets/controls",
            "_model_module_version": "1.5.0",
            "_model_name": "FloatProgressModel",
            "_view_count": null,
            "_view_module": "@jupyter-widgets/controls",
            "_view_module_version": "1.5.0",
            "_view_name": "ProgressView",
            "bar_style": "",
            "description": "",
            "description_tooltip": null,
            "layout": "IPY_MODEL_8ba7a693d86048acbec97de60cf80bd2",
            "max": 10,
            "min": 0,
            "orientation": "horizontal",
            "style": "IPY_MODEL_ea6804edf208452f854f850e6725fde0",
            "value": 10
          }
        },
        "b1b0fe668cab428d9917323b37521bb7": {
          "model_module": "@jupyter-widgets/controls",
          "model_module_version": "1.5.0",
          "model_name": "HTMLModel",
          "state": {
            "_dom_classes": [],
            "_model_module": "@jupyter-widgets/controls",
            "_model_module_version": "1.5.0",
            "_model_name": "HTMLModel",
            "_view_count": null,
            "_view_module": "@jupyter-widgets/controls",
            "_view_module_version": "1.5.0",
            "_view_name": "HTMLView",
            "description": "",
            "description_tooltip": null,
            "layout": "IPY_MODEL_1ec39979924c4312818d01708114bbf4",
            "placeholder": "​",
            "style": "IPY_MODEL_bd90a5d492fe4f19a69fb979f20e0e37",
            "value": "Epoch 11, Loss: 0.0133305: 100%"
          }
        },
        "b32413df08c24802843017fe8cc09866": {
          "model_module": "@jupyter-widgets/controls",
          "model_module_version": "1.5.0",
          "model_name": "DescriptionStyleModel",
          "state": {
            "_model_module": "@jupyter-widgets/controls",
            "_model_module_version": "1.5.0",
            "_model_name": "DescriptionStyleModel",
            "_view_count": null,
            "_view_module": "@jupyter-widgets/base",
            "_view_module_version": "1.2.0",
            "_view_name": "StyleView",
            "description_width": ""
          }
        },
        "b396d0100b194ab292d2794c988218c0": {
          "model_module": "@jupyter-widgets/base",
          "model_module_version": "1.2.0",
          "model_name": "LayoutModel",
          "state": {
            "_model_module": "@jupyter-widgets/base",
            "_model_module_version": "1.2.0",
            "_model_name": "LayoutModel",
            "_view_count": null,
            "_view_module": "@jupyter-widgets/base",
            "_view_module_version": "1.2.0",
            "_view_name": "LayoutView",
            "align_content": null,
            "align_items": null,
            "align_self": null,
            "border": null,
            "bottom": null,
            "display": null,
            "flex": null,
            "flex_flow": null,
            "grid_area": null,
            "grid_auto_columns": null,
            "grid_auto_flow": null,
            "grid_auto_rows": null,
            "grid_column": null,
            "grid_gap": null,
            "grid_row": null,
            "grid_template_areas": null,
            "grid_template_columns": null,
            "grid_template_rows": null,
            "height": null,
            "justify_content": null,
            "justify_items": null,
            "left": null,
            "margin": null,
            "max_height": null,
            "max_width": null,
            "min_height": null,
            "min_width": null,
            "object_fit": null,
            "object_position": null,
            "order": null,
            "overflow": null,
            "overflow_x": null,
            "overflow_y": null,
            "padding": null,
            "right": null,
            "top": null,
            "visibility": null,
            "width": null
          }
        },
        "b3993051b107453e936bd7351a78ef5b": {
          "model_module": "@jupyter-widgets/base",
          "model_module_version": "1.2.0",
          "model_name": "LayoutModel",
          "state": {
            "_model_module": "@jupyter-widgets/base",
            "_model_module_version": "1.2.0",
            "_model_name": "LayoutModel",
            "_view_count": null,
            "_view_module": "@jupyter-widgets/base",
            "_view_module_version": "1.2.0",
            "_view_name": "LayoutView",
            "align_content": null,
            "align_items": null,
            "align_self": null,
            "border": null,
            "bottom": null,
            "display": null,
            "flex": null,
            "flex_flow": null,
            "grid_area": null,
            "grid_auto_columns": null,
            "grid_auto_flow": null,
            "grid_auto_rows": null,
            "grid_column": null,
            "grid_gap": null,
            "grid_row": null,
            "grid_template_areas": null,
            "grid_template_columns": null,
            "grid_template_rows": null,
            "height": null,
            "justify_content": null,
            "justify_items": null,
            "left": null,
            "margin": null,
            "max_height": null,
            "max_width": null,
            "min_height": null,
            "min_width": null,
            "object_fit": null,
            "object_position": null,
            "order": null,
            "overflow": null,
            "overflow_x": null,
            "overflow_y": null,
            "padding": null,
            "right": null,
            "top": null,
            "visibility": null,
            "width": null
          }
        },
        "b3f498eee08c472a9df090a2904ce7a0": {
          "model_module": "@jupyter-widgets/controls",
          "model_module_version": "1.5.0",
          "model_name": "FloatProgressModel",
          "state": {
            "_dom_classes": [],
            "_model_module": "@jupyter-widgets/controls",
            "_model_module_version": "1.5.0",
            "_model_name": "FloatProgressModel",
            "_view_count": null,
            "_view_module": "@jupyter-widgets/controls",
            "_view_module_version": "1.5.0",
            "_view_name": "ProgressView",
            "bar_style": "",
            "description": "",
            "description_tooltip": null,
            "layout": "IPY_MODEL_b0528a504d2f427ab7cfe5b39d3f7ee3",
            "max": 10,
            "min": 0,
            "orientation": "horizontal",
            "style": "IPY_MODEL_cc17a1e57f15495a92d8190d3d2f667c",
            "value": 1
          }
        },
        "b496126a4fd645cda718e905383033c1": {
          "model_module": "@jupyter-widgets/base",
          "model_module_version": "1.2.0",
          "model_name": "LayoutModel",
          "state": {
            "_model_module": "@jupyter-widgets/base",
            "_model_module_version": "1.2.0",
            "_model_name": "LayoutModel",
            "_view_count": null,
            "_view_module": "@jupyter-widgets/base",
            "_view_module_version": "1.2.0",
            "_view_name": "LayoutView",
            "align_content": null,
            "align_items": null,
            "align_self": null,
            "border": null,
            "bottom": null,
            "display": null,
            "flex": null,
            "flex_flow": null,
            "grid_area": null,
            "grid_auto_columns": null,
            "grid_auto_flow": null,
            "grid_auto_rows": null,
            "grid_column": null,
            "grid_gap": null,
            "grid_row": null,
            "grid_template_areas": null,
            "grid_template_columns": null,
            "grid_template_rows": null,
            "height": null,
            "justify_content": null,
            "justify_items": null,
            "left": null,
            "margin": null,
            "max_height": null,
            "max_width": null,
            "min_height": null,
            "min_width": null,
            "object_fit": null,
            "object_position": null,
            "order": null,
            "overflow": null,
            "overflow_x": null,
            "overflow_y": null,
            "padding": null,
            "right": null,
            "top": null,
            "visibility": null,
            "width": null
          }
        },
        "b5a0dc1588e34268a87bf58782ec64b5": {
          "model_module": "@jupyter-widgets/controls",
          "model_module_version": "1.5.0",
          "model_name": "HTMLModel",
          "state": {
            "_dom_classes": [],
            "_model_module": "@jupyter-widgets/controls",
            "_model_module_version": "1.5.0",
            "_model_name": "HTMLModel",
            "_view_count": null,
            "_view_module": "@jupyter-widgets/controls",
            "_view_module_version": "1.5.0",
            "_view_name": "HTMLView",
            "description": "",
            "description_tooltip": null,
            "layout": "IPY_MODEL_8dab9b6b4845417fb8ffa8fb717effc5",
            "placeholder": "​",
            "style": "IPY_MODEL_8f6c0fd582b149458a7d7ee366953ea5",
            "value": " 10/10 [05:08&lt;00:00, 31.00s/it]"
          }
        },
        "b5b4e5c045304f449c5c00fa6fcc692a": {
          "model_module": "@jupyter-widgets/base",
          "model_module_version": "1.2.0",
          "model_name": "LayoutModel",
          "state": {
            "_model_module": "@jupyter-widgets/base",
            "_model_module_version": "1.2.0",
            "_model_name": "LayoutModel",
            "_view_count": null,
            "_view_module": "@jupyter-widgets/base",
            "_view_module_version": "1.2.0",
            "_view_name": "LayoutView",
            "align_content": null,
            "align_items": null,
            "align_self": null,
            "border": null,
            "bottom": null,
            "display": null,
            "flex": null,
            "flex_flow": null,
            "grid_area": null,
            "grid_auto_columns": null,
            "grid_auto_flow": null,
            "grid_auto_rows": null,
            "grid_column": null,
            "grid_gap": null,
            "grid_row": null,
            "grid_template_areas": null,
            "grid_template_columns": null,
            "grid_template_rows": null,
            "height": null,
            "justify_content": null,
            "justify_items": null,
            "left": null,
            "margin": null,
            "max_height": null,
            "max_width": null,
            "min_height": null,
            "min_width": null,
            "object_fit": null,
            "object_position": null,
            "order": null,
            "overflow": null,
            "overflow_x": null,
            "overflow_y": null,
            "padding": null,
            "right": null,
            "top": null,
            "visibility": null,
            "width": null
          }
        },
        "b77fd3397c1f40408ce658ce3ae565b5": {
          "model_module": "@jupyter-widgets/controls",
          "model_module_version": "1.5.0",
          "model_name": "FloatProgressModel",
          "state": {
            "_dom_classes": [],
            "_model_module": "@jupyter-widgets/controls",
            "_model_module_version": "1.5.0",
            "_model_name": "FloatProgressModel",
            "_view_count": null,
            "_view_module": "@jupyter-widgets/controls",
            "_view_module_version": "1.5.0",
            "_view_name": "ProgressView",
            "bar_style": "success",
            "description": "",
            "description_tooltip": null,
            "layout": "IPY_MODEL_bbe29f77dea84c719a5a22b8b1d9a28f",
            "max": 5,
            "min": 0,
            "orientation": "horizontal",
            "style": "IPY_MODEL_5036c529cac243899e21c7cb601b7599",
            "value": 5
          }
        },
        "b82483700908432f885007209a2c878a": {
          "model_module": "@jupyter-widgets/controls",
          "model_module_version": "1.5.0",
          "model_name": "HTMLModel",
          "state": {
            "_dom_classes": [],
            "_model_module": "@jupyter-widgets/controls",
            "_model_module_version": "1.5.0",
            "_model_name": "HTMLModel",
            "_view_count": null,
            "_view_module": "@jupyter-widgets/controls",
            "_view_module_version": "1.5.0",
            "_view_name": "HTMLView",
            "description": "",
            "description_tooltip": null,
            "layout": "IPY_MODEL_ce17c0e0581d474e98dfb1ccc28ce3cf",
            "placeholder": "​",
            "style": "IPY_MODEL_7eaaa0b81c84464dbf02092a2847cc5d",
            "value": "Task   6: 100%"
          }
        },
        "b964c42254004ebf9a95c941448f411d": {
          "model_module": "@jupyter-widgets/controls",
          "model_module_version": "1.5.0",
          "model_name": "DescriptionStyleModel",
          "state": {
            "_model_module": "@jupyter-widgets/controls",
            "_model_module_version": "1.5.0",
            "_model_name": "DescriptionStyleModel",
            "_view_count": null,
            "_view_module": "@jupyter-widgets/base",
            "_view_module_version": "1.2.0",
            "_view_name": "StyleView",
            "description_width": ""
          }
        },
        "bbe29f77dea84c719a5a22b8b1d9a28f": {
          "model_module": "@jupyter-widgets/base",
          "model_module_version": "1.2.0",
          "model_name": "LayoutModel",
          "state": {
            "_model_module": "@jupyter-widgets/base",
            "_model_module_version": "1.2.0",
            "_model_name": "LayoutModel",
            "_view_count": null,
            "_view_module": "@jupyter-widgets/base",
            "_view_module_version": "1.2.0",
            "_view_name": "LayoutView",
            "align_content": null,
            "align_items": null,
            "align_self": null,
            "border": null,
            "bottom": null,
            "display": null,
            "flex": null,
            "flex_flow": null,
            "grid_area": null,
            "grid_auto_columns": null,
            "grid_auto_flow": null,
            "grid_auto_rows": null,
            "grid_column": null,
            "grid_gap": null,
            "grid_row": null,
            "grid_template_areas": null,
            "grid_template_columns": null,
            "grid_template_rows": null,
            "height": null,
            "justify_content": null,
            "justify_items": null,
            "left": null,
            "margin": null,
            "max_height": null,
            "max_width": null,
            "min_height": null,
            "min_width": null,
            "object_fit": null,
            "object_position": null,
            "order": null,
            "overflow": null,
            "overflow_x": null,
            "overflow_y": null,
            "padding": null,
            "right": null,
            "top": null,
            "visibility": null,
            "width": null
          }
        },
        "bd90a5d492fe4f19a69fb979f20e0e37": {
          "model_module": "@jupyter-widgets/controls",
          "model_module_version": "1.5.0",
          "model_name": "DescriptionStyleModel",
          "state": {
            "_model_module": "@jupyter-widgets/controls",
            "_model_module_version": "1.5.0",
            "_model_name": "DescriptionStyleModel",
            "_view_count": null,
            "_view_module": "@jupyter-widgets/base",
            "_view_module_version": "1.2.0",
            "_view_name": "StyleView",
            "description_width": ""
          }
        },
        "c039be753c5e4a6290f76ec6e386901b": {
          "model_module": "@jupyter-widgets/base",
          "model_module_version": "1.2.0",
          "model_name": "LayoutModel",
          "state": {
            "_model_module": "@jupyter-widgets/base",
            "_model_module_version": "1.2.0",
            "_model_name": "LayoutModel",
            "_view_count": null,
            "_view_module": "@jupyter-widgets/base",
            "_view_module_version": "1.2.0",
            "_view_name": "LayoutView",
            "align_content": null,
            "align_items": null,
            "align_self": null,
            "border": null,
            "bottom": null,
            "display": null,
            "flex": null,
            "flex_flow": null,
            "grid_area": null,
            "grid_auto_columns": null,
            "grid_auto_flow": null,
            "grid_auto_rows": null,
            "grid_column": null,
            "grid_gap": null,
            "grid_row": null,
            "grid_template_areas": null,
            "grid_template_columns": null,
            "grid_template_rows": null,
            "height": null,
            "justify_content": null,
            "justify_items": null,
            "left": null,
            "margin": null,
            "max_height": null,
            "max_width": null,
            "min_height": null,
            "min_width": null,
            "object_fit": null,
            "object_position": null,
            "order": null,
            "overflow": null,
            "overflow_x": null,
            "overflow_y": null,
            "padding": null,
            "right": null,
            "top": null,
            "visibility": null,
            "width": null
          }
        },
        "c0f97203372146d79f22cec48144afd1": {
          "model_module": "@jupyter-widgets/controls",
          "model_module_version": "1.5.0",
          "model_name": "DescriptionStyleModel",
          "state": {
            "_model_module": "@jupyter-widgets/controls",
            "_model_module_version": "1.5.0",
            "_model_name": "DescriptionStyleModel",
            "_view_count": null,
            "_view_module": "@jupyter-widgets/base",
            "_view_module_version": "1.2.0",
            "_view_name": "StyleView",
            "description_width": ""
          }
        },
        "c1b50ec124454eb1a64e8bad0fc33a84": {
          "model_module": "@jupyter-widgets/controls",
          "model_module_version": "1.5.0",
          "model_name": "ProgressStyleModel",
          "state": {
            "_model_module": "@jupyter-widgets/controls",
            "_model_module_version": "1.5.0",
            "_model_name": "ProgressStyleModel",
            "_view_count": null,
            "_view_module": "@jupyter-widgets/base",
            "_view_module_version": "1.2.0",
            "_view_name": "StyleView",
            "bar_color": null,
            "description_width": ""
          }
        },
        "c3253f62aeb04b84be5a13dba6c9ff81": {
          "model_module": "@jupyter-widgets/controls",
          "model_module_version": "1.5.0",
          "model_name": "HTMLModel",
          "state": {
            "_dom_classes": [],
            "_model_module": "@jupyter-widgets/controls",
            "_model_module_version": "1.5.0",
            "_model_name": "HTMLModel",
            "_view_count": null,
            "_view_module": "@jupyter-widgets/controls",
            "_view_module_version": "1.5.0",
            "_view_name": "HTMLView",
            "description": "",
            "description_tooltip": null,
            "layout": "IPY_MODEL_053291aaa27c4411a4ef38d9074f81be",
            "placeholder": "​",
            "style": "IPY_MODEL_c0f97203372146d79f22cec48144afd1",
            "value": " 469/469 [00:27&lt;00:00, 16.44it/s]"
          }
        },
        "cb4b8cf1cd9c4281b5ea23531c435ff3": {
          "model_module": "@jupyter-widgets/controls",
          "model_module_version": "1.5.0",
          "model_name": "HTMLModel",
          "state": {
            "_dom_classes": [],
            "_model_module": "@jupyter-widgets/controls",
            "_model_module_version": "1.5.0",
            "_model_name": "HTMLModel",
            "_view_count": null,
            "_view_module": "@jupyter-widgets/controls",
            "_view_module_version": "1.5.0",
            "_view_name": "HTMLView",
            "description": "",
            "description_tooltip": null,
            "layout": "IPY_MODEL_305217dc0c6749ebb29181c5d9958093",
            "placeholder": "​",
            "style": "IPY_MODEL_2ba518f775dc48f8b864c965a86708fc",
            "value": " 469/469 [00:28&lt;00:00, 17.14it/s]"
          }
        },
        "cbc6ff85384b4518bb5f845ea0b2a1aa": {
          "model_module": "@jupyter-widgets/controls",
          "model_module_version": "1.5.0",
          "model_name": "DescriptionStyleModel",
          "state": {
            "_model_module": "@jupyter-widgets/controls",
            "_model_module_version": "1.5.0",
            "_model_name": "DescriptionStyleModel",
            "_view_count": null,
            "_view_module": "@jupyter-widgets/base",
            "_view_module_version": "1.2.0",
            "_view_name": "StyleView",
            "description_width": ""
          }
        },
        "cc17a1e57f15495a92d8190d3d2f667c": {
          "model_module": "@jupyter-widgets/controls",
          "model_module_version": "1.5.0",
          "model_name": "ProgressStyleModel",
          "state": {
            "_model_module": "@jupyter-widgets/controls",
            "_model_module_version": "1.5.0",
            "_model_name": "ProgressStyleModel",
            "_view_count": null,
            "_view_module": "@jupyter-widgets/base",
            "_view_module_version": "1.2.0",
            "_view_name": "StyleView",
            "bar_color": null,
            "description_width": ""
          }
        },
        "cda71852babd4db99781f9718bd5d184": {
          "model_module": "@jupyter-widgets/base",
          "model_module_version": "1.2.0",
          "model_name": "LayoutModel",
          "state": {
            "_model_module": "@jupyter-widgets/base",
            "_model_module_version": "1.2.0",
            "_model_name": "LayoutModel",
            "_view_count": null,
            "_view_module": "@jupyter-widgets/base",
            "_view_module_version": "1.2.0",
            "_view_name": "LayoutView",
            "align_content": null,
            "align_items": null,
            "align_self": null,
            "border": null,
            "bottom": null,
            "display": null,
            "flex": null,
            "flex_flow": null,
            "grid_area": null,
            "grid_auto_columns": null,
            "grid_auto_flow": null,
            "grid_auto_rows": null,
            "grid_column": null,
            "grid_gap": null,
            "grid_row": null,
            "grid_template_areas": null,
            "grid_template_columns": null,
            "grid_template_rows": null,
            "height": null,
            "justify_content": null,
            "justify_items": null,
            "left": null,
            "margin": null,
            "max_height": null,
            "max_width": null,
            "min_height": null,
            "min_width": null,
            "object_fit": null,
            "object_position": null,
            "order": null,
            "overflow": null,
            "overflow_x": null,
            "overflow_y": null,
            "padding": null,
            "right": null,
            "top": null,
            "visibility": null,
            "width": null
          }
        },
        "cdb196f60d5d44148a9c99d768b457d3": {
          "model_module": "@jupyter-widgets/controls",
          "model_module_version": "1.5.0",
          "model_name": "DescriptionStyleModel",
          "state": {
            "_model_module": "@jupyter-widgets/controls",
            "_model_module_version": "1.5.0",
            "_model_name": "DescriptionStyleModel",
            "_view_count": null,
            "_view_module": "@jupyter-widgets/base",
            "_view_module_version": "1.2.0",
            "_view_name": "StyleView",
            "description_width": ""
          }
        },
        "cdcb3c49f4b44a769a93d7b0bf0c2d88": {
          "model_module": "@jupyter-widgets/controls",
          "model_module_version": "1.5.0",
          "model_name": "HTMLModel",
          "state": {
            "_dom_classes": [],
            "_model_module": "@jupyter-widgets/controls",
            "_model_module_version": "1.5.0",
            "_model_name": "HTMLModel",
            "_view_count": null,
            "_view_module": "@jupyter-widgets/controls",
            "_view_module_version": "1.5.0",
            "_view_name": "HTMLView",
            "description": "",
            "description_tooltip": null,
            "layout": "IPY_MODEL_da0e80541ce94ffbba8a43e1145cfb55",
            "placeholder": "​",
            "style": "IPY_MODEL_e5dabbb531f54a89b54a8f5e7c53b821",
            "value": "Task   6: 100%"
          }
        },
        "ce17c0e0581d474e98dfb1ccc28ce3cf": {
          "model_module": "@jupyter-widgets/base",
          "model_module_version": "1.2.0",
          "model_name": "LayoutModel",
          "state": {
            "_model_module": "@jupyter-widgets/base",
            "_model_module_version": "1.2.0",
            "_model_name": "LayoutModel",
            "_view_count": null,
            "_view_module": "@jupyter-widgets/base",
            "_view_module_version": "1.2.0",
            "_view_name": "LayoutView",
            "align_content": null,
            "align_items": null,
            "align_self": null,
            "border": null,
            "bottom": null,
            "display": null,
            "flex": null,
            "flex_flow": null,
            "grid_area": null,
            "grid_auto_columns": null,
            "grid_auto_flow": null,
            "grid_auto_rows": null,
            "grid_column": null,
            "grid_gap": null,
            "grid_row": null,
            "grid_template_areas": null,
            "grid_template_columns": null,
            "grid_template_rows": null,
            "height": null,
            "justify_content": null,
            "justify_items": null,
            "left": null,
            "margin": null,
            "max_height": null,
            "max_width": null,
            "min_height": null,
            "min_width": null,
            "object_fit": null,
            "object_position": null,
            "order": null,
            "overflow": null,
            "overflow_x": null,
            "overflow_y": null,
            "padding": null,
            "right": null,
            "top": null,
            "visibility": null,
            "width": null
          }
        },
        "cfdcd079f9764d189ec9537c6ea82ec3": {
          "model_module": "@jupyter-widgets/base",
          "model_module_version": "1.2.0",
          "model_name": "LayoutModel",
          "state": {
            "_model_module": "@jupyter-widgets/base",
            "_model_module_version": "1.2.0",
            "_model_name": "LayoutModel",
            "_view_count": null,
            "_view_module": "@jupyter-widgets/base",
            "_view_module_version": "1.2.0",
            "_view_name": "LayoutView",
            "align_content": null,
            "align_items": null,
            "align_self": null,
            "border": null,
            "bottom": null,
            "display": null,
            "flex": null,
            "flex_flow": null,
            "grid_area": null,
            "grid_auto_columns": null,
            "grid_auto_flow": null,
            "grid_auto_rows": null,
            "grid_column": null,
            "grid_gap": null,
            "grid_row": null,
            "grid_template_areas": null,
            "grid_template_columns": null,
            "grid_template_rows": null,
            "height": null,
            "justify_content": null,
            "justify_items": null,
            "left": null,
            "margin": null,
            "max_height": null,
            "max_width": null,
            "min_height": null,
            "min_width": null,
            "object_fit": null,
            "object_position": null,
            "order": null,
            "overflow": null,
            "overflow_x": null,
            "overflow_y": null,
            "padding": null,
            "right": null,
            "top": null,
            "visibility": null,
            "width": null
          }
        },
        "d1e3b7639e7744fb990a220bf3cb0f3d": {
          "model_module": "@jupyter-widgets/base",
          "model_module_version": "1.2.0",
          "model_name": "LayoutModel",
          "state": {
            "_model_module": "@jupyter-widgets/base",
            "_model_module_version": "1.2.0",
            "_model_name": "LayoutModel",
            "_view_count": null,
            "_view_module": "@jupyter-widgets/base",
            "_view_module_version": "1.2.0",
            "_view_name": "LayoutView",
            "align_content": null,
            "align_items": null,
            "align_self": null,
            "border": null,
            "bottom": null,
            "display": null,
            "flex": null,
            "flex_flow": null,
            "grid_area": null,
            "grid_auto_columns": null,
            "grid_auto_flow": null,
            "grid_auto_rows": null,
            "grid_column": null,
            "grid_gap": null,
            "grid_row": null,
            "grid_template_areas": null,
            "grid_template_columns": null,
            "grid_template_rows": null,
            "height": null,
            "justify_content": null,
            "justify_items": null,
            "left": null,
            "margin": null,
            "max_height": null,
            "max_width": null,
            "min_height": null,
            "min_width": null,
            "object_fit": null,
            "object_position": null,
            "order": null,
            "overflow": null,
            "overflow_x": null,
            "overflow_y": null,
            "padding": null,
            "right": null,
            "top": null,
            "visibility": null,
            "width": null
          }
        },
        "d2e3047afa304d73aa5db4677519af23": {
          "model_module": "@jupyter-widgets/base",
          "model_module_version": "1.2.0",
          "model_name": "LayoutModel",
          "state": {
            "_model_module": "@jupyter-widgets/base",
            "_model_module_version": "1.2.0",
            "_model_name": "LayoutModel",
            "_view_count": null,
            "_view_module": "@jupyter-widgets/base",
            "_view_module_version": "1.2.0",
            "_view_name": "LayoutView",
            "align_content": null,
            "align_items": null,
            "align_self": null,
            "border": null,
            "bottom": null,
            "display": null,
            "flex": null,
            "flex_flow": null,
            "grid_area": null,
            "grid_auto_columns": null,
            "grid_auto_flow": null,
            "grid_auto_rows": null,
            "grid_column": null,
            "grid_gap": null,
            "grid_row": null,
            "grid_template_areas": null,
            "grid_template_columns": null,
            "grid_template_rows": null,
            "height": null,
            "justify_content": null,
            "justify_items": null,
            "left": null,
            "margin": null,
            "max_height": null,
            "max_width": null,
            "min_height": null,
            "min_width": null,
            "object_fit": null,
            "object_position": null,
            "order": null,
            "overflow": null,
            "overflow_x": null,
            "overflow_y": null,
            "padding": null,
            "right": null,
            "top": null,
            "visibility": null,
            "width": null
          }
        },
        "d3101d5789284d22a61544e6225417c8": {
          "model_module": "@jupyter-widgets/controls",
          "model_module_version": "1.5.0",
          "model_name": "ProgressStyleModel",
          "state": {
            "_model_module": "@jupyter-widgets/controls",
            "_model_module_version": "1.5.0",
            "_model_name": "ProgressStyleModel",
            "_view_count": null,
            "_view_module": "@jupyter-widgets/base",
            "_view_module_version": "1.2.0",
            "_view_name": "StyleView",
            "bar_color": null,
            "description_width": ""
          }
        },
        "d4d581b2c5bc4992bba22c4801524f2a": {
          "model_module": "@jupyter-widgets/controls",
          "model_module_version": "1.5.0",
          "model_name": "HBoxModel",
          "state": {
            "_dom_classes": [],
            "_model_module": "@jupyter-widgets/controls",
            "_model_module_version": "1.5.0",
            "_model_name": "HBoxModel",
            "_view_count": null,
            "_view_module": "@jupyter-widgets/controls",
            "_view_module_version": "1.5.0",
            "_view_name": "HBoxView",
            "box_style": "",
            "children": [
              "IPY_MODEL_79e1aca6848e4aa4b8bf7904733e2eb0",
              "IPY_MODEL_1c1a1ce0437e4dc78bcebbbeb5064d88",
              "IPY_MODEL_5892f9d163ea4b788b2ede5caef25fdc"
            ],
            "layout": "IPY_MODEL_23d694682ad44309a00407cb0f5aba9b"
          }
        },
        "d7670e69c4e843e6884d6f0d3d325ea9": {
          "model_module": "@jupyter-widgets/controls",
          "model_module_version": "1.5.0",
          "model_name": "DescriptionStyleModel",
          "state": {
            "_model_module": "@jupyter-widgets/controls",
            "_model_module_version": "1.5.0",
            "_model_name": "DescriptionStyleModel",
            "_view_count": null,
            "_view_module": "@jupyter-widgets/base",
            "_view_module_version": "1.2.0",
            "_view_name": "StyleView",
            "description_width": ""
          }
        },
        "d778ec4d22c14c14bdd16b88ca9bcbb8": {
          "model_module": "@jupyter-widgets/controls",
          "model_module_version": "1.5.0",
          "model_name": "DescriptionStyleModel",
          "state": {
            "_model_module": "@jupyter-widgets/controls",
            "_model_module_version": "1.5.0",
            "_model_name": "DescriptionStyleModel",
            "_view_count": null,
            "_view_module": "@jupyter-widgets/base",
            "_view_module_version": "1.2.0",
            "_view_name": "StyleView",
            "description_width": ""
          }
        },
        "d8465178e6274b2cbe963df82716f87f": {
          "model_module": "@jupyter-widgets/base",
          "model_module_version": "1.2.0",
          "model_name": "LayoutModel",
          "state": {
            "_model_module": "@jupyter-widgets/base",
            "_model_module_version": "1.2.0",
            "_model_name": "LayoutModel",
            "_view_count": null,
            "_view_module": "@jupyter-widgets/base",
            "_view_module_version": "1.2.0",
            "_view_name": "LayoutView",
            "align_content": null,
            "align_items": null,
            "align_self": null,
            "border": null,
            "bottom": null,
            "display": null,
            "flex": null,
            "flex_flow": null,
            "grid_area": null,
            "grid_auto_columns": null,
            "grid_auto_flow": null,
            "grid_auto_rows": null,
            "grid_column": null,
            "grid_gap": null,
            "grid_row": null,
            "grid_template_areas": null,
            "grid_template_columns": null,
            "grid_template_rows": null,
            "height": null,
            "justify_content": null,
            "justify_items": null,
            "left": null,
            "margin": null,
            "max_height": null,
            "max_width": null,
            "min_height": null,
            "min_width": null,
            "object_fit": null,
            "object_position": null,
            "order": null,
            "overflow": null,
            "overflow_x": null,
            "overflow_y": null,
            "padding": null,
            "right": null,
            "top": null,
            "visibility": null,
            "width": null
          }
        },
        "d9b90317f7404bb8a07339d5d1d4014c": {
          "model_module": "@jupyter-widgets/base",
          "model_module_version": "1.2.0",
          "model_name": "LayoutModel",
          "state": {
            "_model_module": "@jupyter-widgets/base",
            "_model_module_version": "1.2.0",
            "_model_name": "LayoutModel",
            "_view_count": null,
            "_view_module": "@jupyter-widgets/base",
            "_view_module_version": "1.2.0",
            "_view_name": "LayoutView",
            "align_content": null,
            "align_items": null,
            "align_self": null,
            "border": null,
            "bottom": null,
            "display": null,
            "flex": null,
            "flex_flow": null,
            "grid_area": null,
            "grid_auto_columns": null,
            "grid_auto_flow": null,
            "grid_auto_rows": null,
            "grid_column": null,
            "grid_gap": null,
            "grid_row": null,
            "grid_template_areas": null,
            "grid_template_columns": null,
            "grid_template_rows": null,
            "height": null,
            "justify_content": null,
            "justify_items": null,
            "left": null,
            "margin": null,
            "max_height": null,
            "max_width": null,
            "min_height": null,
            "min_width": null,
            "object_fit": null,
            "object_position": null,
            "order": null,
            "overflow": null,
            "overflow_x": null,
            "overflow_y": null,
            "padding": null,
            "right": null,
            "top": null,
            "visibility": null,
            "width": null
          }
        },
        "da0e80541ce94ffbba8a43e1145cfb55": {
          "model_module": "@jupyter-widgets/base",
          "model_module_version": "1.2.0",
          "model_name": "LayoutModel",
          "state": {
            "_model_module": "@jupyter-widgets/base",
            "_model_module_version": "1.2.0",
            "_model_name": "LayoutModel",
            "_view_count": null,
            "_view_module": "@jupyter-widgets/base",
            "_view_module_version": "1.2.0",
            "_view_name": "LayoutView",
            "align_content": null,
            "align_items": null,
            "align_self": null,
            "border": null,
            "bottom": null,
            "display": null,
            "flex": null,
            "flex_flow": null,
            "grid_area": null,
            "grid_auto_columns": null,
            "grid_auto_flow": null,
            "grid_auto_rows": null,
            "grid_column": null,
            "grid_gap": null,
            "grid_row": null,
            "grid_template_areas": null,
            "grid_template_columns": null,
            "grid_template_rows": null,
            "height": null,
            "justify_content": null,
            "justify_items": null,
            "left": null,
            "margin": null,
            "max_height": null,
            "max_width": null,
            "min_height": null,
            "min_width": null,
            "object_fit": null,
            "object_position": null,
            "order": null,
            "overflow": null,
            "overflow_x": null,
            "overflow_y": null,
            "padding": null,
            "right": null,
            "top": null,
            "visibility": null,
            "width": null
          }
        },
        "de455453d0c74e10a19479997d329465": {
          "model_module": "@jupyter-widgets/controls",
          "model_module_version": "1.5.0",
          "model_name": "DescriptionStyleModel",
          "state": {
            "_model_module": "@jupyter-widgets/controls",
            "_model_module_version": "1.5.0",
            "_model_name": "DescriptionStyleModel",
            "_view_count": null,
            "_view_module": "@jupyter-widgets/base",
            "_view_module_version": "1.2.0",
            "_view_name": "StyleView",
            "description_width": ""
          }
        },
        "def887e407c0425c8c6d45cd2db40492": {
          "model_module": "@jupyter-widgets/controls",
          "model_module_version": "1.5.0",
          "model_name": "HTMLModel",
          "state": {
            "_dom_classes": [],
            "_model_module": "@jupyter-widgets/controls",
            "_model_module_version": "1.5.0",
            "_model_name": "HTMLModel",
            "_view_count": null,
            "_view_module": "@jupyter-widgets/controls",
            "_view_module_version": "1.5.0",
            "_view_name": "HTMLView",
            "description": "",
            "description_tooltip": null,
            "layout": "IPY_MODEL_7e9c607deca747cb9189284d5cb97a94",
            "placeholder": "​",
            "style": "IPY_MODEL_a0f6f13739c84b1f895d647ae8bc5123",
            "value": "Epoch 11, Loss: 0.0156876: 100%"
          }
        },
        "e574030b6ef443c19ca946eda7a011aa": {
          "model_module": "@jupyter-widgets/controls",
          "model_module_version": "1.5.0",
          "model_name": "HBoxModel",
          "state": {
            "_dom_classes": [],
            "_model_module": "@jupyter-widgets/controls",
            "_model_module_version": "1.5.0",
            "_model_name": "HBoxModel",
            "_view_count": null,
            "_view_module": "@jupyter-widgets/controls",
            "_view_module_version": "1.5.0",
            "_view_name": "HBoxView",
            "box_style": "",
            "children": [
              "IPY_MODEL_42f60c3578cb4ef08a587a160604c226",
              "IPY_MODEL_eaab2e5d3dc34d8ab54affaf1e77390c",
              "IPY_MODEL_b5a0dc1588e34268a87bf58782ec64b5"
            ],
            "layout": "IPY_MODEL_691a3e8f653f4595aae9fa7cb73f781c"
          }
        },
        "e5dabbb531f54a89b54a8f5e7c53b821": {
          "model_module": "@jupyter-widgets/controls",
          "model_module_version": "1.5.0",
          "model_name": "DescriptionStyleModel",
          "state": {
            "_model_module": "@jupyter-widgets/controls",
            "_model_module_version": "1.5.0",
            "_model_name": "DescriptionStyleModel",
            "_view_count": null,
            "_view_module": "@jupyter-widgets/base",
            "_view_module_version": "1.2.0",
            "_view_name": "StyleView",
            "description_width": ""
          }
        },
        "e6e6b9d7579e4ab798253b6f95611cb3": {
          "model_module": "@jupyter-widgets/base",
          "model_module_version": "1.2.0",
          "model_name": "LayoutModel",
          "state": {
            "_model_module": "@jupyter-widgets/base",
            "_model_module_version": "1.2.0",
            "_model_name": "LayoutModel",
            "_view_count": null,
            "_view_module": "@jupyter-widgets/base",
            "_view_module_version": "1.2.0",
            "_view_name": "LayoutView",
            "align_content": null,
            "align_items": null,
            "align_self": null,
            "border": null,
            "bottom": null,
            "display": null,
            "flex": null,
            "flex_flow": null,
            "grid_area": null,
            "grid_auto_columns": null,
            "grid_auto_flow": null,
            "grid_auto_rows": null,
            "grid_column": null,
            "grid_gap": null,
            "grid_row": null,
            "grid_template_areas": null,
            "grid_template_columns": null,
            "grid_template_rows": null,
            "height": null,
            "justify_content": null,
            "justify_items": null,
            "left": null,
            "margin": null,
            "max_height": null,
            "max_width": null,
            "min_height": null,
            "min_width": null,
            "object_fit": null,
            "object_position": null,
            "order": null,
            "overflow": null,
            "overflow_x": null,
            "overflow_y": null,
            "padding": null,
            "right": null,
            "top": null,
            "visibility": null,
            "width": null
          }
        },
        "ea6804edf208452f854f850e6725fde0": {
          "model_module": "@jupyter-widgets/controls",
          "model_module_version": "1.5.0",
          "model_name": "ProgressStyleModel",
          "state": {
            "_model_module": "@jupyter-widgets/controls",
            "_model_module_version": "1.5.0",
            "_model_name": "ProgressStyleModel",
            "_view_count": null,
            "_view_module": "@jupyter-widgets/base",
            "_view_module_version": "1.2.0",
            "_view_name": "StyleView",
            "bar_color": null,
            "description_width": ""
          }
        },
        "eaab2e5d3dc34d8ab54affaf1e77390c": {
          "model_module": "@jupyter-widgets/controls",
          "model_module_version": "1.5.0",
          "model_name": "FloatProgressModel",
          "state": {
            "_dom_classes": [],
            "_model_module": "@jupyter-widgets/controls",
            "_model_module_version": "1.5.0",
            "_model_name": "FloatProgressModel",
            "_view_count": null,
            "_view_module": "@jupyter-widgets/controls",
            "_view_module_version": "1.5.0",
            "_view_name": "ProgressView",
            "bar_style": "",
            "description": "",
            "description_tooltip": null,
            "layout": "IPY_MODEL_59ccab7e63ba446b97bf795aa6bfb7b5",
            "max": 10,
            "min": 0,
            "orientation": "horizontal",
            "style": "IPY_MODEL_62b077afcef0471b8cf77a0cca4067ee",
            "value": 10
          }
        },
        "ed8edaf9f6d3435dbdc447b3a0519610": {
          "model_module": "@jupyter-widgets/base",
          "model_module_version": "1.2.0",
          "model_name": "LayoutModel",
          "state": {
            "_model_module": "@jupyter-widgets/base",
            "_model_module_version": "1.2.0",
            "_model_name": "LayoutModel",
            "_view_count": null,
            "_view_module": "@jupyter-widgets/base",
            "_view_module_version": "1.2.0",
            "_view_name": "LayoutView",
            "align_content": null,
            "align_items": null,
            "align_self": null,
            "border": null,
            "bottom": null,
            "display": null,
            "flex": null,
            "flex_flow": null,
            "grid_area": null,
            "grid_auto_columns": null,
            "grid_auto_flow": null,
            "grid_auto_rows": null,
            "grid_column": null,
            "grid_gap": null,
            "grid_row": null,
            "grid_template_areas": null,
            "grid_template_columns": null,
            "grid_template_rows": null,
            "height": null,
            "justify_content": null,
            "justify_items": null,
            "left": null,
            "margin": null,
            "max_height": null,
            "max_width": null,
            "min_height": null,
            "min_width": null,
            "object_fit": null,
            "object_position": null,
            "order": null,
            "overflow": null,
            "overflow_x": null,
            "overflow_y": null,
            "padding": null,
            "right": null,
            "top": null,
            "visibility": null,
            "width": null
          }
        },
        "f0894191e837446bb0d62f500e201d21": {
          "model_module": "@jupyter-widgets/controls",
          "model_module_version": "1.5.0",
          "model_name": "HBoxModel",
          "state": {
            "_dom_classes": [],
            "_model_module": "@jupyter-widgets/controls",
            "_model_module_version": "1.5.0",
            "_model_name": "HBoxModel",
            "_view_count": null,
            "_view_module": "@jupyter-widgets/controls",
            "_view_module_version": "1.5.0",
            "_view_name": "HBoxView",
            "box_style": "",
            "children": [
              "IPY_MODEL_b1b0fe668cab428d9917323b37521bb7",
              "IPY_MODEL_b1117e26d34242aca6e9fa2c641e6f23",
              "IPY_MODEL_f603409432134f81959b6abd4a5d71d9"
            ],
            "layout": "IPY_MODEL_6de5a331555743a3ac62077c211a358d"
          }
        },
        "f0c58691196744c3bd06e6627abade96": {
          "model_module": "@jupyter-widgets/controls",
          "model_module_version": "1.5.0",
          "model_name": "FloatProgressModel",
          "state": {
            "_dom_classes": [],
            "_model_module": "@jupyter-widgets/controls",
            "_model_module_version": "1.5.0",
            "_model_name": "FloatProgressModel",
            "_view_count": null,
            "_view_module": "@jupyter-widgets/controls",
            "_view_module_version": "1.5.0",
            "_view_name": "ProgressView",
            "bar_style": "",
            "description": "",
            "description_tooltip": null,
            "layout": "IPY_MODEL_0bac8432413040beb24239b53e55201f",
            "max": 469,
            "min": 0,
            "orientation": "horizontal",
            "style": "IPY_MODEL_d3101d5789284d22a61544e6225417c8",
            "value": 469
          }
        },
        "f3dc2aa1626442be8de71b3a3cfa4bf3": {
          "model_module": "@jupyter-widgets/controls",
          "model_module_version": "1.5.0",
          "model_name": "DescriptionStyleModel",
          "state": {
            "_model_module": "@jupyter-widgets/controls",
            "_model_module_version": "1.5.0",
            "_model_name": "DescriptionStyleModel",
            "_view_count": null,
            "_view_module": "@jupyter-widgets/base",
            "_view_module_version": "1.2.0",
            "_view_name": "StyleView",
            "description_width": ""
          }
        },
        "f603409432134f81959b6abd4a5d71d9": {
          "model_module": "@jupyter-widgets/controls",
          "model_module_version": "1.5.0",
          "model_name": "HTMLModel",
          "state": {
            "_dom_classes": [],
            "_model_module": "@jupyter-widgets/controls",
            "_model_module_version": "1.5.0",
            "_model_name": "HTMLModel",
            "_view_count": null,
            "_view_module": "@jupyter-widgets/controls",
            "_view_module_version": "1.5.0",
            "_view_name": "HTMLView",
            "description": "",
            "description_tooltip": null,
            "layout": "IPY_MODEL_d2e3047afa304d73aa5db4677519af23",
            "placeholder": "​",
            "style": "IPY_MODEL_cbc6ff85384b4518bb5f845ea0b2a1aa",
            "value": " 10/10 [05:09&lt;00:00, 30.91s/it]"
          }
        },
        "f7e6d93e3b234a99912e3d7b806947ab": {
          "model_module": "@jupyter-widgets/base",
          "model_module_version": "1.2.0",
          "model_name": "LayoutModel",
          "state": {
            "_model_module": "@jupyter-widgets/base",
            "_model_module_version": "1.2.0",
            "_model_name": "LayoutModel",
            "_view_count": null,
            "_view_module": "@jupyter-widgets/base",
            "_view_module_version": "1.2.0",
            "_view_name": "LayoutView",
            "align_content": null,
            "align_items": null,
            "align_self": null,
            "border": null,
            "bottom": null,
            "display": null,
            "flex": null,
            "flex_flow": null,
            "grid_area": null,
            "grid_auto_columns": null,
            "grid_auto_flow": null,
            "grid_auto_rows": null,
            "grid_column": null,
            "grid_gap": null,
            "grid_row": null,
            "grid_template_areas": null,
            "grid_template_columns": null,
            "grid_template_rows": null,
            "height": null,
            "justify_content": null,
            "justify_items": null,
            "left": null,
            "margin": null,
            "max_height": null,
            "max_width": null,
            "min_height": null,
            "min_width": null,
            "object_fit": null,
            "object_position": null,
            "order": null,
            "overflow": null,
            "overflow_x": null,
            "overflow_y": null,
            "padding": null,
            "right": null,
            "top": null,
            "visibility": null,
            "width": null
          }
        },
        "f9141a67615145d7975e48b64d03c164": {
          "model_module": "@jupyter-widgets/controls",
          "model_module_version": "1.5.0",
          "model_name": "FloatProgressModel",
          "state": {
            "_dom_classes": [],
            "_model_module": "@jupyter-widgets/controls",
            "_model_module_version": "1.5.0",
            "_model_name": "FloatProgressModel",
            "_view_count": null,
            "_view_module": "@jupyter-widgets/controls",
            "_view_module_version": "1.5.0",
            "_view_name": "ProgressView",
            "bar_style": "",
            "description": "",
            "description_tooltip": null,
            "layout": "IPY_MODEL_8d93021efc4a46fbb4821fa372fcfff6",
            "max": 10,
            "min": 0,
            "orientation": "horizontal",
            "style": "IPY_MODEL_86a71cc34b3e4d8395d51375b3f06a08",
            "value": 10
          }
        },
        "f9f1342fb9af40ba99d2534f87d176e6": {
          "model_module": "@jupyter-widgets/controls",
          "model_module_version": "1.5.0",
          "model_name": "ProgressStyleModel",
          "state": {
            "_model_module": "@jupyter-widgets/controls",
            "_model_module_version": "1.5.0",
            "_model_name": "ProgressStyleModel",
            "_view_count": null,
            "_view_module": "@jupyter-widgets/base",
            "_view_module_version": "1.2.0",
            "_view_name": "StyleView",
            "bar_color": null,
            "description_width": ""
          }
        },
        "fadb70fdcc404de99b6eea1bdf99a017": {
          "model_module": "@jupyter-widgets/controls",
          "model_module_version": "1.5.0",
          "model_name": "HTMLModel",
          "state": {
            "_dom_classes": [],
            "_model_module": "@jupyter-widgets/controls",
            "_model_module_version": "1.5.0",
            "_model_name": "HTMLModel",
            "_view_count": null,
            "_view_module": "@jupyter-widgets/controls",
            "_view_module_version": "1.5.0",
            "_view_name": "HTMLView",
            "description": "",
            "description_tooltip": null,
            "layout": "IPY_MODEL_cfdcd079f9764d189ec9537c6ea82ec3",
            "placeholder": "​",
            "style": "IPY_MODEL_b32413df08c24802843017fe8cc09866",
            "value": "Epoch  2, Loss: 0.1766741:  10%"
          }
        },
        "fb183ccad6274d60b231a8edb824abaf": {
          "model_module": "@jupyter-widgets/controls",
          "model_module_version": "1.5.0",
          "model_name": "HBoxModel",
          "state": {
            "_dom_classes": [],
            "_model_module": "@jupyter-widgets/controls",
            "_model_module_version": "1.5.0",
            "_model_name": "HBoxModel",
            "_view_count": null,
            "_view_module": "@jupyter-widgets/controls",
            "_view_module_version": "1.5.0",
            "_view_name": "HBoxView",
            "box_style": "",
            "children": [
              "IPY_MODEL_071638741ca744869a60209a94cbfe41",
              "IPY_MODEL_13de5934ab9a482eb68ab0b17a55244d",
              "IPY_MODEL_c3253f62aeb04b84be5a13dba6c9ff81"
            ],
            "layout": "IPY_MODEL_7cf9d46cef2e4f59bc89c7d33bd35189"
          }
        },
        "ff72acd982ae43af8e240337cd84a5e2": {
          "model_module": "@jupyter-widgets/controls",
          "model_module_version": "1.5.0",
          "model_name": "HTMLModel",
          "state": {
            "_dom_classes": [],
            "_model_module": "@jupyter-widgets/controls",
            "_model_module_version": "1.5.0",
            "_model_name": "HTMLModel",
            "_view_count": null,
            "_view_module": "@jupyter-widgets/controls",
            "_view_module_version": "1.5.0",
            "_view_name": "HTMLView",
            "description": "",
            "description_tooltip": null,
            "layout": "IPY_MODEL_43a917cfcddd4372aed25dd4aeaf3fe0",
            "placeholder": "​",
            "style": "IPY_MODEL_3ae6c5ef39224de2a614d5bd4aa393bd",
            "value": " 1/10 [00:34&lt;04:42, 31.39s/it]"
          }
        }
      }
    }
  },
  "nbformat": 4,
  "nbformat_minor": 0
}
